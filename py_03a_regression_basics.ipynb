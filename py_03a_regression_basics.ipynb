{
 "cells": [
  {
   "cell_type": "markdown",
   "metadata": {},
   "source": [
    "# Machine Learning with H2O - Tutorial 3a: Regression Models (Basics)\n",
    "\n",
    "<hr>\n",
    "\n",
    "**Objective**:\n",
    "\n",
    "- This tutorial explains how to build regression models with four different H2O algorithms.\n",
    "\n",
    "<hr>\n",
    "\n",
    "**Wine Quality Dataset:**\n",
    "\n",
    "- Source: https://archive.ics.uci.edu/ml/datasets/Wine+Quality\n",
    "- CSV (https://archive.ics.uci.edu/ml/machine-learning-databases/wine-quality/winequality-white.csv)\n",
    "\n",
    "<hr>\n",
    "    \n",
    "**Algorithms**:\n",
    "\n",
    "1. GLM\n",
    "2. DRF\n",
    "3. GBM\n",
    "4. DNN\n",
    "\n",
    "\n",
    "<hr>\n",
    "\n",
    "**Full Technical Reference:**\n",
    "\n",
    "- http://docs.h2o.ai/h2o/latest-stable/h2o-py/docs/modeling.html\n",
    "\n",
    "<br>\n"
   ]
  },
  {
   "cell_type": "code",
   "execution_count": 1,
   "metadata": {
    "collapsed": false,
    "scrolled": false
   },
   "outputs": [
    {
     "name": "stdout",
     "output_type": "stream",
     "text": [
      "Checking whether there is an H2O instance running at http://localhost:54321..... not found.\n",
      "Attempting to start a local H2O server...\n",
      "  Java Version: java version \"1.8.0_121\"; Java(TM) SE Runtime Environment (build 1.8.0_121-b13); Java HotSpot(TM) 64-Bit Server VM (build 25.121-b13, mixed mode)\n",
      "  Starting server from /home/joe/anaconda3/lib/python3.5/site-packages/h2o/backend/bin/h2o.jar\n",
      "  Ice root: /tmp/tmp5ewlhwev\n",
      "  JVM stdout: /tmp/tmp5ewlhwev/h2o_joe_started_from_python.out\n",
      "  JVM stderr: /tmp/tmp5ewlhwev/h2o_joe_started_from_python.err\n",
      "  Server is running at http://127.0.0.1:54321\n",
      "Connecting to H2O server at http://127.0.0.1:54321... successful.\n"
     ]
    },
    {
     "data": {
      "text/html": [
       "<div style=\"overflow:auto\"><table style=\"width:50%\"><tr><td>H2O cluster uptime:</td>\n",
       "<td>02 secs</td></tr>\n",
       "<tr><td>H2O cluster version:</td>\n",
       "<td>3.10.3.5</td></tr>\n",
       "<tr><td>H2O cluster version age:</td>\n",
       "<td>6 days </td></tr>\n",
       "<tr><td>H2O cluster name:</td>\n",
       "<td>H2O_from_python_joe_x6gxun</td></tr>\n",
       "<tr><td>H2O cluster total nodes:</td>\n",
       "<td>1</td></tr>\n",
       "<tr><td>H2O cluster free memory:</td>\n",
       "<td>5.210 Gb</td></tr>\n",
       "<tr><td>H2O cluster total cores:</td>\n",
       "<td>8</td></tr>\n",
       "<tr><td>H2O cluster allowed cores:</td>\n",
       "<td>8</td></tr>\n",
       "<tr><td>H2O cluster status:</td>\n",
       "<td>accepting new members, healthy</td></tr>\n",
       "<tr><td>H2O connection url:</td>\n",
       "<td>http://127.0.0.1:54321</td></tr>\n",
       "<tr><td>H2O connection proxy:</td>\n",
       "<td>None</td></tr>\n",
       "<tr><td>Python version:</td>\n",
       "<td>3.5.2 final</td></tr></table></div>"
      ],
      "text/plain": [
       "--------------------------  ------------------------------\n",
       "H2O cluster uptime:         02 secs\n",
       "H2O cluster version:        3.10.3.5\n",
       "H2O cluster version age:    6 days\n",
       "H2O cluster name:           H2O_from_python_joe_x6gxun\n",
       "H2O cluster total nodes:    1\n",
       "H2O cluster free memory:    5.210 Gb\n",
       "H2O cluster total cores:    8\n",
       "H2O cluster allowed cores:  8\n",
       "H2O cluster status:         accepting new members, healthy\n",
       "H2O connection url:         http://127.0.0.1:54321\n",
       "H2O connection proxy:\n",
       "Python version:             3.5.2 final\n",
       "--------------------------  ------------------------------"
      ]
     },
     "metadata": {},
     "output_type": "display_data"
    }
   ],
   "source": [
    "# Start and connect to a local H2O cluster\n",
    "import h2o\n",
    "h2o.init(nthreads = -1)"
   ]
  },
  {
   "cell_type": "markdown",
   "metadata": {},
   "source": [
    "<br>"
   ]
  },
  {
   "cell_type": "code",
   "execution_count": 2,
   "metadata": {
    "collapsed": false
   },
   "outputs": [
    {
     "name": "stdout",
     "output_type": "stream",
     "text": [
      "Parse progress: |█████████████████████████████████████████████████████████| 100%\n"
     ]
    },
    {
     "data": {
      "text/html": [
       "<table>\n",
       "<thead>\n",
       "<tr><th style=\"text-align: right;\">  fixed acidity</th><th style=\"text-align: right;\">  volatile acidity</th><th style=\"text-align: right;\">  citric acid</th><th style=\"text-align: right;\">  residual sugar</th><th style=\"text-align: right;\">  chlorides</th><th style=\"text-align: right;\">  free sulfur dioxide</th><th style=\"text-align: right;\">  total sulfur dioxide</th><th style=\"text-align: right;\">  density</th><th style=\"text-align: right;\">  pH</th><th style=\"text-align: right;\">  sulphates</th><th style=\"text-align: right;\">  alcohol</th><th style=\"text-align: right;\">  quality</th></tr>\n",
       "</thead>\n",
       "<tbody>\n",
       "<tr><td style=\"text-align: right;\">            7  </td><td style=\"text-align: right;\">              0.27</td><td style=\"text-align: right;\">         0.36</td><td style=\"text-align: right;\">            20.7</td><td style=\"text-align: right;\">      0.045</td><td style=\"text-align: right;\">                   45</td><td style=\"text-align: right;\">                   170</td><td style=\"text-align: right;\">   1.001 </td><td style=\"text-align: right;\">3   </td><td style=\"text-align: right;\">       0.45</td><td style=\"text-align: right;\">      8.8</td><td style=\"text-align: right;\">        6</td></tr>\n",
       "<tr><td style=\"text-align: right;\">            6.3</td><td style=\"text-align: right;\">              0.3 </td><td style=\"text-align: right;\">         0.34</td><td style=\"text-align: right;\">             1.6</td><td style=\"text-align: right;\">      0.049</td><td style=\"text-align: right;\">                   14</td><td style=\"text-align: right;\">                   132</td><td style=\"text-align: right;\">   0.994 </td><td style=\"text-align: right;\">3.3 </td><td style=\"text-align: right;\">       0.49</td><td style=\"text-align: right;\">      9.5</td><td style=\"text-align: right;\">        6</td></tr>\n",
       "<tr><td style=\"text-align: right;\">            8.1</td><td style=\"text-align: right;\">              0.28</td><td style=\"text-align: right;\">         0.4 </td><td style=\"text-align: right;\">             6.9</td><td style=\"text-align: right;\">      0.05 </td><td style=\"text-align: right;\">                   30</td><td style=\"text-align: right;\">                    97</td><td style=\"text-align: right;\">   0.9951</td><td style=\"text-align: right;\">3.26</td><td style=\"text-align: right;\">       0.44</td><td style=\"text-align: right;\">     10.1</td><td style=\"text-align: right;\">        6</td></tr>\n",
       "<tr><td style=\"text-align: right;\">            7.2</td><td style=\"text-align: right;\">              0.23</td><td style=\"text-align: right;\">         0.32</td><td style=\"text-align: right;\">             8.5</td><td style=\"text-align: right;\">      0.058</td><td style=\"text-align: right;\">                   47</td><td style=\"text-align: right;\">                   186</td><td style=\"text-align: right;\">   0.9956</td><td style=\"text-align: right;\">3.19</td><td style=\"text-align: right;\">       0.4 </td><td style=\"text-align: right;\">      9.9</td><td style=\"text-align: right;\">        6</td></tr>\n",
       "<tr><td style=\"text-align: right;\">            7.2</td><td style=\"text-align: right;\">              0.23</td><td style=\"text-align: right;\">         0.32</td><td style=\"text-align: right;\">             8.5</td><td style=\"text-align: right;\">      0.058</td><td style=\"text-align: right;\">                   47</td><td style=\"text-align: right;\">                   186</td><td style=\"text-align: right;\">   0.9956</td><td style=\"text-align: right;\">3.19</td><td style=\"text-align: right;\">       0.4 </td><td style=\"text-align: right;\">      9.9</td><td style=\"text-align: right;\">        6</td></tr>\n",
       "</tbody>\n",
       "</table>"
      ]
     },
     "metadata": {},
     "output_type": "display_data"
    },
    {
     "data": {
      "text/plain": []
     },
     "execution_count": 2,
     "metadata": {},
     "output_type": "execute_result"
    }
   ],
   "source": [
    "# Import wine quality data from a local CSV file\n",
    "wine = h2o.import_file(\"winequality-white.csv\")\n",
    "wine.head(5)"
   ]
  },
  {
   "cell_type": "code",
   "execution_count": 3,
   "metadata": {
    "collapsed": false
   },
   "outputs": [
    {
     "data": {
      "text/plain": [
       "['fixed acidity',\n",
       " 'volatile acidity',\n",
       " 'citric acid',\n",
       " 'residual sugar',\n",
       " 'chlorides',\n",
       " 'free sulfur dioxide',\n",
       " 'total sulfur dioxide',\n",
       " 'density',\n",
       " 'pH',\n",
       " 'sulphates',\n",
       " 'alcohol']"
      ]
     },
     "execution_count": 3,
     "metadata": {},
     "output_type": "execute_result"
    }
   ],
   "source": [
    "# Define features (or predictors)\n",
    "features = list(wine.columns) # we want to use all the information\n",
    "features.remove('quality')    # we need to exclude the target 'quality' (otherwise there is nothing to predict)\n",
    "features"
   ]
  },
  {
   "cell_type": "code",
   "execution_count": 4,
   "metadata": {
    "collapsed": false
   },
   "outputs": [],
   "source": [
    "# Split the H2O data frame into training/test sets\n",
    "# so we can evaluate out-of-bag performance\n",
    "wine_split = wine.split_frame(ratios = [0.8], seed = 1234)\n",
    "\n",
    "wine_train = wine_split[0] # using 80% for training\n",
    "wine_test = wine_split[1]  # using the rest 20% for out-of-bag evaluation"
   ]
  },
  {
   "cell_type": "code",
   "execution_count": 5,
   "metadata": {
    "collapsed": false
   },
   "outputs": [
    {
     "data": {
      "text/plain": [
       "(3932, 12)"
      ]
     },
     "execution_count": 5,
     "metadata": {},
     "output_type": "execute_result"
    }
   ],
   "source": [
    "wine_train.shape"
   ]
  },
  {
   "cell_type": "code",
   "execution_count": 6,
   "metadata": {
    "collapsed": false
   },
   "outputs": [
    {
     "data": {
      "text/plain": [
       "(966, 12)"
      ]
     },
     "execution_count": 6,
     "metadata": {},
     "output_type": "execute_result"
    }
   ],
   "source": [
    "wine_test.shape"
   ]
  },
  {
   "cell_type": "markdown",
   "metadata": {},
   "source": [
    "<br>\n",
    "\n",
    "## Generalized Linear Model"
   ]
  },
  {
   "cell_type": "code",
   "execution_count": 7,
   "metadata": {
    "collapsed": false
   },
   "outputs": [
    {
     "name": "stdout",
     "output_type": "stream",
     "text": [
      "glm Model Build progress: |███████████████████████████████████████████████| 100%\n"
     ]
    }
   ],
   "source": [
    "# Build a Generalized Linear Model (GLM) with default settings\n",
    "\n",
    "# Import the function for GLM\n",
    "from h2o.estimators.glm import H2OGeneralizedLinearEstimator\n",
    "\n",
    "# Set up GLM for regression\n",
    "glm_default = H2OGeneralizedLinearEstimator(family = 'gaussian', model_id = 'glm_default')\n",
    "\n",
    "# Use .train() to build the model\n",
    "glm_default.train(x = features, \n",
    "                  y = 'quality', \n",
    "                  training_frame = wine_train)"
   ]
  },
  {
   "cell_type": "code",
   "execution_count": 8,
   "metadata": {
    "collapsed": false
   },
   "outputs": [
    {
     "name": "stdout",
     "output_type": "stream",
     "text": [
      "Model Details\n",
      "=============\n",
      "H2OGeneralizedLinearEstimator :  Generalized Linear Modeling\n",
      "Model Key:  glm_default\n",
      "\n",
      "\n",
      "ModelMetricsRegressionGLM: glm\n",
      "** Reported on train data. **\n",
      "\n",
      "MSE: 0.5663260600439028\n",
      "RMSE: 0.7525463839816805\n",
      "MAE: 0.5855739117180464\n",
      "RMSLE: 0.11135798916908822\n",
      "R^2: 0.28516909778801736\n",
      "Mean Residual Deviance: 0.5663260600439028\n",
      "Null degrees of freedom: 3931\n",
      "Residual degrees of freedom: 3920\n",
      "Null deviance: 3115.1340284842345\n",
      "Residual deviance: 2226.794068092626\n",
      "AIC: 8948.855269434132\n",
      "Scoring History: \n"
     ]
    },
    {
     "data": {
      "text/html": [
       "<div style=\"overflow:auto\"><table style=\"width:50%\"><tr><td><b></b></td>\n",
       "<td><b>timestamp</b></td>\n",
       "<td><b>duration</b></td>\n",
       "<td><b>iteration</b></td>\n",
       "<td><b>negative_log_likelihood</b></td>\n",
       "<td><b>objective</b></td></tr>\n",
       "<tr><td></td>\n",
       "<td>2017-02-24 15:13:59</td>\n",
       "<td> 0.000 sec</td>\n",
       "<td>0</td>\n",
       "<td>3115.1340285</td>\n",
       "<td>0.7922518</td></tr></table></div>"
      ],
      "text/plain": [
       "    timestamp            duration    iteration    negative_log_likelihood    objective\n",
       "--  -------------------  ----------  -----------  -------------------------  -----------\n",
       "    2017-02-24 15:13:59  0.000 sec   0            3115.13                    0.792252"
      ]
     },
     "metadata": {},
     "output_type": "display_data"
    },
    {
     "data": {
      "text/plain": []
     },
     "execution_count": 8,
     "metadata": {},
     "output_type": "execute_result"
    }
   ],
   "source": [
    "# Check the model performance on training dataset\n",
    "glm_default"
   ]
  },
  {
   "cell_type": "code",
   "execution_count": 9,
   "metadata": {
    "collapsed": false
   },
   "outputs": [
    {
     "name": "stdout",
     "output_type": "stream",
     "text": [
      "\n",
      "ModelMetricsRegressionGLM: glm\n",
      "** Reported on test data. **\n",
      "\n",
      "MSE: 0.5546397919709444\n",
      "RMSE: 0.7447414262486977\n",
      "MAE: 0.5795791157106437\n",
      "RMSLE: 0.11079661971451717\n",
      "R^2: 0.26184927981796147\n",
      "Mean Residual Deviance: 0.5546397919709444\n",
      "Null degrees of freedom: 965\n",
      "Residual degrees of freedom: 954\n",
      "Null deviance: 725.858730540242\n",
      "Residual deviance: 535.7820390439323\n",
      "AIC: 2197.9936843132646\n"
     ]
    },
    {
     "data": {
      "text/plain": []
     },
     "execution_count": 9,
     "metadata": {},
     "output_type": "execute_result"
    }
   ],
   "source": [
    "# Check the model performance on test dataset\n",
    "glm_default.model_performance(wine_test)"
   ]
  },
  {
   "cell_type": "markdown",
   "metadata": {
    "collapsed": true
   },
   "source": [
    "<br>\n",
    "\n",
    "## Distributed Random Forest"
   ]
  },
  {
   "cell_type": "code",
   "execution_count": 10,
   "metadata": {
    "collapsed": false
   },
   "outputs": [
    {
     "name": "stdout",
     "output_type": "stream",
     "text": [
      "drf Model Build progress: |███████████████████████████████████████████████| 100%\n"
     ]
    }
   ],
   "source": [
    "# Build a Distributed Random Forest (DRF) model with default settings\n",
    "\n",
    "# Import the function for DRF\n",
    "from h2o.estimators.random_forest import H2ORandomForestEstimator\n",
    "\n",
    "# Set up DRF for regression\n",
    "# Add a seed for reproducibility\n",
    "drf_default = H2ORandomForestEstimator(model_id = 'drf_default', seed = 1234)\n",
    "\n",
    "# Use .train() to build the model\n",
    "drf_default.train(x = features, \n",
    "                  y = 'quality', \n",
    "                  training_frame = wine_train)"
   ]
  },
  {
   "cell_type": "code",
   "execution_count": 11,
   "metadata": {
    "collapsed": false
   },
   "outputs": [
    {
     "name": "stdout",
     "output_type": "stream",
     "text": [
      "Model Details\n",
      "=============\n",
      "H2ORandomForestEstimator :  Distributed Random Forest\n",
      "Model Key:  drf_default\n",
      "\n",
      "\n",
      "ModelMetricsRegression: drf\n",
      "** Reported on train data. **\n",
      "\n",
      "MSE: 0.3934957618265588\n",
      "RMSE: 0.6272924053633671\n",
      "MAE: 0.449552888371567\n",
      "RMSLE: 0.09432344617917691\n",
      "Mean Residual Deviance: 0.3934957618265588\n",
      "Scoring History: \n"
     ]
    },
    {
     "data": {
      "text/html": [
       "<div style=\"overflow:auto\"><table style=\"width:50%\"><tr><td><b></b></td>\n",
       "<td><b>timestamp</b></td>\n",
       "<td><b>duration</b></td>\n",
       "<td><b>number_of_trees</b></td>\n",
       "<td><b>training_rmse</b></td>\n",
       "<td><b>training_mae</b></td>\n",
       "<td><b>training_deviance</b></td></tr>\n",
       "<tr><td></td>\n",
       "<td>2017-02-24 15:13:59</td>\n",
       "<td> 0.012 sec</td>\n",
       "<td>0.0</td>\n",
       "<td>nan</td>\n",
       "<td>nan</td>\n",
       "<td>nan</td></tr>\n",
       "<tr><td></td>\n",
       "<td>2017-02-24 15:14:00</td>\n",
       "<td> 0.336 sec</td>\n",
       "<td>1.0</td>\n",
       "<td>0.8897127</td>\n",
       "<td>0.5615172</td>\n",
       "<td>0.7915887</td></tr>\n",
       "<tr><td></td>\n",
       "<td>2017-02-24 15:14:00</td>\n",
       "<td> 0.435 sec</td>\n",
       "<td>2.0</td>\n",
       "<td>0.8676163</td>\n",
       "<td>0.5541223</td>\n",
       "<td>0.7527581</td></tr>\n",
       "<tr><td></td>\n",
       "<td>2017-02-24 15:14:00</td>\n",
       "<td> 0.569 sec</td>\n",
       "<td>3.0</td>\n",
       "<td>0.8480593</td>\n",
       "<td>0.5495825</td>\n",
       "<td>0.7192046</td></tr>\n",
       "<tr><td></td>\n",
       "<td>2017-02-24 15:14:00</td>\n",
       "<td> 0.673 sec</td>\n",
       "<td>4.0</td>\n",
       "<td>0.8330926</td>\n",
       "<td>0.5457844</td>\n",
       "<td>0.6940433</td></tr>\n",
       "<tr><td>---</td>\n",
       "<td>---</td>\n",
       "<td>---</td>\n",
       "<td>---</td>\n",
       "<td>---</td>\n",
       "<td>---</td>\n",
       "<td>---</td></tr>\n",
       "<tr><td></td>\n",
       "<td>2017-02-24 15:14:01</td>\n",
       "<td> 1.866 sec</td>\n",
       "<td>46.0</td>\n",
       "<td>0.6296173</td>\n",
       "<td>0.4502195</td>\n",
       "<td>0.3964179</td></tr>\n",
       "<tr><td></td>\n",
       "<td>2017-02-24 15:14:01</td>\n",
       "<td> 1.886 sec</td>\n",
       "<td>47.0</td>\n",
       "<td>0.6287729</td>\n",
       "<td>0.4501413</td>\n",
       "<td>0.3953554</td></tr>\n",
       "<tr><td></td>\n",
       "<td>2017-02-24 15:14:01</td>\n",
       "<td> 1.905 sec</td>\n",
       "<td>48.0</td>\n",
       "<td>0.6285979</td>\n",
       "<td>0.4499853</td>\n",
       "<td>0.3951354</td></tr>\n",
       "<tr><td></td>\n",
       "<td>2017-02-24 15:14:01</td>\n",
       "<td> 1.926 sec</td>\n",
       "<td>49.0</td>\n",
       "<td>0.6282803</td>\n",
       "<td>0.4500892</td>\n",
       "<td>0.3947361</td></tr>\n",
       "<tr><td></td>\n",
       "<td>2017-02-24 15:14:01</td>\n",
       "<td> 1.944 sec</td>\n",
       "<td>50.0</td>\n",
       "<td>0.6272924</td>\n",
       "<td>0.4495529</td>\n",
       "<td>0.3934958</td></tr></table></div>"
      ],
      "text/plain": [
       "     timestamp            duration    number_of_trees    training_rmse       training_mae         training_deviance\n",
       "---  -------------------  ----------  -----------------  ------------------  -------------------  -------------------\n",
       "     2017-02-24 15:13:59  0.012 sec   0.0                nan                 nan                  nan\n",
       "     2017-02-24 15:14:00  0.336 sec   1.0                0.8897127106952516  0.5615171891846005   0.7915887075726924\n",
       "     2017-02-24 15:14:00  0.435 sec   2.0                0.8676163048390785  0.5541223353272267   0.7527580524226167\n",
       "     2017-02-24 15:14:00  0.569 sec   3.0                0.8480592871824338  0.5495824927874897   0.7192045545763779\n",
       "     2017-02-24 15:14:00  0.673 sec   4.0                0.8330925892206938  0.5457844378300083   0.6940432622144398\n",
       "---  ---                  ---         ---                ---                 ---                  ---\n",
       "     2017-02-24 15:14:01  1.866 sec   46.0               0.629617297089301   0.45021951779377606  0.3964179407940372\n",
       "     2017-02-24 15:14:01  1.886 sec   47.0               0.6287729440285327  0.4501413231720363   0.39535541514230826\n",
       "     2017-02-24 15:14:01  1.905 sec   48.0               0.6285979263912771  0.44998534338755003  0.3951353530634134\n",
       "     2017-02-24 15:14:01  1.926 sec   49.0               0.6282803066782418  0.4500891708996843   0.3947361437597055\n",
       "     2017-02-24 15:14:01  1.944 sec   50.0               0.6272924053633671  0.449552888371567    0.3934957618265588"
      ]
     },
     "metadata": {},
     "output_type": "display_data"
    },
    {
     "name": "stdout",
     "output_type": "stream",
     "text": [
      "\n",
      "See the whole table with table.as_data_frame()\n",
      "Variable Importances: \n"
     ]
    },
    {
     "data": {
      "text/html": [
       "<div style=\"overflow:auto\"><table style=\"width:50%\"><tr><td><b>variable</b></td>\n",
       "<td><b>relative_importance</b></td>\n",
       "<td><b>scaled_importance</b></td>\n",
       "<td><b>percentage</b></td></tr>\n",
       "<tr><td>alcohol</td>\n",
       "<td>21593.0800781</td>\n",
       "<td>1.0</td>\n",
       "<td>0.2072105</td></tr>\n",
       "<tr><td>density</td>\n",
       "<td>11848.2773438</td>\n",
       "<td>0.5487071</td>\n",
       "<td>0.1136979</td></tr>\n",
       "<tr><td>volatile acidity</td>\n",
       "<td>11009.4531250</td>\n",
       "<td>0.5098602</td>\n",
       "<td>0.1056484</td></tr>\n",
       "<tr><td>free sulfur dioxide</td>\n",
       "<td>9610.8203125</td>\n",
       "<td>0.4450880</td>\n",
       "<td>0.0922269</td></tr>\n",
       "<tr><td>total sulfur dioxide</td>\n",
       "<td>8106.3881836</td>\n",
       "<td>0.3754160</td>\n",
       "<td>0.0777901</td></tr>\n",
       "<tr><td>chlorides</td>\n",
       "<td>7689.6831055</td>\n",
       "<td>0.3561179</td>\n",
       "<td>0.0737914</td></tr>\n",
       "<tr><td>pH</td>\n",
       "<td>7537.3427734</td>\n",
       "<td>0.3490629</td>\n",
       "<td>0.0723295</td></tr>\n",
       "<tr><td>fixed acidity</td>\n",
       "<td>6907.3925781</td>\n",
       "<td>0.3198892</td>\n",
       "<td>0.0662844</td></tr>\n",
       "<tr><td>citric acid</td>\n",
       "<td>6864.6484375</td>\n",
       "<td>0.3179096</td>\n",
       "<td>0.0658742</td></tr>\n",
       "<tr><td>sulphates</td>\n",
       "<td>6596.7392578</td>\n",
       "<td>0.3055025</td>\n",
       "<td>0.0633033</td></tr>\n",
       "<tr><td>residual sugar</td>\n",
       "<td>6444.6044922</td>\n",
       "<td>0.2984569</td>\n",
       "<td>0.0618434</td></tr></table></div>"
      ],
      "text/plain": [
       "variable              relative_importance    scaled_importance    percentage\n",
       "--------------------  ---------------------  -------------------  ------------\n",
       "alcohol               21593.1                1                    0.20721\n",
       "density               11848.3                0.548707             0.113698\n",
       "volatile acidity      11009.5                0.50986              0.105648\n",
       "free sulfur dioxide   9610.82                0.445088             0.0922269\n",
       "total sulfur dioxide  8106.39                0.375416             0.0777901\n",
       "chlorides             7689.68                0.356118             0.0737914\n",
       "pH                    7537.34                0.349063             0.0723295\n",
       "fixed acidity         6907.39                0.319889             0.0662844\n",
       "citric acid           6864.65                0.31791              0.0658742\n",
       "sulphates             6596.74                0.305502             0.0633033\n",
       "residual sugar        6444.6                 0.298457             0.0618434"
      ]
     },
     "metadata": {},
     "output_type": "display_data"
    },
    {
     "data": {
      "text/plain": []
     },
     "execution_count": 11,
     "metadata": {},
     "output_type": "execute_result"
    }
   ],
   "source": [
    "# Check the DRF model summary\n",
    "drf_default"
   ]
  },
  {
   "cell_type": "code",
   "execution_count": 12,
   "metadata": {
    "collapsed": false
   },
   "outputs": [
    {
     "name": "stdout",
     "output_type": "stream",
     "text": [
      "\n",
      "ModelMetricsRegression: drf\n",
      "** Reported on test data. **\n",
      "\n",
      "MSE: 0.3711311779836362\n",
      "RMSE: 0.6092053660167778\n",
      "MAE: 0.43510094840087254\n",
      "RMSLE: 0.09161313127783179\n",
      "Mean Residual Deviance: 0.3711311779836362\n"
     ]
    },
    {
     "data": {
      "text/plain": []
     },
     "execution_count": 12,
     "metadata": {},
     "output_type": "execute_result"
    }
   ],
   "source": [
    "# Check the model performance on test dataset\n",
    "drf_default.model_performance(wine_test)"
   ]
  },
  {
   "cell_type": "markdown",
   "metadata": {
    "collapsed": true
   },
   "source": [
    "<br>\n",
    "\n",
    "## Gradient Boosting Machines"
   ]
  },
  {
   "cell_type": "code",
   "execution_count": 13,
   "metadata": {
    "collapsed": false
   },
   "outputs": [
    {
     "name": "stdout",
     "output_type": "stream",
     "text": [
      "gbm Model Build progress: |███████████████████████████████████████████████| 100%\n"
     ]
    }
   ],
   "source": [
    "# Build a Gradient Boosting Machines (GBM) model with default settings\n",
    "\n",
    "# Import the function for GBM\n",
    "from h2o.estimators.gbm import H2OGradientBoostingEstimator\n",
    "\n",
    "# Set up GBM for regression\n",
    "# Add a seed for reproducibility\n",
    "gbm_default = H2OGradientBoostingEstimator(model_id = 'gbm_default', seed = 1234)\n",
    "\n",
    "# Use .train() to build the model\n",
    "gbm_default.train(x = features, \n",
    "                  y = 'quality', \n",
    "                  training_frame = wine_train)"
   ]
  },
  {
   "cell_type": "code",
   "execution_count": 14,
   "metadata": {
    "collapsed": false
   },
   "outputs": [
    {
     "name": "stdout",
     "output_type": "stream",
     "text": [
      "Model Details\n",
      "=============\n",
      "H2OGradientBoostingEstimator :  Gradient Boosting Machine\n",
      "Model Key:  gbm_default\n",
      "\n",
      "\n",
      "ModelMetricsRegression: gbm\n",
      "** Reported on train data. **\n",
      "\n",
      "MSE: 0.33501502713240405\n",
      "RMSE: 0.5788048264591477\n",
      "MAE: 0.4542062463255889\n",
      "RMSLE: 0.08564359662538763\n",
      "Mean Residual Deviance: 0.33501502713240405\n",
      "Scoring History: \n"
     ]
    },
    {
     "data": {
      "text/html": [
       "<div style=\"overflow:auto\"><table style=\"width:50%\"><tr><td><b></b></td>\n",
       "<td><b>timestamp</b></td>\n",
       "<td><b>duration</b></td>\n",
       "<td><b>number_of_trees</b></td>\n",
       "<td><b>training_rmse</b></td>\n",
       "<td><b>training_mae</b></td>\n",
       "<td><b>training_deviance</b></td></tr>\n",
       "<tr><td></td>\n",
       "<td>2017-02-24 15:14:02</td>\n",
       "<td> 0.004 sec</td>\n",
       "<td>0.0</td>\n",
       "<td>0.8900853</td>\n",
       "<td>0.6768335</td>\n",
       "<td>0.7922518</td></tr>\n",
       "<tr><td></td>\n",
       "<td>2017-02-24 15:14:02</td>\n",
       "<td> 0.082 sec</td>\n",
       "<td>1.0</td>\n",
       "<td>0.8576751</td>\n",
       "<td>0.6503625</td>\n",
       "<td>0.7356067</td></tr>\n",
       "<tr><td></td>\n",
       "<td>2017-02-24 15:14:02</td>\n",
       "<td> 0.116 sec</td>\n",
       "<td>2.0</td>\n",
       "<td>0.8295027</td>\n",
       "<td>0.6291754</td>\n",
       "<td>0.6880747</td></tr>\n",
       "<tr><td></td>\n",
       "<td>2017-02-24 15:14:02</td>\n",
       "<td> 0.129 sec</td>\n",
       "<td>3.0</td>\n",
       "<td>0.8058486</td>\n",
       "<td>0.6149556</td>\n",
       "<td>0.6493920</td></tr>\n",
       "<tr><td></td>\n",
       "<td>2017-02-24 15:14:02</td>\n",
       "<td> 0.145 sec</td>\n",
       "<td>4.0</td>\n",
       "<td>0.7850495</td>\n",
       "<td>0.6037286</td>\n",
       "<td>0.6163028</td></tr>\n",
       "<tr><td>---</td>\n",
       "<td>---</td>\n",
       "<td>---</td>\n",
       "<td>---</td>\n",
       "<td>---</td>\n",
       "<td>---</td>\n",
       "<td>---</td></tr>\n",
       "<tr><td></td>\n",
       "<td>2017-02-24 15:14:02</td>\n",
       "<td> 0.546 sec</td>\n",
       "<td>46.0</td>\n",
       "<td>0.5851965</td>\n",
       "<td>0.4599527</td>\n",
       "<td>0.3424549</td></tr>\n",
       "<tr><td></td>\n",
       "<td>2017-02-24 15:14:02</td>\n",
       "<td> 0.555 sec</td>\n",
       "<td>47.0</td>\n",
       "<td>0.5843875</td>\n",
       "<td>0.4590260</td>\n",
       "<td>0.3415087</td></tr>\n",
       "<tr><td></td>\n",
       "<td>2017-02-24 15:14:02</td>\n",
       "<td> 0.564 sec</td>\n",
       "<td>48.0</td>\n",
       "<td>0.5824507</td>\n",
       "<td>0.4573919</td>\n",
       "<td>0.3392489</td></tr>\n",
       "<tr><td></td>\n",
       "<td>2017-02-24 15:14:02</td>\n",
       "<td> 0.573 sec</td>\n",
       "<td>49.0</td>\n",
       "<td>0.5811694</td>\n",
       "<td>0.4563671</td>\n",
       "<td>0.3377579</td></tr>\n",
       "<tr><td></td>\n",
       "<td>2017-02-24 15:14:02</td>\n",
       "<td> 0.582 sec</td>\n",
       "<td>50.0</td>\n",
       "<td>0.5788048</td>\n",
       "<td>0.4542062</td>\n",
       "<td>0.3350150</td></tr></table></div>"
      ],
      "text/plain": [
       "     timestamp            duration    number_of_trees    training_rmse       training_mae         training_deviance\n",
       "---  -------------------  ----------  -----------------  ------------------  -------------------  -------------------\n",
       "     2017-02-24 15:14:02  0.004 sec   0.0                0.8900852697964992  0.6768334835644412   0.7922517875087066\n",
       "     2017-02-24 15:14:02  0.082 sec   1.0                0.8576751491827583  0.6503624936692712   0.7356066615256668\n",
       "     2017-02-24 15:14:02  0.116 sec   2.0                0.8295026823978517  0.6291754301542668   0.6880747001052313\n",
       "     2017-02-24 15:14:02  0.129 sec   3.0                0.8058486426248245  0.6149555744256517   0.6493920348202721\n",
       "     2017-02-24 15:14:02  0.145 sec   4.0                0.7850495375076145  0.6037286375691908   0.6163027763409195\n",
       "---  ---                  ---         ---                ---                 ---                  ---\n",
       "     2017-02-24 15:14:02  0.546 sec   46.0               0.5851964715080626  0.4599526725853447   0.3424549102654868\n",
       "     2017-02-24 15:14:02  0.555 sec   47.0               0.5843874556847962  0.4590260370095409   0.34150869836174963\n",
       "     2017-02-24 15:14:02  0.564 sec   48.0               0.5824507335360375  0.45739186853018804  0.3392488569966682\n",
       "     2017-02-24 15:14:02  0.573 sec   49.0               0.58116942324356    0.45636705603992467  0.3377578985132522\n",
       "     2017-02-24 15:14:02  0.582 sec   50.0               0.5788048264591477  0.4542062463255889   0.33501502713240405"
      ]
     },
     "metadata": {},
     "output_type": "display_data"
    },
    {
     "name": "stdout",
     "output_type": "stream",
     "text": [
      "\n",
      "See the whole table with table.as_data_frame()\n",
      "Variable Importances: \n"
     ]
    },
    {
     "data": {
      "text/html": [
       "<div style=\"overflow:auto\"><table style=\"width:50%\"><tr><td><b>variable</b></td>\n",
       "<td><b>relative_importance</b></td>\n",
       "<td><b>scaled_importance</b></td>\n",
       "<td><b>percentage</b></td></tr>\n",
       "<tr><td>alcohol</td>\n",
       "<td>3482.7805176</td>\n",
       "<td>1.0</td>\n",
       "<td>0.3679474</td></tr>\n",
       "<tr><td>volatile acidity</td>\n",
       "<td>1540.7117920</td>\n",
       "<td>0.4423798</td>\n",
       "<td>0.1627725</td></tr>\n",
       "<tr><td>free sulfur dioxide</td>\n",
       "<td>1112.0415039</td>\n",
       "<td>0.3192970</td>\n",
       "<td>0.1174845</td></tr>\n",
       "<tr><td>residual sugar</td>\n",
       "<td>471.1806030</td>\n",
       "<td>0.1352886</td>\n",
       "<td>0.0497791</td></tr>\n",
       "<tr><td>pH</td>\n",
       "<td>464.7217407</td>\n",
       "<td>0.1334341</td>\n",
       "<td>0.0490967</td></tr>\n",
       "<tr><td>total sulfur dioxide</td>\n",
       "<td>442.2509766</td>\n",
       "<td>0.1269822</td>\n",
       "<td>0.0467227</td></tr>\n",
       "<tr><td>fixed acidity</td>\n",
       "<td>441.9790955</td>\n",
       "<td>0.1269041</td>\n",
       "<td>0.0466940</td></tr>\n",
       "<tr><td>chlorides</td>\n",
       "<td>416.6728516</td>\n",
       "<td>0.1196380</td>\n",
       "<td>0.0440205</td></tr>\n",
       "<tr><td>density</td>\n",
       "<td>377.4411011</td>\n",
       "<td>0.1083735</td>\n",
       "<td>0.0398757</td></tr>\n",
       "<tr><td>citric acid</td>\n",
       "<td>372.0686646</td>\n",
       "<td>0.1068309</td>\n",
       "<td>0.0393082</td></tr>\n",
       "<tr><td>sulphates</td>\n",
       "<td>343.5827942</td>\n",
       "<td>0.0986519</td>\n",
       "<td>0.0362987</td></tr></table></div>"
      ],
      "text/plain": [
       "variable              relative_importance    scaled_importance    percentage\n",
       "--------------------  ---------------------  -------------------  ------------\n",
       "alcohol               3482.78                1                    0.367947\n",
       "volatile acidity      1540.71                0.44238              0.162772\n",
       "free sulfur dioxide   1112.04                0.319297             0.117485\n",
       "residual sugar        471.181                0.135289             0.0497791\n",
       "pH                    464.722                0.133434             0.0490967\n",
       "total sulfur dioxide  442.251                0.126982             0.0467227\n",
       "fixed acidity         441.979                0.126904             0.046694\n",
       "chlorides             416.673                0.119638             0.0440205\n",
       "density               377.441                0.108373             0.0398757\n",
       "citric acid           372.069                0.106831             0.0393082\n",
       "sulphates             343.583                0.0986519            0.0362987"
      ]
     },
     "metadata": {},
     "output_type": "display_data"
    },
    {
     "data": {
      "text/plain": []
     },
     "execution_count": 14,
     "metadata": {},
     "output_type": "execute_result"
    }
   ],
   "source": [
    "# Check the GBM model summary\n",
    "gbm_default"
   ]
  },
  {
   "cell_type": "code",
   "execution_count": 15,
   "metadata": {
    "collapsed": false,
    "scrolled": true
   },
   "outputs": [
    {
     "name": "stdout",
     "output_type": "stream",
     "text": [
      "\n",
      "ModelMetricsRegression: gbm\n",
      "** Reported on test data. **\n",
      "\n",
      "MSE: 0.45511211588709155\n",
      "RMSE: 0.6746199788674299\n",
      "MAE: 0.5219768028633305\n",
      "RMSLE: 0.10013755931021842\n",
      "Mean Residual Deviance: 0.45511211588709155\n"
     ]
    },
    {
     "data": {
      "text/plain": []
     },
     "execution_count": 15,
     "metadata": {},
     "output_type": "execute_result"
    }
   ],
   "source": [
    "# Check the model performance on test dataset\n",
    "gbm_default.model_performance(wine_test)"
   ]
  },
  {
   "cell_type": "markdown",
   "metadata": {},
   "source": [
    "<br>\n",
    "\n",
    "## H2O Deep Learning"
   ]
  },
  {
   "cell_type": "code",
   "execution_count": 16,
   "metadata": {
    "collapsed": false
   },
   "outputs": [
    {
     "name": "stdout",
     "output_type": "stream",
     "text": [
      "deeplearning Model Build progress: |██████████████████████████████████████| 100%\n"
     ]
    }
   ],
   "source": [
    "# Build a Deep Learning (Deep Neural Networks, DNN) model with default settings\n",
    "\n",
    "# Import the function for DNN\n",
    "from h2o.estimators.deeplearning import H2ODeepLearningEstimator\n",
    "\n",
    "# Set up DNN for regression\n",
    "dnn_default = H2ODeepLearningEstimator(model_id = 'dnn_default')\n",
    "\n",
    "# (not run) Change 'reproducible' to True if you want to reproduce the results\n",
    "# The model will be built using a single thread (could be very slow)\n",
    "# dnn_default = H2ODeepLearningEstimator(model_id = 'dnn_default', reproducible = True)\n",
    "\n",
    "# Use .train() to build the model\n",
    "dnn_default.train(x = features, \n",
    "                  y = 'quality', \n",
    "                  training_frame = wine_train)"
   ]
  },
  {
   "cell_type": "code",
   "execution_count": 17,
   "metadata": {
    "collapsed": false
   },
   "outputs": [
    {
     "name": "stdout",
     "output_type": "stream",
     "text": [
      "Model Details\n",
      "=============\n",
      "H2ODeepLearningEstimator :  Deep Learning\n",
      "Model Key:  dnn_default\n",
      "\n",
      "\n",
      "ModelMetricsRegression: deeplearning\n",
      "** Reported on train data. **\n",
      "\n",
      "MSE: 0.4482506549742026\n",
      "RMSE: 0.669515238791622\n",
      "MAE: 0.5224940049907173\n",
      "RMSLE: 0.0988827152938782\n",
      "Mean Residual Deviance: 0.4482506549742026\n",
      "Scoring History: \n"
     ]
    },
    {
     "data": {
      "text/html": [
       "<div style=\"overflow:auto\"><table style=\"width:50%\"><tr><td><b></b></td>\n",
       "<td><b>timestamp</b></td>\n",
       "<td><b>duration</b></td>\n",
       "<td><b>training_speed</b></td>\n",
       "<td><b>epochs</b></td>\n",
       "<td><b>iterations</b></td>\n",
       "<td><b>samples</b></td>\n",
       "<td><b>training_rmse</b></td>\n",
       "<td><b>training_deviance</b></td>\n",
       "<td><b>training_mae</b></td></tr>\n",
       "<tr><td></td>\n",
       "<td>2017-02-24 15:14:02</td>\n",
       "<td> 0.000 sec</td>\n",
       "<td>None</td>\n",
       "<td>0.0</td>\n",
       "<td>0</td>\n",
       "<td>0.0</td>\n",
       "<td>nan</td>\n",
       "<td>nan</td>\n",
       "<td>nan</td></tr>\n",
       "<tr><td></td>\n",
       "<td>2017-02-24 15:14:04</td>\n",
       "<td> 1.900 sec</td>\n",
       "<td>5514 obs/sec</td>\n",
       "<td>1.0</td>\n",
       "<td>1</td>\n",
       "<td>3932.0</td>\n",
       "<td>0.7763152</td>\n",
       "<td>0.6026652</td>\n",
       "<td>0.5986515</td></tr>\n",
       "<tr><td></td>\n",
       "<td>2017-02-24 15:14:06</td>\n",
       "<td> 4.033 sec</td>\n",
       "<td>14098 obs/sec</td>\n",
       "<td>10.0</td>\n",
       "<td>10</td>\n",
       "<td>39320.0</td>\n",
       "<td>0.6695152</td>\n",
       "<td>0.4482507</td>\n",
       "<td>0.5224940</td></tr></table></div>"
      ],
      "text/plain": [
       "    timestamp            duration    training_speed    epochs    iterations    samples    training_rmse    training_deviance    training_mae\n",
       "--  -------------------  ----------  ----------------  --------  ------------  ---------  ---------------  -------------------  --------------\n",
       "    2017-02-24 15:14:02  0.000 sec                     0         0             0          nan              nan                  nan\n",
       "    2017-02-24 15:14:04  1.900 sec   5514 obs/sec      1         1             3932       0.776315         0.602665             0.598651\n",
       "    2017-02-24 15:14:06  4.033 sec   14098 obs/sec     10        10            39320      0.669515         0.448251             0.522494"
      ]
     },
     "metadata": {},
     "output_type": "display_data"
    },
    {
     "data": {
      "text/plain": []
     },
     "execution_count": 17,
     "metadata": {},
     "output_type": "execute_result"
    }
   ],
   "source": [
    "# Check the DNN model summary\n",
    "dnn_default"
   ]
  },
  {
   "cell_type": "code",
   "execution_count": 18,
   "metadata": {
    "collapsed": false
   },
   "outputs": [
    {
     "name": "stdout",
     "output_type": "stream",
     "text": [
      "\n",
      "ModelMetricsRegression: deeplearning\n",
      "** Reported on test data. **\n",
      "\n",
      "MSE: 0.4835706518652839\n",
      "RMSE: 0.6953924444982732\n",
      "MAE: 0.5335095371669809\n",
      "RMSLE: 0.10300298385447938\n",
      "Mean Residual Deviance: 0.4835706518652839\n"
     ]
    },
    {
     "data": {
      "text/plain": []
     },
     "execution_count": 18,
     "metadata": {},
     "output_type": "execute_result"
    }
   ],
   "source": [
    "# Check the model performance on test dataset\n",
    "dnn_default.model_performance(wine_test)"
   ]
  },
  {
   "cell_type": "markdown",
   "metadata": {},
   "source": [
    "<br>\n",
    "\n",
    "## Making Predictions"
   ]
  },
  {
   "cell_type": "code",
   "execution_count": 19,
   "metadata": {
    "collapsed": false
   },
   "outputs": [
    {
     "name": "stdout",
     "output_type": "stream",
     "text": [
      "glm prediction progress: |████████████████████████████████████████████████| 100%\n"
     ]
    },
    {
     "data": {
      "text/html": [
       "<table>\n",
       "<thead>\n",
       "<tr><th style=\"text-align: right;\">  predict</th></tr>\n",
       "</thead>\n",
       "<tbody>\n",
       "<tr><td style=\"text-align: right;\">  5.76109</td></tr>\n",
       "<tr><td style=\"text-align: right;\">  5.76721</td></tr>\n",
       "<tr><td style=\"text-align: right;\">  5.64325</td></tr>\n",
       "<tr><td style=\"text-align: right;\">  5.85764</td></tr>\n",
       "<tr><td style=\"text-align: right;\">  5.77967</td></tr>\n",
       "</tbody>\n",
       "</table>"
      ]
     },
     "metadata": {},
     "output_type": "display_data"
    },
    {
     "data": {
      "text/plain": []
     },
     "execution_count": 19,
     "metadata": {},
     "output_type": "execute_result"
    }
   ],
   "source": [
    "# Use GLM model to make predictions\n",
    "yhat_test_glm = glm_default.predict(wine_test)\n",
    "yhat_test_glm.head(5)"
   ]
  },
  {
   "cell_type": "code",
   "execution_count": 20,
   "metadata": {
    "collapsed": false
   },
   "outputs": [
    {
     "name": "stdout",
     "output_type": "stream",
     "text": [
      "drf prediction progress: |████████████████████████████████████████████████| 100%\n"
     ]
    },
    {
     "data": {
      "text/html": [
       "<table>\n",
       "<thead>\n",
       "<tr><th style=\"text-align: right;\">  predict</th></tr>\n",
       "</thead>\n",
       "<tbody>\n",
       "<tr><td style=\"text-align: right;\">  5.82407</td></tr>\n",
       "<tr><td style=\"text-align: right;\">  5.66286</td></tr>\n",
       "<tr><td style=\"text-align: right;\">  5.38   </td></tr>\n",
       "<tr><td style=\"text-align: right;\">  6.54   </td></tr>\n",
       "<tr><td style=\"text-align: right;\">  5.88   </td></tr>\n",
       "</tbody>\n",
       "</table>"
      ]
     },
     "metadata": {},
     "output_type": "display_data"
    },
    {
     "data": {
      "text/plain": []
     },
     "execution_count": 20,
     "metadata": {},
     "output_type": "execute_result"
    }
   ],
   "source": [
    "# Use DRF model to make predictions\n",
    "yhat_test_drf = drf_default.predict(wine_test)\n",
    "yhat_test_drf.head(5)"
   ]
  },
  {
   "cell_type": "code",
   "execution_count": 21,
   "metadata": {
    "collapsed": false
   },
   "outputs": [
    {
     "name": "stdout",
     "output_type": "stream",
     "text": [
      "gbm prediction progress: |████████████████████████████████████████████████| 100%\n"
     ]
    },
    {
     "data": {
      "text/html": [
       "<table>\n",
       "<thead>\n",
       "<tr><th style=\"text-align: right;\">  predict</th></tr>\n",
       "</thead>\n",
       "<tbody>\n",
       "<tr><td style=\"text-align: right;\">  5.84641</td></tr>\n",
       "<tr><td style=\"text-align: right;\">  6.02737</td></tr>\n",
       "<tr><td style=\"text-align: right;\">  5.28953</td></tr>\n",
       "<tr><td style=\"text-align: right;\">  6.27266</td></tr>\n",
       "<tr><td style=\"text-align: right;\">  5.63078</td></tr>\n",
       "</tbody>\n",
       "</table>"
      ]
     },
     "metadata": {},
     "output_type": "display_data"
    },
    {
     "data": {
      "text/plain": []
     },
     "execution_count": 21,
     "metadata": {},
     "output_type": "execute_result"
    }
   ],
   "source": [
    "# Use GBM model to make predictions\n",
    "yhat_test_gbm = gbm_default.predict(wine_test)\n",
    "yhat_test_gbm.head(5)"
   ]
  },
  {
   "cell_type": "code",
   "execution_count": 22,
   "metadata": {
    "collapsed": false
   },
   "outputs": [
    {
     "name": "stdout",
     "output_type": "stream",
     "text": [
      "deeplearning prediction progress: |███████████████████████████████████████| 100%\n"
     ]
    },
    {
     "data": {
      "text/html": [
       "<table>\n",
       "<thead>\n",
       "<tr><th style=\"text-align: right;\">  predict</th></tr>\n",
       "</thead>\n",
       "<tbody>\n",
       "<tr><td style=\"text-align: right;\">  5.68418</td></tr>\n",
       "<tr><td style=\"text-align: right;\">  5.70711</td></tr>\n",
       "<tr><td style=\"text-align: right;\">  5.17607</td></tr>\n",
       "<tr><td style=\"text-align: right;\">  6.16935</td></tr>\n",
       "<tr><td style=\"text-align: right;\">  5.6025 </td></tr>\n",
       "</tbody>\n",
       "</table>"
      ]
     },
     "metadata": {},
     "output_type": "display_data"
    },
    {
     "data": {
      "text/plain": []
     },
     "execution_count": 22,
     "metadata": {},
     "output_type": "execute_result"
    }
   ],
   "source": [
    "# Use DNN model to make predictions\n",
    "yhat_test_dnn = dnn_default.predict(wine_test)\n",
    "yhat_test_dnn.head(5)"
   ]
  },
  {
   "cell_type": "markdown",
   "metadata": {},
   "source": [
    "<br>"
   ]
  }
 ],
 "metadata": {
  "anaconda-cloud": {},
  "kernelspec": {
   "display_name": "Python [conda root]",
   "language": "python",
   "name": "conda-root-py"
  },
  "language_info": {
   "codemirror_mode": {
    "name": "ipython",
    "version": 3
   },
   "file_extension": ".py",
   "mimetype": "text/x-python",
   "name": "python",
   "nbconvert_exporter": "python",
   "pygments_lexer": "ipython3",
   "version": "3.5.2"
  }
 },
 "nbformat": 4,
 "nbformat_minor": 1
}
