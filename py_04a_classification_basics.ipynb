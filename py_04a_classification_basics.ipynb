{
 "cells": [
  {
   "cell_type": "markdown",
   "metadata": {},
   "source": [
    "# Machine Learning with H2O - Tutorial 4a: Classification Models (Basics)\n",
    "\n",
    "<hr>\n",
    "\n",
    "**Objective**:\n",
    "\n",
    "- This tutorial explains how to build classification models with four different H2O algorithms.\n",
    "\n",
    "<hr>\n",
    "\n",
    "**Titanic Dataset:**\n",
    "\n",
    "- Source: https://www.kaggle.com/c/titanic/data\n",
    "\n",
    "<hr>\n",
    "    \n",
    "**Algorithms**:\n",
    "\n",
    "1. GLM\n",
    "2. DRF\n",
    "3. GBM\n",
    "4. DNN\n",
    "\n",
    "\n",
    "<hr>\n",
    "\n",
    "**Full Technical Reference:**\n",
    "\n",
    "- http://docs.h2o.ai/h2o/latest-stable/h2o-py/docs/modeling.html\n",
    "\n",
    "<br>\n"
   ]
  },
  {
   "cell_type": "code",
   "execution_count": 1,
   "metadata": {
    "collapsed": false,
    "scrolled": false
   },
   "outputs": [
    {
     "name": "stdout",
     "output_type": "stream",
     "text": [
      "Checking whether there is an H2O instance running at http://localhost:54321..... not found.\n",
      "Attempting to start a local H2O server...\n",
      "  Java Version: java version \"1.8.0_121\"; Java(TM) SE Runtime Environment (build 1.8.0_121-b13); Java HotSpot(TM) 64-Bit Server VM (build 25.121-b13, mixed mode)\n",
      "  Starting server from /home/joe/anaconda3/lib/python3.5/site-packages/h2o/backend/bin/h2o.jar\n",
      "  Ice root: /tmp/tmpc51uiow3\n",
      "  JVM stdout: /tmp/tmpc51uiow3/h2o_joe_started_from_python.out\n",
      "  JVM stderr: /tmp/tmpc51uiow3/h2o_joe_started_from_python.err\n",
      "  Server is running at http://127.0.0.1:54321\n",
      "Connecting to H2O server at http://127.0.0.1:54321... successful.\n"
     ]
    },
    {
     "data": {
      "text/html": [
       "<div style=\"overflow:auto\"><table style=\"width:50%\"><tr><td>H2O cluster uptime:</td>\n",
       "<td>01 secs</td></tr>\n",
       "<tr><td>H2O cluster version:</td>\n",
       "<td>3.10.3.5</td></tr>\n",
       "<tr><td>H2O cluster version age:</td>\n",
       "<td>6 days </td></tr>\n",
       "<tr><td>H2O cluster name:</td>\n",
       "<td>H2O_from_python_joe_claf03</td></tr>\n",
       "<tr><td>H2O cluster total nodes:</td>\n",
       "<td>1</td></tr>\n",
       "<tr><td>H2O cluster free memory:</td>\n",
       "<td>5.210 Gb</td></tr>\n",
       "<tr><td>H2O cluster total cores:</td>\n",
       "<td>8</td></tr>\n",
       "<tr><td>H2O cluster allowed cores:</td>\n",
       "<td>8</td></tr>\n",
       "<tr><td>H2O cluster status:</td>\n",
       "<td>accepting new members, healthy</td></tr>\n",
       "<tr><td>H2O connection url:</td>\n",
       "<td>http://127.0.0.1:54321</td></tr>\n",
       "<tr><td>H2O connection proxy:</td>\n",
       "<td>None</td></tr>\n",
       "<tr><td>Python version:</td>\n",
       "<td>3.5.2 final</td></tr></table></div>"
      ],
      "text/plain": [
       "--------------------------  ------------------------------\n",
       "H2O cluster uptime:         01 secs\n",
       "H2O cluster version:        3.10.3.5\n",
       "H2O cluster version age:    6 days\n",
       "H2O cluster name:           H2O_from_python_joe_claf03\n",
       "H2O cluster total nodes:    1\n",
       "H2O cluster free memory:    5.210 Gb\n",
       "H2O cluster total cores:    8\n",
       "H2O cluster allowed cores:  8\n",
       "H2O cluster status:         accepting new members, healthy\n",
       "H2O connection url:         http://127.0.0.1:54321\n",
       "H2O connection proxy:\n",
       "Python version:             3.5.2 final\n",
       "--------------------------  ------------------------------"
      ]
     },
     "metadata": {},
     "output_type": "display_data"
    }
   ],
   "source": [
    "# Start and connect to a local H2O cluster\n",
    "import h2o\n",
    "h2o.init(nthreads = -1)"
   ]
  },
  {
   "cell_type": "markdown",
   "metadata": {},
   "source": [
    "<br>"
   ]
  },
  {
   "cell_type": "code",
   "execution_count": 4,
   "metadata": {
    "collapsed": false,
    "scrolled": true
   },
   "outputs": [
    {
     "name": "stdout",
     "output_type": "stream",
     "text": [
      "Parse progress: |█████████████████████████████████████████████████████████| 100%\n"
     ]
    },
    {
     "data": {
      "text/html": [
       "<table>\n",
       "<thead>\n",
       "<tr><th style=\"text-align: right;\">  PassengerId</th><th style=\"text-align: right;\">  Survived</th><th style=\"text-align: right;\">  Pclass</th><th>Name                                               </th><th>Sex   </th><th style=\"text-align: right;\">  Age</th><th style=\"text-align: right;\">  SibSp</th><th style=\"text-align: right;\">  Parch</th><th style=\"text-align: right;\">  Ticket</th><th style=\"text-align: right;\">   Fare</th><th>Cabin  </th><th>Embarked  </th></tr>\n",
       "</thead>\n",
       "<tbody>\n",
       "<tr><td style=\"text-align: right;\">            1</td><td style=\"text-align: right;\">         0</td><td style=\"text-align: right;\">       3</td><td>Braund, Mr. Owen Harris                            </td><td>male  </td><td style=\"text-align: right;\">   22</td><td style=\"text-align: right;\">      1</td><td style=\"text-align: right;\">      0</td><td style=\"text-align: right;\">     nan</td><td style=\"text-align: right;\"> 7.25  </td><td>       </td><td>S         </td></tr>\n",
       "<tr><td style=\"text-align: right;\">            2</td><td style=\"text-align: right;\">         1</td><td style=\"text-align: right;\">       1</td><td>Cumings, Mrs. John Bradley (Florence Briggs Thayer)</td><td>female</td><td style=\"text-align: right;\">   38</td><td style=\"text-align: right;\">      1</td><td style=\"text-align: right;\">      0</td><td style=\"text-align: right;\">     nan</td><td style=\"text-align: right;\">71.2833</td><td>C85    </td><td>C         </td></tr>\n",
       "<tr><td style=\"text-align: right;\">            3</td><td style=\"text-align: right;\">         1</td><td style=\"text-align: right;\">       3</td><td>Heikkinen, Miss. Laina                             </td><td>female</td><td style=\"text-align: right;\">   26</td><td style=\"text-align: right;\">      0</td><td style=\"text-align: right;\">      0</td><td style=\"text-align: right;\">     nan</td><td style=\"text-align: right;\"> 7.925 </td><td>       </td><td>S         </td></tr>\n",
       "<tr><td style=\"text-align: right;\">            4</td><td style=\"text-align: right;\">         1</td><td style=\"text-align: right;\">       1</td><td>Futrelle, Mrs. Jacques Heath (Lily May Peel)       </td><td>female</td><td style=\"text-align: right;\">   35</td><td style=\"text-align: right;\">      1</td><td style=\"text-align: right;\">      0</td><td style=\"text-align: right;\">  113803</td><td style=\"text-align: right;\">53.1   </td><td>C123   </td><td>S         </td></tr>\n",
       "<tr><td style=\"text-align: right;\">            5</td><td style=\"text-align: right;\">         0</td><td style=\"text-align: right;\">       3</td><td>Allen, Mr. William Henry                           </td><td>male  </td><td style=\"text-align: right;\">   35</td><td style=\"text-align: right;\">      0</td><td style=\"text-align: right;\">      0</td><td style=\"text-align: right;\">  373450</td><td style=\"text-align: right;\"> 8.05  </td><td>       </td><td>S         </td></tr>\n",
       "</tbody>\n",
       "</table>"
      ]
     },
     "metadata": {},
     "output_type": "display_data"
    },
    {
     "data": {
      "text/plain": []
     },
     "execution_count": 4,
     "metadata": {},
     "output_type": "execute_result"
    }
   ],
   "source": [
    "# Import Titanic data (local CSV)\n",
    "titanic = h2o.import_file(\"kaggle_titanic.csv\")\n",
    "titanic.head(5)"
   ]
  },
  {
   "cell_type": "code",
   "execution_count": 8,
   "metadata": {
    "collapsed": false
   },
   "outputs": [],
   "source": [
    "# Convert 'Survived' and 'Pclass' to categorical values\n",
    "titanic['Survived'] = titanic['Survived'].asfactor()\n",
    "titanic['Pclass'] = titanic['Pclass'].asfactor()"
   ]
  },
  {
   "cell_type": "code",
   "execution_count": 10,
   "metadata": {
    "collapsed": false
   },
   "outputs": [
    {
     "data": {
      "text/html": [
       "<table>\n",
       "<thead>\n",
       "<tr><th style=\"text-align: right;\">  Survived</th><th style=\"text-align: right;\">  Count</th></tr>\n",
       "</thead>\n",
       "<tbody>\n",
       "<tr><td style=\"text-align: right;\">         0</td><td style=\"text-align: right;\">    549</td></tr>\n",
       "<tr><td style=\"text-align: right;\">         1</td><td style=\"text-align: right;\">    342</td></tr>\n",
       "</tbody>\n",
       "</table>"
      ]
     },
     "metadata": {},
     "output_type": "display_data"
    },
    {
     "data": {
      "text/plain": []
     },
     "execution_count": 10,
     "metadata": {},
     "output_type": "execute_result"
    }
   ],
   "source": [
    "titanic['Survived'].table()"
   ]
  },
  {
   "cell_type": "code",
   "execution_count": 12,
   "metadata": {
    "collapsed": false
   },
   "outputs": [
    {
     "data": {
      "text/html": [
       "<table>\n",
       "<thead>\n",
       "<tr><th style=\"text-align: right;\">  Pclass</th><th style=\"text-align: right;\">  Count</th></tr>\n",
       "</thead>\n",
       "<tbody>\n",
       "<tr><td style=\"text-align: right;\">       1</td><td style=\"text-align: right;\">    216</td></tr>\n",
       "<tr><td style=\"text-align: right;\">       2</td><td style=\"text-align: right;\">    184</td></tr>\n",
       "<tr><td style=\"text-align: right;\">       3</td><td style=\"text-align: right;\">    491</td></tr>\n",
       "</tbody>\n",
       "</table>"
      ]
     },
     "metadata": {},
     "output_type": "display_data"
    },
    {
     "data": {
      "text/plain": []
     },
     "execution_count": 12,
     "metadata": {},
     "output_type": "execute_result"
    }
   ],
   "source": [
    "titanic['Pclass'].table()"
   ]
  },
  {
   "cell_type": "code",
   "execution_count": 13,
   "metadata": {
    "collapsed": false
   },
   "outputs": [
    {
     "data": {
      "text/html": [
       "<table>\n",
       "<thead>\n",
       "<tr><th>Sex   </th><th style=\"text-align: right;\">  Count</th></tr>\n",
       "</thead>\n",
       "<tbody>\n",
       "<tr><td>female</td><td style=\"text-align: right;\">    314</td></tr>\n",
       "<tr><td>male  </td><td style=\"text-align: right;\">    577</td></tr>\n",
       "</tbody>\n",
       "</table>"
      ]
     },
     "metadata": {},
     "output_type": "display_data"
    },
    {
     "data": {
      "text/plain": []
     },
     "execution_count": 13,
     "metadata": {},
     "output_type": "execute_result"
    }
   ],
   "source": [
    "titanic['Sex'].table()"
   ]
  },
  {
   "cell_type": "code",
   "execution_count": 14,
   "metadata": {
    "collapsed": false
   },
   "outputs": [
    {
     "data": {
      "image/png": "[encoded data removed]",
      "text/plain": [
       "<matplotlib.figure.Figure at 0x7f5cf7b72668>"
      ]
     },
     "metadata": {},
     "output_type": "display_data"
    }
   ],
   "source": [
    "titanic['Age'].hist()"
   ]
  },
  {
   "cell_type": "code",
   "execution_count": 15,
   "metadata": {
    "collapsed": false
   },
   "outputs": [
    {
     "data": {
      "image/png": "[encoded data removed]",
      "text/plain": [
       "<matplotlib.figure.Figure at 0x7f5ced658f60>"
      ]
     },
     "metadata": {},
     "output_type": "display_data"
    }
   ],
   "source": [
    "titanic['SibSp'].hist()"
   ]
  },
  {
   "cell_type": "code",
   "execution_count": 16,
   "metadata": {
    "collapsed": false
   },
   "outputs": [
    {
     "data": {
      "image/png": "[encoded data removed]",
      "text/plain": [
       "<matplotlib.figure.Figure at 0x7f5ced6dcb70>"
      ]
     },
     "metadata": {},
     "output_type": "display_data"
    }
   ],
   "source": [
    "titanic['Parch'].hist()"
   ]
  },
  {
   "cell_type": "code",
   "execution_count": 18,
   "metadata": {
    "collapsed": false
   },
   "outputs": [
    {
     "data": {
      "image/png": "[encoded data removed]",
      "text/plain": [
       "<matplotlib.figure.Figure at 0x7f5ced6a9c88>"
      ]
     },
     "metadata": {},
     "output_type": "display_data"
    }
   ],
   "source": [
    "titanic['Fare'].hist()"
   ]
  },
  {
   "cell_type": "code",
   "execution_count": 22,
   "metadata": {
    "collapsed": false
   },
   "outputs": [
    {
     "data": {
      "text/html": [
       "<table>\n",
       "<thead>\n",
       "<tr><th>Embarked  </th><th style=\"text-align: right;\">  Count</th></tr>\n",
       "</thead>\n",
       "<tbody>\n",
       "<tr><td>C         </td><td style=\"text-align: right;\">    168</td></tr>\n",
       "<tr><td>Q         </td><td style=\"text-align: right;\">     77</td></tr>\n",
       "<tr><td>S         </td><td style=\"text-align: right;\">    644</td></tr>\n",
       "</tbody>\n",
       "</table>"
      ]
     },
     "metadata": {},
     "output_type": "display_data"
    },
    {
     "data": {
      "text/plain": []
     },
     "execution_count": 22,
     "metadata": {},
     "output_type": "execute_result"
    }
   ],
   "source": [
    "titanic['Embarked'].table()"
   ]
  },
  {
   "cell_type": "code",
   "execution_count": 23,
   "metadata": {
    "collapsed": false
   },
   "outputs": [],
   "source": [
    "# Define features (or predictors) manually\n",
    "features = ['Pclass', 'Sex', 'Age', 'SibSp', 'Parch', 'Fare', 'Embarked']"
   ]
  },
  {
   "cell_type": "code",
   "execution_count": 25,
   "metadata": {
    "collapsed": false
   },
   "outputs": [],
   "source": [
    "# Split the H2O data frame into training/test sets\n",
    "# so we can evaluate out-of-bag performance\n",
    "titanic_split = titanic.split_frame(ratios = [0.8], seed = 1234)\n",
    "\n",
    "titanic_train = titanic_split[0] # using 80% for training\n",
    "titanic_test = titanic_split[1]  # using the rest 20% for out-of-bag evaluation"
   ]
  },
  {
   "cell_type": "code",
   "execution_count": 26,
   "metadata": {
    "collapsed": false
   },
   "outputs": [
    {
     "data": {
      "text/plain": [
       "(712, 12)"
      ]
     },
     "execution_count": 26,
     "metadata": {},
     "output_type": "execute_result"
    }
   ],
   "source": [
    "titanic_train.shape"
   ]
  },
  {
   "cell_type": "code",
   "execution_count": 27,
   "metadata": {
    "collapsed": false
   },
   "outputs": [
    {
     "data": {
      "text/plain": [
       "(179, 12)"
      ]
     },
     "execution_count": 27,
     "metadata": {},
     "output_type": "execute_result"
    }
   ],
   "source": [
    "titanic_test.shape"
   ]
  },
  {
   "cell_type": "markdown",
   "metadata": {},
   "source": [
    "<br>\n",
    "\n",
    "## Generalized Linear Model"
   ]
  },
  {
   "cell_type": "code",
   "execution_count": 29,
   "metadata": {
    "collapsed": false
   },
   "outputs": [
    {
     "name": "stdout",
     "output_type": "stream",
     "text": [
      "glm Model Build progress: |███████████████████████████████████████████████| 100%\n"
     ]
    }
   ],
   "source": [
    "# Build a Generalized Linear Model (GLM) with default settings\n",
    "\n",
    "# Import the function for GLM\n",
    "from h2o.estimators.glm import H2OGeneralizedLinearEstimator\n",
    "\n",
    "# Set up GLM for binary classification\n",
    "glm_default = H2OGeneralizedLinearEstimator(family = 'binomial', model_id = 'glm_default')\n",
    "\n",
    "# Use .train() to build the model\n",
    "glm_default.train(x = features, \n",
    "                  y = 'Survived', \n",
    "                  training_frame = titanic_train)"
   ]
  },
  {
   "cell_type": "code",
   "execution_count": 30,
   "metadata": {
    "collapsed": false
   },
   "outputs": [
    {
     "name": "stdout",
     "output_type": "stream",
     "text": [
      "Model Details\n",
      "=============\n",
      "H2OGeneralizedLinearEstimator :  Generalized Linear Modeling\n",
      "Model Key:  glm_default\n",
      "\n",
      "\n",
      "ModelMetricsBinomialGLM: glm\n",
      "** Reported on train data. **\n",
      "\n",
      "MSE: 0.1382288206898215\n",
      "RMSE: 0.37179136715343664\n",
      "LogLoss: 0.4365971276608109\n",
      "Null degrees of freedom: 711\n",
      "Residual degrees of freedom: 700\n",
      "Null deviance: 939.9987544934203\n",
      "Residual deviance: 621.7143097889948\n",
      "AIC: 645.7143097889948\n",
      "AUC: 0.8541387024608501\n",
      "Gini: 0.7082774049217002\n",
      "Confusion Matrix (Act/Pred) for max f1 @ threshold = 0.326408717958219: \n"
     ]
    },
    {
     "data": {
      "text/html": [
       "<div style=\"overflow:auto\"><table style=\"width:50%\"><tr><td><b></b></td>\n",
       "<td><b>0</b></td>\n",
       "<td><b>1</b></td>\n",
       "<td><b>Error</b></td>\n",
       "<td><b>Rate</b></td></tr>\n",
       "<tr><td>0</td>\n",
       "<td>354.0</td>\n",
       "<td>93.0</td>\n",
       "<td>0.2081</td>\n",
       "<td> (93.0/447.0)</td></tr>\n",
       "<tr><td>1</td>\n",
       "<td>54.0</td>\n",
       "<td>211.0</td>\n",
       "<td>0.2038</td>\n",
       "<td> (54.0/265.0)</td></tr>\n",
       "<tr><td>Total</td>\n",
       "<td>408.0</td>\n",
       "<td>304.0</td>\n",
       "<td>0.2065</td>\n",
       "<td> (147.0/712.0)</td></tr></table></div>"
      ],
      "text/plain": [
       "       0    1    Error    Rate\n",
       "-----  ---  ---  -------  -------------\n",
       "0      354  93   0.2081   (93.0/447.0)\n",
       "1      54   211  0.2038   (54.0/265.0)\n",
       "Total  408  304  0.2065   (147.0/712.0)"
      ]
     },
     "metadata": {},
     "output_type": "display_data"
    },
    {
     "name": "stdout",
     "output_type": "stream",
     "text": [
      "Maximum Metrics: Maximum metrics at their respective thresholds\n",
      "\n"
     ]
    },
    {
     "data": {
      "text/html": [
       "<div style=\"overflow:auto\"><table style=\"width:50%\"><tr><td><b>metric</b></td>\n",
       "<td><b>threshold</b></td>\n",
       "<td><b>value</b></td>\n",
       "<td><b>idx</b></td></tr>\n",
       "<tr><td>max f1</td>\n",
       "<td>0.3264087</td>\n",
       "<td>0.7416520</td>\n",
       "<td>231.0</td></tr>\n",
       "<tr><td>max f2</td>\n",
       "<td>0.2662247</td>\n",
       "<td>0.7879656</td>\n",
       "<td>251.0</td></tr>\n",
       "<tr><td>max f0point5</td>\n",
       "<td>0.6655020</td>\n",
       "<td>0.8023379</td>\n",
       "<td>122.0</td></tr>\n",
       "<tr><td>max accuracy</td>\n",
       "<td>0.6655020</td>\n",
       "<td>0.8146067</td>\n",
       "<td>122.0</td></tr>\n",
       "<tr><td>max precision</td>\n",
       "<td>0.9710368</td>\n",
       "<td>1.0</td>\n",
       "<td>0.0</td></tr>\n",
       "<tr><td>max recall</td>\n",
       "<td>0.0497483</td>\n",
       "<td>1.0</td>\n",
       "<td>384.0</td></tr>\n",
       "<tr><td>max specificity</td>\n",
       "<td>0.9710368</td>\n",
       "<td>1.0</td>\n",
       "<td>0.0</td></tr>\n",
       "<tr><td>max absolute_mcc</td>\n",
       "<td>0.6655020</td>\n",
       "<td>0.6016370</td>\n",
       "<td>122.0</td></tr>\n",
       "<tr><td>max min_per_class_accuracy</td>\n",
       "<td>0.3403702</td>\n",
       "<td>0.7919463</td>\n",
       "<td>230.0</td></tr>\n",
       "<tr><td>max mean_per_class_accuracy</td>\n",
       "<td>0.3264087</td>\n",
       "<td>0.7940864</td>\n",
       "<td>231.0</td></tr></table></div>"
      ],
      "text/plain": [
       "metric                       threshold    value     idx\n",
       "---------------------------  -----------  --------  -----\n",
       "max f1                       0.326409     0.741652  231\n",
       "max f2                       0.266225     0.787966  251\n",
       "max f0point5                 0.665502     0.802338  122\n",
       "max accuracy                 0.665502     0.814607  122\n",
       "max precision                0.971037     1         0\n",
       "max recall                   0.0497483    1         384\n",
       "max specificity              0.971037     1         0\n",
       "max absolute_mcc             0.665502     0.601637  122\n",
       "max min_per_class_accuracy   0.34037      0.791946  230\n",
       "max mean_per_class_accuracy  0.326409     0.794086  231"
      ]
     },
     "metadata": {},
     "output_type": "display_data"
    },
    {
     "name": "stdout",
     "output_type": "stream",
     "text": [
      "Gains/Lift Table: Avg response rate: 37.22 %\n",
      "\n"
     ]
    },
    {
     "data": {
      "text/html": [
       "<div style=\"overflow:auto\"><table style=\"width:50%\"><tr><td><b></b></td>\n",
       "<td><b>group</b></td>\n",
       "<td><b>cumulative_data_fraction</b></td>\n",
       "<td><b>lower_threshold</b></td>\n",
       "<td><b>lift</b></td>\n",
       "<td><b>cumulative_lift</b></td>\n",
       "<td><b>response_rate</b></td>\n",
       "<td><b>cumulative_response_rate</b></td>\n",
       "<td><b>capture_rate</b></td>\n",
       "<td><b>cumulative_capture_rate</b></td>\n",
       "<td><b>gain</b></td>\n",
       "<td><b>cumulative_gain</b></td></tr>\n",
       "<tr><td></td>\n",
       "<td>1</td>\n",
       "<td>0.0112360</td>\n",
       "<td>0.9610609</td>\n",
       "<td>2.6867925</td>\n",
       "<td>2.6867925</td>\n",
       "<td>1.0</td>\n",
       "<td>1.0</td>\n",
       "<td>0.0301887</td>\n",
       "<td>0.0301887</td>\n",
       "<td>168.6792453</td>\n",
       "<td>168.6792453</td></tr>\n",
       "<tr><td></td>\n",
       "<td>2</td>\n",
       "<td>0.0210674</td>\n",
       "<td>0.9552300</td>\n",
       "<td>2.6867925</td>\n",
       "<td>2.6867925</td>\n",
       "<td>1.0</td>\n",
       "<td>1.0</td>\n",
       "<td>0.0264151</td>\n",
       "<td>0.0566038</td>\n",
       "<td>168.6792453</td>\n",
       "<td>168.6792453</td></tr>\n",
       "<tr><td></td>\n",
       "<td>3</td>\n",
       "<td>0.0308989</td>\n",
       "<td>0.9519189</td>\n",
       "<td>2.6867925</td>\n",
       "<td>2.6867925</td>\n",
       "<td>1.0</td>\n",
       "<td>1.0</td>\n",
       "<td>0.0264151</td>\n",
       "<td>0.0830189</td>\n",
       "<td>168.6792453</td>\n",
       "<td>168.6792453</td></tr>\n",
       "<tr><td></td>\n",
       "<td>4</td>\n",
       "<td>0.0407303</td>\n",
       "<td>0.9421320</td>\n",
       "<td>2.6867925</td>\n",
       "<td>2.6867925</td>\n",
       "<td>1.0</td>\n",
       "<td>1.0</td>\n",
       "<td>0.0264151</td>\n",
       "<td>0.1094340</td>\n",
       "<td>168.6792453</td>\n",
       "<td>168.6792453</td></tr>\n",
       "<tr><td></td>\n",
       "<td>5</td>\n",
       "<td>0.0505618</td>\n",
       "<td>0.9334337</td>\n",
       "<td>2.6867925</td>\n",
       "<td>2.6867925</td>\n",
       "<td>1.0</td>\n",
       "<td>1.0</td>\n",
       "<td>0.0264151</td>\n",
       "<td>0.1358491</td>\n",
       "<td>168.6792453</td>\n",
       "<td>168.6792453</td></tr>\n",
       "<tr><td></td>\n",
       "<td>6</td>\n",
       "<td>0.1011236</td>\n",
       "<td>0.8705719</td>\n",
       "<td>2.5375262</td>\n",
       "<td>2.6121593</td>\n",
       "<td>0.9444444</td>\n",
       "<td>0.9722222</td>\n",
       "<td>0.1283019</td>\n",
       "<td>0.2641509</td>\n",
       "<td>153.7526205</td>\n",
       "<td>161.2159329</td></tr>\n",
       "<tr><td></td>\n",
       "<td>7</td>\n",
       "<td>0.1502809</td>\n",
       "<td>0.7799310</td>\n",
       "<td>2.6100270</td>\n",
       "<td>2.6114618</td>\n",
       "<td>0.9714286</td>\n",
       "<td>0.9719626</td>\n",
       "<td>0.1283019</td>\n",
       "<td>0.3924528</td>\n",
       "<td>161.0026954</td>\n",
       "<td>161.1461823</td></tr>\n",
       "<tr><td></td>\n",
       "<td>8</td>\n",
       "<td>0.2008427</td>\n",
       "<td>0.7067333</td>\n",
       "<td>1.9404612</td>\n",
       "<td>2.4425386</td>\n",
       "<td>0.7222222</td>\n",
       "<td>0.9090909</td>\n",
       "<td>0.0981132</td>\n",
       "<td>0.4905660</td>\n",
       "<td>94.0461216</td>\n",
       "<td>144.2538593</td></tr>\n",
       "<tr><td></td>\n",
       "<td>9</td>\n",
       "<td>0.3005618</td>\n",
       "<td>0.5934800</td>\n",
       "<td>1.5515280</td>\n",
       "<td>2.1469229</td>\n",
       "<td>0.5774648</td>\n",
       "<td>0.7990654</td>\n",
       "<td>0.1547170</td>\n",
       "<td>0.6452830</td>\n",
       "<td>55.1528036</td>\n",
       "<td>114.6922941</td></tr>\n",
       "<tr><td></td>\n",
       "<td>10</td>\n",
       "<td>0.4002809</td>\n",
       "<td>0.4039384</td>\n",
       "<td>1.1731066</td>\n",
       "<td>1.9043231</td>\n",
       "<td>0.4366197</td>\n",
       "<td>0.7087719</td>\n",
       "<td>0.1169811</td>\n",
       "<td>0.7622642</td>\n",
       "<td>17.3106564</td>\n",
       "<td>90.4323072</td></tr>\n",
       "<tr><td></td>\n",
       "<td>11</td>\n",
       "<td>0.5</td>\n",
       "<td>0.2226229</td>\n",
       "<td>0.6811587</td>\n",
       "<td>1.6603774</td>\n",
       "<td>0.2535211</td>\n",
       "<td>0.6179775</td>\n",
       "<td>0.0679245</td>\n",
       "<td>0.8301887</td>\n",
       "<td>-31.8841350</td>\n",
       "<td>66.0377358</td></tr>\n",
       "<tr><td></td>\n",
       "<td>12</td>\n",
       "<td>0.5997191</td>\n",
       "<td>0.1387461</td>\n",
       "<td>0.4919479</td>\n",
       "<td>1.4660952</td>\n",
       "<td>0.1830986</td>\n",
       "<td>0.5456674</td>\n",
       "<td>0.0490566</td>\n",
       "<td>0.8792453</td>\n",
       "<td>-50.8052086</td>\n",
       "<td>46.6095179</td></tr>\n",
       "<tr><td></td>\n",
       "<td>13</td>\n",
       "<td>0.7022472</td>\n",
       "<td>0.1172022</td>\n",
       "<td>0.2944430</td>\n",
       "<td>1.2950340</td>\n",
       "<td>0.1095890</td>\n",
       "<td>0.482</td>\n",
       "<td>0.0301887</td>\n",
       "<td>0.9094340</td>\n",
       "<td>-70.5556991</td>\n",
       "<td>29.5033962</td></tr>\n",
       "<tr><td></td>\n",
       "<td>14</td>\n",
       "<td>0.7991573</td>\n",
       "<td>0.0923965</td>\n",
       "<td>0.3115122</td>\n",
       "<td>1.1757668</td>\n",
       "<td>0.1159420</td>\n",
       "<td>0.4376098</td>\n",
       "<td>0.0301887</td>\n",
       "<td>0.9396226</td>\n",
       "<td>-68.8487832</td>\n",
       "<td>17.5766820</td></tr>\n",
       "<tr><td></td>\n",
       "<td>15</td>\n",
       "<td>0.8988764</td>\n",
       "<td>0.0763351</td>\n",
       "<td>0.4541058</td>\n",
       "<td>1.0957075</td>\n",
       "<td>0.1690141</td>\n",
       "<td>0.4078125</td>\n",
       "<td>0.0452830</td>\n",
       "<td>0.9849057</td>\n",
       "<td>-54.5894233</td>\n",
       "<td>9.5707547</td></tr>\n",
       "<tr><td></td>\n",
       "<td>16</td>\n",
       "<td>1.0</td>\n",
       "<td>0.0101444</td>\n",
       "<td>0.1492662</td>\n",
       "<td>1.0</td>\n",
       "<td>0.0555556</td>\n",
       "<td>0.3721910</td>\n",
       "<td>0.0150943</td>\n",
       "<td>1.0</td>\n",
       "<td>-85.0733753</td>\n",
       "<td>0.0</td></tr></table></div>"
      ],
      "text/plain": [
       "    group    cumulative_data_fraction    lower_threshold    lift      cumulative_lift    response_rate    cumulative_response_rate    capture_rate    cumulative_capture_rate    gain      cumulative_gain\n",
       "--  -------  --------------------------  -----------------  --------  -----------------  ---------------  --------------------------  --------------  -------------------------  --------  -----------------\n",
       "    1        0.011236                    0.961061           2.68679   2.68679            1                1                           0.0301887       0.0301887                  168.679   168.679\n",
       "    2        0.0210674                   0.95523            2.68679   2.68679            1                1                           0.0264151       0.0566038                  168.679   168.679\n",
       "    3        0.0308989                   0.951919           2.68679   2.68679            1                1                           0.0264151       0.0830189                  168.679   168.679\n",
       "    4        0.0407303                   0.942132           2.68679   2.68679            1                1                           0.0264151       0.109434                   168.679   168.679\n",
       "    5        0.0505618                   0.933434           2.68679   2.68679            1                1                           0.0264151       0.135849                   168.679   168.679\n",
       "    6        0.101124                    0.870572           2.53753   2.61216            0.944444         0.972222                    0.128302        0.264151                   153.753   161.216\n",
       "    7        0.150281                    0.779931           2.61003   2.61146            0.971429         0.971963                    0.128302        0.392453                   161.003   161.146\n",
       "    8        0.200843                    0.706733           1.94046   2.44254            0.722222         0.909091                    0.0981132       0.490566                   94.0461   144.254\n",
       "    9        0.300562                    0.59348            1.55153   2.14692            0.577465         0.799065                    0.154717        0.645283                   55.1528   114.692\n",
       "    10       0.400281                    0.403938           1.17311   1.90432            0.43662          0.708772                    0.116981        0.762264                   17.3107   90.4323\n",
       "    11       0.5                         0.222623           0.681159  1.66038            0.253521         0.617978                    0.0679245       0.830189                   -31.8841  66.0377\n",
       "    12       0.599719                    0.138746           0.491948  1.4661             0.183099         0.545667                    0.0490566       0.879245                   -50.8052  46.6095\n",
       "    13       0.702247                    0.117202           0.294443  1.29503            0.109589         0.482                       0.0301887       0.909434                   -70.5557  29.5034\n",
       "    14       0.799157                    0.0923965          0.311512  1.17577            0.115942         0.43761                     0.0301887       0.939623                   -68.8488  17.5767\n",
       "    15       0.898876                    0.0763351          0.454106  1.09571            0.169014         0.407813                    0.045283        0.984906                   -54.5894  9.57075\n",
       "    16       1                           0.0101444          0.149266  1                  0.0555556        0.372191                    0.0150943       1                          -85.0734  0"
      ]
     },
     "metadata": {},
     "output_type": "display_data"
    },
    {
     "name": "stdout",
     "output_type": "stream",
     "text": [
      "\n",
      "Scoring History: \n"
     ]
    },
    {
     "data": {
      "text/html": [
       "<div style=\"overflow:auto\"><table style=\"width:50%\"><tr><td><b></b></td>\n",
       "<td><b>timestamp</b></td>\n",
       "<td><b>duration</b></td>\n",
       "<td><b>iteration</b></td>\n",
       "<td><b>negative_log_likelihood</b></td>\n",
       "<td><b>objective</b></td></tr>\n",
       "<tr><td></td>\n",
       "<td>2017-02-24 14:57:12</td>\n",
       "<td> 0.000 sec</td>\n",
       "<td>0</td>\n",
       "<td>469.9993772</td>\n",
       "<td>0.6601115</td></tr>\n",
       "<tr><td></td>\n",
       "<td>2017-02-24 14:57:12</td>\n",
       "<td> 0.024 sec</td>\n",
       "<td>1</td>\n",
       "<td>319.4025691</td>\n",
       "<td>0.4494054</td></tr>\n",
       "<tr><td></td>\n",
       "<td>2017-02-24 14:57:12</td>\n",
       "<td> 0.028 sec</td>\n",
       "<td>2</td>\n",
       "<td>311.1902527</td>\n",
       "<td>0.4382131</td></tr>\n",
       "<tr><td></td>\n",
       "<td>2017-02-24 14:57:12</td>\n",
       "<td> 0.030 sec</td>\n",
       "<td>3</td>\n",
       "<td>310.8603386</td>\n",
       "<td>0.4378358</td></tr>\n",
       "<tr><td></td>\n",
       "<td>2017-02-24 14:57:12</td>\n",
       "<td> 0.033 sec</td>\n",
       "<td>4</td>\n",
       "<td>310.8571549</td>\n",
       "<td>0.4378367</td></tr></table></div>"
      ],
      "text/plain": [
       "    timestamp            duration    iteration    negative_log_likelihood    objective\n",
       "--  -------------------  ----------  -----------  -------------------------  -----------\n",
       "    2017-02-24 14:57:12  0.000 sec   0            469.999                    0.660111\n",
       "    2017-02-24 14:57:12  0.024 sec   1            319.403                    0.449405\n",
       "    2017-02-24 14:57:12  0.028 sec   2            311.19                     0.438213\n",
       "    2017-02-24 14:57:12  0.030 sec   3            310.86                     0.437836\n",
       "    2017-02-24 14:57:12  0.033 sec   4            310.857                    0.437837"
      ]
     },
     "metadata": {},
     "output_type": "display_data"
    },
    {
     "data": {
      "text/plain": []
     },
     "execution_count": 30,
     "metadata": {},
     "output_type": "execute_result"
    }
   ],
   "source": [
    "# Check the model performance on training dataset\n",
    "glm_default"
   ]
  },
  {
   "cell_type": "code",
   "execution_count": 31,
   "metadata": {
    "collapsed": false
   },
   "outputs": [
    {
     "name": "stdout",
     "output_type": "stream",
     "text": [
      "\n",
      "ModelMetricsBinomialGLM: glm\n",
      "** Reported on test data. **\n",
      "\n",
      "MSE: 0.14604424271085578\n",
      "RMSE: 0.38215735333872064\n",
      "LogLoss: 0.46125694368411685\n",
      "Null degrees of freedom: 178\n",
      "Residual degrees of freedom: 167\n",
      "Null deviance: 247.17154578244123\n",
      "Residual deviance: 165.12998583891383\n",
      "AIC: 189.12998583891383\n",
      "AUC: 0.8584797555385791\n",
      "Gini: 0.7169595110771583\n",
      "Confusion Matrix (Act/Pred) for max f1 @ threshold = 0.6037543251670895: \n"
     ]
    },
    {
     "data": {
      "text/html": [
       "<div style=\"overflow:auto\"><table style=\"width:50%\"><tr><td><b></b></td>\n",
       "<td><b>0</b></td>\n",
       "<td><b>1</b></td>\n",
       "<td><b>Error</b></td>\n",
       "<td><b>Rate</b></td></tr>\n",
       "<tr><td>0</td>\n",
       "<td>96.0</td>\n",
       "<td>6.0</td>\n",
       "<td>0.0588</td>\n",
       "<td> (6.0/102.0)</td></tr>\n",
       "<tr><td>1</td>\n",
       "<td>24.0</td>\n",
       "<td>53.0</td>\n",
       "<td>0.3117</td>\n",
       "<td> (24.0/77.0)</td></tr>\n",
       "<tr><td>Total</td>\n",
       "<td>120.0</td>\n",
       "<td>59.0</td>\n",
       "<td>0.1676</td>\n",
       "<td> (30.0/179.0)</td></tr></table></div>"
      ],
      "text/plain": [
       "       0    1    Error    Rate\n",
       "-----  ---  ---  -------  ------------\n",
       "0      96   6    0.0588   (6.0/102.0)\n",
       "1      24   53   0.3117   (24.0/77.0)\n",
       "Total  120  59   0.1676   (30.0/179.0)"
      ]
     },
     "metadata": {},
     "output_type": "display_data"
    },
    {
     "name": "stdout",
     "output_type": "stream",
     "text": [
      "Maximum Metrics: Maximum metrics at their respective thresholds\n",
      "\n"
     ]
    },
    {
     "data": {
      "text/html": [
       "<div style=\"overflow:auto\"><table style=\"width:50%\"><tr><td><b>metric</b></td>\n",
       "<td><b>threshold</b></td>\n",
       "<td><b>value</b></td>\n",
       "<td><b>idx</b></td></tr>\n",
       "<tr><td>max f1</td>\n",
       "<td>0.6037543</td>\n",
       "<td>0.7794118</td>\n",
       "<td>55.0</td></tr>\n",
       "<tr><td>max f2</td>\n",
       "<td>0.1357796</td>\n",
       "<td>0.8391608</td>\n",
       "<td>113.0</td></tr>\n",
       "<tr><td>max f0point5</td>\n",
       "<td>0.6037543</td>\n",
       "<td>0.8466454</td>\n",
       "<td>55.0</td></tr>\n",
       "<tr><td>max accuracy</td>\n",
       "<td>0.6037543</td>\n",
       "<td>0.8324022</td>\n",
       "<td>55.0</td></tr>\n",
       "<tr><td>max precision</td>\n",
       "<td>0.8170662</td>\n",
       "<td>0.9629630</td>\n",
       "<td>26.0</td></tr>\n",
       "<tr><td>max recall</td>\n",
       "<td>0.0628163</td>\n",
       "<td>1.0</td>\n",
       "<td>153.0</td></tr>\n",
       "<tr><td>max specificity</td>\n",
       "<td>0.9715229</td>\n",
       "<td>0.9901961</td>\n",
       "<td>0.0</td></tr>\n",
       "<tr><td>max absolute_mcc</td>\n",
       "<td>0.6037543</td>\n",
       "<td>0.6630044</td>\n",
       "<td>55.0</td></tr>\n",
       "<tr><td>max min_per_class_accuracy</td>\n",
       "<td>0.4656981</td>\n",
       "<td>0.7532468</td>\n",
       "<td>73.0</td></tr>\n",
       "<tr><td>max mean_per_class_accuracy</td>\n",
       "<td>0.6037543</td>\n",
       "<td>0.8147441</td>\n",
       "<td>55.0</td></tr></table></div>"
      ],
      "text/plain": [
       "metric                       threshold    value     idx\n",
       "---------------------------  -----------  --------  -----\n",
       "max f1                       0.603754     0.779412  55\n",
       "max f2                       0.13578      0.839161  113\n",
       "max f0point5                 0.603754     0.846645  55\n",
       "max accuracy                 0.603754     0.832402  55\n",
       "max precision                0.817066     0.962963  26\n",
       "max recall                   0.0628163    1         153\n",
       "max specificity              0.971523     0.990196  0\n",
       "max absolute_mcc             0.603754     0.663004  55\n",
       "max min_per_class_accuracy   0.465698     0.753247  73\n",
       "max mean_per_class_accuracy  0.603754     0.814744  55"
      ]
     },
     "metadata": {},
     "output_type": "display_data"
    },
    {
     "name": "stdout",
     "output_type": "stream",
     "text": [
      "Gains/Lift Table: Avg response rate: 43.02 %\n",
      "\n"
     ]
    },
    {
     "data": {
      "text/html": [
       "<div style=\"overflow:auto\"><table style=\"width:50%\"><tr><td><b></b></td>\n",
       "<td><b>group</b></td>\n",
       "<td><b>cumulative_data_fraction</b></td>\n",
       "<td><b>lower_threshold</b></td>\n",
       "<td><b>lift</b></td>\n",
       "<td><b>cumulative_lift</b></td>\n",
       "<td><b>response_rate</b></td>\n",
       "<td><b>cumulative_response_rate</b></td>\n",
       "<td><b>capture_rate</b></td>\n",
       "<td><b>cumulative_capture_rate</b></td>\n",
       "<td><b>gain</b></td>\n",
       "<td><b>cumulative_gain</b></td></tr>\n",
       "<tr><td></td>\n",
       "<td>1</td>\n",
       "<td>0.0111732</td>\n",
       "<td>0.9640618</td>\n",
       "<td>1.1623377</td>\n",
       "<td>1.1623377</td>\n",
       "<td>0.5</td>\n",
       "<td>0.5</td>\n",
       "<td>0.0129870</td>\n",
       "<td>0.0129870</td>\n",
       "<td>16.2337662</td>\n",
       "<td>16.2337662</td></tr>\n",
       "<tr><td></td>\n",
       "<td>2</td>\n",
       "<td>0.0223464</td>\n",
       "<td>0.9548586</td>\n",
       "<td>2.3246753</td>\n",
       "<td>1.7435065</td>\n",
       "<td>1.0</td>\n",
       "<td>0.75</td>\n",
       "<td>0.0259740</td>\n",
       "<td>0.0389610</td>\n",
       "<td>132.4675325</td>\n",
       "<td>74.3506494</td></tr>\n",
       "<tr><td></td>\n",
       "<td>3</td>\n",
       "<td>0.0335196</td>\n",
       "<td>0.9467517</td>\n",
       "<td>2.3246753</td>\n",
       "<td>1.9372294</td>\n",
       "<td>1.0</td>\n",
       "<td>0.8333333</td>\n",
       "<td>0.0259740</td>\n",
       "<td>0.0649351</td>\n",
       "<td>132.4675325</td>\n",
       "<td>93.7229437</td></tr>\n",
       "<tr><td></td>\n",
       "<td>4</td>\n",
       "<td>0.0446927</td>\n",
       "<td>0.9327764</td>\n",
       "<td>2.3246753</td>\n",
       "<td>2.0340909</td>\n",
       "<td>1.0</td>\n",
       "<td>0.875</td>\n",
       "<td>0.0259740</td>\n",
       "<td>0.0909091</td>\n",
       "<td>132.4675325</td>\n",
       "<td>103.4090909</td></tr>\n",
       "<tr><td></td>\n",
       "<td>5</td>\n",
       "<td>0.0502793</td>\n",
       "<td>0.9178485</td>\n",
       "<td>2.3246753</td>\n",
       "<td>2.0663781</td>\n",
       "<td>1.0</td>\n",
       "<td>0.8888889</td>\n",
       "<td>0.0129870</td>\n",
       "<td>0.1038961</td>\n",
       "<td>132.4675325</td>\n",
       "<td>106.6378066</td></tr>\n",
       "<tr><td></td>\n",
       "<td>6</td>\n",
       "<td>0.1005587</td>\n",
       "<td>0.8898986</td>\n",
       "<td>2.3246753</td>\n",
       "<td>2.1955267</td>\n",
       "<td>1.0</td>\n",
       "<td>0.9444444</td>\n",
       "<td>0.1168831</td>\n",
       "<td>0.2207792</td>\n",
       "<td>132.4675325</td>\n",
       "<td>119.5526696</td></tr>\n",
       "<tr><td></td>\n",
       "<td>7</td>\n",
       "<td>0.1508380</td>\n",
       "<td>0.8139070</td>\n",
       "<td>2.3246753</td>\n",
       "<td>2.2385762</td>\n",
       "<td>1.0</td>\n",
       "<td>0.9629630</td>\n",
       "<td>0.1168831</td>\n",
       "<td>0.3376623</td>\n",
       "<td>132.4675325</td>\n",
       "<td>123.8576239</td></tr>\n",
       "<tr><td></td>\n",
       "<td>8</td>\n",
       "<td>0.2011173</td>\n",
       "<td>0.7735290</td>\n",
       "<td>2.0663781</td>\n",
       "<td>2.1955267</td>\n",
       "<td>0.8888889</td>\n",
       "<td>0.9444444</td>\n",
       "<td>0.1038961</td>\n",
       "<td>0.4415584</td>\n",
       "<td>106.6378066</td>\n",
       "<td>119.5526696</td></tr>\n",
       "<tr><td></td>\n",
       "<td>9</td>\n",
       "<td>0.3016760</td>\n",
       "<td>0.6387205</td>\n",
       "<td>1.8080808</td>\n",
       "<td>2.0663781</td>\n",
       "<td>0.7777778</td>\n",
       "<td>0.8888889</td>\n",
       "<td>0.1818182</td>\n",
       "<td>0.6233766</td>\n",
       "<td>80.8080808</td>\n",
       "<td>106.6378066</td></tr>\n",
       "<tr><td></td>\n",
       "<td>10</td>\n",
       "<td>0.4022346</td>\n",
       "<td>0.4916867</td>\n",
       "<td>1.0331890</td>\n",
       "<td>1.8080808</td>\n",
       "<td>0.4444444</td>\n",
       "<td>0.7777778</td>\n",
       "<td>0.1038961</td>\n",
       "<td>0.7272727</td>\n",
       "<td>3.3189033</td>\n",
       "<td>80.8080808</td></tr>\n",
       "<tr><td></td>\n",
       "<td>11</td>\n",
       "<td>0.5027933</td>\n",
       "<td>0.3361618</td>\n",
       "<td>0.7748918</td>\n",
       "<td>1.6014430</td>\n",
       "<td>0.3333333</td>\n",
       "<td>0.6888889</td>\n",
       "<td>0.0779221</td>\n",
       "<td>0.8051948</td>\n",
       "<td>-22.5108225</td>\n",
       "<td>60.1443001</td></tr>\n",
       "<tr><td></td>\n",
       "<td>12</td>\n",
       "<td>0.5977654</td>\n",
       "<td>0.2088974</td>\n",
       "<td>0.8204736</td>\n",
       "<td>1.4773638</td>\n",
       "<td>0.3529412</td>\n",
       "<td>0.6355140</td>\n",
       "<td>0.0779221</td>\n",
       "<td>0.8831169</td>\n",
       "<td>-17.9526356</td>\n",
       "<td>47.7363758</td></tr>\n",
       "<tr><td></td>\n",
       "<td>13</td>\n",
       "<td>0.6983240</td>\n",
       "<td>0.1276819</td>\n",
       "<td>0.5165945</td>\n",
       "<td>1.3390130</td>\n",
       "<td>0.2222222</td>\n",
       "<td>0.576</td>\n",
       "<td>0.0519481</td>\n",
       "<td>0.9350649</td>\n",
       "<td>-48.3405483</td>\n",
       "<td>33.9012987</td></tr>\n",
       "<tr><td></td>\n",
       "<td>14</td>\n",
       "<td>0.7988827</td>\n",
       "<td>0.1089369</td>\n",
       "<td>0.0</td>\n",
       "<td>1.1704659</td>\n",
       "<td>0.0</td>\n",
       "<td>0.5034965</td>\n",
       "<td>0.0</td>\n",
       "<td>0.9350649</td>\n",
       "<td>-100.0</td>\n",
       "<td>17.0465898</td></tr>\n",
       "<tr><td></td>\n",
       "<td>15</td>\n",
       "<td>0.8994413</td>\n",
       "<td>0.0820554</td>\n",
       "<td>0.3874459</td>\n",
       "<td>1.0829233</td>\n",
       "<td>0.1666667</td>\n",
       "<td>0.4658385</td>\n",
       "<td>0.0389610</td>\n",
       "<td>0.9740260</td>\n",
       "<td>-61.2554113</td>\n",
       "<td>8.2923288</td></tr>\n",
       "<tr><td></td>\n",
       "<td>16</td>\n",
       "<td>1.0</td>\n",
       "<td>0.0302597</td>\n",
       "<td>0.2582973</td>\n",
       "<td>1.0</td>\n",
       "<td>0.1111111</td>\n",
       "<td>0.4301676</td>\n",
       "<td>0.0259740</td>\n",
       "<td>1.0</td>\n",
       "<td>-74.1702742</td>\n",
       "<td>0.0</td></tr></table></div>"
      ],
      "text/plain": [
       "    group    cumulative_data_fraction    lower_threshold    lift      cumulative_lift    response_rate    cumulative_response_rate    capture_rate    cumulative_capture_rate    gain      cumulative_gain\n",
       "--  -------  --------------------------  -----------------  --------  -----------------  ---------------  --------------------------  --------------  -------------------------  --------  -----------------\n",
       "    1        0.0111732                   0.964062           1.16234   1.16234            0.5              0.5                         0.012987        0.012987                   16.2338   16.2338\n",
       "    2        0.0223464                   0.954859           2.32468   1.74351            1                0.75                        0.025974        0.038961                   132.468   74.3506\n",
       "    3        0.0335196                   0.946752           2.32468   1.93723            1                0.833333                    0.025974        0.0649351                  132.468   93.7229\n",
       "    4        0.0446927                   0.932776           2.32468   2.03409            1                0.875                       0.025974        0.0909091                  132.468   103.409\n",
       "    5        0.0502793                   0.917848           2.32468   2.06638            1                0.888889                    0.012987        0.103896                   132.468   106.638\n",
       "    6        0.100559                    0.889899           2.32468   2.19553            1                0.944444                    0.116883        0.220779                   132.468   119.553\n",
       "    7        0.150838                    0.813907           2.32468   2.23858            1                0.962963                    0.116883        0.337662                   132.468   123.858\n",
       "    8        0.201117                    0.773529           2.06638   2.19553            0.888889         0.944444                    0.103896        0.441558                   106.638   119.553\n",
       "    9        0.301676                    0.638721           1.80808   2.06638            0.777778         0.888889                    0.181818        0.623377                   80.8081   106.638\n",
       "    10       0.402235                    0.491687           1.03319   1.80808            0.444444         0.777778                    0.103896        0.727273                   3.3189    80.8081\n",
       "    11       0.502793                    0.336162           0.774892  1.60144            0.333333         0.688889                    0.0779221       0.805195                   -22.5108  60.1443\n",
       "    12       0.597765                    0.208897           0.820474  1.47736            0.352941         0.635514                    0.0779221       0.883117                   -17.9526  47.7364\n",
       "    13       0.698324                    0.127682           0.516595  1.33901            0.222222         0.576                       0.0519481       0.935065                   -48.3405  33.9013\n",
       "    14       0.798883                    0.108937           0         1.17047            0                0.503497                    0               0.935065                   -100      17.0466\n",
       "    15       0.899441                    0.0820554          0.387446  1.08292            0.166667         0.465839                    0.038961        0.974026                   -61.2554  8.29233\n",
       "    16       1                           0.0302597          0.258297  1                  0.111111         0.430168                    0.025974        1                          -74.1703  0"
      ]
     },
     "metadata": {},
     "output_type": "display_data"
    },
    {
     "name": "stdout",
     "output_type": "stream",
     "text": [
      "\n"
     ]
    },
    {
     "data": {
      "text/plain": []
     },
     "execution_count": 31,
     "metadata": {},
     "output_type": "execute_result"
    }
   ],
   "source": [
    "# Check the model performance on test dataset\n",
    "glm_default.model_performance(titanic_test)"
   ]
  },
  {
   "cell_type": "markdown",
   "metadata": {
    "collapsed": true
   },
   "source": [
    "<br>\n",
    "\n",
    "## Distributed Random Forest"
   ]
  },
  {
   "cell_type": "code",
   "execution_count": 10,
   "metadata": {
    "collapsed": false
   },
   "outputs": [
    {
     "name": "stdout",
     "output_type": "stream",
     "text": [
      "drf Model Build progress: |███████████████████████████████████████████████| 100%\n"
     ]
    }
   ],
   "source": [
    "# Build a Distributed Random Forest (DRF) model with default settings\n",
    "\n",
    "# Import the function for DRF\n",
    "from h2o.estimators.random_forest import H2ORandomForestEstimator\n",
    "\n",
    "# Set up DRF for regression\n",
    "# Add a seed for reproducibility\n",
    "drf_default = H2ORandomForestEstimator(model_id = 'drf_default', seed = 1234)\n",
    "\n",
    "# Use .train() to build the model\n",
    "drf_default.train(x = features, \n",
    "                  y = 'quality', \n",
    "                  training_frame = wine_train)"
   ]
  },
  {
   "cell_type": "code",
   "execution_count": 11,
   "metadata": {
    "collapsed": false
   },
   "outputs": [
    {
     "name": "stdout",
     "output_type": "stream",
     "text": [
      "Model Details\n",
      "=============\n",
      "H2ORandomForestEstimator :  Distributed Random Forest\n",
      "Model Key:  drf_default\n",
      "\n",
      "\n",
      "ModelMetricsRegression: drf\n",
      "** Reported on train data. **\n",
      "\n",
      "MSE: 0.3786311991201336\n",
      "RMSE: 0.615330154567557\n",
      "MAE: 0.4423354990678668\n",
      "RMSLE: 0.09221859689553939\n",
      "Mean Residual Deviance: 0.3786311991201336\n",
      "Scoring History: \n"
     ]
    },
    {
     "data": {
      "text/html": [
       "<div style=\"overflow:auto\"><table style=\"width:50%\"><tr><td><b></b></td>\n",
       "<td><b>timestamp</b></td>\n",
       "<td><b>duration</b></td>\n",
       "<td><b>number_of_trees</b></td>\n",
       "<td><b>training_rmse</b></td>\n",
       "<td><b>training_mae</b></td>\n",
       "<td><b>training_deviance</b></td></tr>\n",
       "<tr><td></td>\n",
       "<td>2017-02-24 14:29:03</td>\n",
       "<td> 0.010 sec</td>\n",
       "<td>0.0</td>\n",
       "<td>nan</td>\n",
       "<td>nan</td>\n",
       "<td>nan</td></tr>\n",
       "<tr><td></td>\n",
       "<td>2017-02-24 14:29:03</td>\n",
       "<td> 0.279 sec</td>\n",
       "<td>1.0</td>\n",
       "<td>0.9087144</td>\n",
       "<td>0.5780743</td>\n",
       "<td>0.8257618</td></tr>\n",
       "<tr><td></td>\n",
       "<td>2017-02-24 14:29:04</td>\n",
       "<td> 0.354 sec</td>\n",
       "<td>2.0</td>\n",
       "<td>0.8919799</td>\n",
       "<td>0.5738643</td>\n",
       "<td>0.7956282</td></tr>\n",
       "<tr><td></td>\n",
       "<td>2017-02-24 14:29:04</td>\n",
       "<td> 0.413 sec</td>\n",
       "<td>3.0</td>\n",
       "<td>0.8502710</td>\n",
       "<td>0.5492569</td>\n",
       "<td>0.7229608</td></tr>\n",
       "<tr><td></td>\n",
       "<td>2017-02-24 14:29:04</td>\n",
       "<td> 0.469 sec</td>\n",
       "<td>4.0</td>\n",
       "<td>0.8352497</td>\n",
       "<td>0.5485249</td>\n",
       "<td>0.6976421</td></tr>\n",
       "<tr><td>---</td>\n",
       "<td>---</td>\n",
       "<td>---</td>\n",
       "<td>---</td>\n",
       "<td>---</td>\n",
       "<td>---</td>\n",
       "<td>---</td></tr>\n",
       "<tr><td></td>\n",
       "<td>2017-02-24 14:29:05</td>\n",
       "<td> 1.848 sec</td>\n",
       "<td>46.0</td>\n",
       "<td>0.6177766</td>\n",
       "<td>0.4440441</td>\n",
       "<td>0.3816479</td></tr>\n",
       "<tr><td></td>\n",
       "<td>2017-02-24 14:29:05</td>\n",
       "<td> 1.870 sec</td>\n",
       "<td>47.0</td>\n",
       "<td>0.6170476</td>\n",
       "<td>0.4438940</td>\n",
       "<td>0.3807478</td></tr>\n",
       "<tr><td></td>\n",
       "<td>2017-02-24 14:29:05</td>\n",
       "<td> 1.890 sec</td>\n",
       "<td>48.0</td>\n",
       "<td>0.6163446</td>\n",
       "<td>0.4433232</td>\n",
       "<td>0.3798807</td></tr>\n",
       "<tr><td></td>\n",
       "<td>2017-02-24 14:29:05</td>\n",
       "<td> 1.912 sec</td>\n",
       "<td>49.0</td>\n",
       "<td>0.6162188</td>\n",
       "<td>0.4431046</td>\n",
       "<td>0.3797256</td></tr>\n",
       "<tr><td></td>\n",
       "<td>2017-02-24 14:29:05</td>\n",
       "<td> 1.929 sec</td>\n",
       "<td>50.0</td>\n",
       "<td>0.6153302</td>\n",
       "<td>0.4423355</td>\n",
       "<td>0.3786312</td></tr></table></div>"
      ],
      "text/plain": [
       "     timestamp            duration    number_of_trees    training_rmse       training_mae         training_deviance\n",
       "---  -------------------  ----------  -----------------  ------------------  -------------------  -------------------\n",
       "     2017-02-24 14:29:03  0.010 sec   0.0                nan                 nan                  nan\n",
       "     2017-02-24 14:29:03  0.279 sec   1.0                0.9087143516225863  0.5780742671604535   0.8257617728448574\n",
       "     2017-02-24 14:29:04  0.354 sec   2.0                0.8919799069891234  0.573864322524887    0.7956281544723253\n",
       "     2017-02-24 14:29:04  0.413 sec   3.0                0.8502709868108351  0.549256903017451    0.7229607510122714\n",
       "     2017-02-24 14:29:04  0.469 sec   4.0                0.8352497205219737  0.5485248781956131   0.6976420956320352\n",
       "---  ---                  ---         ---                ---                 ---                  ---\n",
       "     2017-02-24 14:29:05  1.848 sec   46.0               0.6177765896823991  0.4440441032981307   0.38164791475961535\n",
       "     2017-02-24 14:29:05  1.870 sec   47.0               0.6170476290743915  0.4438940151141739   0.3807477765463278\n",
       "     2017-02-24 14:29:05  1.890 sec   48.0               0.6163446245387679  0.44332316124622123  0.37988069619783477\n",
       "     2017-02-24 14:29:05  1.912 sec   49.0               0.6162187596445785  0.443104599103587    0.37972555973790284\n",
       "     2017-02-24 14:29:05  1.929 sec   50.0               0.615330154567557   0.4423354990678668   0.3786311991201336"
      ]
     },
     "metadata": {},
     "output_type": "display_data"
    },
    {
     "name": "stdout",
     "output_type": "stream",
     "text": [
      "\n",
      "See the whole table with table.as_data_frame()\n",
      "Variable Importances: \n"
     ]
    },
    {
     "data": {
      "text/html": [
       "<div style=\"overflow:auto\"><table style=\"width:50%\"><tr><td><b>variable</b></td>\n",
       "<td><b>relative_importance</b></td>\n",
       "<td><b>scaled_importance</b></td>\n",
       "<td><b>percentage</b></td></tr>\n",
       "<tr><td>alcohol</td>\n",
       "<td>20878.3164062</td>\n",
       "<td>1.0</td>\n",
       "<td>0.2070740</td></tr>\n",
       "<tr><td>density</td>\n",
       "<td>11681.6083984</td>\n",
       "<td>0.5595091</td>\n",
       "<td>0.1158598</td></tr>\n",
       "<tr><td>free sulfur dioxide</td>\n",
       "<td>10304.6474609</td>\n",
       "<td>0.4935574</td>\n",
       "<td>0.1022029</td></tr>\n",
       "<tr><td>volatile acidity</td>\n",
       "<td>10046.6591797</td>\n",
       "<td>0.4812006</td>\n",
       "<td>0.0996441</td></tr>\n",
       "<tr><td>total sulfur dioxide</td>\n",
       "<td>7576.9418945</td>\n",
       "<td>0.3629096</td>\n",
       "<td>0.0751491</td></tr>\n",
       "<tr><td>chlorides</td>\n",
       "<td>7170.6318359</td>\n",
       "<td>0.3434488</td>\n",
       "<td>0.0711193</td></tr>\n",
       "<tr><td>pH</td>\n",
       "<td>6974.2666016</td>\n",
       "<td>0.3340435</td>\n",
       "<td>0.0691717</td></tr>\n",
       "<tr><td>residual sugar</td>\n",
       "<td>6736.8276367</td>\n",
       "<td>0.3226710</td>\n",
       "<td>0.0668168</td></tr>\n",
       "<tr><td>fixed acidity</td>\n",
       "<td>6671.1586914</td>\n",
       "<td>0.3195257</td>\n",
       "<td>0.0661655</td></tr>\n",
       "<tr><td>citric acid</td>\n",
       "<td>6666.0361328</td>\n",
       "<td>0.3192803</td>\n",
       "<td>0.0661146</td></tr>\n",
       "<tr><td>sulphates</td>\n",
       "<td>6118.3095703</td>\n",
       "<td>0.2930461</td>\n",
       "<td>0.0606822</td></tr></table></div>"
      ],
      "text/plain": [
       "variable              relative_importance    scaled_importance    percentage\n",
       "--------------------  ---------------------  -------------------  ------------\n",
       "alcohol               20878.3                1                    0.207074\n",
       "density               11681.6                0.559509             0.11586\n",
       "free sulfur dioxide   10304.6                0.493557             0.102203\n",
       "volatile acidity      10046.7                0.481201             0.0996441\n",
       "total sulfur dioxide  7576.94                0.36291              0.0751491\n",
       "chlorides             7170.63                0.343449             0.0711193\n",
       "pH                    6974.27                0.334044             0.0691717\n",
       "residual sugar        6736.83                0.322671             0.0668168\n",
       "fixed acidity         6671.16                0.319526             0.0661655\n",
       "citric acid           6666.04                0.31928              0.0661146\n",
       "sulphates             6118.31                0.293046             0.0606822"
      ]
     },
     "metadata": {},
     "output_type": "display_data"
    },
    {
     "data": {
      "text/plain": []
     },
     "execution_count": 11,
     "metadata": {},
     "output_type": "execute_result"
    }
   ],
   "source": [
    "# Check the DRF model summary\n",
    "drf_default"
   ]
  },
  {
   "cell_type": "code",
   "execution_count": 12,
   "metadata": {
    "collapsed": false
   },
   "outputs": [
    {
     "name": "stdout",
     "output_type": "stream",
     "text": [
      "\n",
      "ModelMetricsRegression: drf\n",
      "** Reported on test data. **\n",
      "\n",
      "MSE: 0.39639765836475405\n",
      "RMSE: 0.6296011899327654\n",
      "MAE: 0.4470666172070494\n",
      "RMSLE: 0.0956471646937074\n",
      "Mean Residual Deviance: 0.39639765836475405\n"
     ]
    },
    {
     "data": {
      "text/plain": []
     },
     "execution_count": 12,
     "metadata": {},
     "output_type": "execute_result"
    }
   ],
   "source": [
    "# Check the model performance on test dataset\n",
    "drf_default.model_performance(wine_test)"
   ]
  },
  {
   "cell_type": "markdown",
   "metadata": {
    "collapsed": true
   },
   "source": [
    "<br>\n",
    "\n",
    "## Gradient Boosting Machines"
   ]
  },
  {
   "cell_type": "code",
   "execution_count": 13,
   "metadata": {
    "collapsed": false
   },
   "outputs": [
    {
     "name": "stdout",
     "output_type": "stream",
     "text": [
      "gbm Model Build progress: |███████████████████████████████████████████████| 100%\n"
     ]
    }
   ],
   "source": [
    "# Build a Gradient Boosting Machines (GBM) model with default settings\n",
    "\n",
    "# Import the function for GBM\n",
    "from h2o.estimators.gbm import H2OGradientBoostingEstimator\n",
    "\n",
    "# Set up GBM for regression\n",
    "# Add a seed for reproducibility\n",
    "gbm_default = H2OGradientBoostingEstimator(model_id = 'gbm_default', seed = 1234)\n",
    "\n",
    "# Use .train() to build the model\n",
    "gbm_default.train(x = features, \n",
    "                  y = 'quality', \n",
    "                  training_frame = wine_train)"
   ]
  },
  {
   "cell_type": "code",
   "execution_count": 14,
   "metadata": {
    "collapsed": false
   },
   "outputs": [
    {
     "name": "stdout",
     "output_type": "stream",
     "text": [
      "Model Details\n",
      "=============\n",
      "H2OGradientBoostingEstimator :  Gradient Boosting Machine\n",
      "Model Key:  gbm_default\n",
      "\n",
      "\n",
      "ModelMetricsRegression: gbm\n",
      "** Reported on train data. **\n",
      "\n",
      "MSE: 0.3279901359237029\n",
      "RMSE: 0.5727042307541502\n",
      "MAE: 0.4468592957574494\n",
      "RMSLE: 0.08454073238229556\n",
      "Mean Residual Deviance: 0.3279901359237029\n",
      "Scoring History: \n"
     ]
    },
    {
     "data": {
      "text/html": [
       "<div style=\"overflow:auto\"><table style=\"width:50%\"><tr><td><b></b></td>\n",
       "<td><b>timestamp</b></td>\n",
       "<td><b>duration</b></td>\n",
       "<td><b>number_of_trees</b></td>\n",
       "<td><b>training_rmse</b></td>\n",
       "<td><b>training_mae</b></td>\n",
       "<td><b>training_deviance</b></td></tr>\n",
       "<tr><td></td>\n",
       "<td>2017-02-24 14:29:06</td>\n",
       "<td> 0.004 sec</td>\n",
       "<td>0.0</td>\n",
       "<td>0.8782356</td>\n",
       "<td>0.6676549</td>\n",
       "<td>0.7712978</td></tr>\n",
       "<tr><td></td>\n",
       "<td>2017-02-24 14:29:06</td>\n",
       "<td> 0.074 sec</td>\n",
       "<td>1.0</td>\n",
       "<td>0.8470435</td>\n",
       "<td>0.6414797</td>\n",
       "<td>0.7174826</td></tr>\n",
       "<tr><td></td>\n",
       "<td>2017-02-24 14:29:06</td>\n",
       "<td> 0.092 sec</td>\n",
       "<td>2.0</td>\n",
       "<td>0.8205102</td>\n",
       "<td>0.6196456</td>\n",
       "<td>0.6732370</td></tr>\n",
       "<tr><td></td>\n",
       "<td>2017-02-24 14:29:06</td>\n",
       "<td> 0.108 sec</td>\n",
       "<td>3.0</td>\n",
       "<td>0.7978752</td>\n",
       "<td>0.6061423</td>\n",
       "<td>0.6366049</td></tr>\n",
       "<tr><td></td>\n",
       "<td>2017-02-24 14:29:06</td>\n",
       "<td> 0.132 sec</td>\n",
       "<td>4.0</td>\n",
       "<td>0.7779741</td>\n",
       "<td>0.5961975</td>\n",
       "<td>0.6052437</td></tr>\n",
       "<tr><td>---</td>\n",
       "<td>---</td>\n",
       "<td>---</td>\n",
       "<td>---</td>\n",
       "<td>---</td>\n",
       "<td>---</td>\n",
       "<td>---</td></tr>\n",
       "<tr><td></td>\n",
       "<td>2017-02-24 14:29:06</td>\n",
       "<td> 0.696 sec</td>\n",
       "<td>46.0</td>\n",
       "<td>0.5786491</td>\n",
       "<td>0.4516237</td>\n",
       "<td>0.3348347</td></tr>\n",
       "<tr><td></td>\n",
       "<td>2017-02-24 14:29:06</td>\n",
       "<td> 0.705 sec</td>\n",
       "<td>47.0</td>\n",
       "<td>0.5775187</td>\n",
       "<td>0.4506466</td>\n",
       "<td>0.3335279</td></tr>\n",
       "<tr><td></td>\n",
       "<td>2017-02-24 14:29:06</td>\n",
       "<td> 0.713 sec</td>\n",
       "<td>48.0</td>\n",
       "<td>0.5770047</td>\n",
       "<td>0.4500542</td>\n",
       "<td>0.3329344</td></tr>\n",
       "<tr><td></td>\n",
       "<td>2017-02-24 14:29:06</td>\n",
       "<td> 0.721 sec</td>\n",
       "<td>49.0</td>\n",
       "<td>0.5749100</td>\n",
       "<td>0.4484259</td>\n",
       "<td>0.3305215</td></tr>\n",
       "<tr><td></td>\n",
       "<td>2017-02-24 14:29:06</td>\n",
       "<td> 0.736 sec</td>\n",
       "<td>50.0</td>\n",
       "<td>0.5727042</td>\n",
       "<td>0.4468593</td>\n",
       "<td>0.3279901</td></tr></table></div>"
      ],
      "text/plain": [
       "     timestamp            duration    number_of_trees    training_rmse       training_mae        training_deviance\n",
       "---  -------------------  ----------  -----------------  ------------------  ------------------  -------------------\n",
       "     2017-02-24 14:29:06  0.004 sec   0.0                0.8782356355971063  0.6676548833819239  0.7712978316326532\n",
       "     2017-02-24 14:29:06  0.074 sec   1.0                0.8470434709442771  0.6414797392426704  0.7174826416693284\n",
       "     2017-02-24 14:29:06  0.092 sec   2.0                0.8205102373637634  0.6196455822915446  0.6732370496187393\n",
       "     2017-02-24 14:29:06  0.108 sec   3.0                0.7978752379746723  0.6061422819993934  0.63660489537314\n",
       "     2017-02-24 14:29:06  0.132 sec   4.0                0.7779740985162299  0.596197474854333   0.6052436979621406\n",
       "---  ---                  ---         ---                ---                 ---                 ---\n",
       "     2017-02-24 14:29:06  0.696 sec   46.0               0.5786490544967252  0.4516236614207832  0.3348347282699541\n",
       "     2017-02-24 14:29:06  0.705 sec   47.0               0.5775187281296424  0.4506465823066478  0.3335278813404799\n",
       "     2017-02-24 14:29:06  0.713 sec   48.0               0.5770047083521408  0.4500542456398205  0.3329344334605391\n",
       "     2017-02-24 14:29:06  0.721 sec   49.0               0.5749100176962237  0.4484258545296533  0.33052152844747223\n",
       "     2017-02-24 14:29:06  0.736 sec   50.0               0.5727042307541502  0.4468592957574494  0.3279901359237029"
      ]
     },
     "metadata": {},
     "output_type": "display_data"
    },
    {
     "name": "stdout",
     "output_type": "stream",
     "text": [
      "\n",
      "See the whole table with table.as_data_frame()\n",
      "Variable Importances: \n"
     ]
    },
    {
     "data": {
      "text/html": [
       "<div style=\"overflow:auto\"><table style=\"width:50%\"><tr><td><b>variable</b></td>\n",
       "<td><b>relative_importance</b></td>\n",
       "<td><b>scaled_importance</b></td>\n",
       "<td><b>percentage</b></td></tr>\n",
       "<tr><td>alcohol</td>\n",
       "<td>3443.4946289</td>\n",
       "<td>1.0</td>\n",
       "<td>0.3760723</td></tr>\n",
       "<tr><td>volatile acidity</td>\n",
       "<td>1333.1967773</td>\n",
       "<td>0.3871639</td>\n",
       "<td>0.1456016</td></tr>\n",
       "<tr><td>free sulfur dioxide</td>\n",
       "<td>1227.8638916</td>\n",
       "<td>0.3565749</td>\n",
       "<td>0.1340980</td></tr>\n",
       "<tr><td>residual sugar</td>\n",
       "<td>572.8696289</td>\n",
       "<td>0.1663629</td>\n",
       "<td>0.0625645</td></tr>\n",
       "<tr><td>pH</td>\n",
       "<td>529.3963623</td>\n",
       "<td>0.1537381</td>\n",
       "<td>0.0578166</td></tr>\n",
       "<tr><td>citric acid</td>\n",
       "<td>438.0522766</td>\n",
       "<td>0.1272115</td>\n",
       "<td>0.0478407</td></tr>\n",
       "<tr><td>fixed acidity</td>\n",
       "<td>384.2873535</td>\n",
       "<td>0.1115981</td>\n",
       "<td>0.0419689</td></tr>\n",
       "<tr><td>chlorides</td>\n",
       "<td>319.1284485</td>\n",
       "<td>0.0926758</td>\n",
       "<td>0.0348528</td></tr>\n",
       "<tr><td>sulphates</td>\n",
       "<td>317.8505859</td>\n",
       "<td>0.0923047</td>\n",
       "<td>0.0347132</td></tr>\n",
       "<tr><td>total sulfur dioxide</td>\n",
       "<td>313.2650452</td>\n",
       "<td>0.0909730</td>\n",
       "<td>0.0342124</td></tr>\n",
       "<tr><td>density</td>\n",
       "<td>277.0641785</td>\n",
       "<td>0.0804602</td>\n",
       "<td>0.0302588</td></tr></table></div>"
      ],
      "text/plain": [
       "variable              relative_importance    scaled_importance    percentage\n",
       "--------------------  ---------------------  -------------------  ------------\n",
       "alcohol               3443.49                1                    0.376072\n",
       "volatile acidity      1333.2                 0.387164             0.145602\n",
       "free sulfur dioxide   1227.86                0.356575             0.134098\n",
       "residual sugar        572.87                 0.166363             0.0625645\n",
       "pH                    529.396                0.153738             0.0578166\n",
       "citric acid           438.052                0.127212             0.0478407\n",
       "fixed acidity         384.287                0.111598             0.0419689\n",
       "chlorides             319.128                0.0926758            0.0348528\n",
       "sulphates             317.851                0.0923047            0.0347132\n",
       "total sulfur dioxide  313.265                0.090973             0.0342124\n",
       "density               277.064                0.0804602            0.0302588"
      ]
     },
     "metadata": {},
     "output_type": "display_data"
    },
    {
     "data": {
      "text/plain": []
     },
     "execution_count": 14,
     "metadata": {},
     "output_type": "execute_result"
    }
   ],
   "source": [
    "# Check the GBM model summary\n",
    "gbm_default"
   ]
  },
  {
   "cell_type": "code",
   "execution_count": 15,
   "metadata": {
    "collapsed": false,
    "scrolled": true
   },
   "outputs": [
    {
     "name": "stdout",
     "output_type": "stream",
     "text": [
      "\n",
      "ModelMetricsRegression: gbm\n",
      "** Reported on test data. **\n",
      "\n",
      "MSE: 0.4982022441718445\n",
      "RMSE: 0.7058344311322907\n",
      "MAE: 0.545334849281441\n",
      "RMSLE: 0.10596392876553129\n",
      "Mean Residual Deviance: 0.4982022441718445\n"
     ]
    },
    {
     "data": {
      "text/plain": []
     },
     "execution_count": 15,
     "metadata": {},
     "output_type": "execute_result"
    }
   ],
   "source": [
    "# Check the model performance on test dataset\n",
    "gbm_default.model_performance(wine_test)"
   ]
  },
  {
   "cell_type": "markdown",
   "metadata": {},
   "source": [
    "<br>\n",
    "\n",
    "## H2O Deep Learning"
   ]
  },
  {
   "cell_type": "code",
   "execution_count": 16,
   "metadata": {
    "collapsed": false
   },
   "outputs": [
    {
     "name": "stdout",
     "output_type": "stream",
     "text": [
      "deeplearning Model Build progress: |██████████████████████████████████████| 100%\n"
     ]
    }
   ],
   "source": [
    "# Build a Deep Learning (Deep Neural Networks, DNN) model with default settings\n",
    "\n",
    "# Import the function for DNN\n",
    "from h2o.estimators.deeplearning import H2ODeepLearningEstimator\n",
    "\n",
    "# Set up DNN for regression\n",
    "dnn_default = H2ODeepLearningEstimator(model_id = 'dnn_default')\n",
    "\n",
    "# (not run) Change 'reproducible' to True if you want to reproduce the results\n",
    "# The model will be built using a single thread (could be very slow)\n",
    "# dnn_default = H2ODeepLearningEstimator(model_id = 'dnn_default', reproducible = True)\n",
    "\n",
    "# Use .train() to build the model\n",
    "dnn_default.train(x = features, \n",
    "                  y = 'quality', \n",
    "                  training_frame = wine_train)"
   ]
  },
  {
   "cell_type": "code",
   "execution_count": 17,
   "metadata": {
    "collapsed": false
   },
   "outputs": [
    {
     "name": "stdout",
     "output_type": "stream",
     "text": [
      "Model Details\n",
      "=============\n",
      "H2ODeepLearningEstimator :  Deep Learning\n",
      "Model Key:  dnn_default\n",
      "\n",
      "\n",
      "ModelMetricsRegression: deeplearning\n",
      "** Reported on train data. **\n",
      "\n",
      "MSE: 0.43786400091608246\n",
      "RMSE: 0.6617129293856079\n",
      "MAE: 0.5095157254634646\n",
      "RMSLE: 0.09753833427573282\n",
      "Mean Residual Deviance: 0.43786400091608246\n",
      "Scoring History: \n"
     ]
    },
    {
     "data": {
      "text/html": [
       "<div style=\"overflow:auto\"><table style=\"width:50%\"><tr><td><b></b></td>\n",
       "<td><b>timestamp</b></td>\n",
       "<td><b>duration</b></td>\n",
       "<td><b>training_speed</b></td>\n",
       "<td><b>epochs</b></td>\n",
       "<td><b>iterations</b></td>\n",
       "<td><b>samples</b></td>\n",
       "<td><b>training_rmse</b></td>\n",
       "<td><b>training_deviance</b></td>\n",
       "<td><b>training_mae</b></td></tr>\n",
       "<tr><td></td>\n",
       "<td>2017-02-24 14:29:07</td>\n",
       "<td> 0.000 sec</td>\n",
       "<td>None</td>\n",
       "<td>0.0</td>\n",
       "<td>0</td>\n",
       "<td>0.0</td>\n",
       "<td>nan</td>\n",
       "<td>nan</td>\n",
       "<td>nan</td></tr>\n",
       "<tr><td></td>\n",
       "<td>2017-02-24 14:29:08</td>\n",
       "<td> 1.857 sec</td>\n",
       "<td>5781 obs/sec</td>\n",
       "<td>1.0</td>\n",
       "<td>1</td>\n",
       "<td>3920.0</td>\n",
       "<td>0.7517084</td>\n",
       "<td>0.5650655</td>\n",
       "<td>0.5805199</td></tr>\n",
       "<tr><td></td>\n",
       "<td>2017-02-24 14:29:10</td>\n",
       "<td> 3.825 sec</td>\n",
       "<td>15100 obs/sec</td>\n",
       "<td>10.0</td>\n",
       "<td>10</td>\n",
       "<td>39200.0</td>\n",
       "<td>0.6617129</td>\n",
       "<td>0.4378640</td>\n",
       "<td>0.5095157</td></tr></table></div>"
      ],
      "text/plain": [
       "    timestamp            duration    training_speed    epochs    iterations    samples    training_rmse    training_deviance    training_mae\n",
       "--  -------------------  ----------  ----------------  --------  ------------  ---------  ---------------  -------------------  --------------\n",
       "    2017-02-24 14:29:07  0.000 sec                     0         0             0          nan              nan                  nan\n",
       "    2017-02-24 14:29:08  1.857 sec   5781 obs/sec      1         1             3920       0.751708         0.565065             0.58052\n",
       "    2017-02-24 14:29:10  3.825 sec   15100 obs/sec     10        10            39200      0.661713         0.437864             0.509516"
      ]
     },
     "metadata": {},
     "output_type": "display_data"
    },
    {
     "data": {
      "text/plain": []
     },
     "execution_count": 17,
     "metadata": {},
     "output_type": "execute_result"
    }
   ],
   "source": [
    "# Check the DNN model summary\n",
    "dnn_default"
   ]
  },
  {
   "cell_type": "code",
   "execution_count": 18,
   "metadata": {
    "collapsed": false
   },
   "outputs": [
    {
     "name": "stdout",
     "output_type": "stream",
     "text": [
      "\n",
      "ModelMetricsRegression: deeplearning\n",
      "** Reported on test data. **\n",
      "\n",
      "MSE: 0.5250970590349768\n",
      "RMSE: 0.7246358113114317\n",
      "MAE: 0.5599060268088915\n",
      "RMSLE: 0.10771735822508255\n",
      "Mean Residual Deviance: 0.5250970590349768\n"
     ]
    },
    {
     "data": {
      "text/plain": []
     },
     "execution_count": 18,
     "metadata": {},
     "output_type": "execute_result"
    }
   ],
   "source": [
    "# Check the model performance on test dataset\n",
    "dnn_default.model_performance(wine_test)"
   ]
  },
  {
   "cell_type": "markdown",
   "metadata": {},
   "source": [
    "<br>\n",
    "\n",
    "## Making Predictions"
   ]
  },
  {
   "cell_type": "code",
   "execution_count": 19,
   "metadata": {
    "collapsed": false
   },
   "outputs": [
    {
     "name": "stdout",
     "output_type": "stream",
     "text": [
      "glm prediction progress: |████████████████████████████████████████████████| 100%\n"
     ]
    },
    {
     "data": {
      "text/html": [
       "<table>\n",
       "<thead>\n",
       "<tr><th style=\"text-align: right;\">  predict</th></tr>\n",
       "</thead>\n",
       "<tbody>\n",
       "<tr><td style=\"text-align: right;\">  5.51509</td></tr>\n",
       "<tr><td style=\"text-align: right;\">  5.73903</td></tr>\n",
       "<tr><td style=\"text-align: right;\">  5.49107</td></tr>\n",
       "<tr><td style=\"text-align: right;\">  5.48028</td></tr>\n",
       "<tr><td style=\"text-align: right;\">  5.91343</td></tr>\n",
       "</tbody>\n",
       "</table>"
      ]
     },
     "metadata": {},
     "output_type": "display_data"
    },
    {
     "data": {
      "text/plain": []
     },
     "execution_count": 19,
     "metadata": {},
     "output_type": "execute_result"
    }
   ],
   "source": [
    "# Use GLM model to make predictions\n",
    "yhat_test_glm = glm_default.predict(wine_test)\n",
    "yhat_test_glm.head(5)"
   ]
  },
  {
   "cell_type": "code",
   "execution_count": 20,
   "metadata": {
    "collapsed": false
   },
   "outputs": [
    {
     "name": "stdout",
     "output_type": "stream",
     "text": [
      "drf prediction progress: |████████████████████████████████████████████████| 100%\n"
     ]
    },
    {
     "data": {
      "text/html": [
       "<table>\n",
       "<thead>\n",
       "<tr><th style=\"text-align: right;\">  predict</th></tr>\n",
       "</thead>\n",
       "<tbody>\n",
       "<tr><td style=\"text-align: right;\">  5.70643</td></tr>\n",
       "<tr><td style=\"text-align: right;\">  5.71689</td></tr>\n",
       "<tr><td style=\"text-align: right;\">  5.86   </td></tr>\n",
       "<tr><td style=\"text-align: right;\">  5.7    </td></tr>\n",
       "<tr><td style=\"text-align: right;\">  5.99533</td></tr>\n",
       "</tbody>\n",
       "</table>"
      ]
     },
     "metadata": {},
     "output_type": "display_data"
    },
    {
     "data": {
      "text/plain": []
     },
     "execution_count": 20,
     "metadata": {},
     "output_type": "execute_result"
    }
   ],
   "source": [
    "# Use DRF model to make predictions\n",
    "yhat_test_drf = drf_default.predict(wine_test)\n",
    "yhat_test_drf.head(5)"
   ]
  },
  {
   "cell_type": "code",
   "execution_count": 21,
   "metadata": {
    "collapsed": false
   },
   "outputs": [
    {
     "name": "stdout",
     "output_type": "stream",
     "text": [
      "gbm prediction progress: |████████████████████████████████████████████████| 100%\n"
     ]
    },
    {
     "data": {
      "text/html": [
       "<table>\n",
       "<thead>\n",
       "<tr><th style=\"text-align: right;\">  predict</th></tr>\n",
       "</thead>\n",
       "<tbody>\n",
       "<tr><td style=\"text-align: right;\">  5.52585</td></tr>\n",
       "<tr><td style=\"text-align: right;\">  5.88708</td></tr>\n",
       "<tr><td style=\"text-align: right;\">  5.63179</td></tr>\n",
       "<tr><td style=\"text-align: right;\">  5.66957</td></tr>\n",
       "<tr><td style=\"text-align: right;\">  5.9565 </td></tr>\n",
       "</tbody>\n",
       "</table>"
      ]
     },
     "metadata": {},
     "output_type": "display_data"
    },
    {
     "data": {
      "text/plain": []
     },
     "execution_count": 21,
     "metadata": {},
     "output_type": "execute_result"
    }
   ],
   "source": [
    "# Use GBM model to make predictions\n",
    "yhat_test_gbm = gbm_default.predict(wine_test)\n",
    "yhat_test_gbm.head(5)"
   ]
  },
  {
   "cell_type": "code",
   "execution_count": 22,
   "metadata": {
    "collapsed": false
   },
   "outputs": [
    {
     "name": "stdout",
     "output_type": "stream",
     "text": [
      "deeplearning prediction progress: |███████████████████████████████████████| 100%\n"
     ]
    },
    {
     "data": {
      "text/html": [
       "<table>\n",
       "<thead>\n",
       "<tr><th style=\"text-align: right;\">  predict</th></tr>\n",
       "</thead>\n",
       "<tbody>\n",
       "<tr><td style=\"text-align: right;\">  5.5508 </td></tr>\n",
       "<tr><td style=\"text-align: right;\">  5.64736</td></tr>\n",
       "<tr><td style=\"text-align: right;\">  5.93948</td></tr>\n",
       "<tr><td style=\"text-align: right;\">  5.5074 </td></tr>\n",
       "<tr><td style=\"text-align: right;\">  6.09279</td></tr>\n",
       "</tbody>\n",
       "</table>"
      ]
     },
     "metadata": {},
     "output_type": "display_data"
    },
    {
     "data": {
      "text/plain": []
     },
     "execution_count": 22,
     "metadata": {},
     "output_type": "execute_result"
    }
   ],
   "source": [
    "# Use DNN model to make predictions\n",
    "yhat_test_dnn = dnn_default.predict(wine_test)\n",
    "yhat_test_dnn.head(5)"
   ]
  },
  {
   "cell_type": "markdown",
   "metadata": {},
   "source": [
    "<br>"
   ]
  }
 ],
 "metadata": {
  "anaconda-cloud": {},
  "kernelspec": {
   "display_name": "Python [conda root]",
   "language": "python",
   "name": "conda-root-py"
  },
  "language_info": {
   "codemirror_mode": {
    "name": "ipython",
    "version": 3
   },
   "file_extension": ".py",
   "mimetype": "text/x-python",
   "name": "python",
   "nbconvert_exporter": "python",
   "pygments_lexer": "ipython3",
   "version": "3.5.2"
  }
 },
 "nbformat": 4,
 "nbformat_minor": 1
}
