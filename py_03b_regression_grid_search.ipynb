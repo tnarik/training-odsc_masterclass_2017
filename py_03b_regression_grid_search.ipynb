{
 "cells": [
  {
   "cell_type": "markdown",
   "metadata": {},
   "source": [
    "# Machine Learning with H2O - Tutorial 3b: Regression Models (Grid Search)\n",
    "\n",
    "<hr>\n",
    "\n",
    "**Objective**:\n",
    "\n",
    "- This tutorial explains how to fine-tune regression models for better out-of-bag performance.\n",
    "\n",
    "<hr>\n",
    "\n",
    "**Wine Quality Dataset:**\n",
    "\n",
    "- Source: https://archive.ics.uci.edu/ml/datasets/Wine+Quality\n",
    "- CSV (https://archive.ics.uci.edu/ml/machine-learning-databases/wine-quality/winequality-white.csv)\n",
    "\n",
    "<hr>\n",
    "    \n",
    "**Steps**:\n",
    "\n",
    "1. GBM with default settings\n",
    "2. GBM with manual settings\n",
    "3. GBM with manual settings & cross-validation\n",
    "4. GBM with manual settings, cross-validation and early stopping\n",
    "5. GBM with cross-validation, early stopping and full grid search\n",
    "6. GBM with cross-validation, early stopping and random grid search\n",
    "7. Model stacking (combining different GLM, DRF, GBM and DNN models)\n",
    "\n",
    "\n",
    "<hr>\n",
    "\n",
    "**Full Technical Reference:**\n",
    "\n",
    "- http://docs.h2o.ai/h2o/latest-stable/h2o-py/docs/modeling.html\n",
    "\n",
    "<br>\n"
   ]
  },
  {
   "cell_type": "code",
   "execution_count": 1,
   "metadata": {
    "collapsed": false,
    "scrolled": false
   },
   "outputs": [
    {
     "name": "stdout",
     "output_type": "stream",
     "text": [
      "Checking whether there is an H2O instance running at http://localhost:54321..... not found.\n",
      "Attempting to start a local H2O server...\n",
      "  Java Version: java version \"1.8.0_121\"; Java(TM) SE Runtime Environment (build 1.8.0_121-b13); Java HotSpot(TM) 64-Bit Server VM (build 25.121-b13, mixed mode)\n",
      "  Starting server from /home/joe/anaconda3/lib/python3.5/site-packages/h2o/backend/bin/h2o.jar\n",
      "  Ice root: /tmp/tmpshacxzxd\n",
      "  JVM stdout: /tmp/tmpshacxzxd/h2o_joe_started_from_python.out\n",
      "  JVM stderr: /tmp/tmpshacxzxd/h2o_joe_started_from_python.err\n",
      "  Server is running at http://127.0.0.1:54321\n",
      "Connecting to H2O server at http://127.0.0.1:54321... successful.\n"
     ]
    },
    {
     "data": {
      "text/html": [
       "<div style=\"overflow:auto\"><table style=\"width:50%\"><tr><td>H2O cluster uptime:</td>\n",
       "<td>02 secs</td></tr>\n",
       "<tr><td>H2O cluster version:</td>\n",
       "<td>3.10.3.5</td></tr>\n",
       "<tr><td>H2O cluster version age:</td>\n",
       "<td>8 days </td></tr>\n",
       "<tr><td>H2O cluster name:</td>\n",
       "<td>H2O_from_python_joe_vyuqoh</td></tr>\n",
       "<tr><td>H2O cluster total nodes:</td>\n",
       "<td>1</td></tr>\n",
       "<tr><td>H2O cluster free memory:</td>\n",
       "<td>5.210 Gb</td></tr>\n",
       "<tr><td>H2O cluster total cores:</td>\n",
       "<td>8</td></tr>\n",
       "<tr><td>H2O cluster allowed cores:</td>\n",
       "<td>8</td></tr>\n",
       "<tr><td>H2O cluster status:</td>\n",
       "<td>accepting new members, healthy</td></tr>\n",
       "<tr><td>H2O connection url:</td>\n",
       "<td>http://127.0.0.1:54321</td></tr>\n",
       "<tr><td>H2O connection proxy:</td>\n",
       "<td>None</td></tr>\n",
       "<tr><td>Python version:</td>\n",
       "<td>3.5.2 final</td></tr></table></div>"
      ],
      "text/plain": [
       "--------------------------  ------------------------------\n",
       "H2O cluster uptime:         02 secs\n",
       "H2O cluster version:        3.10.3.5\n",
       "H2O cluster version age:    8 days\n",
       "H2O cluster name:           H2O_from_python_joe_vyuqoh\n",
       "H2O cluster total nodes:    1\n",
       "H2O cluster free memory:    5.210 Gb\n",
       "H2O cluster total cores:    8\n",
       "H2O cluster allowed cores:  8\n",
       "H2O cluster status:         accepting new members, healthy\n",
       "H2O connection url:         http://127.0.0.1:54321\n",
       "H2O connection proxy:\n",
       "Python version:             3.5.2 final\n",
       "--------------------------  ------------------------------"
      ]
     },
     "metadata": {},
     "output_type": "display_data"
    }
   ],
   "source": [
    "# Start and connect to a local H2O cluster\n",
    "import h2o\n",
    "h2o.init(nthreads = -1)"
   ]
  },
  {
   "cell_type": "markdown",
   "metadata": {},
   "source": [
    "<br>"
   ]
  },
  {
   "cell_type": "code",
   "execution_count": 2,
   "metadata": {
    "collapsed": false
   },
   "outputs": [
    {
     "name": "stdout",
     "output_type": "stream",
     "text": [
      "Parse progress: |█████████████████████████████████████████████████████████| 100%\n"
     ]
    },
    {
     "data": {
      "text/html": [
       "<table>\n",
       "<thead>\n",
       "<tr><th style=\"text-align: right;\">  fixed acidity</th><th style=\"text-align: right;\">  volatile acidity</th><th style=\"text-align: right;\">  citric acid</th><th style=\"text-align: right;\">  residual sugar</th><th style=\"text-align: right;\">  chlorides</th><th style=\"text-align: right;\">  free sulfur dioxide</th><th style=\"text-align: right;\">  total sulfur dioxide</th><th style=\"text-align: right;\">  density</th><th style=\"text-align: right;\">  pH</th><th style=\"text-align: right;\">  sulphates</th><th style=\"text-align: right;\">  alcohol</th><th style=\"text-align: right;\">  quality</th></tr>\n",
       "</thead>\n",
       "<tbody>\n",
       "<tr><td style=\"text-align: right;\">            7  </td><td style=\"text-align: right;\">              0.27</td><td style=\"text-align: right;\">         0.36</td><td style=\"text-align: right;\">            20.7</td><td style=\"text-align: right;\">      0.045</td><td style=\"text-align: right;\">                   45</td><td style=\"text-align: right;\">                   170</td><td style=\"text-align: right;\">   1.001 </td><td style=\"text-align: right;\">3   </td><td style=\"text-align: right;\">       0.45</td><td style=\"text-align: right;\">      8.8</td><td style=\"text-align: right;\">        6</td></tr>\n",
       "<tr><td style=\"text-align: right;\">            6.3</td><td style=\"text-align: right;\">              0.3 </td><td style=\"text-align: right;\">         0.34</td><td style=\"text-align: right;\">             1.6</td><td style=\"text-align: right;\">      0.049</td><td style=\"text-align: right;\">                   14</td><td style=\"text-align: right;\">                   132</td><td style=\"text-align: right;\">   0.994 </td><td style=\"text-align: right;\">3.3 </td><td style=\"text-align: right;\">       0.49</td><td style=\"text-align: right;\">      9.5</td><td style=\"text-align: right;\">        6</td></tr>\n",
       "<tr><td style=\"text-align: right;\">            8.1</td><td style=\"text-align: right;\">              0.28</td><td style=\"text-align: right;\">         0.4 </td><td style=\"text-align: right;\">             6.9</td><td style=\"text-align: right;\">      0.05 </td><td style=\"text-align: right;\">                   30</td><td style=\"text-align: right;\">                    97</td><td style=\"text-align: right;\">   0.9951</td><td style=\"text-align: right;\">3.26</td><td style=\"text-align: right;\">       0.44</td><td style=\"text-align: right;\">     10.1</td><td style=\"text-align: right;\">        6</td></tr>\n",
       "<tr><td style=\"text-align: right;\">            7.2</td><td style=\"text-align: right;\">              0.23</td><td style=\"text-align: right;\">         0.32</td><td style=\"text-align: right;\">             8.5</td><td style=\"text-align: right;\">      0.058</td><td style=\"text-align: right;\">                   47</td><td style=\"text-align: right;\">                   186</td><td style=\"text-align: right;\">   0.9956</td><td style=\"text-align: right;\">3.19</td><td style=\"text-align: right;\">       0.4 </td><td style=\"text-align: right;\">      9.9</td><td style=\"text-align: right;\">        6</td></tr>\n",
       "<tr><td style=\"text-align: right;\">            7.2</td><td style=\"text-align: right;\">              0.23</td><td style=\"text-align: right;\">         0.32</td><td style=\"text-align: right;\">             8.5</td><td style=\"text-align: right;\">      0.058</td><td style=\"text-align: right;\">                   47</td><td style=\"text-align: right;\">                   186</td><td style=\"text-align: right;\">   0.9956</td><td style=\"text-align: right;\">3.19</td><td style=\"text-align: right;\">       0.4 </td><td style=\"text-align: right;\">      9.9</td><td style=\"text-align: right;\">        6</td></tr>\n",
       "</tbody>\n",
       "</table>"
      ]
     },
     "metadata": {},
     "output_type": "display_data"
    },
    {
     "data": {
      "text/plain": []
     },
     "execution_count": 2,
     "metadata": {},
     "output_type": "execute_result"
    }
   ],
   "source": [
    "# Import wine quality data from a local CSV file\n",
    "wine = h2o.import_file(\"winequality-white.csv\")\n",
    "wine.head(5)"
   ]
  },
  {
   "cell_type": "code",
   "execution_count": 3,
   "metadata": {
    "collapsed": false
   },
   "outputs": [
    {
     "data": {
      "text/plain": [
       "['fixed acidity',\n",
       " 'volatile acidity',\n",
       " 'citric acid',\n",
       " 'residual sugar',\n",
       " 'chlorides',\n",
       " 'free sulfur dioxide',\n",
       " 'total sulfur dioxide',\n",
       " 'density',\n",
       " 'pH',\n",
       " 'sulphates',\n",
       " 'alcohol']"
      ]
     },
     "execution_count": 3,
     "metadata": {},
     "output_type": "execute_result"
    }
   ],
   "source": [
    "# Define features (or predictors)\n",
    "features = list(wine.columns) # we want to use all the information\n",
    "features.remove('quality')    # we need to exclude the target 'quality' (otherwise there is nothing to predict)\n",
    "features"
   ]
  },
  {
   "cell_type": "code",
   "execution_count": 4,
   "metadata": {
    "collapsed": false
   },
   "outputs": [],
   "source": [
    "# Split the H2O data frame into training/test sets\n",
    "# so we can evaluate out-of-bag performance\n",
    "wine_split = wine.split_frame(ratios = [0.8], seed = 1234)\n",
    "\n",
    "wine_train = wine_split[0] # using 80% for training\n",
    "wine_test = wine_split[1]  # using the rest 20% for out-of-bag evaluation"
   ]
  },
  {
   "cell_type": "code",
   "execution_count": 5,
   "metadata": {
    "collapsed": false
   },
   "outputs": [
    {
     "data": {
      "text/plain": [
       "(3932, 12)"
      ]
     },
     "execution_count": 5,
     "metadata": {},
     "output_type": "execute_result"
    }
   ],
   "source": [
    "wine_train.shape"
   ]
  },
  {
   "cell_type": "code",
   "execution_count": 6,
   "metadata": {
    "collapsed": false
   },
   "outputs": [
    {
     "data": {
      "text/plain": [
       "(966, 12)"
      ]
     },
     "execution_count": 6,
     "metadata": {},
     "output_type": "execute_result"
    }
   ],
   "source": [
    "wine_test.shape"
   ]
  },
  {
   "cell_type": "markdown",
   "metadata": {
    "collapsed": true
   },
   "source": [
    "<br>\n",
    "\n",
    "## Step 1 - Gradient Boosting Machines (GBM) with Default Settings"
   ]
  },
  {
   "cell_type": "code",
   "execution_count": 7,
   "metadata": {
    "collapsed": false
   },
   "outputs": [
    {
     "name": "stdout",
     "output_type": "stream",
     "text": [
      "gbm Model Build progress: |███████████████████████████████████████████████| 100%\n"
     ]
    }
   ],
   "source": [
    "# Build a Gradient Boosting Machines (GBM) model with default settings\n",
    "\n",
    "# Import the function for GBM\n",
    "from h2o.estimators.gbm import H2OGradientBoostingEstimator\n",
    "\n",
    "# Set up GBM for regression\n",
    "# Add a seed for reproducibility\n",
    "gbm_default = H2OGradientBoostingEstimator(model_id = 'gbm_default', \n",
    "                                           seed = 1234)\n",
    "\n",
    "# Use .train() to build the model\n",
    "gbm_default.train(x = features, \n",
    "                  y = 'quality', \n",
    "                  training_frame = wine_train)"
   ]
  },
  {
   "cell_type": "code",
   "execution_count": 8,
   "metadata": {
    "collapsed": false,
    "scrolled": false
   },
   "outputs": [
    {
     "name": "stdout",
     "output_type": "stream",
     "text": [
      "\n",
      "ModelMetricsRegression: gbm\n",
      "** Reported on test data. **\n",
      "\n",
      "MSE: 0.45511211588709155\n",
      "RMSE: 0.6746199788674299\n",
      "MAE: 0.5219768028633305\n",
      "RMSLE: 0.10013755931021842\n",
      "Mean Residual Deviance: 0.45511211588709155\n"
     ]
    },
    {
     "data": {
      "text/plain": []
     },
     "execution_count": 8,
     "metadata": {},
     "output_type": "execute_result"
    }
   ],
   "source": [
    "# Check the model performance on test dataset\n",
    "gbm_default.model_performance(wine_test)"
   ]
  },
  {
   "cell_type": "markdown",
   "metadata": {},
   "source": [
    "<br>\n",
    "\n",
    "## Step 2 - GBM with Manual Settings"
   ]
  },
  {
   "cell_type": "code",
   "execution_count": 9,
   "metadata": {
    "collapsed": false
   },
   "outputs": [
    {
     "name": "stdout",
     "output_type": "stream",
     "text": [
      "gbm Model Build progress: |███████████████████████████████████████████████| 100%\n"
     ]
    }
   ],
   "source": [
    "# Build a GBM with manual settings\n",
    "\n",
    "# Set up GBM for regression\n",
    "# Add a seed for reproducibility\n",
    "gbm_manual = H2OGradientBoostingEstimator(model_id = 'gbm_manual', \n",
    "                                          seed = 1234,\n",
    "                                          ntrees = 100,\n",
    "                                          sample_rate = 0.9,\n",
    "                                          col_sample_rate = 0.9)\n",
    "\n",
    "# Use .train() to build the model\n",
    "gbm_manual.train(x = features, \n",
    "                 y = 'quality', \n",
    "                 training_frame = wine_train)"
   ]
  },
  {
   "cell_type": "code",
   "execution_count": 10,
   "metadata": {
    "collapsed": false
   },
   "outputs": [
    {
     "name": "stdout",
     "output_type": "stream",
     "text": [
      "\n",
      "ModelMetricsRegression: gbm\n",
      "** Reported on test data. **\n",
      "\n",
      "MSE: 0.44325665649714924\n",
      "RMSE: 0.6657752297113112\n",
      "MAE: 0.5114358481376113\n",
      "RMSLE: 0.09895809708429235\n",
      "Mean Residual Deviance: 0.44325665649714924\n"
     ]
    },
    {
     "data": {
      "text/plain": []
     },
     "execution_count": 10,
     "metadata": {},
     "output_type": "execute_result"
    }
   ],
   "source": [
    "# Check the model performance on test dataset\n",
    "gbm_manual.model_performance(wine_test)"
   ]
  },
  {
   "cell_type": "markdown",
   "metadata": {},
   "source": [
    "<br>\n",
    "\n",
    "## Step 3 - GBM with Manual Settings & Cross-Validation (CV)"
   ]
  },
  {
   "cell_type": "code",
   "execution_count": 11,
   "metadata": {
    "collapsed": false
   },
   "outputs": [
    {
     "name": "stdout",
     "output_type": "stream",
     "text": [
      "gbm Model Build progress: |███████████████████████████████████████████████| 100%\n"
     ]
    }
   ],
   "source": [
    "# Build a GBM with manual settings & cross-validation\n",
    "\n",
    "# Set up GBM for regression\n",
    "# Add a seed for reproducibility\n",
    "gbm_manual_cv = H2OGradientBoostingEstimator(model_id = 'gbm_manual_cv', \n",
    "                                             seed = 1234,\n",
    "                                             ntrees = 100,\n",
    "                                             sample_rate = 0.9,\n",
    "                                             col_sample_rate = 0.9,\n",
    "                                             nfolds = 5)\n",
    "                                            \n",
    "# Use .train() to build the model\n",
    "gbm_manual_cv.train(x = features, \n",
    "                    y = 'quality', \n",
    "                    training_frame = wine_train)"
   ]
  },
  {
   "cell_type": "code",
   "execution_count": 12,
   "metadata": {
    "collapsed": false
   },
   "outputs": [
    {
     "name": "stdout",
     "output_type": "stream",
     "text": [
      "Model Details\n",
      "=============\n",
      "H2OGradientBoostingEstimator :  Gradient Boosting Machine\n",
      "Model Key:  gbm_manual_cv\n",
      "\n",
      "\n",
      "ModelMetricsRegression: gbm\n",
      "** Reported on train data. **\n",
      "\n",
      "MSE: 0.27438346229216\n",
      "RMSE: 0.5238162485950202\n",
      "MAE: 0.4075920913493524\n",
      "RMSLE: 0.0774835431572533\n",
      "Mean Residual Deviance: 0.27438346229216\n",
      "\n",
      "ModelMetricsRegression: gbm\n",
      "** Reported on cross-validation data. **\n",
      "\n",
      "MSE: 0.45021820302163834\n",
      "RMSE: 0.6709830124687497\n",
      "MAE: 0.5185163944803867\n",
      "RMSLE: 0.10007842575662584\n",
      "Mean Residual Deviance: 0.45021820302163834\n",
      "Cross-Validation Metrics Summary: \n"
     ]
    },
    {
     "data": {
      "text/html": [
       "<div style=\"overflow:auto\"><table style=\"width:50%\"><tr><td><b></b></td>\n",
       "<td><b>mean</b></td>\n",
       "<td><b>sd</b></td>\n",
       "<td><b>cv_1_valid</b></td>\n",
       "<td><b>cv_2_valid</b></td>\n",
       "<td><b>cv_3_valid</b></td>\n",
       "<td><b>cv_4_valid</b></td>\n",
       "<td><b>cv_5_valid</b></td></tr>\n",
       "<tr><td>mae</td>\n",
       "<td>0.5183839</td>\n",
       "<td>0.0057996</td>\n",
       "<td>0.5173063</td>\n",
       "<td>0.5328950</td>\n",
       "<td>0.507699</td>\n",
       "<td>0.5151827</td>\n",
       "<td>0.5188366</td></tr>\n",
       "<tr><td>mse</td>\n",
       "<td>0.4501753</td>\n",
       "<td>0.0090064</td>\n",
       "<td>0.4428255</td>\n",
       "<td>0.4701306</td>\n",
       "<td>0.4537360</td>\n",
       "<td>0.4317105</td>\n",
       "<td>0.4524740</td></tr>\n",
       "<tr><td>r2</td>\n",
       "<td>0.4309830</td>\n",
       "<td>0.0176490</td>\n",
       "<td>0.4365418</td>\n",
       "<td>0.3850305</td>\n",
       "<td>0.4380041</td>\n",
       "<td>0.4612002</td>\n",
       "<td>0.4341383</td></tr>\n",
       "<tr><td>residual_deviance</td>\n",
       "<td>0.4501753</td>\n",
       "<td>0.0090064</td>\n",
       "<td>0.4428255</td>\n",
       "<td>0.4701306</td>\n",
       "<td>0.4537360</td>\n",
       "<td>0.4317105</td>\n",
       "<td>0.4524740</td></tr>\n",
       "<tr><td>rmse</td>\n",
       "<td>0.670884</td>\n",
       "<td>0.0067072</td>\n",
       "<td>0.6654513</td>\n",
       "<td>0.6856607</td>\n",
       "<td>0.6735993</td>\n",
       "<td>0.6570468</td>\n",
       "<td>0.6726618</td></tr>\n",
       "<tr><td>rmsle</td>\n",
       "<td>0.1000738</td>\n",
       "<td>0.0007271</td>\n",
       "<td>0.0983455</td>\n",
       "<td>0.1015277</td>\n",
       "<td>0.0999000</td>\n",
       "<td>0.1004637</td>\n",
       "<td>0.1001324</td></tr></table></div>"
      ],
      "text/plain": [
       "                   mean      sd           cv_1_valid    cv_2_valid    cv_3_valid    cv_4_valid    cv_5_valid\n",
       "-----------------  --------  -----------  ------------  ------------  ------------  ------------  ------------\n",
       "mae                0.518384  0.00579958   0.517306      0.532895      0.507699      0.515183      0.518837\n",
       "mse                0.450175  0.00900635   0.442825      0.470131      0.453736      0.431711      0.452474\n",
       "r2                 0.430983  0.017649     0.436542      0.385031      0.438004      0.4612        0.434138\n",
       "residual_deviance  0.450175  0.00900635   0.442825      0.470131      0.453736      0.431711      0.452474\n",
       "rmse               0.670884  0.0067072    0.665451      0.685661      0.673599      0.657047      0.672662\n",
       "rmsle              0.100074  0.000727097  0.0983455     0.101528      0.0999        0.100464      0.100132"
      ]
     },
     "metadata": {},
     "output_type": "display_data"
    },
    {
     "name": "stdout",
     "output_type": "stream",
     "text": [
      "Scoring History: \n"
     ]
    },
    {
     "data": {
      "text/html": [
       "<div style=\"overflow:auto\"><table style=\"width:50%\"><tr><td><b></b></td>\n",
       "<td><b>timestamp</b></td>\n",
       "<td><b>duration</b></td>\n",
       "<td><b>number_of_trees</b></td>\n",
       "<td><b>training_rmse</b></td>\n",
       "<td><b>training_mae</b></td>\n",
       "<td><b>training_deviance</b></td></tr>\n",
       "<tr><td></td>\n",
       "<td>2017-02-27 12:29:05</td>\n",
       "<td> 3.087 sec</td>\n",
       "<td>0.0</td>\n",
       "<td>0.8900853</td>\n",
       "<td>0.6768335</td>\n",
       "<td>0.7922518</td></tr>\n",
       "<tr><td></td>\n",
       "<td>2017-02-27 12:29:05</td>\n",
       "<td> 3.095 sec</td>\n",
       "<td>1.0</td>\n",
       "<td>0.8599939</td>\n",
       "<td>0.6513445</td>\n",
       "<td>0.7395894</td></tr>\n",
       "<tr><td></td>\n",
       "<td>2017-02-27 12:29:05</td>\n",
       "<td> 3.099 sec</td>\n",
       "<td>2.0</td>\n",
       "<td>0.8321552</td>\n",
       "<td>0.6295051</td>\n",
       "<td>0.6924822</td></tr>\n",
       "<tr><td></td>\n",
       "<td>2017-02-27 12:29:05</td>\n",
       "<td> 3.103 sec</td>\n",
       "<td>3.0</td>\n",
       "<td>0.8081890</td>\n",
       "<td>0.6151421</td>\n",
       "<td>0.6531695</td></tr>\n",
       "<tr><td></td>\n",
       "<td>2017-02-27 12:29:05</td>\n",
       "<td> 3.106 sec</td>\n",
       "<td>4.0</td>\n",
       "<td>0.7882018</td>\n",
       "<td>0.6064024</td>\n",
       "<td>0.6212620</td></tr>\n",
       "<tr><td>---</td>\n",
       "<td>---</td>\n",
       "<td>---</td>\n",
       "<td>---</td>\n",
       "<td>---</td>\n",
       "<td>---</td>\n",
       "<td>---</td></tr>\n",
       "<tr><td></td>\n",
       "<td>2017-02-27 12:29:05</td>\n",
       "<td> 3.588 sec</td>\n",
       "<td>96.0</td>\n",
       "<td>0.5267685</td>\n",
       "<td>0.4106401</td>\n",
       "<td>0.2774850</td></tr>\n",
       "<tr><td></td>\n",
       "<td>2017-02-27 12:29:05</td>\n",
       "<td> 3.599 sec</td>\n",
       "<td>97.0</td>\n",
       "<td>0.5255850</td>\n",
       "<td>0.4095203</td>\n",
       "<td>0.2762396</td></tr>\n",
       "<tr><td></td>\n",
       "<td>2017-02-27 12:29:05</td>\n",
       "<td> 3.605 sec</td>\n",
       "<td>98.0</td>\n",
       "<td>0.5252608</td>\n",
       "<td>0.4091795</td>\n",
       "<td>0.2758989</td></tr>\n",
       "<tr><td></td>\n",
       "<td>2017-02-27 12:29:05</td>\n",
       "<td> 3.610 sec</td>\n",
       "<td>99.0</td>\n",
       "<td>0.5239927</td>\n",
       "<td>0.4076997</td>\n",
       "<td>0.2745683</td></tr>\n",
       "<tr><td></td>\n",
       "<td>2017-02-27 12:29:05</td>\n",
       "<td> 3.619 sec</td>\n",
       "<td>100.0</td>\n",
       "<td>0.5238162</td>\n",
       "<td>0.4075921</td>\n",
       "<td>0.2743835</td></tr></table></div>"
      ],
      "text/plain": [
       "     timestamp            duration    number_of_trees    training_rmse       training_mae         training_deviance\n",
       "---  -------------------  ----------  -----------------  ------------------  -------------------  -------------------\n",
       "     2017-02-27 12:29:05  3.087 sec   0.0                0.8900852697964992  0.6768334835644412   0.7922517875087066\n",
       "     2017-02-27 12:29:05  3.095 sec   1.0                0.8599938635695353  0.6513444584238202   0.7395894453772565\n",
       "     2017-02-27 12:29:05  3.099 sec   2.0                0.832155166015879   0.629505141462945    0.6924822203269151\n",
       "     2017-02-27 12:29:05  3.103 sec   3.0                0.8081890079258943  0.6151420544995903   0.6531694725322413\n",
       "     2017-02-27 12:29:05  3.106 sec   4.0                0.7882017744966796  0.6064023639275365   0.6212620373197146\n",
       "---  ---                  ---         ---                ---                 ---                  ---\n",
       "     2017-02-27 12:29:05  3.588 sec   96.0               0.5267684807010709  0.4106401101982606   0.2774850322601145\n",
       "     2017-02-27 12:29:05  3.599 sec   97.0               0.5255850284697325  0.40952027917272077  0.2762396221515296\n",
       "     2017-02-27 12:29:05  3.605 sec   98.0               0.5252608237494899  0.4091795354869334   0.2758989329659927\n",
       "     2017-02-27 12:29:05  3.610 sec   99.0               0.5239926786514048  0.40769967815762015  0.2745683272802743\n",
       "     2017-02-27 12:29:05  3.619 sec   100.0              0.5238162485950202  0.4075920913493524   0.27438346229216"
      ]
     },
     "metadata": {},
     "output_type": "display_data"
    },
    {
     "name": "stdout",
     "output_type": "stream",
     "text": [
      "\n",
      "See the whole table with table.as_data_frame()\n",
      "Variable Importances: \n"
     ]
    },
    {
     "data": {
      "text/html": [
       "<div style=\"overflow:auto\"><table style=\"width:50%\"><tr><td><b>variable</b></td>\n",
       "<td><b>relative_importance</b></td>\n",
       "<td><b>scaled_importance</b></td>\n",
       "<td><b>percentage</b></td></tr>\n",
       "<tr><td>alcohol</td>\n",
       "<td>3520.4504395</td>\n",
       "<td>1.0</td>\n",
       "<td>0.3371040</td></tr>\n",
       "<tr><td>volatile acidity</td>\n",
       "<td>1474.0030518</td>\n",
       "<td>0.4186973</td>\n",
       "<td>0.1411445</td></tr>\n",
       "<tr><td>free sulfur dioxide</td>\n",
       "<td>1111.8027344</td>\n",
       "<td>0.3158126</td>\n",
       "<td>0.1064617</td></tr>\n",
       "<tr><td>pH</td>\n",
       "<td>621.6004639</td>\n",
       "<td>0.1765684</td>\n",
       "<td>0.0595219</td></tr>\n",
       "<tr><td>residual sugar</td>\n",
       "<td>608.0207520</td>\n",
       "<td>0.1727111</td>\n",
       "<td>0.0582216</td></tr>\n",
       "<tr><td>total sulfur dioxide</td>\n",
       "<td>592.9692993</td>\n",
       "<td>0.1684356</td>\n",
       "<td>0.0567803</td></tr>\n",
       "<tr><td>fixed acidity</td>\n",
       "<td>558.3989868</td>\n",
       "<td>0.1586158</td>\n",
       "<td>0.0534700</td></tr>\n",
       "<tr><td>density</td>\n",
       "<td>545.3736572</td>\n",
       "<td>0.1549159</td>\n",
       "<td>0.0522228</td></tr>\n",
       "<tr><td>citric acid</td>\n",
       "<td>479.6713257</td>\n",
       "<td>0.1362528</td>\n",
       "<td>0.0459314</td></tr>\n",
       "<tr><td>sulphates</td>\n",
       "<td>474.8290405</td>\n",
       "<td>0.1348774</td>\n",
       "<td>0.0454677</td></tr>\n",
       "<tr><td>chlorides</td>\n",
       "<td>456.0965881</td>\n",
       "<td>0.1295563</td>\n",
       "<td>0.0436740</td></tr></table></div>"
      ],
      "text/plain": [
       "variable              relative_importance    scaled_importance    percentage\n",
       "--------------------  ---------------------  -------------------  ------------\n",
       "alcohol               3520.45                1                    0.337104\n",
       "volatile acidity      1474                   0.418697             0.141145\n",
       "free sulfur dioxide   1111.8                 0.315813             0.106462\n",
       "pH                    621.6                  0.176568             0.0595219\n",
       "residual sugar        608.021                0.172711             0.0582216\n",
       "total sulfur dioxide  592.969                0.168436             0.0567803\n",
       "fixed acidity         558.399                0.158616             0.05347\n",
       "density               545.374                0.154916             0.0522228\n",
       "citric acid           479.671                0.136253             0.0459314\n",
       "sulphates             474.829                0.134877             0.0454677\n",
       "chlorides             456.097                0.129556             0.043674"
      ]
     },
     "metadata": {},
     "output_type": "display_data"
    },
    {
     "data": {
      "text/plain": []
     },
     "execution_count": 12,
     "metadata": {},
     "output_type": "execute_result"
    }
   ],
   "source": [
    "# Check the cross-validation model performance\n",
    "gbm_manual_cv"
   ]
  },
  {
   "cell_type": "code",
   "execution_count": 13,
   "metadata": {
    "collapsed": false
   },
   "outputs": [
    {
     "name": "stdout",
     "output_type": "stream",
     "text": [
      "\n",
      "ModelMetricsRegression: gbm\n",
      "** Reported on test data. **\n",
      "\n",
      "MSE: 0.44325665649714924\n",
      "RMSE: 0.6657752297113112\n",
      "MAE: 0.5114358481376113\n",
      "RMSLE: 0.09895809708429235\n",
      "Mean Residual Deviance: 0.44325665649714924\n"
     ]
    },
    {
     "data": {
      "text/plain": []
     },
     "execution_count": 13,
     "metadata": {},
     "output_type": "execute_result"
    }
   ],
   "source": [
    "# Check the model performance on test dataset\n",
    "gbm_manual_cv.model_performance(wine_test)\n",
    "# It should be the same as gbm_manual above as the model is trained with same parameters"
   ]
  },
  {
   "cell_type": "markdown",
   "metadata": {},
   "source": [
    "<br>\n",
    "\n",
    "## Step 4 - GBM with Manual Settings, CV and Early Stopping"
   ]
  },
  {
   "cell_type": "code",
   "execution_count": 14,
   "metadata": {
    "collapsed": false
   },
   "outputs": [
    {
     "name": "stdout",
     "output_type": "stream",
     "text": [
      "gbm Model Build progress: |███████████████████████████████████████████████| 100%\n"
     ]
    }
   ],
   "source": [
    "# Build a GBM with manual settings, CV and early stopping\n",
    "\n",
    "# Set up GBM for regression\n",
    "# Add a seed for reproducibility\n",
    "gbm_manual_cv_es = H2OGradientBoostingEstimator(model_id = 'gbm_manual_cv_es', \n",
    "                                                seed = 1234,\n",
    "                                                ntrees = 10000,   # increase the number of trees \n",
    "                                                sample_rate = 0.9,\n",
    "                                                col_sample_rate = 0.9,\n",
    "                                                nfolds = 5,\n",
    "                                                stopping_metric = 'mse', # let early stopping feature determine\n",
    "                                                stopping_rounds = 15,     # the optimal number of trees\n",
    "                                                score_tree_interval = 1) # by looking at the MSE metric\n",
    "# Use .train() to build the model\n",
    "gbm_manual_cv_es.train(x = features, \n",
    "                       y = 'quality', \n",
    "                       training_frame = wine_train)"
   ]
  },
  {
   "cell_type": "code",
   "execution_count": 15,
   "metadata": {
    "collapsed": false
   },
   "outputs": [
    {
     "name": "stdout",
     "output_type": "stream",
     "text": [
      "Model Summary: \n"
     ]
    },
    {
     "data": {
      "text/html": [
       "<div style=\"overflow:auto\"><table style=\"width:50%\"><tr><td><b></b></td>\n",
       "<td><b>number_of_trees</b></td>\n",
       "<td><b>number_of_internal_trees</b></td>\n",
       "<td><b>model_size_in_bytes</b></td>\n",
       "<td><b>min_depth</b></td>\n",
       "<td><b>max_depth</b></td>\n",
       "<td><b>mean_depth</b></td>\n",
       "<td><b>min_leaves</b></td>\n",
       "<td><b>max_leaves</b></td>\n",
       "<td><b>mean_leaves</b></td></tr>\n",
       "<tr><td></td>\n",
       "<td>155.0</td>\n",
       "<td>155.0</td>\n",
       "<td>49772.0</td>\n",
       "<td>5.0</td>\n",
       "<td>5.0</td>\n",
       "<td>5.0</td>\n",
       "<td>7.0</td>\n",
       "<td>32.0</td>\n",
       "<td>20.374193</td></tr></table></div>"
      ],
      "text/plain": [
       "    number_of_trees    number_of_internal_trees    model_size_in_bytes    min_depth    max_depth    mean_depth    min_leaves    max_leaves    mean_leaves\n",
       "--  -----------------  --------------------------  ---------------------  -----------  -----------  ------------  ------------  ------------  -------------\n",
       "    155                155                         49772                  5            5            5             7             32            20.3742"
      ]
     },
     "metadata": {},
     "output_type": "display_data"
    },
    {
     "data": {
      "text/plain": []
     },
     "execution_count": 15,
     "metadata": {},
     "output_type": "execute_result"
    }
   ],
   "source": [
    "# Check the model summary\n",
    "gbm_manual_cv_es.summary()"
   ]
  },
  {
   "cell_type": "code",
   "execution_count": 16,
   "metadata": {
    "collapsed": false
   },
   "outputs": [
    {
     "name": "stdout",
     "output_type": "stream",
     "text": [
      "Model Details\n",
      "=============\n",
      "H2OGradientBoostingEstimator :  Gradient Boosting Machine\n",
      "Model Key:  gbm_manual_cv_es\n",
      "\n",
      "\n",
      "ModelMetricsRegression: gbm\n",
      "** Reported on train data. **\n",
      "\n",
      "MSE: 0.22107991282362896\n",
      "RMSE: 0.470191357665822\n",
      "MAE: 0.36200557768890596\n",
      "RMSLE: 0.06954327915133354\n",
      "Mean Residual Deviance: 0.22107991282362896\n",
      "\n",
      "ModelMetricsRegression: gbm\n",
      "** Reported on cross-validation data. **\n",
      "\n",
      "MSE: 0.44288792056243054\n",
      "RMSE: 0.665498249856775\n",
      "MAE: 0.5094014952755754\n",
      "RMSLE: 0.09937081861305609\n",
      "Mean Residual Deviance: 0.44288792056243054\n",
      "Cross-Validation Metrics Summary: \n"
     ]
    },
    {
     "data": {
      "text/html": [
       "<div style=\"overflow:auto\"><table style=\"width:50%\"><tr><td><b></b></td>\n",
       "<td><b>mean</b></td>\n",
       "<td><b>sd</b></td>\n",
       "<td><b>cv_1_valid</b></td>\n",
       "<td><b>cv_2_valid</b></td>\n",
       "<td><b>cv_3_valid</b></td>\n",
       "<td><b>cv_4_valid</b></td>\n",
       "<td><b>cv_5_valid</b></td></tr>\n",
       "<tr><td>mae</td>\n",
       "<td>0.5095274</td>\n",
       "<td>0.0064806</td>\n",
       "<td>0.4993615</td>\n",
       "<td>0.5179948</td>\n",
       "<td>0.4980329</td>\n",
       "<td>0.5125335</td>\n",
       "<td>0.5197147</td></tr>\n",
       "<tr><td>mse</td>\n",
       "<td>0.4430673</td>\n",
       "<td>0.0067716</td>\n",
       "<td>0.4305977</td>\n",
       "<td>0.4522071</td>\n",
       "<td>0.4484727</td>\n",
       "<td>0.4323305</td>\n",
       "<td>0.4517285</td></tr>\n",
       "<tr><td>r2</td>\n",
       "<td>0.4401194</td>\n",
       "<td>0.0126575</td>\n",
       "<td>0.4521007</td>\n",
       "<td>0.4084759</td>\n",
       "<td>0.4445232</td>\n",
       "<td>0.4604265</td>\n",
       "<td>0.4350706</td></tr>\n",
       "<tr><td>residual_deviance</td>\n",
       "<td>0.4430673</td>\n",
       "<td>0.0067716</td>\n",
       "<td>0.4305977</td>\n",
       "<td>0.4522071</td>\n",
       "<td>0.4484727</td>\n",
       "<td>0.4323305</td>\n",
       "<td>0.4517285</td></tr>\n",
       "<tr><td>rmse</td>\n",
       "<td>0.665594</td>\n",
       "<td>0.0050970</td>\n",
       "<td>0.6561994</td>\n",
       "<td>0.6724635</td>\n",
       "<td>0.6696811</td>\n",
       "<td>0.6575184</td>\n",
       "<td>0.6721075</td></tr>\n",
       "<tr><td>rmsle</td>\n",
       "<td>0.0993869</td>\n",
       "<td>0.0008079</td>\n",
       "<td>0.0972056</td>\n",
       "<td>0.0996676</td>\n",
       "<td>0.0995299</td>\n",
       "<td>0.1005154</td>\n",
       "<td>0.1000163</td></tr></table></div>"
      ],
      "text/plain": [
       "                   mean       sd           cv_1_valid    cv_2_valid    cv_3_valid    cv_4_valid    cv_5_valid\n",
       "-----------------  ---------  -----------  ------------  ------------  ------------  ------------  ------------\n",
       "mae                0.509527   0.00648063   0.499362      0.517995      0.498033      0.512533      0.519715\n",
       "mse                0.443067   0.00677158   0.430598      0.452207      0.448473      0.43233       0.451728\n",
       "r2                 0.440119   0.0126575    0.452101      0.408476      0.444523      0.460426      0.435071\n",
       "residual_deviance  0.443067   0.00677158   0.430598      0.452207      0.448473      0.43233       0.451728\n",
       "rmse               0.665594   0.00509699   0.656199      0.672463      0.669681      0.657518      0.672107\n",
       "rmsle              0.0993869  0.000807898  0.0972056     0.0996676     0.0995299     0.100515      0.100016"
      ]
     },
     "metadata": {},
     "output_type": "display_data"
    },
    {
     "name": "stdout",
     "output_type": "stream",
     "text": [
      "Scoring History: \n"
     ]
    },
    {
     "data": {
      "text/html": [
       "<div style=\"overflow:auto\"><table style=\"width:50%\"><tr><td><b></b></td>\n",
       "<td><b>timestamp</b></td>\n",
       "<td><b>duration</b></td>\n",
       "<td><b>number_of_trees</b></td>\n",
       "<td><b>training_rmse</b></td>\n",
       "<td><b>training_mae</b></td>\n",
       "<td><b>training_deviance</b></td></tr>\n",
       "<tr><td></td>\n",
       "<td>2017-02-27 12:29:14</td>\n",
       "<td> 8.189 sec</td>\n",
       "<td>0.0</td>\n",
       "<td>0.8900853</td>\n",
       "<td>0.6768335</td>\n",
       "<td>0.7922518</td></tr>\n",
       "<tr><td></td>\n",
       "<td>2017-02-27 12:29:14</td>\n",
       "<td> 8.194 sec</td>\n",
       "<td>1.0</td>\n",
       "<td>0.8599939</td>\n",
       "<td>0.6513445</td>\n",
       "<td>0.7395894</td></tr>\n",
       "<tr><td></td>\n",
       "<td>2017-02-27 12:29:14</td>\n",
       "<td> 8.198 sec</td>\n",
       "<td>2.0</td>\n",
       "<td>0.8321552</td>\n",
       "<td>0.6295051</td>\n",
       "<td>0.6924822</td></tr>\n",
       "<tr><td></td>\n",
       "<td>2017-02-27 12:29:14</td>\n",
       "<td> 8.201 sec</td>\n",
       "<td>3.0</td>\n",
       "<td>0.8081890</td>\n",
       "<td>0.6151421</td>\n",
       "<td>0.6531695</td></tr>\n",
       "<tr><td></td>\n",
       "<td>2017-02-27 12:29:14</td>\n",
       "<td> 8.203 sec</td>\n",
       "<td>4.0</td>\n",
       "<td>0.7882018</td>\n",
       "<td>0.6064024</td>\n",
       "<td>0.6212620</td></tr>\n",
       "<tr><td>---</td>\n",
       "<td>---</td>\n",
       "<td>---</td>\n",
       "<td>---</td>\n",
       "<td>---</td>\n",
       "<td>---</td>\n",
       "<td>---</td></tr>\n",
       "<tr><td></td>\n",
       "<td>2017-02-27 12:29:15</td>\n",
       "<td> 8.837 sec</td>\n",
       "<td>151.0</td>\n",
       "<td>0.4719094</td>\n",
       "<td>0.3635129</td>\n",
       "<td>0.2226985</td></tr>\n",
       "<tr><td></td>\n",
       "<td>2017-02-27 12:29:15</td>\n",
       "<td> 8.841 sec</td>\n",
       "<td>152.0</td>\n",
       "<td>0.4714653</td>\n",
       "<td>0.3632114</td>\n",
       "<td>0.2222796</td></tr>\n",
       "<tr><td></td>\n",
       "<td>2017-02-27 12:29:15</td>\n",
       "<td> 8.846 sec</td>\n",
       "<td>153.0</td>\n",
       "<td>0.4712549</td>\n",
       "<td>0.3630109</td>\n",
       "<td>0.2220812</td></tr>\n",
       "<tr><td></td>\n",
       "<td>2017-02-27 12:29:15</td>\n",
       "<td> 8.851 sec</td>\n",
       "<td>154.0</td>\n",
       "<td>0.4704735</td>\n",
       "<td>0.3622888</td>\n",
       "<td>0.2213453</td></tr>\n",
       "<tr><td></td>\n",
       "<td>2017-02-27 12:29:15</td>\n",
       "<td> 8.856 sec</td>\n",
       "<td>155.0</td>\n",
       "<td>0.4701914</td>\n",
       "<td>0.3620056</td>\n",
       "<td>0.2210799</td></tr></table></div>"
      ],
      "text/plain": [
       "     timestamp            duration    number_of_trees    training_rmse        training_mae         training_deviance\n",
       "---  -------------------  ----------  -----------------  -------------------  -------------------  -------------------\n",
       "     2017-02-27 12:29:14  8.189 sec   0.0                0.8900852697964992   0.6768334835644412   0.7922517875087066\n",
       "     2017-02-27 12:29:14  8.194 sec   1.0                0.8599938635695353   0.6513444584238202   0.7395894453772565\n",
       "     2017-02-27 12:29:14  8.198 sec   2.0                0.832155166015879    0.629505141462945    0.6924822203269151\n",
       "     2017-02-27 12:29:14  8.201 sec   3.0                0.8081890079258943   0.6151420544995903   0.6531694725322413\n",
       "     2017-02-27 12:29:14  8.203 sec   4.0                0.7882017744966796   0.6064023639275365   0.6212620373197146\n",
       "---  ---                  ---         ---                ---                  ---                  ---\n",
       "     2017-02-27 12:29:15  8.837 sec   151.0              0.471909447080158    0.36351294804929113  0.22269852624350042\n",
       "     2017-02-27 12:29:15  8.841 sec   152.0              0.4714653360228921   0.3632114256750167   0.22227956307117855\n",
       "     2017-02-27 12:29:15  8.846 sec   153.0              0.4712549202814051   0.3630109109810628   0.22208119988943348\n",
       "     2017-02-27 12:29:15  8.851 sec   154.0              0.47047350317002223  0.36228884946050866  0.22134531718507294\n",
       "     2017-02-27 12:29:15  8.856 sec   155.0              0.470191357665822    0.36200557768890596  0.22107991282362896"
      ]
     },
     "metadata": {},
     "output_type": "display_data"
    },
    {
     "name": "stdout",
     "output_type": "stream",
     "text": [
      "\n",
      "See the whole table with table.as_data_frame()\n",
      "Variable Importances: \n"
     ]
    },
    {
     "data": {
      "text/html": [
       "<div style=\"overflow:auto\"><table style=\"width:50%\"><tr><td><b>variable</b></td>\n",
       "<td><b>relative_importance</b></td>\n",
       "<td><b>scaled_importance</b></td>\n",
       "<td><b>percentage</b></td></tr>\n",
       "<tr><td>alcohol</td>\n",
       "<td>3619.5112305</td>\n",
       "<td>1.0</td>\n",
       "<td>0.3124334</td></tr>\n",
       "<tr><td>volatile acidity</td>\n",
       "<td>1571.8613281</td>\n",
       "<td>0.4342745</td>\n",
       "<td>0.1356818</td></tr>\n",
       "<tr><td>free sulfur dioxide</td>\n",
       "<td>1227.1920166</td>\n",
       "<td>0.3390491</td>\n",
       "<td>0.1059302</td></tr>\n",
       "<tr><td>pH</td>\n",
       "<td>727.2174072</td>\n",
       "<td>0.2009159</td>\n",
       "<td>0.0627728</td></tr>\n",
       "<tr><td>residual sugar</td>\n",
       "<td>694.1660156</td>\n",
       "<td>0.1917845</td>\n",
       "<td>0.0599199</td></tr>\n",
       "<tr><td>total sulfur dioxide</td>\n",
       "<td>680.5446777</td>\n",
       "<td>0.1880212</td>\n",
       "<td>0.0587441</td></tr>\n",
       "<tr><td>fixed acidity</td>\n",
       "<td>664.0781860</td>\n",
       "<td>0.1834718</td>\n",
       "<td>0.0573227</td></tr>\n",
       "<tr><td>density</td>\n",
       "<td>651.0623779</td>\n",
       "<td>0.1798758</td>\n",
       "<td>0.0561992</td></tr>\n",
       "<tr><td>citric acid</td>\n",
       "<td>594.4930420</td>\n",
       "<td>0.1642468</td>\n",
       "<td>0.0513162</td></tr>\n",
       "<tr><td>sulphates</td>\n",
       "<td>592.9971313</td>\n",
       "<td>0.1638335</td>\n",
       "<td>0.0511870</td></tr>\n",
       "<tr><td>chlorides</td>\n",
       "<td>561.7833252</td>\n",
       "<td>0.1552097</td>\n",
       "<td>0.0484927</td></tr></table></div>"
      ],
      "text/plain": [
       "variable              relative_importance    scaled_importance    percentage\n",
       "--------------------  ---------------------  -------------------  ------------\n",
       "alcohol               3619.51                1                    0.312433\n",
       "volatile acidity      1571.86                0.434274             0.135682\n",
       "free sulfur dioxide   1227.19                0.339049             0.10593\n",
       "pH                    727.217                0.200916             0.0627728\n",
       "residual sugar        694.166                0.191784             0.0599199\n",
       "total sulfur dioxide  680.545                0.188021             0.0587441\n",
       "fixed acidity         664.078                0.183472             0.0573227\n",
       "density               651.062                0.179876             0.0561992\n",
       "citric acid           594.493                0.164247             0.0513162\n",
       "sulphates             592.997                0.163833             0.051187\n",
       "chlorides             561.783                0.15521              0.0484927"
      ]
     },
     "metadata": {},
     "output_type": "display_data"
    },
    {
     "data": {
      "text/plain": []
     },
     "execution_count": 16,
     "metadata": {},
     "output_type": "execute_result"
    }
   ],
   "source": [
    "# Check the cross-validation model performance\n",
    "gbm_manual_cv_es"
   ]
  },
  {
   "cell_type": "code",
   "execution_count": 17,
   "metadata": {
    "collapsed": false
   },
   "outputs": [
    {
     "name": "stdout",
     "output_type": "stream",
     "text": [
      "\n",
      "ModelMetricsRegression: gbm\n",
      "** Reported on test data. **\n",
      "\n",
      "MSE: 0.4287344643828695\n",
      "RMSE: 0.6547781795256081\n",
      "MAE: 0.4990124321946826\n",
      "RMSLE: 0.09753734379917677\n",
      "Mean Residual Deviance: 0.4287344643828695\n"
     ]
    },
    {
     "data": {
      "text/plain": []
     },
     "execution_count": 17,
     "metadata": {},
     "output_type": "execute_result"
    }
   ],
   "source": [
    "# Check the model performance on test dataset\n",
    "gbm_manual_cv_es.model_performance(wine_test)"
   ]
  },
  {
   "cell_type": "markdown",
   "metadata": {},
   "source": [
    "<br>\n",
    "\n",
    "## Step 5 - GBM with CV, Early Stopping and Full Grid Search"
   ]
  },
  {
   "cell_type": "code",
   "execution_count": 18,
   "metadata": {
    "collapsed": true
   },
   "outputs": [],
   "source": [
    "# import Grid Search\n",
    "from h2o.grid.grid_search import H2OGridSearch"
   ]
  },
  {
   "cell_type": "code",
   "execution_count": 19,
   "metadata": {
    "collapsed": true
   },
   "outputs": [],
   "source": [
    "# define the criteria for full grid search\n",
    "search_criteria = {'strategy': \"Cartesian\"}"
   ]
  },
  {
   "cell_type": "code",
   "execution_count": 20,
   "metadata": {
    "collapsed": true
   },
   "outputs": [],
   "source": [
    "# define the range of hyper-parameters for grid search\n",
    "hyper_params = {'sample_rate': [0.7, 0.8, 0.9],\n",
    "                'col_sample_rate': [0.7, 0.8, 0.9]}"
   ]
  },
  {
   "cell_type": "code",
   "execution_count": 21,
   "metadata": {
    "collapsed": false
   },
   "outputs": [],
   "source": [
    "# Set up GBM grid search\n",
    "# Add a seed for reproducibility\n",
    "gbm_full_grid = H2OGridSearch(\n",
    "                    H2OGradientBoostingEstimator(\n",
    "                        model_id = 'gbm_full_grid', \n",
    "                        seed = 1234,\n",
    "                        ntrees = 10000,   \n",
    "                        nfolds = 5,\n",
    "                        stopping_metric = 'mse', \n",
    "                        stopping_rounds = 15,     \n",
    "                        score_tree_interval = 1),\n",
    "                    search_criteria = search_criteria, # full grid search\n",
    "                    hyper_params = hyper_params)"
   ]
  },
  {
   "cell_type": "code",
   "execution_count": 22,
   "metadata": {
    "collapsed": false
   },
   "outputs": [
    {
     "name": "stdout",
     "output_type": "stream",
     "text": [
      "gbm Grid Build progress: |████████████████████████████████████████████████| 100%\n"
     ]
    }
   ],
   "source": [
    "# Use .train() to start the grid search\n",
    "gbm_full_grid.train(x = features, \n",
    "                    y = 'quality', \n",
    "                    training_frame = wine_train)"
   ]
  },
  {
   "cell_type": "code",
   "execution_count": 23,
   "metadata": {
    "collapsed": false
   },
   "outputs": [
    {
     "name": "stdout",
     "output_type": "stream",
     "text": [
      "    col_sample_rate sample_rate  \\\n",
      "0               0.8         0.9   \n",
      "1               0.7         0.9   \n",
      "2               0.8         0.8   \n",
      "3               0.9         0.9   \n",
      "4               0.9         0.8   \n",
      "5               0.9         0.7   \n",
      "6               0.7         0.8   \n",
      "7               0.7         0.7   \n",
      "8               0.8         0.7   \n",
      "\n",
      "                                                     model_ids  \\\n",
      "0  Grid_GBM_py_4_sid_b4d8_model_python_1488227334292_1_model_7   \n",
      "1  Grid_GBM_py_4_sid_b4d8_model_python_1488227334292_1_model_6   \n",
      "2  Grid_GBM_py_4_sid_b4d8_model_python_1488227334292_1_model_4   \n",
      "3  Grid_GBM_py_4_sid_b4d8_model_python_1488227334292_1_model_8   \n",
      "4  Grid_GBM_py_4_sid_b4d8_model_python_1488227334292_1_model_5   \n",
      "5  Grid_GBM_py_4_sid_b4d8_model_python_1488227334292_1_model_2   \n",
      "6  Grid_GBM_py_4_sid_b4d8_model_python_1488227334292_1_model_3   \n",
      "7  Grid_GBM_py_4_sid_b4d8_model_python_1488227334292_1_model_0   \n",
      "8  Grid_GBM_py_4_sid_b4d8_model_python_1488227334292_1_model_1   \n",
      "\n",
      "                   mse  \n",
      "0  0.43780785687779805  \n",
      "1  0.44060532786277523  \n",
      "2  0.44096100224896634  \n",
      "3  0.44288792056243054  \n",
      "4  0.44475412455519636  \n",
      "5   0.4457317997358452  \n",
      "6    0.448140619501795  \n",
      "7   0.4528872144586896  \n",
      "8   0.4529771807006373  \n",
      "\n"
     ]
    }
   ],
   "source": [
    "# Sort and show the grid search results\n",
    "gbm_full_grid_sorted = gbm_full_grid.get_grid(sort_by='mse', decreasing=False)\n",
    "print(gbm_full_grid_sorted)"
   ]
  },
  {
   "cell_type": "code",
   "execution_count": 24,
   "metadata": {
    "collapsed": false
   },
   "outputs": [
    {
     "name": "stdout",
     "output_type": "stream",
     "text": [
      "Model Summary: \n"
     ]
    },
    {
     "data": {
      "text/html": [
       "<div style=\"overflow:auto\"><table style=\"width:50%\"><tr><td><b></b></td>\n",
       "<td><b>number_of_trees</b></td>\n",
       "<td><b>number_of_internal_trees</b></td>\n",
       "<td><b>model_size_in_bytes</b></td>\n",
       "<td><b>min_depth</b></td>\n",
       "<td><b>max_depth</b></td>\n",
       "<td><b>mean_depth</b></td>\n",
       "<td><b>min_leaves</b></td>\n",
       "<td><b>max_leaves</b></td>\n",
       "<td><b>mean_leaves</b></td></tr>\n",
       "<tr><td></td>\n",
       "<td>187.0</td>\n",
       "<td>187.0</td>\n",
       "<td>57182.0</td>\n",
       "<td>5.0</td>\n",
       "<td>5.0</td>\n",
       "<td>5.0</td>\n",
       "<td>7.0</td>\n",
       "<td>31.0</td>\n",
       "<td>19.160427</td></tr></table></div>"
      ],
      "text/plain": [
       "    number_of_trees    number_of_internal_trees    model_size_in_bytes    min_depth    max_depth    mean_depth    min_leaves    max_leaves    mean_leaves\n",
       "--  -----------------  --------------------------  ---------------------  -----------  -----------  ------------  ------------  ------------  -------------\n",
       "    187                187                         57182                  5            5            5             7             31            19.1604"
      ]
     },
     "metadata": {},
     "output_type": "display_data"
    },
    {
     "data": {
      "text/plain": []
     },
     "execution_count": 24,
     "metadata": {},
     "output_type": "execute_result"
    }
   ],
   "source": [
    "# Extract the best model from full grid search\n",
    "best_model_id = gbm_full_grid_sorted.model_ids[0]\n",
    "best_gbm_from_full_grid = h2o.get_model(best_model_id)\n",
    "best_gbm_from_full_grid.summary()"
   ]
  },
  {
   "cell_type": "code",
   "execution_count": 25,
   "metadata": {
    "collapsed": false
   },
   "outputs": [
    {
     "name": "stdout",
     "output_type": "stream",
     "text": [
      "\n",
      "ModelMetricsRegression: gbm\n",
      "** Reported on test data. **\n",
      "\n",
      "MSE: 0.4196124030489544\n",
      "RMSE: 0.6477749632773363\n",
      "MAE: 0.48965435078727043\n",
      "RMSLE: 0.09630232810628427\n",
      "Mean Residual Deviance: 0.4196124030489544\n"
     ]
    },
    {
     "data": {
      "text/plain": []
     },
     "execution_count": 25,
     "metadata": {},
     "output_type": "execute_result"
    }
   ],
   "source": [
    "# Check the model performance on test dataset\n",
    "best_gbm_from_full_grid.model_performance(wine_test)"
   ]
  },
  {
   "cell_type": "markdown",
   "metadata": {},
   "source": [
    "## GBM with CV, Early Stopping and Random Grid Search"
   ]
  },
  {
   "cell_type": "code",
   "execution_count": 26,
   "metadata": {
    "collapsed": true
   },
   "outputs": [],
   "source": [
    "# define the criteria for random grid search\n",
    "search_criteria = {'strategy': \"RandomDiscrete\", \n",
    "                   'max_models': 9,\n",
    "                   'seed': 1234}"
   ]
  },
  {
   "cell_type": "code",
   "execution_count": 27,
   "metadata": {
    "collapsed": true
   },
   "outputs": [],
   "source": [
    "# define the range of hyper-parameters for grid search\n",
    "# 27 combinations in total\n",
    "hyper_params = {'sample_rate': [0.7, 0.8, 0.9],\n",
    "                'col_sample_rate': [0.7, 0.8, 0.9],\n",
    "                'max_depth': [3, 5, 7]}"
   ]
  },
  {
   "cell_type": "code",
   "execution_count": 28,
   "metadata": {
    "collapsed": true
   },
   "outputs": [],
   "source": [
    "# Set up GBM grid search\n",
    "# Add a seed for reproducibility\n",
    "gbm_rand_grid = H2OGridSearch(\n",
    "                    H2OGradientBoostingEstimator(\n",
    "                        model_id = 'gbm_rand_grid', \n",
    "                        seed = 1234,\n",
    "                        ntrees = 10000,   \n",
    "                        nfolds = 5,\n",
    "                        stopping_metric = 'mse', \n",
    "                        stopping_rounds = 15,     \n",
    "                        score_tree_interval = 1),\n",
    "                    search_criteria = search_criteria, # full grid search\n",
    "                    hyper_params = hyper_params)"
   ]
  },
  {
   "cell_type": "code",
   "execution_count": 29,
   "metadata": {
    "collapsed": false
   },
   "outputs": [
    {
     "name": "stdout",
     "output_type": "stream",
     "text": [
      "gbm Grid Build progress: |████████████████████████████████████████████████| 100%\n"
     ]
    }
   ],
   "source": [
    "# Use .train() to start the grid search\n",
    "gbm_rand_grid.train(x = features, \n",
    "                    y = 'quality', \n",
    "                    training_frame = wine_train)"
   ]
  },
  {
   "cell_type": "code",
   "execution_count": 30,
   "metadata": {
    "collapsed": false
   },
   "outputs": [
    {
     "name": "stdout",
     "output_type": "stream",
     "text": [
      "    col_sample_rate max_depth sample_rate  \\\n",
      "0               0.9         7         0.9   \n",
      "1               0.7         7         0.7   \n",
      "2               0.9         7         0.7   \n",
      "3               0.8         7         0.7   \n",
      "4               0.7         5         0.8   \n",
      "5               0.8         3         0.9   \n",
      "6               0.9         3         0.9   \n",
      "7               0.8         3         0.8   \n",
      "8               0.7         3         0.7   \n",
      "\n",
      "                                                     model_ids  \\\n",
      "0  Grid_GBM_py_4_sid_b4d8_model_python_1488227334292_2_model_5   \n",
      "1  Grid_GBM_py_4_sid_b4d8_model_python_1488227334292_2_model_1   \n",
      "2  Grid_GBM_py_4_sid_b4d8_model_python_1488227334292_2_model_6   \n",
      "3  Grid_GBM_py_4_sid_b4d8_model_python_1488227334292_2_model_4   \n",
      "4  Grid_GBM_py_4_sid_b4d8_model_python_1488227334292_2_model_0   \n",
      "5  Grid_GBM_py_4_sid_b4d8_model_python_1488227334292_2_model_7   \n",
      "6  Grid_GBM_py_4_sid_b4d8_model_python_1488227334292_2_model_2   \n",
      "7  Grid_GBM_py_4_sid_b4d8_model_python_1488227334292_2_model_3   \n",
      "8  Grid_GBM_py_4_sid_b4d8_model_python_1488227334292_2_model_8   \n",
      "\n",
      "                   mse  \n",
      "0   0.4227388012308513  \n",
      "1   0.4327748309201154  \n",
      "2   0.4369533108701783  \n",
      "3   0.4397321318633594  \n",
      "4    0.448140619501795  \n",
      "5   0.4647039373596571  \n",
      "6   0.4690321721360509  \n",
      "7  0.47384072192391513  \n",
      "8  0.47745552186979223  \n",
      "\n"
     ]
    }
   ],
   "source": [
    "# Sort and show the grid search results\n",
    "gbm_rand_grid_sorted = gbm_rand_grid.get_grid(sort_by='mse', decreasing=False)\n",
    "print(gbm_rand_grid_sorted)"
   ]
  },
  {
   "cell_type": "code",
   "execution_count": 35,
   "metadata": {
    "collapsed": false
   },
   "outputs": [
    {
     "name": "stdout",
     "output_type": "stream",
     "text": [
      "Model Summary: \n"
     ]
    },
    {
     "data": {
      "text/html": [
       "<div style=\"overflow:auto\"><table style=\"width:50%\"><tr><td><b></b></td>\n",
       "<td><b>number_of_trees</b></td>\n",
       "<td><b>number_of_internal_trees</b></td>\n",
       "<td><b>model_size_in_bytes</b></td>\n",
       "<td><b>min_depth</b></td>\n",
       "<td><b>max_depth</b></td>\n",
       "<td><b>mean_depth</b></td>\n",
       "<td><b>min_leaves</b></td>\n",
       "<td><b>max_leaves</b></td>\n",
       "<td><b>mean_leaves</b></td></tr>\n",
       "<tr><td></td>\n",
       "<td>142.0</td>\n",
       "<td>142.0</td>\n",
       "<td>87926.0</td>\n",
       "<td>7.0</td>\n",
       "<td>7.0</td>\n",
       "<td>7.0</td>\n",
       "<td>16.0</td>\n",
       "<td>82.0</td>\n",
       "<td>44.049297</td></tr></table></div>"
      ],
      "text/plain": [
       "    number_of_trees    number_of_internal_trees    model_size_in_bytes    min_depth    max_depth    mean_depth    min_leaves    max_leaves    mean_leaves\n",
       "--  -----------------  --------------------------  ---------------------  -----------  -----------  ------------  ------------  ------------  -------------\n",
       "    142                142                         87926                  7            7            7             16            82            44.0493"
      ]
     },
     "metadata": {},
     "output_type": "display_data"
    },
    {
     "data": {
      "text/plain": []
     },
     "execution_count": 35,
     "metadata": {},
     "output_type": "execute_result"
    }
   ],
   "source": [
    "# Extract the best model from random grid search\n",
    "best_model_id = gbm_rand_grid_sorted.model_ids[0]\n",
    "best_gbm_from_rand_grid = h2o.get_model(best_model_id)\n",
    "best_gbm_from_rand_grid.summary()"
   ]
  },
  {
   "cell_type": "code",
   "execution_count": 36,
   "metadata": {
    "collapsed": false
   },
   "outputs": [
    {
     "name": "stdout",
     "output_type": "stream",
     "text": [
      "\n",
      "ModelMetricsRegression: gbm\n",
      "** Reported on test data. **\n",
      "\n",
      "MSE: 0.4047189762404106\n",
      "RMSE: 0.636175271635428\n",
      "MAE: 0.47321498369668896\n",
      "RMSLE: 0.09498904157909563\n",
      "Mean Residual Deviance: 0.4047189762404106\n"
     ]
    },
    {
     "data": {
      "text/plain": []
     },
     "execution_count": 36,
     "metadata": {},
     "output_type": "execute_result"
    }
   ],
   "source": [
    "# Check the model performance on test dataset\n",
    "best_gbm_from_rand_grid.model_performance(wine_test)"
   ]
  },
  {
   "cell_type": "markdown",
   "metadata": {
    "collapsed": true
   },
   "source": [
    "<br>"
   ]
  },
  {
   "cell_type": "markdown",
   "metadata": {},
   "source": [
    "## Comparison of Model Performance on Test Data"
   ]
  },
  {
   "cell_type": "code",
   "execution_count": 37,
   "metadata": {
    "collapsed": false,
    "scrolled": true
   },
   "outputs": [
    {
     "name": "stdout",
     "output_type": "stream",
     "text": [
      "GBM with Default Settings                        : 0.45511211588709155\n",
      "GBM with Manual Settings                         : 0.44325665649714924\n",
      "GBM with Manual Settings & CV                    : 0.44325665649714924\n",
      "GBM with Manual Settings, CV & Early Stopping    : 0.4287344643828695\n",
      "GBM with CV, Early Stopping & Full Grid Search   : 0.4196124030489544\n",
      "GBM with CV, Early Stopping & Random Grid Search : 0.4047189762404106\n"
     ]
    }
   ],
   "source": [
    "print('GBM with Default Settings                        :', gbm_default.model_performance(wine_test).mse())\n",
    "print('GBM with Manual Settings                         :', gbm_manual.model_performance(wine_test).mse())\n",
    "print('GBM with Manual Settings & CV                    :', gbm_manual_cv.model_performance(wine_test).mse())\n",
    "print('GBM with Manual Settings, CV & Early Stopping    :', gbm_manual_cv_es.model_performance(wine_test).mse())\n",
    "print('GBM with CV, Early Stopping & Full Grid Search   :', \n",
    "          best_gbm_from_full_grid.model_performance(wine_test).mse())\n",
    "print('GBM with CV, Early Stopping & Random Grid Search :', \n",
    "          best_gbm_from_rand_grid.model_performance(wine_test).mse())"
   ]
  },
  {
   "cell_type": "markdown",
   "metadata": {},
   "source": [
    "<br>"
   ]
  }
 ],
 "metadata": {
  "anaconda-cloud": {},
  "kernelspec": {
   "display_name": "Python [conda root]",
   "language": "python",
   "name": "conda-root-py"
  },
  "language_info": {
   "codemirror_mode": {
    "name": "ipython",
    "version": 3
   },
   "file_extension": ".py",
   "mimetype": "text/x-python",
   "name": "python",
   "nbconvert_exporter": "python",
   "pygments_lexer": "ipython3",
   "version": "3.5.2"
  }
 },
 "nbformat": 4,
 "nbformat_minor": 1
}
