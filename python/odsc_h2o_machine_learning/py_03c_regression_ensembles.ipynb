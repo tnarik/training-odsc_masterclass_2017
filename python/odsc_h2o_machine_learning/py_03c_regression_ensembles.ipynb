{
 "cells": [
  {
   "cell_type": "markdown",
   "metadata": {},
   "source": [
    "# Machine Learning with H2O - Tutorial 3c: Regression Models (Ensembles)\n",
    "\n",
    "<hr>\n",
    "\n",
    "**Objective**:\n",
    "\n",
    "- This tutorial explains how to create stacked ensembles of regression models for better out-of-bag performance.\n",
    "\n",
    "<hr>\n",
    "\n",
    "**Wine Quality Dataset:**\n",
    "\n",
    "- Source: https://archive.ics.uci.edu/ml/datasets/Wine+Quality\n",
    "- CSV (https://archive.ics.uci.edu/ml/machine-learning-databases/wine-quality/winequality-white.csv)\n",
    "\n",
    "<hr>\n",
    "    \n",
    "**Steps**:\n",
    "\n",
    "1. Build GBM models using random grid search and extract the best one.\n",
    "2. Build DRF models using random grid search and extract the best one. \n",
    "3. Build DNN models using random grid search and extract the best one.\n",
    "4. Use model stacking to combining different models.\n",
    "\n",
    "\n",
    "<hr>\n",
    "\n",
    "**Full Technical Reference:**\n",
    "\n",
    "- http://docs.h2o.ai/h2o/latest-stable/h2o-py/docs/modeling.html\n",
    "- http://docs.h2o.ai/h2o/latest-stable/h2o-docs/data-science/stacked-ensembles.html\n",
    "\n",
    "<br>\n"
   ]
  },
  {
   "cell_type": "code",
   "execution_count": 1,
   "metadata": {
    "collapsed": false,
    "scrolled": false
   },
   "outputs": [
    {
     "name": "stdout",
     "output_type": "stream",
     "text": [
      "Checking whether there is an H2O instance running at http://localhost:54321..... not found.\n",
      "Attempting to start a local H2O server...\n",
      "  Java Version: java version \"1.8.0_121\"; Java(TM) SE Runtime Environment (build 1.8.0_121-b13); Java HotSpot(TM) 64-Bit Server VM (build 25.121-b13, mixed mode)\n",
      "  Starting server from /home/joe/anaconda3/lib/python3.5/site-packages/h2o/backend/bin/h2o.jar\n",
      "  Ice root: /tmp/tmp4263amk3\n",
      "  JVM stdout: /tmp/tmp4263amk3/h2o_joe_started_from_python.out\n",
      "  JVM stderr: /tmp/tmp4263amk3/h2o_joe_started_from_python.err\n",
      "  Server is running at http://127.0.0.1:54321\n",
      "Connecting to H2O server at http://127.0.0.1:54321... successful.\n"
     ]
    },
    {
     "data": {
      "text/html": [
       "<div style=\"overflow:auto\"><table style=\"width:50%\"><tr><td>H2O cluster uptime:</td>\n",
       "<td>02 secs</td></tr>\n",
       "<tr><td>H2O cluster version:</td>\n",
       "<td>3.10.3.5</td></tr>\n",
       "<tr><td>H2O cluster version age:</td>\n",
       "<td>10 days </td></tr>\n",
       "<tr><td>H2O cluster name:</td>\n",
       "<td>H2O_from_python_joe_l4c5hl</td></tr>\n",
       "<tr><td>H2O cluster total nodes:</td>\n",
       "<td>1</td></tr>\n",
       "<tr><td>H2O cluster free memory:</td>\n",
       "<td>5.210 Gb</td></tr>\n",
       "<tr><td>H2O cluster total cores:</td>\n",
       "<td>8</td></tr>\n",
       "<tr><td>H2O cluster allowed cores:</td>\n",
       "<td>8</td></tr>\n",
       "<tr><td>H2O cluster status:</td>\n",
       "<td>accepting new members, healthy</td></tr>\n",
       "<tr><td>H2O connection url:</td>\n",
       "<td>http://127.0.0.1:54321</td></tr>\n",
       "<tr><td>H2O connection proxy:</td>\n",
       "<td>None</td></tr>\n",
       "<tr><td>Python version:</td>\n",
       "<td>3.5.2 final</td></tr></table></div>"
      ],
      "text/plain": [
       "--------------------------  ------------------------------\n",
       "H2O cluster uptime:         02 secs\n",
       "H2O cluster version:        3.10.3.5\n",
       "H2O cluster version age:    10 days\n",
       "H2O cluster name:           H2O_from_python_joe_l4c5hl\n",
       "H2O cluster total nodes:    1\n",
       "H2O cluster free memory:    5.210 Gb\n",
       "H2O cluster total cores:    8\n",
       "H2O cluster allowed cores:  8\n",
       "H2O cluster status:         accepting new members, healthy\n",
       "H2O connection url:         http://127.0.0.1:54321\n",
       "H2O connection proxy:\n",
       "Python version:             3.5.2 final\n",
       "--------------------------  ------------------------------"
      ]
     },
     "metadata": {},
     "output_type": "display_data"
    }
   ],
   "source": [
    "# Import all required modules\n",
    "import h2o\n",
    "from h2o.estimators.gbm import H2OGradientBoostingEstimator\n",
    "from h2o.estimators.random_forest import H2ORandomForestEstimator\n",
    "from h2o.estimators.deeplearning import H2ODeepLearningEstimator\n",
    "from h2o.estimators.stackedensemble import H2OStackedEnsembleEstimator\n",
    "from h2o.grid.grid_search import H2OGridSearch\n",
    "\n",
    "# Start and connect to a local H2O cluster\n",
    "h2o.init(nthreads = -1)"
   ]
  },
  {
   "cell_type": "markdown",
   "metadata": {},
   "source": [
    "<br>"
   ]
  },
  {
   "cell_type": "code",
   "execution_count": 2,
   "metadata": {
    "collapsed": false
   },
   "outputs": [
    {
     "name": "stdout",
     "output_type": "stream",
     "text": [
      "Parse progress: |█████████████████████████████████████████████████████████| 100%\n"
     ]
    },
    {
     "data": {
      "text/html": [
       "<table>\n",
       "<thead>\n",
       "<tr><th style=\"text-align: right;\">  fixed acidity</th><th style=\"text-align: right;\">  volatile acidity</th><th style=\"text-align: right;\">  citric acid</th><th style=\"text-align: right;\">  residual sugar</th><th style=\"text-align: right;\">  chlorides</th><th style=\"text-align: right;\">  free sulfur dioxide</th><th style=\"text-align: right;\">  total sulfur dioxide</th><th style=\"text-align: right;\">  density</th><th style=\"text-align: right;\">  pH</th><th style=\"text-align: right;\">  sulphates</th><th style=\"text-align: right;\">  alcohol</th><th style=\"text-align: right;\">  quality</th></tr>\n",
       "</thead>\n",
       "<tbody>\n",
       "<tr><td style=\"text-align: right;\">            7  </td><td style=\"text-align: right;\">              0.27</td><td style=\"text-align: right;\">         0.36</td><td style=\"text-align: right;\">            20.7</td><td style=\"text-align: right;\">      0.045</td><td style=\"text-align: right;\">                   45</td><td style=\"text-align: right;\">                   170</td><td style=\"text-align: right;\">   1.001 </td><td style=\"text-align: right;\">3   </td><td style=\"text-align: right;\">       0.45</td><td style=\"text-align: right;\">      8.8</td><td style=\"text-align: right;\">        6</td></tr>\n",
       "<tr><td style=\"text-align: right;\">            6.3</td><td style=\"text-align: right;\">              0.3 </td><td style=\"text-align: right;\">         0.34</td><td style=\"text-align: right;\">             1.6</td><td style=\"text-align: right;\">      0.049</td><td style=\"text-align: right;\">                   14</td><td style=\"text-align: right;\">                   132</td><td style=\"text-align: right;\">   0.994 </td><td style=\"text-align: right;\">3.3 </td><td style=\"text-align: right;\">       0.49</td><td style=\"text-align: right;\">      9.5</td><td style=\"text-align: right;\">        6</td></tr>\n",
       "<tr><td style=\"text-align: right;\">            8.1</td><td style=\"text-align: right;\">              0.28</td><td style=\"text-align: right;\">         0.4 </td><td style=\"text-align: right;\">             6.9</td><td style=\"text-align: right;\">      0.05 </td><td style=\"text-align: right;\">                   30</td><td style=\"text-align: right;\">                    97</td><td style=\"text-align: right;\">   0.9951</td><td style=\"text-align: right;\">3.26</td><td style=\"text-align: right;\">       0.44</td><td style=\"text-align: right;\">     10.1</td><td style=\"text-align: right;\">        6</td></tr>\n",
       "<tr><td style=\"text-align: right;\">            7.2</td><td style=\"text-align: right;\">              0.23</td><td style=\"text-align: right;\">         0.32</td><td style=\"text-align: right;\">             8.5</td><td style=\"text-align: right;\">      0.058</td><td style=\"text-align: right;\">                   47</td><td style=\"text-align: right;\">                   186</td><td style=\"text-align: right;\">   0.9956</td><td style=\"text-align: right;\">3.19</td><td style=\"text-align: right;\">       0.4 </td><td style=\"text-align: right;\">      9.9</td><td style=\"text-align: right;\">        6</td></tr>\n",
       "<tr><td style=\"text-align: right;\">            7.2</td><td style=\"text-align: right;\">              0.23</td><td style=\"text-align: right;\">         0.32</td><td style=\"text-align: right;\">             8.5</td><td style=\"text-align: right;\">      0.058</td><td style=\"text-align: right;\">                   47</td><td style=\"text-align: right;\">                   186</td><td style=\"text-align: right;\">   0.9956</td><td style=\"text-align: right;\">3.19</td><td style=\"text-align: right;\">       0.4 </td><td style=\"text-align: right;\">      9.9</td><td style=\"text-align: right;\">        6</td></tr>\n",
       "</tbody>\n",
       "</table>"
      ]
     },
     "metadata": {},
     "output_type": "display_data"
    },
    {
     "data": {
      "text/plain": []
     },
     "execution_count": 2,
     "metadata": {},
     "output_type": "execute_result"
    }
   ],
   "source": [
    "# Import wine quality data from a local CSV file\n",
    "wine = h2o.import_file(\"winequality-white.csv\")\n",
    "wine.head(5)"
   ]
  },
  {
   "cell_type": "code",
   "execution_count": 3,
   "metadata": {
    "collapsed": false
   },
   "outputs": [
    {
     "data": {
      "text/plain": [
       "['fixed acidity',\n",
       " 'volatile acidity',\n",
       " 'citric acid',\n",
       " 'residual sugar',\n",
       " 'chlorides',\n",
       " 'free sulfur dioxide',\n",
       " 'total sulfur dioxide',\n",
       " 'density',\n",
       " 'pH',\n",
       " 'sulphates',\n",
       " 'alcohol']"
      ]
     },
     "execution_count": 3,
     "metadata": {},
     "output_type": "execute_result"
    }
   ],
   "source": [
    "# Define features (or predictors)\n",
    "features = list(wine.columns) # we want to use all the information\n",
    "features.remove('quality')    # we need to exclude the target 'quality' (otherwise there is nothing to predict)\n",
    "features"
   ]
  },
  {
   "cell_type": "code",
   "execution_count": 4,
   "metadata": {
    "collapsed": false
   },
   "outputs": [],
   "source": [
    "# Split the H2O data frame into training/test sets\n",
    "# so we can evaluate out-of-bag performance\n",
    "wine_split = wine.split_frame(ratios = [0.8], seed = 1234)\n",
    "\n",
    "wine_train = wine_split[0] # using 80% for training\n",
    "wine_test = wine_split[1]  # using the rest 20% for out-of-bag evaluation"
   ]
  },
  {
   "cell_type": "code",
   "execution_count": 5,
   "metadata": {
    "collapsed": false
   },
   "outputs": [
    {
     "data": {
      "text/plain": [
       "(3932, 12)"
      ]
     },
     "execution_count": 5,
     "metadata": {},
     "output_type": "execute_result"
    }
   ],
   "source": [
    "wine_train.shape"
   ]
  },
  {
   "cell_type": "code",
   "execution_count": 6,
   "metadata": {
    "collapsed": false
   },
   "outputs": [
    {
     "data": {
      "text/plain": [
       "(966, 12)"
      ]
     },
     "execution_count": 6,
     "metadata": {},
     "output_type": "execute_result"
    }
   ],
   "source": [
    "wine_test.shape"
   ]
  },
  {
   "cell_type": "markdown",
   "metadata": {},
   "source": [
    "<br>"
   ]
  },
  {
   "cell_type": "markdown",
   "metadata": {},
   "source": [
    "## Define Search Criteria for Random Grid Search"
   ]
  },
  {
   "cell_type": "code",
   "execution_count": 7,
   "metadata": {
    "collapsed": true
   },
   "outputs": [],
   "source": [
    "# define the criteria for random grid search\n",
    "search_criteria = {'strategy': \"RandomDiscrete\", \n",
    "                   'max_models': 9,\n",
    "                   'seed': 1234}"
   ]
  },
  {
   "cell_type": "markdown",
   "metadata": {},
   "source": [
    "<br>"
   ]
  },
  {
   "cell_type": "markdown",
   "metadata": {},
   "source": [
    "## Step 1: Build GBM Models using Random Grid Search and Extract the Best Model"
   ]
  },
  {
   "cell_type": "code",
   "execution_count": 8,
   "metadata": {
    "collapsed": true
   },
   "outputs": [],
   "source": [
    "# define the range of hyper-parameters for GBM grid search\n",
    "# 27 combinations in total\n",
    "hyper_params = {'sample_rate': [0.7, 0.8, 0.9],\n",
    "                'col_sample_rate': [0.7, 0.8, 0.9],\n",
    "                'max_depth': [3, 5, 7]}"
   ]
  },
  {
   "cell_type": "code",
   "execution_count": 9,
   "metadata": {
    "collapsed": false
   },
   "outputs": [],
   "source": [
    "# Set up GBM grid search\n",
    "# Add a seed for reproducibility\n",
    "gbm_rand_grid = H2OGridSearch(\n",
    "                    H2OGradientBoostingEstimator(\n",
    "                        model_id = 'gbm_rand_grid', \n",
    "                        seed = 1234,\n",
    "                        ntrees = 10000,   \n",
    "                        nfolds = 5,\n",
    "                        fold_assignment = \"Modulo\",               # needed for stacked ensembles\n",
    "                        keep_cross_validation_predictions = True, # needed for stacked ensembles\n",
    "                        stopping_metric = 'mse', \n",
    "                        stopping_rounds = 15,     \n",
    "                        score_tree_interval = 1),\n",
    "                    search_criteria = search_criteria, \n",
    "                    hyper_params = hyper_params)"
   ]
  },
  {
   "cell_type": "code",
   "execution_count": 10,
   "metadata": {
    "collapsed": false
   },
   "outputs": [
    {
     "name": "stdout",
     "output_type": "stream",
     "text": [
      "gbm Grid Build progress: |████████████████████████████████████████████████| 100%\n"
     ]
    }
   ],
   "source": [
    "# Use .train() to start the grid search\n",
    "gbm_rand_grid.train(x = features, \n",
    "                    y = 'quality', \n",
    "                    training_frame = wine_train)"
   ]
  },
  {
   "cell_type": "code",
   "execution_count": 11,
   "metadata": {
    "collapsed": false
   },
   "outputs": [
    {
     "name": "stdout",
     "output_type": "stream",
     "text": [
      "    col_sample_rate max_depth sample_rate  \\\n",
      "0               0.9         7         0.9   \n",
      "1               0.8         7         0.7   \n",
      "2               0.7         7         0.7   \n",
      "3               0.9         7         0.7   \n",
      "4               0.7         5         0.8   \n",
      "5               0.8         3         0.9   \n",
      "6               0.7         3         0.7   \n",
      "7               0.9         3         0.9   \n",
      "8               0.8         3         0.8   \n",
      "\n",
      "                                                     model_ids  \\\n",
      "0  Grid_GBM_py_4_sid_b750_model_python_1488375879395_1_model_5   \n",
      "1  Grid_GBM_py_4_sid_b750_model_python_1488375879395_1_model_4   \n",
      "2  Grid_GBM_py_4_sid_b750_model_python_1488375879395_1_model_1   \n",
      "3  Grid_GBM_py_4_sid_b750_model_python_1488375879395_1_model_6   \n",
      "4  Grid_GBM_py_4_sid_b750_model_python_1488375879395_1_model_0   \n",
      "5  Grid_GBM_py_4_sid_b750_model_python_1488375879395_1_model_7   \n",
      "6  Grid_GBM_py_4_sid_b750_model_python_1488375879395_1_model_8   \n",
      "7  Grid_GBM_py_4_sid_b750_model_python_1488375879395_1_model_2   \n",
      "8  Grid_GBM_py_4_sid_b750_model_python_1488375879395_1_model_3   \n",
      "\n",
      "                   mse  \n",
      "0  0.41467703216892454  \n",
      "1   0.4188744246328386  \n",
      "2  0.42294704197026883  \n",
      "3   0.4285238866231086  \n",
      "4  0.44601214899796604  \n",
      "5  0.46338551281728263  \n",
      "6   0.4681243149102324  \n",
      "7  0.46849996267402233  \n",
      "8   0.4690100493856379  \n",
      "\n"
     ]
    }
   ],
   "source": [
    "# Sort and show the grid search results\n",
    "gbm_rand_grid_sorted = gbm_rand_grid.get_grid(sort_by='mse', decreasing=False)\n",
    "print(gbm_rand_grid_sorted)"
   ]
  },
  {
   "cell_type": "code",
   "execution_count": 12,
   "metadata": {
    "collapsed": false
   },
   "outputs": [
    {
     "name": "stdout",
     "output_type": "stream",
     "text": [
      "Model Summary: \n"
     ]
    },
    {
     "data": {
      "text/html": [
       "<div style=\"overflow:auto\"><table style=\"width:50%\"><tr><td><b></b></td>\n",
       "<td><b>number_of_trees</b></td>\n",
       "<td><b>number_of_internal_trees</b></td>\n",
       "<td><b>model_size_in_bytes</b></td>\n",
       "<td><b>min_depth</b></td>\n",
       "<td><b>max_depth</b></td>\n",
       "<td><b>mean_depth</b></td>\n",
       "<td><b>min_leaves</b></td>\n",
       "<td><b>max_leaves</b></td>\n",
       "<td><b>mean_leaves</b></td></tr>\n",
       "<tr><td></td>\n",
       "<td>168.0</td>\n",
       "<td>168.0</td>\n",
       "<td>103538.0</td>\n",
       "<td>7.0</td>\n",
       "<td>7.0</td>\n",
       "<td>7.0</td>\n",
       "<td>13.0</td>\n",
       "<td>82.0</td>\n",
       "<td>43.809525</td></tr></table></div>"
      ],
      "text/plain": [
       "    number_of_trees    number_of_internal_trees    model_size_in_bytes    min_depth    max_depth    mean_depth    min_leaves    max_leaves    mean_leaves\n",
       "--  -----------------  --------------------------  ---------------------  -----------  -----------  ------------  ------------  ------------  -------------\n",
       "    168                168                         103538                 7            7            7             13            82            43.8095"
      ]
     },
     "metadata": {},
     "output_type": "display_data"
    },
    {
     "data": {
      "text/plain": []
     },
     "execution_count": 12,
     "metadata": {},
     "output_type": "execute_result"
    }
   ],
   "source": [
    "# Extract the best model from random grid search\n",
    "best_gbm_model_id = gbm_rand_grid_sorted.model_ids[0]\n",
    "best_gbm_from_rand_grid = h2o.get_model(best_gbm_model_id)\n",
    "best_gbm_from_rand_grid.summary()"
   ]
  },
  {
   "cell_type": "markdown",
   "metadata": {
    "collapsed": true
   },
   "source": [
    "<br>"
   ]
  },
  {
   "cell_type": "markdown",
   "metadata": {},
   "source": [
    "## Step 2: Build DRF Models using Random Grid Search and Extract the Best Model"
   ]
  },
  {
   "cell_type": "code",
   "execution_count": 13,
   "metadata": {
    "collapsed": true
   },
   "outputs": [],
   "source": [
    "# define the range of hyper-parameters for DRF grid search\n",
    "# 27 combinations in total\n",
    "hyper_params = {'sample_rate': [0.5, 0.6, 0.7],\n",
    "                'col_sample_rate_per_tree': [0.7, 0.8, 0.9],\n",
    "                'max_depth': [3, 5, 7]}"
   ]
  },
  {
   "cell_type": "code",
   "execution_count": 14,
   "metadata": {
    "collapsed": false
   },
   "outputs": [],
   "source": [
    "# Set up DRF grid search\n",
    "# Add a seed for reproducibility\n",
    "drf_rand_grid = H2OGridSearch(\n",
    "                    H2ORandomForestEstimator(\n",
    "                        model_id = 'drf_rand_grid', \n",
    "                        seed = 1234,\n",
    "                        ntrees = 200,   \n",
    "                        nfolds = 5,\n",
    "                        fold_assignment = \"Modulo\",                 # needed for stacked ensembles\n",
    "                        keep_cross_validation_predictions = True),  # needed for stacked ensembles\n",
    "                    search_criteria = search_criteria, \n",
    "                    hyper_params = hyper_params)"
   ]
  },
  {
   "cell_type": "code",
   "execution_count": 15,
   "metadata": {
    "collapsed": false
   },
   "outputs": [
    {
     "name": "stdout",
     "output_type": "stream",
     "text": [
      "drf Grid Build progress: |████████████████████████████████████████████████| 100%\n"
     ]
    }
   ],
   "source": [
    "# Use .train() to start the grid search\n",
    "drf_rand_grid.train(x = features, \n",
    "                    y = 'quality', \n",
    "                    training_frame = wine_train)"
   ]
  },
  {
   "cell_type": "code",
   "execution_count": 16,
   "metadata": {
    "collapsed": false
   },
   "outputs": [
    {
     "name": "stdout",
     "output_type": "stream",
     "text": [
      "    col_sample_rate_per_tree max_depth sample_rate  \\\n",
      "0                        0.9         7         0.7   \n",
      "1                        0.9         7         0.5   \n",
      "2                        0.8         7         0.5   \n",
      "3                        0.7         7         0.5   \n",
      "4                        0.7         5         0.6   \n",
      "5                        0.9         3         0.7   \n",
      "6                        0.8         3         0.6   \n",
      "7                        0.8         3         0.7   \n",
      "8                        0.7         3         0.5   \n",
      "\n",
      "                                                     model_ids  \\\n",
      "0  Grid_DRF_py_4_sid_b750_model_python_1488375879395_2_model_5   \n",
      "1  Grid_DRF_py_4_sid_b750_model_python_1488375879395_2_model_6   \n",
      "2  Grid_DRF_py_4_sid_b750_model_python_1488375879395_2_model_4   \n",
      "3  Grid_DRF_py_4_sid_b750_model_python_1488375879395_2_model_1   \n",
      "4  Grid_DRF_py_4_sid_b750_model_python_1488375879395_2_model_0   \n",
      "5  Grid_DRF_py_4_sid_b750_model_python_1488375879395_2_model_2   \n",
      "6  Grid_DRF_py_4_sid_b750_model_python_1488375879395_2_model_3   \n",
      "7  Grid_DRF_py_4_sid_b750_model_python_1488375879395_2_model_7   \n",
      "8  Grid_DRF_py_4_sid_b750_model_python_1488375879395_2_model_8   \n",
      "\n",
      "                   mse  \n",
      "0  0.48533899185762636  \n",
      "1    0.487315432336594  \n",
      "2  0.49004168463947945  \n",
      "3   0.4927544483353685  \n",
      "4   0.5307039662299886  \n",
      "5   0.5846039939024897  \n",
      "6   0.5850640013528532  \n",
      "7   0.5855927668634072  \n",
      "8   0.5857362760598669  \n",
      "\n"
     ]
    }
   ],
   "source": [
    "# Sort and show the grid search results\n",
    "drf_rand_grid_sorted = drf_rand_grid.get_grid(sort_by='mse', decreasing=False)\n",
    "print(drf_rand_grid_sorted)"
   ]
  },
  {
   "cell_type": "code",
   "execution_count": 17,
   "metadata": {
    "collapsed": false
   },
   "outputs": [
    {
     "name": "stdout",
     "output_type": "stream",
     "text": [
      "Model Summary: \n"
     ]
    },
    {
     "data": {
      "text/html": [
       "<div style=\"overflow:auto\"><table style=\"width:50%\"><tr><td><b></b></td>\n",
       "<td><b>number_of_trees</b></td>\n",
       "<td><b>number_of_internal_trees</b></td>\n",
       "<td><b>model_size_in_bytes</b></td>\n",
       "<td><b>min_depth</b></td>\n",
       "<td><b>max_depth</b></td>\n",
       "<td><b>mean_depth</b></td>\n",
       "<td><b>min_leaves</b></td>\n",
       "<td><b>max_leaves</b></td>\n",
       "<td><b>mean_leaves</b></td></tr>\n",
       "<tr><td></td>\n",
       "<td>200.0</td>\n",
       "<td>200.0</td>\n",
       "<td>239751.0</td>\n",
       "<td>7.0</td>\n",
       "<td>7.0</td>\n",
       "<td>7.0</td>\n",
       "<td>70.0</td>\n",
       "<td>111.0</td>\n",
       "<td>90.265</td></tr></table></div>"
      ],
      "text/plain": [
       "    number_of_trees    number_of_internal_trees    model_size_in_bytes    min_depth    max_depth    mean_depth    min_leaves    max_leaves    mean_leaves\n",
       "--  -----------------  --------------------------  ---------------------  -----------  -----------  ------------  ------------  ------------  -------------\n",
       "    200                200                         239751                 7            7            7             70            111           90.265"
      ]
     },
     "metadata": {},
     "output_type": "display_data"
    },
    {
     "data": {
      "text/plain": []
     },
     "execution_count": 17,
     "metadata": {},
     "output_type": "execute_result"
    }
   ],
   "source": [
    "# Extract the best model from random grid search\n",
    "best_drf_model_id = drf_rand_grid_sorted.model_ids[0]\n",
    "best_drf_from_rand_grid = h2o.get_model(best_drf_model_id)\n",
    "best_drf_from_rand_grid.summary()"
   ]
  },
  {
   "cell_type": "markdown",
   "metadata": {
    "collapsed": true
   },
   "source": [
    "<br>"
   ]
  },
  {
   "cell_type": "markdown",
   "metadata": {
    "collapsed": true
   },
   "source": [
    "## Step 3: Build DNN Models using Random Grid Search and Extract the Best Model"
   ]
  },
  {
   "cell_type": "code",
   "execution_count": 18,
   "metadata": {
    "collapsed": true
   },
   "outputs": [],
   "source": [
    "# define the range of hyper-parameters for DNN grid search\n",
    "# 81 combinations in total\n",
    "hyper_params = {'activation': ['tanh', 'rectifier', 'maxout'],\n",
    "                'hidden': [[50], [50,50], [50,50,50]],\n",
    "                'l1': [0, 1e-3, 1e-5],\n",
    "                'l2': [0, 1e-3, 1e-5]}"
   ]
  },
  {
   "cell_type": "code",
   "execution_count": 19,
   "metadata": {
    "collapsed": true
   },
   "outputs": [],
   "source": [
    "# Set up DNN grid search\n",
    "# Add a seed for reproducibility\n",
    "dnn_rand_grid = H2OGridSearch(\n",
    "                    H2ODeepLearningEstimator(\n",
    "                        model_id = 'dnn_rand_grid', \n",
    "                        seed = 1234,\n",
    "                        epochs = 20,   \n",
    "                        nfolds = 5,\n",
    "                        fold_assignment = \"Modulo\",                # needed for stacked ensembles\n",
    "                        keep_cross_validation_predictions = True), # needed for stacked ensembles\n",
    "                    search_criteria = search_criteria, \n",
    "                    hyper_params = hyper_params)"
   ]
  },
  {
   "cell_type": "code",
   "execution_count": 20,
   "metadata": {
    "collapsed": false
   },
   "outputs": [
    {
     "name": "stdout",
     "output_type": "stream",
     "text": [
      "deeplearning Grid Build progress: |███████████████████████████████████████| 100%\n"
     ]
    }
   ],
   "source": [
    "# Use .train() to start the grid search\n",
    "dnn_rand_grid.train(x = features, \n",
    "                    y = 'quality', \n",
    "                    training_frame = wine_train)"
   ]
  },
  {
   "cell_type": "code",
   "execution_count": 21,
   "metadata": {
    "collapsed": false
   },
   "outputs": [
    {
     "name": "stdout",
     "output_type": "stream",
     "text": [
      "    activation        hidden      l1      l2  \\\n",
      "0       Maxout  [50, 50, 50]  1.0E-5  1.0E-5   \n",
      "1       Maxout      [50, 50]     0.0  1.0E-5   \n",
      "2         Tanh  [50, 50, 50]     0.0  1.0E-5   \n",
      "3    Rectifier      [50, 50]  1.0E-5     0.0   \n",
      "4         Tanh  [50, 50, 50]  1.0E-5  1.0E-5   \n",
      "5       Maxout          [50]     0.0     0.0   \n",
      "6       Maxout          [50]   0.001     0.0   \n",
      "7         Tanh  [50, 50, 50]   0.001     0.0   \n",
      "8       Maxout          [50]  1.0E-5   0.001   \n",
      "\n",
      "                                                              model_ids  \\\n",
      "0  Grid_DeepLearning_py_4_sid_b750_model_python_1488375879395_3_model_3   \n",
      "1  Grid_DeepLearning_py_4_sid_b750_model_python_1488375879395_3_model_8   \n",
      "2  Grid_DeepLearning_py_4_sid_b750_model_python_1488375879395_3_model_0   \n",
      "3  Grid_DeepLearning_py_4_sid_b750_model_python_1488375879395_3_model_2   \n",
      "4  Grid_DeepLearning_py_4_sid_b750_model_python_1488375879395_3_model_7   \n",
      "5  Grid_DeepLearning_py_4_sid_b750_model_python_1488375879395_3_model_5   \n",
      "6  Grid_DeepLearning_py_4_sid_b750_model_python_1488375879395_3_model_4   \n",
      "7  Grid_DeepLearning_py_4_sid_b750_model_python_1488375879395_3_model_1   \n",
      "8  Grid_DeepLearning_py_4_sid_b750_model_python_1488375879395_3_model_6   \n",
      "\n",
      "                  mse  \n",
      "0  0.5107517994324235  \n",
      "1  0.5108977420304555  \n",
      "2  0.5115217339615843  \n",
      "3  0.5220237159454297  \n",
      "4  0.5239725458809109  \n",
      "5  0.5248066009426153  \n",
      "6  0.5255183898997435  \n",
      "7  0.5293015464794364  \n",
      "8  0.5315041511912608  \n",
      "\n"
     ]
    }
   ],
   "source": [
    "# Sort and show the grid search results\n",
    "dnn_rand_grid_sorted = dnn_rand_grid.get_grid(sort_by='mse', decreasing=False)\n",
    "print(dnn_rand_grid_sorted)"
   ]
  },
  {
   "cell_type": "code",
   "execution_count": 22,
   "metadata": {
    "collapsed": false
   },
   "outputs": [
    {
     "name": "stdout",
     "output_type": "stream",
     "text": [
      "Status of Neuron Layers: predicting quality, regression, gaussian distribution, Quadratic loss, 11,451 weights/biases, 143.9 KB, 81,920 training samples, mini-batch size 1\n",
      "\n"
     ]
    },
    {
     "data": {
      "text/html": [
       "<div style=\"overflow:auto\"><table style=\"width:50%\"><tr><td><b></b></td>\n",
       "<td><b>layer</b></td>\n",
       "<td><b>units</b></td>\n",
       "<td><b>type</b></td>\n",
       "<td><b>dropout</b></td>\n",
       "<td><b>l1</b></td>\n",
       "<td><b>l2</b></td>\n",
       "<td><b>mean_rate</b></td>\n",
       "<td><b>rate_rms</b></td>\n",
       "<td><b>momentum</b></td>\n",
       "<td><b>mean_weight</b></td>\n",
       "<td><b>weight_rms</b></td>\n",
       "<td><b>mean_bias</b></td>\n",
       "<td><b>bias_rms</b></td></tr>\n",
       "<tr><td></td>\n",
       "<td>1</td>\n",
       "<td>11</td>\n",
       "<td>Input</td>\n",
       "<td>0.0</td>\n",
       "<td></td>\n",
       "<td></td>\n",
       "<td></td>\n",
       "<td></td>\n",
       "<td></td>\n",
       "<td></td>\n",
       "<td></td>\n",
       "<td></td>\n",
       "<td></td></tr>\n",
       "<tr><td></td>\n",
       "<td>2</td>\n",
       "<td>50</td>\n",
       "<td>Maxout</td>\n",
       "<td>0.0</td>\n",
       "<td>1e-05</td>\n",
       "<td>1e-05</td>\n",
       "<td>0.0012866</td>\n",
       "<td>0.0004849</td>\n",
       "<td>0.0</td>\n",
       "<td>-0.0043108</td>\n",
       "<td>0.1984785</td>\n",
       "<td>0.4350711</td>\n",
       "<td>0.0655991</td></tr>\n",
       "<tr><td></td>\n",
       "<td>3</td>\n",
       "<td>50</td>\n",
       "<td>Maxout</td>\n",
       "<td>0.0</td>\n",
       "<td>1e-05</td>\n",
       "<td>1e-05</td>\n",
       "<td>0.0024476</td>\n",
       "<td>0.0013142</td>\n",
       "<td>0.0</td>\n",
       "<td>-0.0326709</td>\n",
       "<td>0.1497352</td>\n",
       "<td>0.9577908</td>\n",
       "<td>0.0305731</td></tr>\n",
       "<tr><td></td>\n",
       "<td>4</td>\n",
       "<td>50</td>\n",
       "<td>Maxout</td>\n",
       "<td>0.0</td>\n",
       "<td>1e-05</td>\n",
       "<td>1e-05</td>\n",
       "<td>0.0292622</td>\n",
       "<td>0.0537244</td>\n",
       "<td>0.0</td>\n",
       "<td>-0.0176387</td>\n",
       "<td>0.1449522</td>\n",
       "<td>0.8418351</td>\n",
       "<td>0.1884707</td></tr>\n",
       "<tr><td></td>\n",
       "<td>5</td>\n",
       "<td>1</td>\n",
       "<td>Linear</td>\n",
       "<td></td>\n",
       "<td>1e-05</td>\n",
       "<td>1e-05</td>\n",
       "<td>0.0002944</td>\n",
       "<td>0.0001975</td>\n",
       "<td>0.0</td>\n",
       "<td>0.0013123</td>\n",
       "<td>0.1196512</td>\n",
       "<td>0.0098780</td>\n",
       "<td>0.0000000</td></tr></table></div>"
      ],
      "text/plain": [
       "    layer    units    type    dropout    l1     l2     mean_rate              rate_rms                momentum    mean_weight            weight_rms           mean_bias             bias_rms\n",
       "--  -------  -------  ------  ---------  -----  -----  ---------------------  ----------------------  ----------  ---------------------  -------------------  --------------------  -----------------------\n",
       "    1        11       Input   0.0\n",
       "    2        50       Maxout  0.0        1e-05  1e-05  0.0012866287453719204  0.0004848745884373784   0.0         -0.004310802203121552  0.19847851991653442  0.43507108121920324   0.06559911370277405\n",
       "    3        50       Maxout  0.0        1e-05  1e-05  0.0024475770510180156  0.0013142353855073452   0.0         -0.032670880571913585  0.14973515272140503  0.9577907666699039    0.03057311475276947\n",
       "    4        50       Maxout  0.0        1e-05  1e-05  0.029262151300988627   0.05372436344623566     0.0         -0.01763869623151695   0.14495223760604858  0.8418350851942682    0.188470721244812\n",
       "    5        1        Linear             1e-05  1e-05  0.0002943714185676072  0.00019751384388655424  0.0         0.0013122663914691658  0.11965116858482361  0.009878034996155343  1.0971281125650402e-154"
      ]
     },
     "metadata": {},
     "output_type": "display_data"
    },
    {
     "data": {
      "text/plain": []
     },
     "execution_count": 22,
     "metadata": {},
     "output_type": "execute_result"
    }
   ],
   "source": [
    "# Extract the best model from random grid search\n",
    "best_dnn_model_id = dnn_rand_grid_sorted.model_ids[0]\n",
    "best_dnn_from_rand_grid = h2o.get_model(best_dnn_model_id)\n",
    "best_dnn_from_rand_grid.summary()"
   ]
  },
  {
   "cell_type": "markdown",
   "metadata": {
    "collapsed": true
   },
   "source": [
    "<br>"
   ]
  },
  {
   "cell_type": "markdown",
   "metadata": {
    "collapsed": true
   },
   "source": [
    "## Model Stacking"
   ]
  },
  {
   "cell_type": "code",
   "execution_count": 23,
   "metadata": {
    "collapsed": true
   },
   "outputs": [],
   "source": [
    "# Define a list of models to be stacked\n",
    "# i.e. best model from each grid\n",
    "all_ids = [best_gbm_model_id, best_drf_model_id, best_dnn_model_id]"
   ]
  },
  {
   "cell_type": "code",
   "execution_count": 24,
   "metadata": {
    "collapsed": true
   },
   "outputs": [],
   "source": [
    "# Set up Stacked Ensemble\n",
    "ensemble = H2OStackedEnsembleEstimator(model_id = \"my_ensemble\",\n",
    "                                       base_models = all_ids)"
   ]
  },
  {
   "cell_type": "code",
   "execution_count": 25,
   "metadata": {
    "collapsed": false,
    "scrolled": true
   },
   "outputs": [
    {
     "name": "stdout",
     "output_type": "stream",
     "text": [
      "stackedensemble Model Build progress: |███████████████████████████████████| 100%\n"
     ]
    }
   ],
   "source": [
    "# use .train to start model stacking\n",
    "# GLM as the default metalearner\n",
    "ensemble.train(x = features, \n",
    "               y = 'quality', \n",
    "               training_frame = wine_train)"
   ]
  },
  {
   "cell_type": "markdown",
   "metadata": {},
   "source": [
    "<br>"
   ]
  },
  {
   "cell_type": "markdown",
   "metadata": {},
   "source": [
    "## Comparison of Model Performance on Test Data"
   ]
  },
  {
   "cell_type": "code",
   "execution_count": 26,
   "metadata": {
    "collapsed": false
   },
   "outputs": [
    {
     "name": "stdout",
     "output_type": "stream",
     "text": [
      "Best GBM model from Grid (MSE) :  0.4013942890547201\n",
      "Best DRF model from Grid (MSE) :  0.4781568285687009\n",
      "Best DNN model from Grid (MSE) :  0.489784141303471\n",
      "Stacked Ensembles        (MSE) :  0.39965430199959595\n"
     ]
    }
   ],
   "source": [
    "print('Best GBM model from Grid (MSE) : ', best_gbm_from_rand_grid.model_performance(wine_test).mse())\n",
    "print('Best DRF model from Grid (MSE) : ', best_drf_from_rand_grid.model_performance(wine_test).mse())\n",
    "print('Best DNN model from Grid (MSE) : ', best_dnn_from_rand_grid.model_performance(wine_test).mse())\n",
    "print('Stacked Ensembles        (MSE) : ', ensemble.model_performance(wine_test).mse())"
   ]
  },
  {
   "cell_type": "markdown",
   "metadata": {},
   "source": [
    "<br>"
   ]
  },
  {
   "cell_type": "markdown",
   "metadata": {},
   "source": [
    "<br>"
   ]
  }
 ],
 "metadata": {
  "anaconda-cloud": {},
  "kernelspec": {
   "display_name": "Python [conda root]",
   "language": "python",
   "name": "conda-root-py"
  },
  "language_info": {
   "codemirror_mode": {
    "name": "ipython",
    "version": 3
   },
   "file_extension": ".py",
   "mimetype": "text/x-python",
   "name": "python",
   "nbconvert_exporter": "python",
   "pygments_lexer": "ipython3",
   "version": "3.5.2"
  }
 },
 "nbformat": 4,
 "nbformat_minor": 1
}
