{
 "cells": [
  {
   "cell_type": "markdown",
   "metadata": {},
   "source": [
    "# Machine Learning with H2O - Tutorial 3a: Regression Models (Basics)\n",
    "\n",
    "<hr>\n",
    "\n",
    "**Objective**:\n",
    "\n",
    "- This tutorial explains how to build regression models with four different H2O algorithms.\n",
    "\n",
    "<hr>\n",
    "\n",
    "**Wine Quality Dataset:**\n",
    "\n",
    "- Source: https://archive.ics.uci.edu/ml/datasets/Wine+Quality\n",
    "- CSV (https://archive.ics.uci.edu/ml/machine-learning-databases/wine-quality/winequality-white.csv)\n",
    "\n",
    "<hr>\n",
    "    \n",
    "**Algorithms**:\n",
    "\n",
    "1. GLM\n",
    "2. DRF\n",
    "3. GBM\n",
    "4. DNN\n",
    "\n",
    "\n",
    "<hr>\n",
    "\n",
    "**Full Technical Reference:**\n",
    "\n",
    "- http://docs.h2o.ai/h2o/latest-stable/h2o-r/h2o_package.pdf\n",
    "\n",
    "<br>\n"
   ]
  },
  {
   "cell_type": "code",
   "execution_count": 1,
   "metadata": {
    "collapsed": false,
    "scrolled": false
   },
   "outputs": [
    {
     "name": "stdout",
     "output_type": "stream",
     "text": [
      "\n",
      "H2O is not running yet, starting it now...\n",
      "\n",
      "Note:  In case of errors look at the following log files:\n",
      "    /tmp/Rtmp96TV0q/h2o_joe_started_from_r.out\n",
      "    /tmp/Rtmp96TV0q/h2o_joe_started_from_r.err\n",
      "\n",
      "\n",
      "Starting H2O JVM and connecting: .. Connection successful!\n",
      "\n",
      "R is connected to the H2O cluster: \n",
      "    H2O cluster uptime:         1 seconds 795 milliseconds \n",
      "    H2O cluster version:        3.10.3.5 \n",
      "    H2O cluster version age:    10 days  \n",
      "    H2O cluster name:           H2O_started_from_R_joe_hwk127 \n",
      "    H2O cluster total nodes:    1 \n",
      "    H2O cluster total memory:   5.21 GB \n",
      "    H2O cluster total cores:    8 \n",
      "    H2O cluster allowed cores:  8 \n",
      "    H2O cluster healthy:        TRUE \n",
      "    H2O Connection ip:          localhost \n",
      "    H2O Connection port:        54321 \n",
      "    H2O Connection proxy:       NA \n",
      "    R Version:                  R version 3.3.2 (2016-10-31) \n",
      "\n"
     ]
    }
   ],
   "source": [
    "# Start and connect to a local H2O cluster\n",
    "suppressPackageStartupMessages(library(h2o))\n",
    "h2o.init(nthreads = -1)"
   ]
  },
  {
   "cell_type": "markdown",
   "metadata": {},
   "source": [
    "<br>"
   ]
  },
  {
   "cell_type": "code",
   "execution_count": 2,
   "metadata": {
    "collapsed": false
   },
   "outputs": [
    {
     "name": "stdout",
     "output_type": "stream",
     "text": [
      "\r",
      "  |                                                                            \r",
      "  |                                                                      |   0%\r",
      "  |                                                                            \r",
      "  |======================================================================| 100%\n"
     ]
    },
    {
     "data": {
      "text/html": [
       "<table>\n",
       "<thead><tr><th scope=col>fixed acidity</th><th scope=col>volatile acidity</th><th scope=col>citric acid</th><th scope=col>residual sugar</th><th scope=col>chlorides</th><th scope=col>free sulfur dioxide</th><th scope=col>total sulfur dioxide</th><th scope=col>density</th><th scope=col>pH</th><th scope=col>sulphates</th><th scope=col>alcohol</th><th scope=col>quality</th></tr></thead>\n",
       "<tbody>\n",
       "\t<tr><td>7.0   </td><td>0.27  </td><td>0.36  </td><td>20.7  </td><td>0.045 </td><td>45    </td><td>170   </td><td>1.0010</td><td>3.00  </td><td>0.45  </td><td> 8.8  </td><td>6     </td></tr>\n",
       "\t<tr><td>6.3   </td><td>0.30  </td><td>0.34  </td><td> 1.6  </td><td>0.049 </td><td>14    </td><td>132   </td><td>0.9940</td><td>3.30  </td><td>0.49  </td><td> 9.5  </td><td>6     </td></tr>\n",
       "\t<tr><td>8.1   </td><td>0.28  </td><td>0.40  </td><td> 6.9  </td><td>0.050 </td><td>30    </td><td> 97   </td><td>0.9951</td><td>3.26  </td><td>0.44  </td><td>10.1  </td><td>6     </td></tr>\n",
       "\t<tr><td>7.2   </td><td>0.23  </td><td>0.32  </td><td> 8.5  </td><td>0.058 </td><td>47    </td><td>186   </td><td>0.9956</td><td>3.19  </td><td>0.40  </td><td> 9.9  </td><td>6     </td></tr>\n",
       "\t<tr><td>7.2   </td><td>0.23  </td><td>0.32  </td><td> 8.5  </td><td>0.058 </td><td>47    </td><td>186   </td><td>0.9956</td><td>3.19  </td><td>0.40  </td><td> 9.9  </td><td>6     </td></tr>\n",
       "</tbody>\n",
       "</table>\n"
      ],
      "text/latex": [
       "\\begin{tabular}{r|llllllllllll}\n",
       " fixed acidity & volatile acidity & citric acid & residual sugar & chlorides & free sulfur dioxide & total sulfur dioxide & density & pH & sulphates & alcohol & quality\\\\\n",
       "\\hline\n",
       "\t 7.0    & 0.27   & 0.36   & 20.7   & 0.045  & 45     & 170    & 1.0010 & 3.00   & 0.45   &  8.8   & 6     \\\\\n",
       "\t 6.3    & 0.30   & 0.34   &  1.6   & 0.049  & 14     & 132    & 0.9940 & 3.30   & 0.49   &  9.5   & 6     \\\\\n",
       "\t 8.1    & 0.28   & 0.40   &  6.9   & 0.050  & 30     &  97    & 0.9951 & 3.26   & 0.44   & 10.1   & 6     \\\\\n",
       "\t 7.2    & 0.23   & 0.32   &  8.5   & 0.058  & 47     & 186    & 0.9956 & 3.19   & 0.40   &  9.9   & 6     \\\\\n",
       "\t 7.2    & 0.23   & 0.32   &  8.5   & 0.058  & 47     & 186    & 0.9956 & 3.19   & 0.40   &  9.9   & 6     \\\\\n",
       "\\end{tabular}\n"
      ],
      "text/markdown": [
       "\n",
       "fixed acidity | volatile acidity | citric acid | residual sugar | chlorides | free sulfur dioxide | total sulfur dioxide | density | pH | sulphates | alcohol | quality | \n",
       "|---|---|---|---|---|\n",
       "| 7.0    | 0.27   | 0.36   | 20.7   | 0.045  | 45     | 170    | 1.0010 | 3.00   | 0.45   |  8.8   | 6      | \n",
       "| 6.3    | 0.30   | 0.34   |  1.6   | 0.049  | 14     | 132    | 0.9940 | 3.30   | 0.49   |  9.5   | 6      | \n",
       "| 8.1    | 0.28   | 0.40   |  6.9   | 0.050  | 30     |  97    | 0.9951 | 3.26   | 0.44   | 10.1   | 6      | \n",
       "| 7.2    | 0.23   | 0.32   |  8.5   | 0.058  | 47     | 186    | 0.9956 | 3.19   | 0.40   |  9.9   | 6      | \n",
       "| 7.2    | 0.23   | 0.32   |  8.5   | 0.058  | 47     | 186    | 0.9956 | 3.19   | 0.40   |  9.9   | 6      | \n",
       "\n",
       "\n"
      ],
      "text/plain": [
       "  fixed acidity volatile acidity citric acid residual sugar chlorides\n",
       "1 7.0           0.27             0.36        20.7           0.045    \n",
       "2 6.3           0.30             0.34         1.6           0.049    \n",
       "3 8.1           0.28             0.40         6.9           0.050    \n",
       "4 7.2           0.23             0.32         8.5           0.058    \n",
       "5 7.2           0.23             0.32         8.5           0.058    \n",
       "  free sulfur dioxide total sulfur dioxide density pH   sulphates alcohol\n",
       "1 45                  170                  1.0010  3.00 0.45       8.8   \n",
       "2 14                  132                  0.9940  3.30 0.49       9.5   \n",
       "3 30                   97                  0.9951  3.26 0.44      10.1   \n",
       "4 47                  186                  0.9956  3.19 0.40       9.9   \n",
       "5 47                  186                  0.9956  3.19 0.40       9.9   \n",
       "  quality\n",
       "1 6      \n",
       "2 6      \n",
       "3 6      \n",
       "4 6      \n",
       "5 6      "
      ]
     },
     "metadata": {},
     "output_type": "display_data"
    }
   ],
   "source": [
    "# Import wine quality data from a local CSV file\n",
    "wine = h2o.importFile(\"winequality-white.csv\")\n",
    "head(wine, 5)"
   ]
  },
  {
   "cell_type": "code",
   "execution_count": 3,
   "metadata": {
    "collapsed": false
   },
   "outputs": [
    {
     "data": {
      "text/html": [
       "<ol class=list-inline>\n",
       "\t<li>'fixed acidity'</li>\n",
       "\t<li>'volatile acidity'</li>\n",
       "\t<li>'citric acid'</li>\n",
       "\t<li>'residual sugar'</li>\n",
       "\t<li>'chlorides'</li>\n",
       "\t<li>'free sulfur dioxide'</li>\n",
       "\t<li>'total sulfur dioxide'</li>\n",
       "\t<li>'density'</li>\n",
       "\t<li>'pH'</li>\n",
       "\t<li>'sulphates'</li>\n",
       "\t<li>'alcohol'</li>\n",
       "</ol>\n"
      ],
      "text/latex": [
       "\\begin{enumerate*}\n",
       "\\item 'fixed acidity'\n",
       "\\item 'volatile acidity'\n",
       "\\item 'citric acid'\n",
       "\\item 'residual sugar'\n",
       "\\item 'chlorides'\n",
       "\\item 'free sulfur dioxide'\n",
       "\\item 'total sulfur dioxide'\n",
       "\\item 'density'\n",
       "\\item 'pH'\n",
       "\\item 'sulphates'\n",
       "\\item 'alcohol'\n",
       "\\end{enumerate*}\n"
      ],
      "text/markdown": [
       "1. 'fixed acidity'\n",
       "2. 'volatile acidity'\n",
       "3. 'citric acid'\n",
       "4. 'residual sugar'\n",
       "5. 'chlorides'\n",
       "6. 'free sulfur dioxide'\n",
       "7. 'total sulfur dioxide'\n",
       "8. 'density'\n",
       "9. 'pH'\n",
       "10. 'sulphates'\n",
       "11. 'alcohol'\n",
       "\n",
       "\n"
      ],
      "text/plain": [
       " [1] \"fixed acidity\"        \"volatile acidity\"     \"citric acid\"         \n",
       " [4] \"residual sugar\"       \"chlorides\"            \"free sulfur dioxide\" \n",
       " [7] \"total sulfur dioxide\" \"density\"              \"pH\"                  \n",
       "[10] \"sulphates\"            \"alcohol\"             "
      ]
     },
     "metadata": {},
     "output_type": "display_data"
    }
   ],
   "source": [
    "# Define features (or predictors)\n",
    "features = colnames(wine)  # we want to use all the information\n",
    "features = setdiff(features, 'quality')    # we need to exclude the target 'quality'\n",
    "features"
   ]
  },
  {
   "cell_type": "code",
   "execution_count": 4,
   "metadata": {
    "collapsed": false
   },
   "outputs": [],
   "source": [
    "# Split the H2O data frame into training/test sets\n",
    "# so we can evaluate out-of-bag performance\n",
    "wine_split = h2o.splitFrame(wine, ratios = 0.8, seed = 1234)\n",
    "\n",
    "wine_train = wine_split[[1]] # using 80% for training\n",
    "wine_test = wine_split[[2]]  # using the rest 20% for out-of-bag evaluation"
   ]
  },
  {
   "cell_type": "code",
   "execution_count": 5,
   "metadata": {
    "collapsed": false
   },
   "outputs": [
    {
     "data": {
      "text/html": [
       "<ol class=list-inline>\n",
       "\t<li>3932</li>\n",
       "\t<li>12</li>\n",
       "</ol>\n"
      ],
      "text/latex": [
       "\\begin{enumerate*}\n",
       "\\item 3932\n",
       "\\item 12\n",
       "\\end{enumerate*}\n"
      ],
      "text/markdown": [
       "1. 3932\n",
       "2. 12\n",
       "\n",
       "\n"
      ],
      "text/plain": [
       "[1] 3932   12"
      ]
     },
     "metadata": {},
     "output_type": "display_data"
    }
   ],
   "source": [
    "dim(wine_train)"
   ]
  },
  {
   "cell_type": "code",
   "execution_count": 6,
   "metadata": {
    "collapsed": false
   },
   "outputs": [
    {
     "data": {
      "text/html": [
       "<ol class=list-inline>\n",
       "\t<li>966</li>\n",
       "\t<li>12</li>\n",
       "</ol>\n"
      ],
      "text/latex": [
       "\\begin{enumerate*}\n",
       "\\item 966\n",
       "\\item 12\n",
       "\\end{enumerate*}\n"
      ],
      "text/markdown": [
       "1. 966\n",
       "2. 12\n",
       "\n",
       "\n"
      ],
      "text/plain": [
       "[1] 966  12"
      ]
     },
     "metadata": {},
     "output_type": "display_data"
    }
   ],
   "source": [
    "dim(wine_test)"
   ]
  },
  {
   "cell_type": "markdown",
   "metadata": {},
   "source": [
    "<br>\n",
    "\n",
    "## Generalized Linear Model"
   ]
  },
  {
   "cell_type": "code",
   "execution_count": 7,
   "metadata": {
    "collapsed": false
   },
   "outputs": [
    {
     "name": "stdout",
     "output_type": "stream",
     "text": [
      "\r",
      "  |                                                                            \r",
      "  |                                                                      |   0%\r",
      "  |                                                                            \r",
      "  |======================================================================| 100%\n"
     ]
    }
   ],
   "source": [
    "# Build a Generalized Linear Model (GLM) with default settings\n",
    "glm_default = h2o.glm(x = features,\n",
    "                      y = 'quality',\n",
    "                      training_frame = wine_train,\n",
    "                      family = 'gaussian', \n",
    "                      model_id = 'glm_default')"
   ]
  },
  {
   "cell_type": "code",
   "execution_count": 8,
   "metadata": {
    "collapsed": false
   },
   "outputs": [
    {
     "data": {
      "text/plain": [
       "Model Details:\n",
       "==============\n",
       "\n",
       "H2ORegressionModel: glm\n",
       "Model ID:  glm_default \n",
       "GLM Model: summary\n",
       "    family     link                                regularization\n",
       "1 gaussian identity Elastic Net (alpha = 0.5, lambda = 7.744E-4 )\n",
       "  number_of_predictors_total number_of_active_predictors number_of_iterations\n",
       "1                         11                          11                    0\n",
       "   training_frame\n",
       "1 RTMP_sid_a9d0_2\n",
       "\n",
       "Coefficients: glm coefficients\n",
       "                  names coefficients standardized_coefficients\n",
       "1             Intercept   136.516733                  5.878688\n",
       "2         fixed acidity     0.040540                  0.034256\n",
       "3      volatile acidity    -1.957825                 -0.198150\n",
       "4           citric acid    -0.064298                 -0.007777\n",
       "5        residual sugar     0.078084                  0.397523\n",
       "6             chlorides    -0.723135                 -0.015638\n",
       "7   free sulfur dioxide     0.002588                  0.044374\n",
       "8  total sulfur dioxide    -0.000352                 -0.015076\n",
       "9               density  -136.026688                 -0.409518\n",
       "10                   pH     0.584229                  0.088671\n",
       "11            sulphates     0.654807                  0.074764\n",
       "12              alcohol     0.206873                  0.254962\n",
       "\n",
       "H2ORegressionMetrics: glm\n",
       "** Reported on training data. **\n",
       "\n",
       "MSE:  0.5663261\n",
       "RMSE:  0.7525464\n",
       "MAE:  0.5855739\n",
       "RMSLE:  0.111358\n",
       "Mean Residual Deviance :  0.5663261\n",
       "R^2 :  0.2851691\n",
       "Null Deviance :3115.134\n",
       "Null D.o.F. :3931\n",
       "Residual Deviance :2226.794\n",
       "Residual D.o.F. :3920\n",
       "AIC :8948.855\n",
       "\n",
       "\n",
       "\n"
      ]
     },
     "metadata": {},
     "output_type": "display_data"
    }
   ],
   "source": [
    "# Check the model performance on training dataset\n",
    "glm_default"
   ]
  },
  {
   "cell_type": "code",
   "execution_count": 9,
   "metadata": {
    "collapsed": false
   },
   "outputs": [
    {
     "data": {
      "text/plain": [
       "H2ORegressionMetrics: glm\n",
       "\n",
       "MSE:  0.5546398\n",
       "RMSE:  0.7447414\n",
       "MAE:  0.5795791\n",
       "RMSLE:  0.1107966\n",
       "Mean Residual Deviance :  0.5546398\n",
       "R^2 :  0.2618493\n",
       "Null Deviance :725.8587\n",
       "Null D.o.F. :965\n",
       "Residual Deviance :535.782\n",
       "Residual D.o.F. :954\n",
       "AIC :2197.994\n"
      ]
     },
     "metadata": {},
     "output_type": "display_data"
    }
   ],
   "source": [
    "# Check the model performance on test dataset\n",
    "h2o.performance(glm_default, wine_test)"
   ]
  },
  {
   "cell_type": "markdown",
   "metadata": {
    "collapsed": true
   },
   "source": [
    "<br>\n",
    "\n",
    "## Distributed Random Forest"
   ]
  },
  {
   "cell_type": "code",
   "execution_count": 10,
   "metadata": {
    "collapsed": false
   },
   "outputs": [
    {
     "name": "stdout",
     "output_type": "stream",
     "text": [
      "\r",
      "  |                                                                            \r",
      "  |                                                                      |   0%\r",
      "  |                                                                            \r",
      "  |=============================================                         |  64%\r",
      "  |                                                                            \r",
      "  |======================================================================| 100%\n"
     ]
    }
   ],
   "source": [
    "# Build a Distributed Random Forest (DRF) model with default settings\n",
    "drf_default = h2o.randomForest(x = features,\n",
    "                               y = 'quality',\n",
    "                               training_frame = wine_train,\n",
    "                               seed = 1234,\n",
    "                               model_id = 'drf_default')"
   ]
  },
  {
   "cell_type": "code",
   "execution_count": 11,
   "metadata": {
    "collapsed": false
   },
   "outputs": [
    {
     "data": {
      "text/plain": [
       "Model Details:\n",
       "==============\n",
       "\n",
       "H2ORegressionModel: drf\n",
       "Model ID:  drf_default \n",
       "Model Summary: \n",
       "  number_of_trees number_of_internal_trees model_size_in_bytes min_depth\n",
       "1              50                       50              609178        20\n",
       "  max_depth mean_depth min_leaves max_leaves mean_leaves\n",
       "1        20   20.00000        913       1012   964.12000\n",
       "\n",
       "\n",
       "H2ORegressionMetrics: drf\n",
       "** Reported on training data. **\n",
       "** Metrics reported on Out-Of-Bag training samples **\n",
       "\n",
       "MSE:  0.3934958\n",
       "RMSE:  0.6272924\n",
       "MAE:  0.4495529\n",
       "RMSLE:  0.09432345\n",
       "Mean Residual Deviance :  0.3934958\n",
       "\n",
       "\n",
       "\n"
      ]
     },
     "metadata": {},
     "output_type": "display_data"
    }
   ],
   "source": [
    "# Check the DRF model summary\n",
    "drf_default"
   ]
  },
  {
   "cell_type": "code",
   "execution_count": 12,
   "metadata": {
    "collapsed": false
   },
   "outputs": [
    {
     "data": {
      "text/plain": [
       "H2ORegressionMetrics: drf\n",
       "\n",
       "MSE:  0.3711312\n",
       "RMSE:  0.6092054\n",
       "MAE:  0.4351009\n",
       "RMSLE:  0.09161313\n",
       "Mean Residual Deviance :  0.3711312\n"
      ]
     },
     "metadata": {},
     "output_type": "display_data"
    }
   ],
   "source": [
    "# Check the model performance on test dataset\n",
    "h2o.performance(drf_default, wine_test)"
   ]
  },
  {
   "cell_type": "markdown",
   "metadata": {
    "collapsed": true
   },
   "source": [
    "<br>\n",
    "\n",
    "## Gradient Boosting Machines"
   ]
  },
  {
   "cell_type": "code",
   "execution_count": 13,
   "metadata": {
    "collapsed": false
   },
   "outputs": [
    {
     "name": "stdout",
     "output_type": "stream",
     "text": [
      "\r",
      "  |                                                                            \r",
      "  |                                                                      |   0%\r",
      "  |                                                                            \r",
      "  |====                                                                  |   6%\r",
      "  |                                                                            \r",
      "  |======================================================================| 100%\n"
     ]
    }
   ],
   "source": [
    "# Build a Gradient Boosting Machines (GBM) model with default settings\n",
    "gbm_default = h2o.gbm(x = features,\n",
    "                      y = 'quality',\n",
    "                      training_frame = wine_train,\n",
    "                      seed = 1234,\n",
    "                      model_id = 'gbm_default')"
   ]
  },
  {
   "cell_type": "code",
   "execution_count": 14,
   "metadata": {
    "collapsed": false
   },
   "outputs": [
    {
     "data": {
      "text/plain": [
       "Model Details:\n",
       "==============\n",
       "\n",
       "H2ORegressionModel: gbm\n",
       "Model ID:  gbm_default \n",
       "Model Summary: \n",
       "  number_of_trees number_of_internal_trees model_size_in_bytes min_depth\n",
       "1              50                       50               17580         5\n",
       "  max_depth mean_depth min_leaves max_leaves mean_leaves\n",
       "1         5    5.00000          9         30    22.80000\n",
       "\n",
       "\n",
       "H2ORegressionMetrics: gbm\n",
       "** Reported on training data. **\n",
       "\n",
       "MSE:  0.335015\n",
       "RMSE:  0.5788048\n",
       "MAE:  0.4542062\n",
       "RMSLE:  0.0856436\n",
       "Mean Residual Deviance :  0.335015\n",
       "\n",
       "\n",
       "\n"
      ]
     },
     "metadata": {},
     "output_type": "display_data"
    }
   ],
   "source": [
    "# Check the GBM model summary\n",
    "gbm_default"
   ]
  },
  {
   "cell_type": "code",
   "execution_count": 15,
   "metadata": {
    "collapsed": false,
    "scrolled": true
   },
   "outputs": [
    {
     "data": {
      "text/plain": [
       "H2ORegressionMetrics: gbm\n",
       "\n",
       "MSE:  0.4551121\n",
       "RMSE:  0.67462\n",
       "MAE:  0.5219768\n",
       "RMSLE:  0.1001376\n",
       "Mean Residual Deviance :  0.4551121\n"
      ]
     },
     "metadata": {},
     "output_type": "display_data"
    }
   ],
   "source": [
    "# Check the model performance on test dataset\n",
    "h2o.performance(gbm_default, wine_test)"
   ]
  },
  {
   "cell_type": "markdown",
   "metadata": {},
   "source": [
    "<br>\n",
    "\n",
    "## H2O Deep Learning"
   ]
  },
  {
   "cell_type": "code",
   "execution_count": 16,
   "metadata": {
    "collapsed": false
   },
   "outputs": [
    {
     "name": "stdout",
     "output_type": "stream",
     "text": [
      "\r",
      "  |                                                                            \r",
      "  |                                                                      |   0%\r",
      "  |                                                                            \r",
      "  |==============                                                        |  20%\r",
      "  |                                                                            \r",
      "  |=================================================                     |  70%\r",
      "  |                                                                            \r",
      "  |======================================================================| 100%\n"
     ]
    }
   ],
   "source": [
    "# Build a Deep Learning (Deep Neural Networks, DNN) model with default settings\n",
    "dnn_default = h2o.deeplearning(x = features,\n",
    "                               y = 'quality',\n",
    "                               training_frame = wine_train,\n",
    "                               model_id = 'dnn_default')"
   ]
  },
  {
   "cell_type": "code",
   "execution_count": 17,
   "metadata": {
    "collapsed": false
   },
   "outputs": [
    {
     "data": {
      "text/plain": [
       "Model Details:\n",
       "==============\n",
       "\n",
       "H2ORegressionModel: deeplearning\n",
       "Model ID:  dnn_default \n",
       "Status of Neuron Layers: predicting quality, regression, gaussian distribution, Quadratic loss, 42,801 weights/biases, 511.8 KB, 39,320 training samples, mini-batch size 1\n",
       "  layer units      type dropout       l1       l2 mean_rate rate_rms momentum\n",
       "1     1    11     Input  0.00 %                                              \n",
       "2     2   200 Rectifier  0.00 % 0.000000 0.000000  0.006359 0.002181 0.000000\n",
       "3     3   200 Rectifier  0.00 % 0.000000 0.000000  0.071259 0.086189 0.000000\n",
       "4     4     1    Linear         0.000000 0.000000  0.000775 0.000349 0.000000\n",
       "  mean_weight weight_rms mean_bias bias_rms\n",
       "1                                          \n",
       "2   -0.002792   0.117704  0.393787 0.052961\n",
       "3   -0.019490   0.074954  0.952865 0.024638\n",
       "4   -0.008303   0.064995  0.092555 0.000000\n",
       "\n",
       "\n",
       "H2ORegressionMetrics: deeplearning\n",
       "** Reported on training data. **\n",
       "** Metrics reported on full training frame **\n",
       "\n",
       "MSE:  0.4670376\n",
       "RMSE:  0.6834015\n",
       "MAE:  0.5313248\n",
       "RMSLE:  0.1005671\n",
       "Mean Residual Deviance :  0.4670376\n",
       "\n",
       "\n",
       "\n"
      ]
     },
     "metadata": {},
     "output_type": "display_data"
    }
   ],
   "source": [
    "# Check the DNN model summary\n",
    "dnn_default"
   ]
  },
  {
   "cell_type": "code",
   "execution_count": 18,
   "metadata": {
    "collapsed": false
   },
   "outputs": [
    {
     "data": {
      "text/plain": [
       "H2ORegressionMetrics: deeplearning\n",
       "\n",
       "MSE:  0.5025884\n",
       "RMSE:  0.7089347\n",
       "MAE:  0.5419651\n",
       "RMSLE:  0.1047979\n",
       "Mean Residual Deviance :  0.5025884\n"
      ]
     },
     "metadata": {},
     "output_type": "display_data"
    }
   ],
   "source": [
    "# Check the model performance on test dataset\n",
    "h2o.performance(dnn_default, wine_test)"
   ]
  },
  {
   "cell_type": "markdown",
   "metadata": {},
   "source": [
    "<br>\n",
    "\n",
    "## Making Predictions"
   ]
  },
  {
   "cell_type": "code",
   "execution_count": 19,
   "metadata": {
    "collapsed": false
   },
   "outputs": [
    {
     "name": "stdout",
     "output_type": "stream",
     "text": [
      "\r",
      "  |                                                                            \r",
      "  |                                                                      |   0%\r",
      "  |                                                                            \r",
      "  |======================================================================| 100%\n"
     ]
    },
    {
     "data": {
      "text/html": [
       "<table>\n",
       "<thead><tr><th scope=col>predict</th></tr></thead>\n",
       "<tbody>\n",
       "\t<tr><td>5.761094</td></tr>\n",
       "\t<tr><td>5.767213</td></tr>\n",
       "\t<tr><td>5.643247</td></tr>\n",
       "\t<tr><td>5.857642</td></tr>\n",
       "\t<tr><td>5.779668</td></tr>\n",
       "\t<tr><td>5.518598</td></tr>\n",
       "</tbody>\n",
       "</table>\n"
      ],
      "text/latex": [
       "\\begin{tabular}{r|l}\n",
       " predict\\\\\n",
       "\\hline\n",
       "\t 5.761094\\\\\n",
       "\t 5.767213\\\\\n",
       "\t 5.643247\\\\\n",
       "\t 5.857642\\\\\n",
       "\t 5.779668\\\\\n",
       "\t 5.518598\\\\\n",
       "\\end{tabular}\n"
      ],
      "text/markdown": [
       "\n",
       "predict | \n",
       "|---|---|---|---|---|---|\n",
       "| 5.761094 | \n",
       "| 5.767213 | \n",
       "| 5.643247 | \n",
       "| 5.857642 | \n",
       "| 5.779668 | \n",
       "| 5.518598 | \n",
       "\n",
       "\n"
      ],
      "text/plain": [
       "  predict \n",
       "1 5.761094\n",
       "2 5.767213\n",
       "3 5.643247\n",
       "4 5.857642\n",
       "5 5.779668\n",
       "6 5.518598"
      ]
     },
     "metadata": {},
     "output_type": "display_data"
    }
   ],
   "source": [
    "# Use GLM model to make predictions\n",
    "yhat_test_glm = h2o.predict(glm_default, wine_test)\n",
    "head(yhat_test_glm)"
   ]
  },
  {
   "cell_type": "code",
   "execution_count": 20,
   "metadata": {
    "collapsed": false
   },
   "outputs": [
    {
     "name": "stdout",
     "output_type": "stream",
     "text": [
      "\r",
      "  |                                                                            \r",
      "  |                                                                      |   0%\r",
      "  |                                                                            \r",
      "  |======================================================================| 100%\n"
     ]
    },
    {
     "data": {
      "text/html": [
       "<table>\n",
       "<thead><tr><th scope=col>predict</th></tr></thead>\n",
       "<tbody>\n",
       "\t<tr><td>5.824067</td></tr>\n",
       "\t<tr><td>5.662857</td></tr>\n",
       "\t<tr><td>5.380000</td></tr>\n",
       "\t<tr><td>6.540000</td></tr>\n",
       "\t<tr><td>5.880000</td></tr>\n",
       "\t<tr><td>5.344501</td></tr>\n",
       "</tbody>\n",
       "</table>\n"
      ],
      "text/latex": [
       "\\begin{tabular}{r|l}\n",
       " predict\\\\\n",
       "\\hline\n",
       "\t 5.824067\\\\\n",
       "\t 5.662857\\\\\n",
       "\t 5.380000\\\\\n",
       "\t 6.540000\\\\\n",
       "\t 5.880000\\\\\n",
       "\t 5.344501\\\\\n",
       "\\end{tabular}\n"
      ],
      "text/markdown": [
       "\n",
       "predict | \n",
       "|---|---|---|---|---|---|\n",
       "| 5.824067 | \n",
       "| 5.662857 | \n",
       "| 5.380000 | \n",
       "| 6.540000 | \n",
       "| 5.880000 | \n",
       "| 5.344501 | \n",
       "\n",
       "\n"
      ],
      "text/plain": [
       "  predict \n",
       "1 5.824067\n",
       "2 5.662857\n",
       "3 5.380000\n",
       "4 6.540000\n",
       "5 5.880000\n",
       "6 5.344501"
      ]
     },
     "metadata": {},
     "output_type": "display_data"
    }
   ],
   "source": [
    "# Use DRF model to make predictions\n",
    "yhat_test_drf = h2o.predict(drf_default, wine_test)\n",
    "head(yhat_test_drf)"
   ]
  },
  {
   "cell_type": "code",
   "execution_count": 21,
   "metadata": {
    "collapsed": false
   },
   "outputs": [
    {
     "name": "stdout",
     "output_type": "stream",
     "text": [
      "\r",
      "  |                                                                            \r",
      "  |                                                                      |   0%\r",
      "  |                                                                            \r",
      "  |======================================================================| 100%\n"
     ]
    },
    {
     "data": {
      "text/html": [
       "<table>\n",
       "<thead><tr><th scope=col>predict</th></tr></thead>\n",
       "<tbody>\n",
       "\t<tr><td>5.846412</td></tr>\n",
       "\t<tr><td>6.027371</td></tr>\n",
       "\t<tr><td>5.289532</td></tr>\n",
       "\t<tr><td>6.272658</td></tr>\n",
       "\t<tr><td>5.630780</td></tr>\n",
       "\t<tr><td>5.374139</td></tr>\n",
       "</tbody>\n",
       "</table>\n"
      ],
      "text/latex": [
       "\\begin{tabular}{r|l}\n",
       " predict\\\\\n",
       "\\hline\n",
       "\t 5.846412\\\\\n",
       "\t 6.027371\\\\\n",
       "\t 5.289532\\\\\n",
       "\t 6.272658\\\\\n",
       "\t 5.630780\\\\\n",
       "\t 5.374139\\\\\n",
       "\\end{tabular}\n"
      ],
      "text/markdown": [
       "\n",
       "predict | \n",
       "|---|---|---|---|---|---|\n",
       "| 5.846412 | \n",
       "| 6.027371 | \n",
       "| 5.289532 | \n",
       "| 6.272658 | \n",
       "| 5.630780 | \n",
       "| 5.374139 | \n",
       "\n",
       "\n"
      ],
      "text/plain": [
       "  predict \n",
       "1 5.846412\n",
       "2 6.027371\n",
       "3 5.289532\n",
       "4 6.272658\n",
       "5 5.630780\n",
       "6 5.374139"
      ]
     },
     "metadata": {},
     "output_type": "display_data"
    }
   ],
   "source": [
    "# Use GBM model to make predictions\n",
    "yhat_test_gbm = h2o.predict(gbm_default, wine_test)\n",
    "head(yhat_test_gbm)"
   ]
  },
  {
   "cell_type": "code",
   "execution_count": 22,
   "metadata": {
    "collapsed": false
   },
   "outputs": [
    {
     "name": "stdout",
     "output_type": "stream",
     "text": [
      "\r",
      "  |                                                                            \r",
      "  |                                                                      |   0%\r",
      "  |                                                                            \r",
      "  |==========================                                            |  38%\r",
      "  |                                                                            \r",
      "  |======================================================================| 100%\n"
     ]
    },
    {
     "data": {
      "text/html": [
       "<table>\n",
       "<thead><tr><th scope=col>predict</th></tr></thead>\n",
       "<tbody>\n",
       "\t<tr><td>5.585814</td></tr>\n",
       "\t<tr><td>5.595579</td></tr>\n",
       "\t<tr><td>5.220713</td></tr>\n",
       "\t<tr><td>6.678417</td></tr>\n",
       "\t<tr><td>5.635660</td></tr>\n",
       "\t<tr><td>5.157082</td></tr>\n",
       "</tbody>\n",
       "</table>\n"
      ],
      "text/latex": [
       "\\begin{tabular}{r|l}\n",
       " predict\\\\\n",
       "\\hline\n",
       "\t 5.585814\\\\\n",
       "\t 5.595579\\\\\n",
       "\t 5.220713\\\\\n",
       "\t 6.678417\\\\\n",
       "\t 5.635660\\\\\n",
       "\t 5.157082\\\\\n",
       "\\end{tabular}\n"
      ],
      "text/markdown": [
       "\n",
       "predict | \n",
       "|---|---|---|---|---|---|\n",
       "| 5.585814 | \n",
       "| 5.595579 | \n",
       "| 5.220713 | \n",
       "| 6.678417 | \n",
       "| 5.635660 | \n",
       "| 5.157082 | \n",
       "\n",
       "\n"
      ],
      "text/plain": [
       "  predict \n",
       "1 5.585814\n",
       "2 5.595579\n",
       "3 5.220713\n",
       "4 6.678417\n",
       "5 5.635660\n",
       "6 5.157082"
      ]
     },
     "metadata": {},
     "output_type": "display_data"
    }
   ],
   "source": [
    "# Use DNN model to make predictions\n",
    "yhat_test_dnn = h2o.predict(dnn_default, wine_test)\n",
    "head(yhat_test_dnn)"
   ]
  },
  {
   "cell_type": "markdown",
   "metadata": {},
   "source": [
    "<br>"
   ]
  }
 ],
 "metadata": {
  "anaconda-cloud": {},
  "kernelspec": {
   "display_name": "R",
   "language": "R",
   "name": "ir"
  },
  "language_info": {
   "codemirror_mode": "r",
   "file_extension": ".r",
   "mimetype": "text/x-r-source",
   "name": "R",
   "pygments_lexer": "r",
   "version": "3.3.2"
  }
 },
 "nbformat": 4,
 "nbformat_minor": 1
}
