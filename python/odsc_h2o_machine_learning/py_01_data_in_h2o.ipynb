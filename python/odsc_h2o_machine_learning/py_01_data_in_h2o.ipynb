{
 "cells": [
  {
   "cell_type": "markdown",
   "metadata": {},
   "source": [
    "# Machine Learning with H2O - Tutorial 1: Data in H2O with Python\n",
    "\n",
    "<hr>\n",
    "\n",
    "**Objective**:\n",
    "\n",
    "- This tutorial demonstrates three different ways to import data into H2O.\n",
    "\n",
    "<hr>\n",
    "\n",
    "**Wine Quality Dataset:**\n",
    "\n",
    "- Source: https://archive.ics.uci.edu/ml/datasets/Wine+Quality\n",
    "- CSV (https://archive.ics.uci.edu/ml/machine-learning-databases/wine-quality/winequality-white.csv)\n",
    "\n",
    "<hr>\n",
    "    \n",
    "**Methods**:\n",
    "\n",
    "1. Import data from a local CSV file.\n",
    "2. Import data from the web.\n",
    "3. Convert a Pandas data frame into H2O data frame.\n",
    "\n",
    "<hr>\n",
    "\n",
    "**Full Technical Reference:**\n",
    "\n",
    "- http://docs.h2o.ai/h2o/latest-stable/h2o-py/docs/data.html\n",
    "\n",
    "<br>\n"
   ]
  },
  {
   "cell_type": "code",
   "execution_count": 1,
   "metadata": {
    "collapsed": false,
    "scrolled": false
   },
   "outputs": [
    {
     "name": "stdout",
     "output_type": "stream",
     "text": [
      "Checking whether there is an H2O instance running at http://localhost:54321..... not found.\n",
      "Attempting to start a local H2O server...\n",
      "  Java Version: java version \"1.8.0_121\"; Java(TM) SE Runtime Environment (build 1.8.0_121-b13); Java HotSpot(TM) 64-Bit Server VM (build 25.121-b13, mixed mode)\n",
      "  Starting server from /home/joe/anaconda3/lib/python3.5/site-packages/h2o/backend/bin/h2o.jar\n",
      "  Ice root: /tmp/tmpbz7az1l0\n",
      "  JVM stdout: /tmp/tmpbz7az1l0/h2o_joe_started_from_python.out\n",
      "  JVM stderr: /tmp/tmpbz7az1l0/h2o_joe_started_from_python.err\n",
      "  Server is running at http://127.0.0.1:54321\n",
      "Connecting to H2O server at http://127.0.0.1:54321... successful.\n"
     ]
    },
    {
     "data": {
      "text/html": [
       "<div style=\"overflow:auto\"><table style=\"width:50%\"><tr><td>H2O cluster uptime:</td>\n",
       "<td>01 secs</td></tr>\n",
       "<tr><td>H2O cluster version:</td>\n",
       "<td>3.10.3.5</td></tr>\n",
       "<tr><td>H2O cluster version age:</td>\n",
       "<td>6 days </td></tr>\n",
       "<tr><td>H2O cluster name:</td>\n",
       "<td>H2O_from_python_joe_88i2yg</td></tr>\n",
       "<tr><td>H2O cluster total nodes:</td>\n",
       "<td>1</td></tr>\n",
       "<tr><td>H2O cluster free memory:</td>\n",
       "<td>5.210 Gb</td></tr>\n",
       "<tr><td>H2O cluster total cores:</td>\n",
       "<td>8</td></tr>\n",
       "<tr><td>H2O cluster allowed cores:</td>\n",
       "<td>8</td></tr>\n",
       "<tr><td>H2O cluster status:</td>\n",
       "<td>accepting new members, healthy</td></tr>\n",
       "<tr><td>H2O connection url:</td>\n",
       "<td>http://127.0.0.1:54321</td></tr>\n",
       "<tr><td>H2O connection proxy:</td>\n",
       "<td>None</td></tr>\n",
       "<tr><td>Python version:</td>\n",
       "<td>3.5.2 final</td></tr></table></div>"
      ],
      "text/plain": [
       "--------------------------  ------------------------------\n",
       "H2O cluster uptime:         01 secs\n",
       "H2O cluster version:        3.10.3.5\n",
       "H2O cluster version age:    6 days\n",
       "H2O cluster name:           H2O_from_python_joe_88i2yg\n",
       "H2O cluster total nodes:    1\n",
       "H2O cluster free memory:    5.210 Gb\n",
       "H2O cluster total cores:    8\n",
       "H2O cluster allowed cores:  8\n",
       "H2O cluster status:         accepting new members, healthy\n",
       "H2O connection url:         http://127.0.0.1:54321\n",
       "H2O connection proxy:\n",
       "Python version:             3.5.2 final\n",
       "--------------------------  ------------------------------"
      ]
     },
     "metadata": {},
     "output_type": "display_data"
    }
   ],
   "source": [
    "# Start and connect to a local H2O cluster\n",
    "import h2o\n",
    "h2o.init(nthreads = -1)"
   ]
  },
  {
   "cell_type": "markdown",
   "metadata": {},
   "source": [
    "<br>"
   ]
  },
  {
   "cell_type": "code",
   "execution_count": 2,
   "metadata": {
    "collapsed": false
   },
   "outputs": [
    {
     "name": "stdout",
     "output_type": "stream",
     "text": [
      "Parse progress: |█████████████████████████████████████████████████████████| 100%\n"
     ]
    },
    {
     "data": {
      "text/html": [
       "<table>\n",
       "<thead>\n",
       "<tr><th style=\"text-align: right;\">  fixed acidity</th><th style=\"text-align: right;\">  volatile acidity</th><th style=\"text-align: right;\">  citric acid</th><th style=\"text-align: right;\">  residual sugar</th><th style=\"text-align: right;\">  chlorides</th><th style=\"text-align: right;\">  free sulfur dioxide</th><th style=\"text-align: right;\">  total sulfur dioxide</th><th style=\"text-align: right;\">  density</th><th style=\"text-align: right;\">  pH</th><th style=\"text-align: right;\">  sulphates</th><th style=\"text-align: right;\">  alcohol</th><th style=\"text-align: right;\">  quality</th></tr>\n",
       "</thead>\n",
       "<tbody>\n",
       "<tr><td style=\"text-align: right;\">            7  </td><td style=\"text-align: right;\">              0.27</td><td style=\"text-align: right;\">         0.36</td><td style=\"text-align: right;\">            20.7</td><td style=\"text-align: right;\">      0.045</td><td style=\"text-align: right;\">                   45</td><td style=\"text-align: right;\">                   170</td><td style=\"text-align: right;\">   1.001 </td><td style=\"text-align: right;\">3   </td><td style=\"text-align: right;\">       0.45</td><td style=\"text-align: right;\">      8.8</td><td style=\"text-align: right;\">        6</td></tr>\n",
       "<tr><td style=\"text-align: right;\">            6.3</td><td style=\"text-align: right;\">              0.3 </td><td style=\"text-align: right;\">         0.34</td><td style=\"text-align: right;\">             1.6</td><td style=\"text-align: right;\">      0.049</td><td style=\"text-align: right;\">                   14</td><td style=\"text-align: right;\">                   132</td><td style=\"text-align: right;\">   0.994 </td><td style=\"text-align: right;\">3.3 </td><td style=\"text-align: right;\">       0.49</td><td style=\"text-align: right;\">      9.5</td><td style=\"text-align: right;\">        6</td></tr>\n",
       "<tr><td style=\"text-align: right;\">            8.1</td><td style=\"text-align: right;\">              0.28</td><td style=\"text-align: right;\">         0.4 </td><td style=\"text-align: right;\">             6.9</td><td style=\"text-align: right;\">      0.05 </td><td style=\"text-align: right;\">                   30</td><td style=\"text-align: right;\">                    97</td><td style=\"text-align: right;\">   0.9951</td><td style=\"text-align: right;\">3.26</td><td style=\"text-align: right;\">       0.44</td><td style=\"text-align: right;\">     10.1</td><td style=\"text-align: right;\">        6</td></tr>\n",
       "<tr><td style=\"text-align: right;\">            7.2</td><td style=\"text-align: right;\">              0.23</td><td style=\"text-align: right;\">         0.32</td><td style=\"text-align: right;\">             8.5</td><td style=\"text-align: right;\">      0.058</td><td style=\"text-align: right;\">                   47</td><td style=\"text-align: right;\">                   186</td><td style=\"text-align: right;\">   0.9956</td><td style=\"text-align: right;\">3.19</td><td style=\"text-align: right;\">       0.4 </td><td style=\"text-align: right;\">      9.9</td><td style=\"text-align: right;\">        6</td></tr>\n",
       "<tr><td style=\"text-align: right;\">            7.2</td><td style=\"text-align: right;\">              0.23</td><td style=\"text-align: right;\">         0.32</td><td style=\"text-align: right;\">             8.5</td><td style=\"text-align: right;\">      0.058</td><td style=\"text-align: right;\">                   47</td><td style=\"text-align: right;\">                   186</td><td style=\"text-align: right;\">   0.9956</td><td style=\"text-align: right;\">3.19</td><td style=\"text-align: right;\">       0.4 </td><td style=\"text-align: right;\">      9.9</td><td style=\"text-align: right;\">        6</td></tr>\n",
       "</tbody>\n",
       "</table>"
      ]
     },
     "metadata": {},
     "output_type": "display_data"
    },
    {
     "data": {
      "text/plain": []
     },
     "execution_count": 2,
     "metadata": {},
     "output_type": "execute_result"
    }
   ],
   "source": [
    "# Method 1 - Import data from a local CSV file\n",
    "data_from_csv = h2o.import_file(\"winequality-white.csv\")\n",
    "data_from_csv.head(5)"
   ]
  },
  {
   "cell_type": "code",
   "execution_count": 3,
   "metadata": {
    "collapsed": false
   },
   "outputs": [
    {
     "name": "stdout",
     "output_type": "stream",
     "text": [
      "Parse progress: |█████████████████████████████████████████████████████████| 100%\n"
     ]
    },
    {
     "data": {
      "text/html": [
       "<table>\n",
       "<thead>\n",
       "<tr><th style=\"text-align: right;\">  fixed acidity</th><th style=\"text-align: right;\">  volatile acidity</th><th style=\"text-align: right;\">  citric acid</th><th style=\"text-align: right;\">  residual sugar</th><th style=\"text-align: right;\">  chlorides</th><th style=\"text-align: right;\">  free sulfur dioxide</th><th style=\"text-align: right;\">  total sulfur dioxide</th><th style=\"text-align: right;\">  density</th><th style=\"text-align: right;\">  pH</th><th style=\"text-align: right;\">  sulphates</th><th style=\"text-align: right;\">  alcohol</th><th style=\"text-align: right;\">  quality</th></tr>\n",
       "</thead>\n",
       "<tbody>\n",
       "<tr><td style=\"text-align: right;\">            7  </td><td style=\"text-align: right;\">              0.27</td><td style=\"text-align: right;\">         0.36</td><td style=\"text-align: right;\">            20.7</td><td style=\"text-align: right;\">      0.045</td><td style=\"text-align: right;\">                   45</td><td style=\"text-align: right;\">                   170</td><td style=\"text-align: right;\">   1.001 </td><td style=\"text-align: right;\">3   </td><td style=\"text-align: right;\">       0.45</td><td style=\"text-align: right;\">      8.8</td><td style=\"text-align: right;\">        6</td></tr>\n",
       "<tr><td style=\"text-align: right;\">            6.3</td><td style=\"text-align: right;\">              0.3 </td><td style=\"text-align: right;\">         0.34</td><td style=\"text-align: right;\">             1.6</td><td style=\"text-align: right;\">      0.049</td><td style=\"text-align: right;\">                   14</td><td style=\"text-align: right;\">                   132</td><td style=\"text-align: right;\">   0.994 </td><td style=\"text-align: right;\">3.3 </td><td style=\"text-align: right;\">       0.49</td><td style=\"text-align: right;\">      9.5</td><td style=\"text-align: right;\">        6</td></tr>\n",
       "<tr><td style=\"text-align: right;\">            8.1</td><td style=\"text-align: right;\">              0.28</td><td style=\"text-align: right;\">         0.4 </td><td style=\"text-align: right;\">             6.9</td><td style=\"text-align: right;\">      0.05 </td><td style=\"text-align: right;\">                   30</td><td style=\"text-align: right;\">                    97</td><td style=\"text-align: right;\">   0.9951</td><td style=\"text-align: right;\">3.26</td><td style=\"text-align: right;\">       0.44</td><td style=\"text-align: right;\">     10.1</td><td style=\"text-align: right;\">        6</td></tr>\n",
       "<tr><td style=\"text-align: right;\">            7.2</td><td style=\"text-align: right;\">              0.23</td><td style=\"text-align: right;\">         0.32</td><td style=\"text-align: right;\">             8.5</td><td style=\"text-align: right;\">      0.058</td><td style=\"text-align: right;\">                   47</td><td style=\"text-align: right;\">                   186</td><td style=\"text-align: right;\">   0.9956</td><td style=\"text-align: right;\">3.19</td><td style=\"text-align: right;\">       0.4 </td><td style=\"text-align: right;\">      9.9</td><td style=\"text-align: right;\">        6</td></tr>\n",
       "<tr><td style=\"text-align: right;\">            7.2</td><td style=\"text-align: right;\">              0.23</td><td style=\"text-align: right;\">         0.32</td><td style=\"text-align: right;\">             8.5</td><td style=\"text-align: right;\">      0.058</td><td style=\"text-align: right;\">                   47</td><td style=\"text-align: right;\">                   186</td><td style=\"text-align: right;\">   0.9956</td><td style=\"text-align: right;\">3.19</td><td style=\"text-align: right;\">       0.4 </td><td style=\"text-align: right;\">      9.9</td><td style=\"text-align: right;\">        6</td></tr>\n",
       "</tbody>\n",
       "</table>"
      ]
     },
     "metadata": {},
     "output_type": "display_data"
    },
    {
     "data": {
      "text/plain": []
     },
     "execution_count": 3,
     "metadata": {},
     "output_type": "execute_result"
    }
   ],
   "source": [
    "# Method 2 - Import data from the web\n",
    "data_from_web = h2o.import_file(\"https://archive.ics.uci.edu/ml/machine-learning-databases/wine-quality/winequality-white.csv\")\n",
    "data_from_web.head(5)"
   ]
  },
  {
   "cell_type": "code",
   "execution_count": 4,
   "metadata": {
    "collapsed": false
   },
   "outputs": [
    {
     "data": {
      "text/html": [
       "<div>\n",
       "<table border=\"1\" class=\"dataframe\">\n",
       "  <thead>\n",
       "    <tr style=\"text-align: right;\">\n",
       "      <th></th>\n",
       "      <th>fixed acidity</th>\n",
       "      <th>volatile acidity</th>\n",
       "      <th>citric acid</th>\n",
       "      <th>residual sugar</th>\n",
       "      <th>chlorides</th>\n",
       "      <th>free sulfur dioxide</th>\n",
       "      <th>total sulfur dioxide</th>\n",
       "      <th>density</th>\n",
       "      <th>pH</th>\n",
       "      <th>sulphates</th>\n",
       "      <th>alcohol</th>\n",
       "      <th>quality</th>\n",
       "    </tr>\n",
       "  </thead>\n",
       "  <tbody>\n",
       "    <tr>\n",
       "      <th>0</th>\n",
       "      <td>7.0</td>\n",
       "      <td>0.27</td>\n",
       "      <td>0.36</td>\n",
       "      <td>20.7</td>\n",
       "      <td>0.045</td>\n",
       "      <td>45.0</td>\n",
       "      <td>170.0</td>\n",
       "      <td>1.0010</td>\n",
       "      <td>3.00</td>\n",
       "      <td>0.45</td>\n",
       "      <td>8.8</td>\n",
       "      <td>6</td>\n",
       "    </tr>\n",
       "    <tr>\n",
       "      <th>1</th>\n",
       "      <td>6.3</td>\n",
       "      <td>0.30</td>\n",
       "      <td>0.34</td>\n",
       "      <td>1.6</td>\n",
       "      <td>0.049</td>\n",
       "      <td>14.0</td>\n",
       "      <td>132.0</td>\n",
       "      <td>0.9940</td>\n",
       "      <td>3.30</td>\n",
       "      <td>0.49</td>\n",
       "      <td>9.5</td>\n",
       "      <td>6</td>\n",
       "    </tr>\n",
       "    <tr>\n",
       "      <th>2</th>\n",
       "      <td>8.1</td>\n",
       "      <td>0.28</td>\n",
       "      <td>0.40</td>\n",
       "      <td>6.9</td>\n",
       "      <td>0.050</td>\n",
       "      <td>30.0</td>\n",
       "      <td>97.0</td>\n",
       "      <td>0.9951</td>\n",
       "      <td>3.26</td>\n",
       "      <td>0.44</td>\n",
       "      <td>10.1</td>\n",
       "      <td>6</td>\n",
       "    </tr>\n",
       "    <tr>\n",
       "      <th>3</th>\n",
       "      <td>7.2</td>\n",
       "      <td>0.23</td>\n",
       "      <td>0.32</td>\n",
       "      <td>8.5</td>\n",
       "      <td>0.058</td>\n",
       "      <td>47.0</td>\n",
       "      <td>186.0</td>\n",
       "      <td>0.9956</td>\n",
       "      <td>3.19</td>\n",
       "      <td>0.40</td>\n",
       "      <td>9.9</td>\n",
       "      <td>6</td>\n",
       "    </tr>\n",
       "    <tr>\n",
       "      <th>4</th>\n",
       "      <td>7.2</td>\n",
       "      <td>0.23</td>\n",
       "      <td>0.32</td>\n",
       "      <td>8.5</td>\n",
       "      <td>0.058</td>\n",
       "      <td>47.0</td>\n",
       "      <td>186.0</td>\n",
       "      <td>0.9956</td>\n",
       "      <td>3.19</td>\n",
       "      <td>0.40</td>\n",
       "      <td>9.9</td>\n",
       "      <td>6</td>\n",
       "    </tr>\n",
       "  </tbody>\n",
       "</table>\n",
       "</div>"
      ],
      "text/plain": [
       "   fixed acidity  volatile acidity  citric acid  residual sugar  chlorides  \\\n",
       "0            7.0              0.27         0.36            20.7      0.045   \n",
       "1            6.3              0.30         0.34             1.6      0.049   \n",
       "2            8.1              0.28         0.40             6.9      0.050   \n",
       "3            7.2              0.23         0.32             8.5      0.058   \n",
       "4            7.2              0.23         0.32             8.5      0.058   \n",
       "\n",
       "   free sulfur dioxide  total sulfur dioxide  density    pH  sulphates  \\\n",
       "0                 45.0                 170.0   1.0010  3.00       0.45   \n",
       "1                 14.0                 132.0   0.9940  3.30       0.49   \n",
       "2                 30.0                  97.0   0.9951  3.26       0.44   \n",
       "3                 47.0                 186.0   0.9956  3.19       0.40   \n",
       "4                 47.0                 186.0   0.9956  3.19       0.40   \n",
       "\n",
       "   alcohol  quality  \n",
       "0      8.8        6  \n",
       "1      9.5        6  \n",
       "2     10.1        6  \n",
       "3      9.9        6  \n",
       "4      9.9        6  "
      ]
     },
     "execution_count": 4,
     "metadata": {},
     "output_type": "execute_result"
    }
   ],
   "source": [
    "# Method 3 - Convert Python data frame into H2O data frame\n",
    "\n",
    "## Import Wine Quality data using Pandas\n",
    "import pandas as pd\n",
    "wine_df = pd.read_csv('winequality-white.csv', sep = ';')\n",
    "wine_df.head(5)"
   ]
  },
  {
   "cell_type": "code",
   "execution_count": 5,
   "metadata": {
    "collapsed": false
   },
   "outputs": [
    {
     "name": "stdout",
     "output_type": "stream",
     "text": [
      "Parse progress: |█████████████████████████████████████████████████████████| 100%\n"
     ]
    },
    {
     "data": {
      "text/html": [
       "<table>\n",
       "<thead>\n",
       "<tr><th style=\"text-align: right;\">  fixed acidity</th><th style=\"text-align: right;\">  volatile acidity</th><th style=\"text-align: right;\">  citric acid</th><th style=\"text-align: right;\">  residual sugar</th><th style=\"text-align: right;\">  chlorides</th><th style=\"text-align: right;\">  free sulfur dioxide</th><th style=\"text-align: right;\">  total sulfur dioxide</th><th style=\"text-align: right;\">  density</th><th style=\"text-align: right;\">  pH</th><th style=\"text-align: right;\">  sulphates</th><th style=\"text-align: right;\">  alcohol</th><th style=\"text-align: right;\">  quality</th></tr>\n",
       "</thead>\n",
       "<tbody>\n",
       "<tr><td style=\"text-align: right;\">            7  </td><td style=\"text-align: right;\">              0.27</td><td style=\"text-align: right;\">         0.36</td><td style=\"text-align: right;\">            20.7</td><td style=\"text-align: right;\">      0.045</td><td style=\"text-align: right;\">                   45</td><td style=\"text-align: right;\">                   170</td><td style=\"text-align: right;\">   1.001 </td><td style=\"text-align: right;\">3   </td><td style=\"text-align: right;\">       0.45</td><td style=\"text-align: right;\">      8.8</td><td style=\"text-align: right;\">        6</td></tr>\n",
       "<tr><td style=\"text-align: right;\">            6.3</td><td style=\"text-align: right;\">              0.3 </td><td style=\"text-align: right;\">         0.34</td><td style=\"text-align: right;\">             1.6</td><td style=\"text-align: right;\">      0.049</td><td style=\"text-align: right;\">                   14</td><td style=\"text-align: right;\">                   132</td><td style=\"text-align: right;\">   0.994 </td><td style=\"text-align: right;\">3.3 </td><td style=\"text-align: right;\">       0.49</td><td style=\"text-align: right;\">      9.5</td><td style=\"text-align: right;\">        6</td></tr>\n",
       "<tr><td style=\"text-align: right;\">            8.1</td><td style=\"text-align: right;\">              0.28</td><td style=\"text-align: right;\">         0.4 </td><td style=\"text-align: right;\">             6.9</td><td style=\"text-align: right;\">      0.05 </td><td style=\"text-align: right;\">                   30</td><td style=\"text-align: right;\">                    97</td><td style=\"text-align: right;\">   0.9951</td><td style=\"text-align: right;\">3.26</td><td style=\"text-align: right;\">       0.44</td><td style=\"text-align: right;\">     10.1</td><td style=\"text-align: right;\">        6</td></tr>\n",
       "<tr><td style=\"text-align: right;\">            7.2</td><td style=\"text-align: right;\">              0.23</td><td style=\"text-align: right;\">         0.32</td><td style=\"text-align: right;\">             8.5</td><td style=\"text-align: right;\">      0.058</td><td style=\"text-align: right;\">                   47</td><td style=\"text-align: right;\">                   186</td><td style=\"text-align: right;\">   0.9956</td><td style=\"text-align: right;\">3.19</td><td style=\"text-align: right;\">       0.4 </td><td style=\"text-align: right;\">      9.9</td><td style=\"text-align: right;\">        6</td></tr>\n",
       "<tr><td style=\"text-align: right;\">            7.2</td><td style=\"text-align: right;\">              0.23</td><td style=\"text-align: right;\">         0.32</td><td style=\"text-align: right;\">             8.5</td><td style=\"text-align: right;\">      0.058</td><td style=\"text-align: right;\">                   47</td><td style=\"text-align: right;\">                   186</td><td style=\"text-align: right;\">   0.9956</td><td style=\"text-align: right;\">3.19</td><td style=\"text-align: right;\">       0.4 </td><td style=\"text-align: right;\">      9.9</td><td style=\"text-align: right;\">        6</td></tr>\n",
       "</tbody>\n",
       "</table>"
      ]
     },
     "metadata": {},
     "output_type": "display_data"
    },
    {
     "data": {
      "text/plain": []
     },
     "execution_count": 5,
     "metadata": {},
     "output_type": "execute_result"
    }
   ],
   "source": [
    "## Convert Pandas data frame into H2O data frame\n",
    "data_from_df = h2o.H2OFrame(wine_df)\n",
    "data_from_df.head(5)"
   ]
  }
 ],
 "metadata": {
  "anaconda-cloud": {},
  "kernelspec": {
   "display_name": "Python [conda root]",
   "language": "python",
   "name": "conda-root-py"
  },
  "language_info": {
   "codemirror_mode": {
    "name": "ipython",
    "version": 3
   },
   "file_extension": ".py",
   "mimetype": "text/x-python",
   "name": "python",
   "nbconvert_exporter": "python",
   "pygments_lexer": "ipython3",
   "version": "3.5.2"
  }
 },
 "nbformat": 4,
 "nbformat_minor": 1
}
