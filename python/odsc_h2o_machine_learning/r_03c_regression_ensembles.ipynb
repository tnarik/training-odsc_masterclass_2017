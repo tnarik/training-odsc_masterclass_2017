{
 "cells": [
  {
   "cell_type": "markdown",
   "metadata": {},
   "source": [
    "# Machine Learning with H2O - Tutorial 3c: Regression Models (Ensembles)\n",
    "\n",
    "<hr>\n",
    "\n",
    "**Objective**:\n",
    "\n",
    "- This tutorial explains how to create stacked ensembles of regression models for better out-of-bag performance.\n",
    "\n",
    "<hr>\n",
    "\n",
    "**Wine Quality Dataset:**\n",
    "\n",
    "- Source: https://archive.ics.uci.edu/ml/datasets/Wine+Quality\n",
    "- CSV (https://archive.ics.uci.edu/ml/machine-learning-databases/wine-quality/winequality-white.csv)\n",
    "\n",
    "<hr>\n",
    "    \n",
    "**Steps**:\n",
    "\n",
    "1. Build GBM models using random grid search and extract the best one.\n",
    "2. Build DRF models using random grid search and extract the best one. \n",
    "3. Build DNN models using random grid search and extract the best one.\n",
    "4. Use model stacking to combining different models.\n",
    "\n",
    "\n",
    "<hr>\n",
    "\n",
    "**Full Technical Reference:**\n",
    "\n",
    "- http://docs.h2o.ai/h2o/latest-stable/h2o-docs/booklets/RBooklet.pdf\n",
    "- http://docs.h2o.ai/h2o/latest-stable/h2o-docs/data-science/stacked-ensembles.html\n",
    "\n",
    "<br>\n"
   ]
  },
  {
   "cell_type": "code",
   "execution_count": 1,
   "metadata": {
    "collapsed": false,
    "scrolled": false
   },
   "outputs": [
    {
     "name": "stdout",
     "output_type": "stream",
     "text": [
      "\n",
      "H2O is not running yet, starting it now...\n",
      "\n",
      "Note:  In case of errors look at the following log files:\n",
      "    /tmp/RtmpddUCFh/h2o_joe_started_from_r.out\n",
      "    /tmp/RtmpddUCFh/h2o_joe_started_from_r.err\n",
      "\n",
      "\n",
      "Starting H2O JVM and connecting: .. Connection successful!\n",
      "\n",
      "R is connected to the H2O cluster: \n",
      "    H2O cluster uptime:         1 seconds 905 milliseconds \n",
      "    H2O cluster version:        3.10.3.5 \n",
      "    H2O cluster version age:    10 days  \n",
      "    H2O cluster name:           H2O_started_from_R_joe_qbs574 \n",
      "    H2O cluster total nodes:    1 \n",
      "    H2O cluster total memory:   5.21 GB \n",
      "    H2O cluster total cores:    8 \n",
      "    H2O cluster allowed cores:  8 \n",
      "    H2O cluster healthy:        TRUE \n",
      "    H2O Connection ip:          localhost \n",
      "    H2O Connection port:        54321 \n",
      "    H2O Connection proxy:       NA \n",
      "    R Version:                  R version 3.3.2 (2016-10-31) \n",
      "\n"
     ]
    }
   ],
   "source": [
    "# Start and connect to a local H2O cluster\n",
    "suppressPackageStartupMessages(library(h2o))\n",
    "h2o.init(nthreads = -1)"
   ]
  },
  {
   "cell_type": "markdown",
   "metadata": {},
   "source": [
    "<br>"
   ]
  },
  {
   "cell_type": "code",
   "execution_count": 2,
   "metadata": {
    "collapsed": false
   },
   "outputs": [
    {
     "name": "stdout",
     "output_type": "stream",
     "text": [
      "\r",
      "  |                                                                            \r",
      "  |                                                                      |   0%\r",
      "  |                                                                            \r",
      "  |======================================================================| 100%\n"
     ]
    },
    {
     "data": {
      "text/html": [
       "<table>\n",
       "<thead><tr><th scope=col>fixed acidity</th><th scope=col>volatile acidity</th><th scope=col>citric acid</th><th scope=col>residual sugar</th><th scope=col>chlorides</th><th scope=col>free sulfur dioxide</th><th scope=col>total sulfur dioxide</th><th scope=col>density</th><th scope=col>pH</th><th scope=col>sulphates</th><th scope=col>alcohol</th><th scope=col>quality</th></tr></thead>\n",
       "<tbody>\n",
       "\t<tr><td>7.0   </td><td>0.27  </td><td>0.36  </td><td>20.7  </td><td>0.045 </td><td>45    </td><td>170   </td><td>1.0010</td><td>3.00  </td><td>0.45  </td><td> 8.8  </td><td>6     </td></tr>\n",
       "\t<tr><td>6.3   </td><td>0.30  </td><td>0.34  </td><td> 1.6  </td><td>0.049 </td><td>14    </td><td>132   </td><td>0.9940</td><td>3.30  </td><td>0.49  </td><td> 9.5  </td><td>6     </td></tr>\n",
       "\t<tr><td>8.1   </td><td>0.28  </td><td>0.40  </td><td> 6.9  </td><td>0.050 </td><td>30    </td><td> 97   </td><td>0.9951</td><td>3.26  </td><td>0.44  </td><td>10.1  </td><td>6     </td></tr>\n",
       "\t<tr><td>7.2   </td><td>0.23  </td><td>0.32  </td><td> 8.5  </td><td>0.058 </td><td>47    </td><td>186   </td><td>0.9956</td><td>3.19  </td><td>0.40  </td><td> 9.9  </td><td>6     </td></tr>\n",
       "\t<tr><td>7.2   </td><td>0.23  </td><td>0.32  </td><td> 8.5  </td><td>0.058 </td><td>47    </td><td>186   </td><td>0.9956</td><td>3.19  </td><td>0.40  </td><td> 9.9  </td><td>6     </td></tr>\n",
       "</tbody>\n",
       "</table>\n"
      ],
      "text/latex": [
       "\\begin{tabular}{r|llllllllllll}\n",
       " fixed acidity & volatile acidity & citric acid & residual sugar & chlorides & free sulfur dioxide & total sulfur dioxide & density & pH & sulphates & alcohol & quality\\\\\n",
       "\\hline\n",
       "\t 7.0    & 0.27   & 0.36   & 20.7   & 0.045  & 45     & 170    & 1.0010 & 3.00   & 0.45   &  8.8   & 6     \\\\\n",
       "\t 6.3    & 0.30   & 0.34   &  1.6   & 0.049  & 14     & 132    & 0.9940 & 3.30   & 0.49   &  9.5   & 6     \\\\\n",
       "\t 8.1    & 0.28   & 0.40   &  6.9   & 0.050  & 30     &  97    & 0.9951 & 3.26   & 0.44   & 10.1   & 6     \\\\\n",
       "\t 7.2    & 0.23   & 0.32   &  8.5   & 0.058  & 47     & 186    & 0.9956 & 3.19   & 0.40   &  9.9   & 6     \\\\\n",
       "\t 7.2    & 0.23   & 0.32   &  8.5   & 0.058  & 47     & 186    & 0.9956 & 3.19   & 0.40   &  9.9   & 6     \\\\\n",
       "\\end{tabular}\n"
      ],
      "text/markdown": [
       "\n",
       "fixed acidity | volatile acidity | citric acid | residual sugar | chlorides | free sulfur dioxide | total sulfur dioxide | density | pH | sulphates | alcohol | quality | \n",
       "|---|---|---|---|---|\n",
       "| 7.0    | 0.27   | 0.36   | 20.7   | 0.045  | 45     | 170    | 1.0010 | 3.00   | 0.45   |  8.8   | 6      | \n",
       "| 6.3    | 0.30   | 0.34   |  1.6   | 0.049  | 14     | 132    | 0.9940 | 3.30   | 0.49   |  9.5   | 6      | \n",
       "| 8.1    | 0.28   | 0.40   |  6.9   | 0.050  | 30     |  97    | 0.9951 | 3.26   | 0.44   | 10.1   | 6      | \n",
       "| 7.2    | 0.23   | 0.32   |  8.5   | 0.058  | 47     | 186    | 0.9956 | 3.19   | 0.40   |  9.9   | 6      | \n",
       "| 7.2    | 0.23   | 0.32   |  8.5   | 0.058  | 47     | 186    | 0.9956 | 3.19   | 0.40   |  9.9   | 6      | \n",
       "\n",
       "\n"
      ],
      "text/plain": [
       "  fixed acidity volatile acidity citric acid residual sugar chlorides\n",
       "1 7.0           0.27             0.36        20.7           0.045    \n",
       "2 6.3           0.30             0.34         1.6           0.049    \n",
       "3 8.1           0.28             0.40         6.9           0.050    \n",
       "4 7.2           0.23             0.32         8.5           0.058    \n",
       "5 7.2           0.23             0.32         8.5           0.058    \n",
       "  free sulfur dioxide total sulfur dioxide density pH   sulphates alcohol\n",
       "1 45                  170                  1.0010  3.00 0.45       8.8   \n",
       "2 14                  132                  0.9940  3.30 0.49       9.5   \n",
       "3 30                   97                  0.9951  3.26 0.44      10.1   \n",
       "4 47                  186                  0.9956  3.19 0.40       9.9   \n",
       "5 47                  186                  0.9956  3.19 0.40       9.9   \n",
       "  quality\n",
       "1 6      \n",
       "2 6      \n",
       "3 6      \n",
       "4 6      \n",
       "5 6      "
      ]
     },
     "metadata": {},
     "output_type": "display_data"
    }
   ],
   "source": [
    "# Import wine quality data from a local CSV file\n",
    "wine = h2o.importFile(\"winequality-white.csv\")\n",
    "head(wine, 5)"
   ]
  },
  {
   "cell_type": "code",
   "execution_count": 3,
   "metadata": {
    "collapsed": false
   },
   "outputs": [
    {
     "data": {
      "text/html": [
       "<ol class=list-inline>\n",
       "\t<li>'fixed acidity'</li>\n",
       "\t<li>'volatile acidity'</li>\n",
       "\t<li>'citric acid'</li>\n",
       "\t<li>'residual sugar'</li>\n",
       "\t<li>'chlorides'</li>\n",
       "\t<li>'free sulfur dioxide'</li>\n",
       "\t<li>'total sulfur dioxide'</li>\n",
       "\t<li>'density'</li>\n",
       "\t<li>'pH'</li>\n",
       "\t<li>'sulphates'</li>\n",
       "\t<li>'alcohol'</li>\n",
       "</ol>\n"
      ],
      "text/latex": [
       "\\begin{enumerate*}\n",
       "\\item 'fixed acidity'\n",
       "\\item 'volatile acidity'\n",
       "\\item 'citric acid'\n",
       "\\item 'residual sugar'\n",
       "\\item 'chlorides'\n",
       "\\item 'free sulfur dioxide'\n",
       "\\item 'total sulfur dioxide'\n",
       "\\item 'density'\n",
       "\\item 'pH'\n",
       "\\item 'sulphates'\n",
       "\\item 'alcohol'\n",
       "\\end{enumerate*}\n"
      ],
      "text/markdown": [
       "1. 'fixed acidity'\n",
       "2. 'volatile acidity'\n",
       "3. 'citric acid'\n",
       "4. 'residual sugar'\n",
       "5. 'chlorides'\n",
       "6. 'free sulfur dioxide'\n",
       "7. 'total sulfur dioxide'\n",
       "8. 'density'\n",
       "9. 'pH'\n",
       "10. 'sulphates'\n",
       "11. 'alcohol'\n",
       "\n",
       "\n"
      ],
      "text/plain": [
       " [1] \"fixed acidity\"        \"volatile acidity\"     \"citric acid\"         \n",
       " [4] \"residual sugar\"       \"chlorides\"            \"free sulfur dioxide\" \n",
       " [7] \"total sulfur dioxide\" \"density\"              \"pH\"                  \n",
       "[10] \"sulphates\"            \"alcohol\"             "
      ]
     },
     "metadata": {},
     "output_type": "display_data"
    }
   ],
   "source": [
    "# Define features (or predictors)\n",
    "features = colnames(wine)  # we want to use all the information\n",
    "features = setdiff(features, 'quality')    # we need to exclude the target 'quality'\n",
    "features"
   ]
  },
  {
   "cell_type": "code",
   "execution_count": 4,
   "metadata": {
    "collapsed": false
   },
   "outputs": [],
   "source": [
    "# Split the H2O data frame into training/test sets\n",
    "# so we can evaluate out-of-bag performance\n",
    "wine_split = h2o.splitFrame(wine, ratios = 0.8, seed = 1234)\n",
    "\n",
    "wine_train = wine_split[[1]] # using 80% for training\n",
    "wine_test = wine_split[[2]]  # using the rest 20% for out-of-bag evaluation"
   ]
  },
  {
   "cell_type": "code",
   "execution_count": 5,
   "metadata": {
    "collapsed": false
   },
   "outputs": [
    {
     "data": {
      "text/html": [
       "<ol class=list-inline>\n",
       "\t<li>3932</li>\n",
       "\t<li>12</li>\n",
       "</ol>\n"
      ],
      "text/latex": [
       "\\begin{enumerate*}\n",
       "\\item 3932\n",
       "\\item 12\n",
       "\\end{enumerate*}\n"
      ],
      "text/markdown": [
       "1. 3932\n",
       "2. 12\n",
       "\n",
       "\n"
      ],
      "text/plain": [
       "[1] 3932   12"
      ]
     },
     "metadata": {},
     "output_type": "display_data"
    }
   ],
   "source": [
    "dim(wine_train)"
   ]
  },
  {
   "cell_type": "code",
   "execution_count": 6,
   "metadata": {
    "collapsed": false
   },
   "outputs": [
    {
     "data": {
      "text/html": [
       "<ol class=list-inline>\n",
       "\t<li>966</li>\n",
       "\t<li>12</li>\n",
       "</ol>\n"
      ],
      "text/latex": [
       "\\begin{enumerate*}\n",
       "\\item 966\n",
       "\\item 12\n",
       "\\end{enumerate*}\n"
      ],
      "text/markdown": [
       "1. 966\n",
       "2. 12\n",
       "\n",
       "\n"
      ],
      "text/plain": [
       "[1] 966  12"
      ]
     },
     "metadata": {},
     "output_type": "display_data"
    }
   ],
   "source": [
    "dim(wine_test)"
   ]
  },
  {
   "cell_type": "markdown",
   "metadata": {},
   "source": [
    "<br>"
   ]
  },
  {
   "cell_type": "markdown",
   "metadata": {},
   "source": [
    "## Define Search Criteria for Random Grid Search"
   ]
  },
  {
   "cell_type": "code",
   "execution_count": 7,
   "metadata": {
    "collapsed": true
   },
   "outputs": [],
   "source": [
    "# define the criteria for random grid search\n",
    "search_criteria = list(strategy = \"RandomDiscrete\",\n",
    "                       max_models = 9,\n",
    "                       seed = 1234)"
   ]
  },
  {
   "cell_type": "markdown",
   "metadata": {},
   "source": [
    "<br>"
   ]
  },
  {
   "cell_type": "markdown",
   "metadata": {},
   "source": [
    "## Step 1: Build GBM Models using Random Grid Search and Extract the Best Model"
   ]
  },
  {
   "cell_type": "code",
   "execution_count": 8,
   "metadata": {
    "collapsed": true
   },
   "outputs": [],
   "source": [
    "# define the range of hyper-parameters for GBM grid search\n",
    "# 27 combinations in total\n",
    "hyper_params <- list(\n",
    "    sample_rate = c(0.7, 0.8, 0.9),\n",
    "    col_sample_rate = c(0.7, 0.8, 0.9),\n",
    "    max_depth = c(3, 5, 7)\n",
    ")"
   ]
  },
  {
   "cell_type": "code",
   "execution_count": 9,
   "metadata": {
    "collapsed": false
   },
   "outputs": [
    {
     "name": "stdout",
     "output_type": "stream",
     "text": [
      "\r",
      "  |                                                                            \r",
      "  |                                                                      |   0%\r",
      "  |                                                                            \r",
      "  |===                                                                   |   4%\r",
      "  |                                                                            \r",
      "  |=======                                                               |   9%\r",
      "  |                                                                            \r",
      "  |=========                                                             |  13%\r",
      "  |                                                                            \r",
      "  |=============                                                         |  19%\r",
      "  |                                                                            \r",
      "  |==============                                                        |  21%\r",
      "  |                                                                            \r",
      "  |====================                                                  |  28%\r",
      "  |                                                                            \r",
      "  |======================                                                |  32%\r",
      "  |                                                                            \r",
      "  |========================                                              |  34%\r",
      "  |                                                                            \r",
      "  |==========================                                            |  37%\r",
      "  |                                                                            \r",
      "  |===========================                                           |  39%\r",
      "  |                                                                            \r",
      "  |=============================                                         |  41%\r",
      "  |                                                                            \r",
      "  |=================================                                     |  47%\r",
      "  |                                                                            \r",
      "  |==================================                                    |  49%\r",
      "  |                                                                            \r",
      "  |===================================                                   |  50%\r",
      "  |                                                                            \r",
      "  |======================================                                |  54%\r",
      "  |                                                                            \r",
      "  |=======================================                               |  56%\r",
      "  |                                                                            \r",
      "  |===========================================                           |  62%\r",
      "  |                                                                            \r",
      "  |==============================================                        |  65%\r",
      "  |                                                                            \r",
      "  |===============================================                       |  67%\r",
      "  |                                                                            \r",
      "  |================================================                      |  69%\r",
      "  |                                                                            \r",
      "  |===================================================                   |  73%\r",
      "  |                                                                            \r",
      "  |====================================================                  |  75%\r",
      "  |                                                                            \r",
      "  |=======================================================               |  78%\r",
      "  |                                                                            \r",
      "  |=========================================================             |  82%\r",
      "  |                                                                            \r",
      "  |======================================================================| 100%\n"
     ]
    }
   ],
   "source": [
    "# Set up GBM grid search\n",
    "# Add a seed for reproducibility\n",
    "# Set up GBM grid search\n",
    "# Add a seed for reproducibility\n",
    "gbm_rand_grid <- h2o.grid(\n",
    "  \n",
    "    # Core parameters for model training\n",
    "    x = features,\n",
    "    y = 'quality',\n",
    "    training_frame = wine_train,\n",
    "    ntrees = 10000,\n",
    "    nfolds = 5,\n",
    "    seed = 1234,\n",
    "\n",
    "    # Parameters for grid search\n",
    "    grid_id = \"gbm_rand_grid\",\n",
    "    hyper_params = hyper_params,\n",
    "    algorithm = \"gbm\",\n",
    "    search_criteria = search_criteria,\n",
    "\n",
    "    # Parameters for early stopping\n",
    "    stopping_metric = \"MSE\",\n",
    "    stopping_rounds = 15,\n",
    "    score_tree_interval = 1,\n",
    "    \n",
    "    # Parameters required for stacked ensembles\n",
    "    fold_assignment = \"Modulo\",\n",
    "    keep_cross_validation_predictions = TRUE\n",
    "  \n",
    ")"
   ]
  },
  {
   "cell_type": "code",
   "execution_count": 10,
   "metadata": {
    "collapsed": false
   },
   "outputs": [
    {
     "name": "stdout",
     "output_type": "stream",
     "text": [
      "H2O Grid Details\n",
      "================\n",
      "\n",
      "Grid ID: gbm_rand_grid \n",
      "Used hyper parameters: \n",
      "  -  col_sample_rate \n",
      "  -  max_depth \n",
      "  -  sample_rate \n",
      "Number of models: 9 \n",
      "Number of failed models: 0 \n",
      "\n",
      "Hyper-Parameter Search Summary: ordered by increasing mse\n",
      "  col_sample_rate max_depth sample_rate             model_ids\n",
      "1             0.9         7         0.9 gbm_rand_grid_model_5\n",
      "2             0.8         7         0.7 gbm_rand_grid_model_4\n",
      "3             0.7         7         0.7 gbm_rand_grid_model_1\n",
      "4             0.9         7         0.7 gbm_rand_grid_model_6\n",
      "5             0.7         5         0.8 gbm_rand_grid_model_0\n",
      "6             0.8         3         0.9 gbm_rand_grid_model_7\n",
      "7             0.7         3         0.7 gbm_rand_grid_model_8\n",
      "8             0.9         3         0.9 gbm_rand_grid_model_2\n",
      "9             0.8         3         0.8 gbm_rand_grid_model_3\n",
      "                  mse\n",
      "1 0.41467703216892454\n",
      "2  0.4188744246328386\n",
      "3 0.42294704197026883\n",
      "4  0.4285238866231086\n",
      "5 0.44601214899796604\n",
      "6 0.46338551281728263\n",
      "7  0.4681243149102324\n",
      "8 0.46849996267402233\n",
      "9  0.4690100493856379\n"
     ]
    }
   ],
   "source": [
    "# Sort and show the grid search results\n",
    "gbm_rand_grid <- h2o.getGrid(grid_id = \"gbm_rand_grid\", sort_by = \"mse\", decreasing = FALSE)\n",
    "print(gbm_rand_grid)"
   ]
  },
  {
   "cell_type": "code",
   "execution_count": 11,
   "metadata": {
    "collapsed": false
   },
   "outputs": [
    {
     "name": "stdout",
     "output_type": "stream",
     "text": [
      "Model Details:\n",
      "==============\n",
      "\n",
      "H2ORegressionModel: gbm\n",
      "Model Key:  gbm_rand_grid_model_5 \n",
      "Model Summary: \n",
      "  number_of_trees number_of_internal_trees model_size_in_bytes min_depth\n",
      "1             168                      168              103536         7\n",
      "  max_depth mean_depth min_leaves max_leaves mean_leaves\n",
      "1         7    7.00000         13         82    43.80953\n",
      "\n",
      "H2ORegressionMetrics: gbm\n",
      "** Reported on training data. **\n",
      "\n",
      "MSE:  0.09975218\n",
      "RMSE:  0.3158357\n",
      "MAE:  0.2350127\n",
      "RMSLE:  0.04701275\n",
      "Mean Residual Deviance :  0.09975218\n",
      "\n",
      "\n",
      "\n",
      "H2ORegressionMetrics: gbm\n",
      "** Reported on cross-validation data. **\n",
      "** 5-fold cross-validation on training data (Metrics computed for combined holdout predictions) **\n",
      "\n",
      "MSE:  0.414677\n",
      "RMSE:  0.6439542\n",
      "MAE:  0.4747976\n",
      "RMSLE:  0.09641845\n",
      "Mean Residual Deviance :  0.414677\n",
      "\n",
      "\n",
      "Cross-Validation Metrics Summary: \n",
      "                        mean           sd cv_1_valid  cv_2_valid cv_3_valid\n",
      "mae               0.47480187  0.014146665 0.49126652  0.44133535  0.4956603\n",
      "mse               0.41468513   0.01769817 0.42318034   0.3743674 0.44260392\n",
      "r2                0.47613242  0.022100862  0.4654261  0.51358205  0.4544707\n",
      "residual_deviance 0.41468513   0.01769817 0.42318034   0.3743674 0.44260392\n",
      "rmse               0.6436622  0.013858161  0.6505231   0.6118557  0.6652848\n",
      "rmsle             0.09633803 0.0027988742 0.09947316 0.089695655 0.09997074\n",
      "                  cv_4_valid cv_5_valid\n",
      "mae               0.46371725 0.48202994\n",
      "mse               0.39864415 0.43462983\n",
      "r2                 0.5115735 0.43560982\n",
      "residual_deviance 0.39864415 0.43462983\n",
      "rmse               0.6313827  0.6592646\n",
      "rmsle             0.09391075 0.09863986\n",
      "\n",
      "Scoring History: \n",
      "            timestamp   duration number_of_trees training_rmse training_mae\n",
      "1 2017-03-01 05:53:56 36.700 sec               0       0.89009      0.67683\n",
      "2 2017-03-01 05:53:56 36.705 sec               1       0.85417      0.64726\n",
      "3 2017-03-01 05:53:56 36.709 sec               2       0.81998      0.62140\n",
      "4 2017-03-01 05:53:56 36.713 sec               3       0.79127      0.60341\n",
      "5 2017-03-01 05:53:56 36.717 sec               4       0.76588      0.58860\n",
      "  training_deviance\n",
      "1           0.79225\n",
      "2           0.72961\n",
      "3           0.67237\n",
      "4           0.62611\n",
      "5           0.58657\n",
      "\n",
      "---\n",
      "              timestamp   duration number_of_trees training_rmse training_mae\n",
      "164 2017-03-01 05:53:57 37.376 sec             163       0.32082      0.23913\n",
      "165 2017-03-01 05:53:57 37.381 sec             164       0.32012      0.23846\n",
      "166 2017-03-01 05:53:57 37.386 sec             165       0.31826      0.23707\n",
      "167 2017-03-01 05:53:57 37.390 sec             166       0.31756      0.23653\n",
      "168 2017-03-01 05:53:57 37.394 sec             167       0.31725      0.23615\n",
      "169 2017-03-01 05:53:57 37.399 sec             168       0.31584      0.23501\n",
      "    training_deviance\n",
      "164           0.10293\n",
      "165           0.10248\n",
      "166           0.10129\n",
      "167           0.10085\n",
      "168           0.10065\n",
      "169           0.09975\n",
      "\n",
      "Variable Importances: (Extract with `h2o.varimp`) \n",
      "=================================================\n",
      "\n",
      "Variable Importances: \n",
      "               variable relative_importance scaled_importance percentage\n",
      "1               alcohol         3803.677246          1.000000   0.269828\n",
      "2      volatile acidity         1756.441528          0.461775   0.124600\n",
      "3   free sulfur dioxide         1483.690063          0.390067   0.105251\n",
      "4                    pH         1039.827271          0.273374   0.073764\n",
      "5               density          968.992920          0.254752   0.068739\n",
      "6  total sulfur dioxide          921.516785          0.242270   0.065371\n",
      "7        residual sugar          919.475098          0.241733   0.065226\n",
      "8             sulphates          869.059875          0.228479   0.061650\n",
      "9         fixed acidity          867.632874          0.228104   0.061549\n",
      "10          citric acid          784.689758          0.206298   0.055665\n",
      "11            chlorides          681.660889          0.179211   0.048356\n"
     ]
    }
   ],
   "source": [
    "# Extract the best model from random grid search\n",
    "best_gbm_model_id <- gbm_rand_grid@model_ids[[1]] # top of the list\n",
    "best_gbm_from_rand_grid <- h2o.getModel(best_gbm_model_id)\n",
    "summary(best_gbm_from_rand_grid)"
   ]
  },
  {
   "cell_type": "markdown",
   "metadata": {
    "collapsed": true
   },
   "source": [
    "<br>"
   ]
  },
  {
   "cell_type": "markdown",
   "metadata": {},
   "source": [
    "## Step 2: Build DRF Models using Random Grid Search and Extract the Best Model"
   ]
  },
  {
   "cell_type": "code",
   "execution_count": 12,
   "metadata": {
    "collapsed": true
   },
   "outputs": [],
   "source": [
    "# define the range of hyper-parameters for DRF grid search\n",
    "# 27 combinations in total\n",
    "hyper_params <- list(\n",
    "    sample_rate = c(0.5, 0.6, 0.7),\n",
    "    col_sample_rate_per_tree = c(0.7, 0.8, 0.9),\n",
    "    max_depth = c(3, 5, 7)\n",
    ")"
   ]
  },
  {
   "cell_type": "code",
   "execution_count": 13,
   "metadata": {
    "collapsed": false
   },
   "outputs": [
    {
     "name": "stdout",
     "output_type": "stream",
     "text": [
      "\r",
      "  |                                                                            \r",
      "  |                                                                      |   0%\r",
      "  |                                                                            \r",
      "  |==                                                                    |   3%\r",
      "  |                                                                            \r",
      "  |===                                                                   |   5%\r",
      "  |                                                                            \r",
      "  |====                                                                  |   6%\r",
      "  |                                                                            \r",
      "  |=====                                                                 |   7%\r",
      "  |                                                                            \r",
      "  |========                                                              |  12%\r",
      "  |                                                                            \r",
      "  |==========                                                            |  14%\r",
      "  |                                                                            \r",
      "  |===========                                                           |  16%\r",
      "  |                                                                            \r",
      "  |============                                                          |  18%\r",
      "  |                                                                            \r",
      "  |=============                                                         |  19%\r",
      "  |                                                                            \r",
      "  |================                                                      |  24%\r",
      "  |                                                                            \r",
      "  |=================                                                     |  24%\r",
      "  |                                                                            \r",
      "  |===================                                                   |  27%\r",
      "  |                                                                            \r",
      "  |=====================                                                 |  30%\r",
      "  |                                                                            \r",
      "  |======================                                                |  32%\r",
      "  |                                                                            \r",
      "  |=======================                                               |  33%\r",
      "  |                                                                            \r",
      "  |==========================                                            |  37%\r",
      "  |                                                                            \r",
      "  |=============================                                         |  41%\r",
      "  |                                                                            \r",
      "  |==============================                                        |  43%\r",
      "  |                                                                            \r",
      "  |================================                                      |  45%\r",
      "  |                                                                            \r",
      "  |=================================                                     |  47%\r",
      "  |                                                                            \r",
      "  |====================================                                  |  51%\r",
      "  |                                                                            \r",
      "  |=====================================                                 |  54%\r",
      "  |                                                                            \r",
      "  |======================================                                |  55%\r",
      "  |                                                                            \r",
      "  |=======================================                               |  56%\r",
      "  |                                                                            \r",
      "  |=========================================                             |  59%\r",
      "  |                                                                            \r",
      "  |============================================                          |  63%\r",
      "  |                                                                            \r",
      "  |==============================================                        |  65%\r",
      "  |                                                                            \r",
      "  |===============================================                       |  67%\r",
      "  |                                                                            \r",
      "  |===============================================                       |  68%\r",
      "  |                                                                            \r",
      "  |================================================                      |  69%\r",
      "  |                                                                            \r",
      "  |====================================================                  |  74%\r",
      "  |                                                                            \r",
      "  |======================================================                |  77%\r",
      "  |                                                                            \r",
      "  |=======================================================               |  79%\r",
      "  |                                                                            \r",
      "  |========================================================              |  80%\r",
      "  |                                                                            \r",
      "  |=========================================================             |  81%\r",
      "  |                                                                            \r",
      "  |==========================================================            |  83%\r",
      "  |                                                                            \r",
      "  |=============================================================         |  88%\r",
      "  |                                                                            \r",
      "  |================================================================      |  91%\r",
      "  |                                                                            \r",
      "  |=================================================================     |  93%\r",
      "  |                                                                            \r",
      "  |===================================================================   |  95%\r",
      "  |                                                                            \r",
      "  |====================================================================  |  96%\r",
      "  |                                                                            \r",
      "  |======================================================================| 100%\n"
     ]
    }
   ],
   "source": [
    "# Set up DRF grid search\n",
    "# Add a seed for reproducibility\n",
    "drf_rand_grid <- h2o.grid(\n",
    "  \n",
    "    # Core parameters for model training\n",
    "    x = features,\n",
    "    y = 'quality',\n",
    "    training_frame = wine_train,\n",
    "    ntrees = 200,\n",
    "    nfolds = 5,\n",
    "    seed = 1234,\n",
    "\n",
    "    # Parameters for grid search\n",
    "    grid_id = \"drf_rand_grid\",\n",
    "    hyper_params = hyper_params,\n",
    "    algorithm = \"randomForest\",\n",
    "    search_criteria = search_criteria,\n",
    "    \n",
    "    # Parameters required for stacked ensembles\n",
    "    fold_assignment = \"Modulo\",\n",
    "    keep_cross_validation_predictions = TRUE\n",
    "  \n",
    ")"
   ]
  },
  {
   "cell_type": "code",
   "execution_count": 14,
   "metadata": {
    "collapsed": false
   },
   "outputs": [
    {
     "name": "stdout",
     "output_type": "stream",
     "text": [
      "H2O Grid Details\n",
      "================\n",
      "\n",
      "Grid ID: drf_rand_grid \n",
      "Used hyper parameters: \n",
      "  -  col_sample_rate_per_tree \n",
      "  -  max_depth \n",
      "  -  sample_rate \n",
      "Number of models: 9 \n",
      "Number of failed models: 0 \n",
      "\n",
      "Hyper-Parameter Search Summary: ordered by increasing mse\n",
      "  col_sample_rate_per_tree max_depth sample_rate             model_ids\n",
      "1                      0.9         7         0.7 drf_rand_grid_model_5\n",
      "2                      0.9         7         0.5 drf_rand_grid_model_6\n",
      "3                      0.8         7         0.5 drf_rand_grid_model_4\n",
      "4                      0.7         7         0.5 drf_rand_grid_model_1\n",
      "5                      0.7         5         0.6 drf_rand_grid_model_0\n",
      "6                      0.9         3         0.7 drf_rand_grid_model_2\n",
      "7                      0.8         3         0.6 drf_rand_grid_model_3\n",
      "8                      0.8         3         0.7 drf_rand_grid_model_7\n",
      "9                      0.7         3         0.5 drf_rand_grid_model_8\n",
      "                  mse\n",
      "1 0.48533899185762636\n",
      "2   0.487315432336594\n",
      "3 0.49004168463947945\n",
      "4  0.4927544483353685\n",
      "5  0.5307039662299886\n",
      "6  0.5846039939024897\n",
      "7  0.5850640013528532\n",
      "8  0.5855927668634072\n",
      "9  0.5857362760598669\n"
     ]
    }
   ],
   "source": [
    "# Sort and show the grid search results\n",
    "drf_rand_grid <- h2o.getGrid(grid_id = \"drf_rand_grid\", sort_by = \"mse\", decreasing = FALSE)\n",
    "print(drf_rand_grid)"
   ]
  },
  {
   "cell_type": "code",
   "execution_count": 15,
   "metadata": {
    "collapsed": false
   },
   "outputs": [
    {
     "name": "stdout",
     "output_type": "stream",
     "text": [
      "Model Details:\n",
      "==============\n",
      "\n",
      "H2ORegressionModel: drf\n",
      "Model Key:  drf_rand_grid_model_5 \n",
      "Model Summary: \n",
      "  number_of_trees number_of_internal_trees model_size_in_bytes min_depth\n",
      "1             200                      200              239751         7\n",
      "  max_depth mean_depth min_leaves max_leaves mean_leaves\n",
      "1         7    7.00000         70        111    90.26500\n",
      "\n",
      "H2ORegressionMetrics: drf\n",
      "** Reported on training data. **\n",
      "** Metrics reported on Out-Of-Bag training samples **\n",
      "\n",
      "MSE:  0.4881925\n",
      "RMSE:  0.6987078\n",
      "MAE:  0.55672\n",
      "RMSLE:  0.1038554\n",
      "Mean Residual Deviance :  0.4881925\n",
      "\n",
      "\n",
      "\n",
      "H2ORegressionMetrics: drf\n",
      "** Reported on cross-validation data. **\n",
      "** 5-fold cross-validation on training data (Metrics computed for combined holdout predictions) **\n",
      "\n",
      "MSE:  0.485339\n",
      "RMSE:  0.6966628\n",
      "MAE:  0.5534049\n",
      "RMSLE:  0.1036737\n",
      "Mean Residual Deviance :  0.485339\n",
      "\n",
      "\n",
      "Cross-Validation Metrics Summary: \n",
      "                        mean           sd cv_1_valid cv_2_valid cv_3_valid\n",
      "mae               0.55340695  0.005552894  0.5597114  0.5389095  0.5607463\n",
      "mse               0.48534155  0.008135928  0.4963012  0.4643429 0.49416298\n",
      "r2                 0.3867965  0.011288858  0.3730577 0.39667627  0.3909218\n",
      "residual_deviance 0.48534155  0.008135928  0.4963012  0.4643429 0.49416298\n",
      "rmse               0.6966151  0.005873075  0.7044865  0.6814271  0.7029673\n",
      "rmsle             0.10364755 0.0016516468 0.10672623 0.09989605 0.10539349\n",
      "                   cv_4_valid cv_5_valid\n",
      "mae                 0.5552819  0.5523856\n",
      "mse                 0.4826099 0.48929074\n",
      "r2                 0.40869704 0.36462972\n",
      "residual_deviance   0.4826099 0.48929074\n",
      "rmse                0.6947013  0.6994932\n",
      "rmsle             0.102883786 0.10333821\n",
      "\n",
      "Scoring History: \n",
      "            timestamp   duration number_of_trees training_rmse training_mae\n",
      "1 2017-03-01 05:54:44 31.563 sec               0                           \n",
      "2 2017-03-01 05:54:44 31.566 sec               1       0.78987      0.60592\n",
      "3 2017-03-01 05:54:44 31.569 sec               2       0.78827      0.61267\n",
      "4 2017-03-01 05:54:44 31.571 sec               3       0.77905      0.60767\n",
      "5 2017-03-01 05:54:44 31.574 sec               4       0.77239      0.60398\n",
      "  training_deviance\n",
      "1                  \n",
      "2           0.62390\n",
      "3           0.62137\n",
      "4           0.60692\n",
      "5           0.59659\n",
      "\n",
      "---\n",
      "              timestamp   duration number_of_trees training_rmse training_mae\n",
      "196 2017-03-01 05:54:45 32.325 sec             195       0.69872      0.55659\n",
      "197 2017-03-01 05:54:45 32.329 sec             196       0.69869      0.55663\n",
      "198 2017-03-01 05:54:45 32.336 sec             197       0.69879      0.55671\n",
      "199 2017-03-01 05:54:45 32.341 sec             198       0.69883      0.55681\n",
      "200 2017-03-01 05:54:45 32.344 sec             199       0.69872      0.55668\n",
      "201 2017-03-01 05:54:45 32.348 sec             200       0.69871      0.55672\n",
      "    training_deviance\n",
      "196           0.48820\n",
      "197           0.48817\n",
      "198           0.48830\n",
      "199           0.48836\n",
      "200           0.48821\n",
      "201           0.48819\n",
      "\n",
      "Variable Importances: (Extract with `h2o.varimp`) \n",
      "=================================================\n",
      "\n",
      "Variable Importances: \n",
      "               variable relative_importance scaled_importance percentage\n",
      "1               alcohol        60814.687500          1.000000   0.303835\n",
      "2               density        30903.451172          0.508158   0.154396\n",
      "3      volatile acidity        24629.945312          0.405000   0.123053\n",
      "4   free sulfur dioxide        17794.929688          0.292609   0.088905\n",
      "5             chlorides        14527.195312          0.238876   0.072579\n",
      "6  total sulfur dioxide        13325.857422          0.219122   0.066577\n",
      "7           citric acid         9832.670898          0.161683   0.049125\n",
      "8         fixed acidity         7867.541504          0.129369   0.039307\n",
      "9                    pH         7696.380371          0.126555   0.038452\n",
      "10       residual sugar         7565.418945          0.124401   0.037797\n",
      "11            sulphates         5199.086426          0.085491   0.025975\n"
     ]
    }
   ],
   "source": [
    "# Extract the best model from random grid search\n",
    "best_drf_model_id <- drf_rand_grid@model_ids[[1]] # top of the list\n",
    "best_drf_from_rand_grid <- h2o.getModel(best_drf_model_id)\n",
    "summary(best_drf_from_rand_grid)"
   ]
  },
  {
   "cell_type": "markdown",
   "metadata": {
    "collapsed": true
   },
   "source": [
    "<br>"
   ]
  },
  {
   "cell_type": "markdown",
   "metadata": {
    "collapsed": true
   },
   "source": [
    "## Step 3: Build DNN Models using Random Grid Search and Extract the Best Model"
   ]
  },
  {
   "cell_type": "code",
   "execution_count": 16,
   "metadata": {
    "collapsed": true
   },
   "outputs": [],
   "source": [
    "# define the range of hyper-parameters for DNN grid search\n",
    "# 81 combinations in total\n",
    "hyper_params <- list(\n",
    "    activation = c('tanh', 'rectifier', 'maxout'),\n",
    "    hidden = list(c(50), c(50,50), c(50,50,50)),\n",
    "    l1 = c(0, 1e-3, 1e-5),\n",
    "    l2 = c(0, 1e-3, 1e-5)\n",
    ")"
   ]
  },
  {
   "cell_type": "code",
   "execution_count": 17,
   "metadata": {
    "collapsed": false
   },
   "outputs": [
    {
     "name": "stdout",
     "output_type": "stream",
     "text": [
      "\r",
      "  |                                                                            \r",
      "  |                                                                      |   0%\r",
      "  |                                                                            \r",
      "  |                                                                      |   1%\r",
      "  |                                                                            \r",
      "  |=                                                                     |   1%\r",
      "  |                                                                            \r",
      "  |==                                                                    |   3%\r",
      "  |                                                                            \r",
      "  |===                                                                   |   4%\r",
      "  |                                                                            \r",
      "  |====                                                                  |   5%\r",
      "  |                                                                            \r",
      "  |=====                                                                 |   7%\r",
      "  |                                                                            \r",
      "  |=====                                                                 |   8%\r",
      "  |                                                                            \r",
      "  |======                                                                |   9%\r",
      "  |                                                                            \r",
      "  |=======                                                               |  10%\r",
      "  |                                                                            \r",
      "  |========                                                              |  11%\r",
      "  |                                                                            \r",
      "  |========                                                              |  12%\r",
      "  |                                                                            \r",
      "  |=========                                                             |  13%\r",
      "  |                                                                            \r",
      "  |==========                                                            |  14%\r",
      "  |                                                                            \r",
      "  |==========                                                            |  15%\r",
      "  |                                                                            \r",
      "  |===========                                                           |  16%\r",
      "  |                                                                            \r",
      "  |============                                                          |  17%\r",
      "  |                                                                            \r",
      "  |=============                                                         |  18%\r",
      "  |                                                                            \r",
      "  |=============                                                         |  19%\r",
      "  |                                                                            \r",
      "  |==============                                                        |  20%\r",
      "  |                                                                            \r",
      "  |===============                                                       |  21%\r",
      "  |                                                                            \r",
      "  |================                                                      |  22%\r",
      "  |                                                                            \r",
      "  |================                                                      |  23%\r",
      "  |                                                                            \r",
      "  |================                                                      |  24%\r",
      "  |                                                                            \r",
      "  |==================                                                    |  26%\r",
      "  |                                                                            \r",
      "  |=====================                                                 |  30%\r",
      "  |                                                                            \r",
      "  |=======================                                               |  33%\r",
      "  |                                                                            \r",
      "  |========================                                              |  34%\r",
      "  |                                                                            \r",
      "  |=========================                                             |  35%\r",
      "  |                                                                            \r",
      "  |=========================                                             |  36%\r",
      "  |                                                                            \r",
      "  |==========================                                            |  37%\r",
      "  |                                                                            \r",
      "  |===========================                                           |  38%\r",
      "  |                                                                            \r",
      "  |===========================                                           |  39%\r",
      "  |                                                                            \r",
      "  |============================                                          |  40%\r",
      "  |                                                                            \r",
      "  |=============================                                         |  41%\r",
      "  |                                                                            \r",
      "  |=============================                                         |  42%\r",
      "  |                                                                            \r",
      "  |==============================                                        |  43%\r",
      "  |                                                                            \r",
      "  |==============================                                        |  44%\r",
      "  |                                                                            \r",
      "  |===============================                                       |  44%\r",
      "  |                                                                            \r",
      "  |===============================                                       |  45%\r",
      "  |                                                                            \r",
      "  |================================                                      |  45%\r",
      "  |                                                                            \r",
      "  |================================                                      |  46%\r",
      "  |                                                                            \r",
      "  |=================================                                     |  47%\r",
      "  |                                                                            \r",
      "  |======================================                                |  54%\r",
      "  |                                                                            \r",
      "  |=========================================                             |  59%\r",
      "  |                                                                            \r",
      "  |==============================================                        |  66%\r",
      "  |                                                                            \r",
      "  |==================================================                    |  71%\r",
      "  |                                                                            \r",
      "  |=======================================================               |  78%\r",
      "  |                                                                            \r",
      "  |=========================================================             |  82%\r",
      "  |                                                                            \r",
      "  |==========================================================            |  83%\r",
      "  |                                                                            \r",
      "  |===========================================================           |  84%\r",
      "  |                                                                            \r",
      "  |============================================================          |  85%\r",
      "  |                                                                            \r",
      "  |============================================================          |  86%\r",
      "  |                                                                            \r",
      "  |=============================================================         |  87%\r",
      "  |                                                                            \r",
      "  |==============================================================        |  88%\r",
      "  |                                                                            \r",
      "  |==============================================================        |  89%\r",
      "  |                                                                            \r",
      "  |===============================================================       |  90%\r",
      "  |                                                                            \r",
      "  |================================================================      |  91%\r",
      "  |                                                                            \r",
      "  |================================================================      |  92%\r",
      "  |                                                                            \r",
      "  |=================================================================     |  93%\r",
      "  |                                                                            \r",
      "  |==================================================================    |  94%\r",
      "  |                                                                            \r",
      "  |===================================================================   |  96%\r",
      "  |                                                                            \r",
      "  |====================================================================  |  97%\r",
      "  |                                                                            \r",
      "  |===================================================================== |  98%\r",
      "  |                                                                            \r",
      "  |======================================================================| 100%\n"
     ]
    }
   ],
   "source": [
    "# Set up DNN grid search\n",
    "# Add a seed for reproducibility\n",
    "dnn_rand_grid <- h2o.grid(\n",
    "  \n",
    "    # Core parameters for model training\n",
    "    x = features,\n",
    "    y = 'quality',\n",
    "    training_frame = wine_train,\n",
    "    epochs = 20,\n",
    "    nfolds = 5,\n",
    "    seed = 1234,\n",
    "\n",
    "    # Parameters for grid search\n",
    "    grid_id = \"dnn_rand_grid\",\n",
    "    hyper_params = hyper_params,\n",
    "    algorithm = \"deeplearning\",\n",
    "    search_criteria = search_criteria,\n",
    "    \n",
    "    # Parameters required for stacked ensembles\n",
    "    fold_assignment = \"Modulo\",\n",
    "    keep_cross_validation_predictions = TRUE\n",
    "  \n",
    ")"
   ]
  },
  {
   "cell_type": "code",
   "execution_count": 18,
   "metadata": {
    "collapsed": false
   },
   "outputs": [
    {
     "name": "stdout",
     "output_type": "stream",
     "text": [
      "H2O Grid Details\n",
      "================\n",
      "\n",
      "Grid ID: dnn_rand_grid \n",
      "Used hyper parameters: \n",
      "  -  activation \n",
      "  -  hidden \n",
      "  -  l1 \n",
      "  -  l2 \n",
      "Number of models: 9 \n",
      "Number of failed models: 0 \n",
      "\n",
      "Hyper-Parameter Search Summary: ordered by increasing mse\n",
      "  activation       hidden     l1     l2             model_ids\n",
      "1     Maxout [50, 50, 50] 1.0E-5 1.0E-5 dnn_rand_grid_model_3\n",
      "2  Rectifier     [50, 50] 1.0E-5    0.0 dnn_rand_grid_model_2\n",
      "3     Maxout     [50, 50]    0.0 1.0E-5 dnn_rand_grid_model_8\n",
      "4       Tanh [50, 50, 50] 1.0E-5 1.0E-5 dnn_rand_grid_model_7\n",
      "5     Maxout         [50] 1.0E-5  0.001 dnn_rand_grid_model_6\n",
      "6       Tanh [50, 50, 50]    0.0 1.0E-5 dnn_rand_grid_model_0\n",
      "7     Maxout         [50]    0.0    0.0 dnn_rand_grid_model_5\n",
      "8     Maxout         [50]  0.001    0.0 dnn_rand_grid_model_4\n",
      "9       Tanh [50, 50, 50]  0.001    0.0 dnn_rand_grid_model_1\n",
      "                 mse\n",
      "1 0.5132317444689928\n",
      "2 0.5147930385440149\n",
      "3 0.5231170352359251\n",
      "4 0.5243904925311967\n",
      "5 0.5257152424817406\n",
      "6 0.5276392369040392\n",
      "7 0.5300169058534957\n",
      "8 0.5450070477599134\n",
      "9 0.5486681769362338\n"
     ]
    }
   ],
   "source": [
    "# Sort and show the grid search results\n",
    "dnn_rand_grid <- h2o.getGrid(grid_id = \"dnn_rand_grid\", sort_by = \"mse\", decreasing = FALSE)\n",
    "print(dnn_rand_grid)"
   ]
  },
  {
   "cell_type": "code",
   "execution_count": 19,
   "metadata": {
    "collapsed": false
   },
   "outputs": [
    {
     "name": "stdout",
     "output_type": "stream",
     "text": [
      "Model Details:\n",
      "==============\n",
      "\n",
      "H2ORegressionModel: deeplearning\n",
      "Model Key:  dnn_rand_grid_model_3 \n",
      "Status of Neuron Layers: predicting quality, regression, gaussian distribution, Quadratic loss, 11,451 weights/biases, 143.8 KB, 81,920 training samples, mini-batch size 1\n",
      "  layer units   type dropout       l1       l2 mean_rate rate_rms momentum\n",
      "1     1    11  Input  0.00 %                                              \n",
      "2     2    50 Maxout  0.00 % 0.000010 0.000010  0.001362 0.000463 0.000000\n",
      "3     3    50 Maxout  0.00 % 0.000010 0.000010  0.002507 0.000914 0.000000\n",
      "4     4    50 Maxout  0.00 % 0.000010 0.000010  0.035343 0.053778 0.000000\n",
      "5     5     1 Linear         0.000010 0.000010  0.000370 0.000208 0.000000\n",
      "  mean_weight weight_rms mean_bias bias_rms\n",
      "1                                          \n",
      "2   -0.002575   0.198772  0.427465 0.066787\n",
      "3   -0.031066   0.149890  0.957756 0.031819\n",
      "4   -0.021807   0.144457  0.817316 0.199981\n",
      "5    0.000514   0.119923  0.022593 0.000000\n",
      "\n",
      "H2ORegressionMetrics: deeplearning\n",
      "** Reported on training data. **\n",
      "** Metrics reported on full training frame **\n",
      "\n",
      "MSE:  0.428123\n",
      "RMSE:  0.6543111\n",
      "MAE:  0.5181838\n",
      "RMSLE:  0.09789516\n",
      "Mean Residual Deviance :  0.428123\n",
      "\n",
      "\n",
      "\n",
      "H2ORegressionMetrics: deeplearning\n",
      "** Reported on cross-validation data. **\n",
      "** 5-fold cross-validation on training data (Metrics computed for combined holdout predictions) **\n",
      "\n",
      "MSE:  0.5132317\n",
      "RMSE:  0.7164019\n",
      "MAE:  0.5610945\n",
      "RMSLE:  0.1065543\n",
      "Mean Residual Deviance :  0.5132317\n",
      "\n",
      "\n",
      "Cross-Validation Metrics Summary: \n",
      "                        mean           sd  cv_1_valid cv_2_valid cv_3_valid\n",
      "mae                0.5610955  0.004813636  0.56158286  0.5569238  0.5517425\n",
      "mse               0.51323146  0.012347572   0.5097897   0.517834 0.49660873\n",
      "r2                 0.3509187  0.026187148   0.3560186  0.3271749 0.38790733\n",
      "residual_deviance 0.51323146  0.012347572   0.5097897   0.517834 0.49660873\n",
      "rmse               0.7162994  0.008560747   0.7139956  0.7196069  0.7047047\n",
      "rmsle             0.10652595 0.0017459263 0.107351966 0.10474491 0.10536039\n",
      "                  cv_4_valid cv_5_valid\n",
      "mae                 0.563053  0.5721752\n",
      "mse                0.4975557  0.5443691\n",
      "r2                0.39038515 0.29310754\n",
      "residual_deviance  0.4975557  0.5443691\n",
      "rmse              0.70537627  0.7378137\n",
      "rmsle              0.1041935 0.11097897\n",
      "\n",
      "Scoring History: \n",
      "            timestamp   duration training_speed   epochs iterations\n",
      "1 2017-03-01 05:55:44  0.000 sec                 0.00000          0\n",
      "2 2017-03-01 05:55:45 43.336 sec  25691 obs/sec  2.09741          1\n",
      "3 2017-03-01 05:55:47 46.208 sec  25850 obs/sec 20.83418         10\n",
      "       samples training_rmse training_deviance training_mae\n",
      "1     0.000000                                             \n",
      "2  8247.000000       0.71247           0.50762      0.55722\n",
      "3 81920.000000       0.65431           0.42812      0.51818\n",
      "\n"
     ]
    }
   ],
   "source": [
    "# Extract the best model from random grid search\n",
    "best_dnn_model_id <- dnn_rand_grid@model_ids[[1]] # top of the list\n",
    "best_dnn_from_rand_grid <- h2o.getModel(best_dnn_model_id)\n",
    "summary(best_dnn_from_rand_grid)"
   ]
  },
  {
   "cell_type": "markdown",
   "metadata": {
    "collapsed": true
   },
   "source": [
    "<br>"
   ]
  },
  {
   "cell_type": "markdown",
   "metadata": {
    "collapsed": true
   },
   "source": [
    "## Model Stacking"
   ]
  },
  {
   "cell_type": "code",
   "execution_count": 20,
   "metadata": {
    "collapsed": true
   },
   "outputs": [],
   "source": [
    "# Define a list of models to be stacked\n",
    "# i.e. best model from each grid\n",
    "all_ids = list(best_gbm_model_id, best_drf_model_id, best_dnn_model_id)"
   ]
  },
  {
   "cell_type": "code",
   "execution_count": 21,
   "metadata": {
    "collapsed": false,
    "scrolled": true
   },
   "outputs": [
    {
     "name": "stdout",
     "output_type": "stream",
     "text": [
      "\r",
      "  |                                                                            \r",
      "  |                                                                      |   0%\r",
      "  |                                                                            \r",
      "  |======================================================================| 100%\n"
     ]
    }
   ],
   "source": [
    "# Stack models\n",
    "# GLM as the default metalearner\n",
    "ensemble = h2o.stackedEnsemble(x = features,\n",
    "                               y = 'quality',\n",
    "                               training_frame = wine_train,\n",
    "                               model_id = \"my_ensemble\",\n",
    "                               base_models = all_ids)"
   ]
  },
  {
   "cell_type": "markdown",
   "metadata": {},
   "source": [
    "<br>"
   ]
  },
  {
   "cell_type": "markdown",
   "metadata": {},
   "source": [
    "## Comparison of Model Performance on Test Data"
   ]
  },
  {
   "cell_type": "code",
   "execution_count": 22,
   "metadata": {
    "collapsed": false
   },
   "outputs": [
    {
     "name": "stdout",
     "output_type": "stream",
     "text": [
      "Best GBM model from Grid (MSE) :  0.4013943 \n",
      "Best DRF model from Grid (MSE) :  0.4781568 \n",
      "Best DNN model from Grid (MSE) :  0.5543555 \n",
      "Stacked Ensembles        (MSE) :  0.3989076 \n"
     ]
    }
   ],
   "source": [
    "cat('Best GBM model from Grid (MSE) : ', h2o.performance(best_gbm_from_rand_grid, wine_test)@metrics$MSE, \"\\n\")\n",
    "cat('Best DRF model from Grid (MSE) : ', h2o.performance(best_drf_from_rand_grid, wine_test)@metrics$MSE, \"\\n\")\n",
    "cat('Best DNN model from Grid (MSE) : ', h2o.performance(best_dnn_from_rand_grid, wine_test)@metrics$MSE, \"\\n\")\n",
    "cat('Stacked Ensembles        (MSE) : ', h2o.performance(ensemble, wine_test)@metrics$MSE, \"\\n\")"
   ]
  },
  {
   "cell_type": "markdown",
   "metadata": {},
   "source": [
    "<br>"
   ]
  },
  {
   "cell_type": "markdown",
   "metadata": {},
   "source": [
    "<br>"
   ]
  }
 ],
 "metadata": {
  "anaconda-cloud": {},
  "kernelspec": {
   "display_name": "R",
   "language": "R",
   "name": "ir"
  },
  "language_info": {
   "codemirror_mode": "r",
   "file_extension": ".r",
   "mimetype": "text/x-r-source",
   "name": "R",
   "pygments_lexer": "r",
   "version": "3.3.2"
  }
 },
 "nbformat": 4,
 "nbformat_minor": 1
}
