{
 "cells": [
  {
   "cell_type": "markdown",
   "metadata": {},
   "source": [
    "# Machine Learning with H2O - Tutorial 3b: Regression Models (Grid Search)\n",
    "\n",
    "<hr>\n",
    "\n",
    "**Objective**:\n",
    "\n",
    "- This tutorial explains how to fine-tune regression models for better out-of-bag performance.\n",
    "\n",
    "<hr>\n",
    "\n",
    "**Wine Quality Dataset:**\n",
    "\n",
    "- Source: https://archive.ics.uci.edu/ml/datasets/Wine+Quality\n",
    "- CSV (https://archive.ics.uci.edu/ml/machine-learning-databases/wine-quality/winequality-white.csv)\n",
    "\n",
    "<hr>\n",
    "    \n",
    "**Steps**:\n",
    "\n",
    "1. GBM with default settings\n",
    "2. GBM with manual settings\n",
    "3. GBM with manual settings & cross-validation\n",
    "4. GBM with manual settings, cross-validation and early stopping\n",
    "5. GBM with cross-validation, early stopping and full grid search\n",
    "6. GBM with cross-validation, early stopping and random grid search\n",
    "7. Model stacking (combining different GLM, DRF, GBM and DNN models)\n",
    "\n",
    "\n",
    "<hr>\n",
    "\n",
    "**Full Technical Reference:**\n",
    "\n",
    "- http://docs.h2o.ai/h2o/latest-stable/h2o-docs/booklets/RBooklet.pdf\n",
    "\n",
    "<br>\n"
   ]
  },
  {
   "cell_type": "code",
   "execution_count": 1,
   "metadata": {
    "collapsed": false,
    "scrolled": false
   },
   "outputs": [
    {
     "name": "stdout",
     "output_type": "stream",
     "text": [
      "\n",
      "H2O is not running yet, starting it now...\n",
      "\n",
      "Note:  In case of errors look at the following log files:\n",
      "    /tmp/Rtmptn0ivG/h2o_joe_started_from_r.out\n",
      "    /tmp/Rtmptn0ivG/h2o_joe_started_from_r.err\n",
      "\n",
      "\n",
      "Starting H2O JVM and connecting: .. Connection successful!\n",
      "\n",
      "R is connected to the H2O cluster: \n",
      "    H2O cluster uptime:         1 seconds 808 milliseconds \n",
      "    H2O cluster version:        3.10.3.5 \n",
      "    H2O cluster version age:    10 days  \n",
      "    H2O cluster name:           H2O_started_from_R_joe_jyt717 \n",
      "    H2O cluster total nodes:    1 \n",
      "    H2O cluster total memory:   5.21 GB \n",
      "    H2O cluster total cores:    8 \n",
      "    H2O cluster allowed cores:  8 \n",
      "    H2O cluster healthy:        TRUE \n",
      "    H2O Connection ip:          localhost \n",
      "    H2O Connection port:        54321 \n",
      "    H2O Connection proxy:       NA \n",
      "    R Version:                  R version 3.3.2 (2016-10-31) \n",
      "\n"
     ]
    }
   ],
   "source": [
    "# Start and connect to a local H2O cluster\n",
    "suppressPackageStartupMessages(library(h2o))\n",
    "h2o.init(nthreads = -1)"
   ]
  },
  {
   "cell_type": "markdown",
   "metadata": {},
   "source": [
    "<br>"
   ]
  },
  {
   "cell_type": "code",
   "execution_count": 2,
   "metadata": {
    "collapsed": false
   },
   "outputs": [
    {
     "name": "stdout",
     "output_type": "stream",
     "text": [
      "\r",
      "  |                                                                            \r",
      "  |                                                                      |   0%\r",
      "  |                                                                            \r",
      "  |======================================================================| 100%\n"
     ]
    },
    {
     "data": {
      "text/html": [
       "<table>\n",
       "<thead><tr><th scope=col>fixed acidity</th><th scope=col>volatile acidity</th><th scope=col>citric acid</th><th scope=col>residual sugar</th><th scope=col>chlorides</th><th scope=col>free sulfur dioxide</th><th scope=col>total sulfur dioxide</th><th scope=col>density</th><th scope=col>pH</th><th scope=col>sulphates</th><th scope=col>alcohol</th><th scope=col>quality</th></tr></thead>\n",
       "<tbody>\n",
       "\t<tr><td>7.0   </td><td>0.27  </td><td>0.36  </td><td>20.7  </td><td>0.045 </td><td>45    </td><td>170   </td><td>1.0010</td><td>3.00  </td><td>0.45  </td><td> 8.8  </td><td>6     </td></tr>\n",
       "\t<tr><td>6.3   </td><td>0.30  </td><td>0.34  </td><td> 1.6  </td><td>0.049 </td><td>14    </td><td>132   </td><td>0.9940</td><td>3.30  </td><td>0.49  </td><td> 9.5  </td><td>6     </td></tr>\n",
       "\t<tr><td>8.1   </td><td>0.28  </td><td>0.40  </td><td> 6.9  </td><td>0.050 </td><td>30    </td><td> 97   </td><td>0.9951</td><td>3.26  </td><td>0.44  </td><td>10.1  </td><td>6     </td></tr>\n",
       "\t<tr><td>7.2   </td><td>0.23  </td><td>0.32  </td><td> 8.5  </td><td>0.058 </td><td>47    </td><td>186   </td><td>0.9956</td><td>3.19  </td><td>0.40  </td><td> 9.9  </td><td>6     </td></tr>\n",
       "\t<tr><td>7.2   </td><td>0.23  </td><td>0.32  </td><td> 8.5  </td><td>0.058 </td><td>47    </td><td>186   </td><td>0.9956</td><td>3.19  </td><td>0.40  </td><td> 9.9  </td><td>6     </td></tr>\n",
       "</tbody>\n",
       "</table>\n"
      ],
      "text/latex": [
       "\\begin{tabular}{r|llllllllllll}\n",
       " fixed acidity & volatile acidity & citric acid & residual sugar & chlorides & free sulfur dioxide & total sulfur dioxide & density & pH & sulphates & alcohol & quality\\\\\n",
       "\\hline\n",
       "\t 7.0    & 0.27   & 0.36   & 20.7   & 0.045  & 45     & 170    & 1.0010 & 3.00   & 0.45   &  8.8   & 6     \\\\\n",
       "\t 6.3    & 0.30   & 0.34   &  1.6   & 0.049  & 14     & 132    & 0.9940 & 3.30   & 0.49   &  9.5   & 6     \\\\\n",
       "\t 8.1    & 0.28   & 0.40   &  6.9   & 0.050  & 30     &  97    & 0.9951 & 3.26   & 0.44   & 10.1   & 6     \\\\\n",
       "\t 7.2    & 0.23   & 0.32   &  8.5   & 0.058  & 47     & 186    & 0.9956 & 3.19   & 0.40   &  9.9   & 6     \\\\\n",
       "\t 7.2    & 0.23   & 0.32   &  8.5   & 0.058  & 47     & 186    & 0.9956 & 3.19   & 0.40   &  9.9   & 6     \\\\\n",
       "\\end{tabular}\n"
      ],
      "text/markdown": [
       "\n",
       "fixed acidity | volatile acidity | citric acid | residual sugar | chlorides | free sulfur dioxide | total sulfur dioxide | density | pH | sulphates | alcohol | quality | \n",
       "|---|---|---|---|---|\n",
       "| 7.0    | 0.27   | 0.36   | 20.7   | 0.045  | 45     | 170    | 1.0010 | 3.00   | 0.45   |  8.8   | 6      | \n",
       "| 6.3    | 0.30   | 0.34   |  1.6   | 0.049  | 14     | 132    | 0.9940 | 3.30   | 0.49   |  9.5   | 6      | \n",
       "| 8.1    | 0.28   | 0.40   |  6.9   | 0.050  | 30     |  97    | 0.9951 | 3.26   | 0.44   | 10.1   | 6      | \n",
       "| 7.2    | 0.23   | 0.32   |  8.5   | 0.058  | 47     | 186    | 0.9956 | 3.19   | 0.40   |  9.9   | 6      | \n",
       "| 7.2    | 0.23   | 0.32   |  8.5   | 0.058  | 47     | 186    | 0.9956 | 3.19   | 0.40   |  9.9   | 6      | \n",
       "\n",
       "\n"
      ],
      "text/plain": [
       "  fixed acidity volatile acidity citric acid residual sugar chlorides\n",
       "1 7.0           0.27             0.36        20.7           0.045    \n",
       "2 6.3           0.30             0.34         1.6           0.049    \n",
       "3 8.1           0.28             0.40         6.9           0.050    \n",
       "4 7.2           0.23             0.32         8.5           0.058    \n",
       "5 7.2           0.23             0.32         8.5           0.058    \n",
       "  free sulfur dioxide total sulfur dioxide density pH   sulphates alcohol\n",
       "1 45                  170                  1.0010  3.00 0.45       8.8   \n",
       "2 14                  132                  0.9940  3.30 0.49       9.5   \n",
       "3 30                   97                  0.9951  3.26 0.44      10.1   \n",
       "4 47                  186                  0.9956  3.19 0.40       9.9   \n",
       "5 47                  186                  0.9956  3.19 0.40       9.9   \n",
       "  quality\n",
       "1 6      \n",
       "2 6      \n",
       "3 6      \n",
       "4 6      \n",
       "5 6      "
      ]
     },
     "metadata": {},
     "output_type": "display_data"
    }
   ],
   "source": [
    "# Import wine quality data from a local CSV file\n",
    "wine = h2o.importFile(\"winequality-white.csv\")\n",
    "head(wine, 5)"
   ]
  },
  {
   "cell_type": "code",
   "execution_count": 3,
   "metadata": {
    "collapsed": false
   },
   "outputs": [
    {
     "data": {
      "text/html": [
       "<ol class=list-inline>\n",
       "\t<li>'fixed acidity'</li>\n",
       "\t<li>'volatile acidity'</li>\n",
       "\t<li>'citric acid'</li>\n",
       "\t<li>'residual sugar'</li>\n",
       "\t<li>'chlorides'</li>\n",
       "\t<li>'free sulfur dioxide'</li>\n",
       "\t<li>'total sulfur dioxide'</li>\n",
       "\t<li>'density'</li>\n",
       "\t<li>'pH'</li>\n",
       "\t<li>'sulphates'</li>\n",
       "\t<li>'alcohol'</li>\n",
       "</ol>\n"
      ],
      "text/latex": [
       "\\begin{enumerate*}\n",
       "\\item 'fixed acidity'\n",
       "\\item 'volatile acidity'\n",
       "\\item 'citric acid'\n",
       "\\item 'residual sugar'\n",
       "\\item 'chlorides'\n",
       "\\item 'free sulfur dioxide'\n",
       "\\item 'total sulfur dioxide'\n",
       "\\item 'density'\n",
       "\\item 'pH'\n",
       "\\item 'sulphates'\n",
       "\\item 'alcohol'\n",
       "\\end{enumerate*}\n"
      ],
      "text/markdown": [
       "1. 'fixed acidity'\n",
       "2. 'volatile acidity'\n",
       "3. 'citric acid'\n",
       "4. 'residual sugar'\n",
       "5. 'chlorides'\n",
       "6. 'free sulfur dioxide'\n",
       "7. 'total sulfur dioxide'\n",
       "8. 'density'\n",
       "9. 'pH'\n",
       "10. 'sulphates'\n",
       "11. 'alcohol'\n",
       "\n",
       "\n"
      ],
      "text/plain": [
       " [1] \"fixed acidity\"        \"volatile acidity\"     \"citric acid\"         \n",
       " [4] \"residual sugar\"       \"chlorides\"            \"free sulfur dioxide\" \n",
       " [7] \"total sulfur dioxide\" \"density\"              \"pH\"                  \n",
       "[10] \"sulphates\"            \"alcohol\"             "
      ]
     },
     "metadata": {},
     "output_type": "display_data"
    }
   ],
   "source": [
    "# Define features (or predictors)\n",
    "features = colnames(wine)  # we want to use all the information\n",
    "features = setdiff(features, 'quality')    # we need to exclude the target 'quality'\n",
    "features"
   ]
  },
  {
   "cell_type": "code",
   "execution_count": 4,
   "metadata": {
    "collapsed": false
   },
   "outputs": [],
   "source": [
    "# Split the H2O data frame into training/test sets\n",
    "# so we can evaluate out-of-bag performance\n",
    "wine_split = h2o.splitFrame(wine, ratios = 0.8, seed = 1234)\n",
    "\n",
    "wine_train = wine_split[[1]] # using 80% for training\n",
    "wine_test = wine_split[[2]]  # using the rest 20% for out-of-bag evaluation"
   ]
  },
  {
   "cell_type": "code",
   "execution_count": 5,
   "metadata": {
    "collapsed": false
   },
   "outputs": [
    {
     "data": {
      "text/html": [
       "<ol class=list-inline>\n",
       "\t<li>3932</li>\n",
       "\t<li>12</li>\n",
       "</ol>\n"
      ],
      "text/latex": [
       "\\begin{enumerate*}\n",
       "\\item 3932\n",
       "\\item 12\n",
       "\\end{enumerate*}\n"
      ],
      "text/markdown": [
       "1. 3932\n",
       "2. 12\n",
       "\n",
       "\n"
      ],
      "text/plain": [
       "[1] 3932   12"
      ]
     },
     "metadata": {},
     "output_type": "display_data"
    }
   ],
   "source": [
    "dim(wine_train)"
   ]
  },
  {
   "cell_type": "code",
   "execution_count": 6,
   "metadata": {
    "collapsed": false
   },
   "outputs": [
    {
     "data": {
      "text/html": [
       "<ol class=list-inline>\n",
       "\t<li>966</li>\n",
       "\t<li>12</li>\n",
       "</ol>\n"
      ],
      "text/latex": [
       "\\begin{enumerate*}\n",
       "\\item 966\n",
       "\\item 12\n",
       "\\end{enumerate*}\n"
      ],
      "text/markdown": [
       "1. 966\n",
       "2. 12\n",
       "\n",
       "\n"
      ],
      "text/plain": [
       "[1] 966  12"
      ]
     },
     "metadata": {},
     "output_type": "display_data"
    }
   ],
   "source": [
    "dim(wine_test)"
   ]
  },
  {
   "cell_type": "markdown",
   "metadata": {
    "collapsed": true
   },
   "source": [
    "<br>\n",
    "\n",
    "## Step 1 - Gradient Boosting Machines (GBM) with Default Settings"
   ]
  },
  {
   "cell_type": "code",
   "execution_count": 7,
   "metadata": {
    "collapsed": false
   },
   "outputs": [
    {
     "name": "stdout",
     "output_type": "stream",
     "text": [
      "\r",
      "  |                                                                            \r",
      "  |                                                                      |   0%\r",
      "  |                                                                            \r",
      "  |======================================================================| 100%\n"
     ]
    }
   ],
   "source": [
    "# Build a Gradient Boosting Machines (GBM) model with default settings\n",
    "gbm_default = h2o.gbm(x = features,\n",
    "                      y = 'quality',\n",
    "                      training_frame = wine_train,\n",
    "                      seed = 1234,\n",
    "                      model_id = 'gbm_default')"
   ]
  },
  {
   "cell_type": "code",
   "execution_count": 8,
   "metadata": {
    "collapsed": false,
    "scrolled": false
   },
   "outputs": [
    {
     "data": {
      "text/plain": [
       "H2ORegressionMetrics: gbm\n",
       "\n",
       "MSE:  0.4551121\n",
       "RMSE:  0.67462\n",
       "MAE:  0.5219768\n",
       "RMSLE:  0.1001376\n",
       "Mean Residual Deviance :  0.4551121\n"
      ]
     },
     "metadata": {},
     "output_type": "display_data"
    }
   ],
   "source": [
    "# Check the model performance on test dataset\n",
    "h2o.performance(gbm_default, wine_test)"
   ]
  },
  {
   "cell_type": "markdown",
   "metadata": {},
   "source": [
    "<br>\n",
    "\n",
    "## Step 2 - GBM with Manual Settings"
   ]
  },
  {
   "cell_type": "code",
   "execution_count": 9,
   "metadata": {
    "collapsed": false
   },
   "outputs": [
    {
     "name": "stdout",
     "output_type": "stream",
     "text": [
      "\r",
      "  |                                                                            \r",
      "  |                                                                      |   0%\r",
      "  |                                                                            \r",
      "  |====                                                                  |   6%\r",
      "  |                                                                            \r",
      "  |======================================================================| 100%\n"
     ]
    }
   ],
   "source": [
    "# Build a GBM with manual settings\n",
    "gbm_manual = h2o.gbm(x = features,\n",
    "                     y = 'quality',\n",
    "                     training_frame = wine_train,\n",
    "                     seed = 1234,\n",
    "                     model_id = 'gbm_manual',\n",
    "                     ntrees = 100,\n",
    "                     sample_rate = 0.9,\n",
    "                     col_sample_rate = 0.9)"
   ]
  },
  {
   "cell_type": "code",
   "execution_count": 10,
   "metadata": {
    "collapsed": false
   },
   "outputs": [
    {
     "data": {
      "text/plain": [
       "H2ORegressionMetrics: gbm\n",
       "\n",
       "MSE:  0.4432567\n",
       "RMSE:  0.6657752\n",
       "MAE:  0.5114358\n",
       "RMSLE:  0.0989581\n",
       "Mean Residual Deviance :  0.4432567\n"
      ]
     },
     "metadata": {},
     "output_type": "display_data"
    }
   ],
   "source": [
    "# Check the model performance on test dataset\n",
    "h2o.performance(gbm_manual, wine_test)"
   ]
  },
  {
   "cell_type": "markdown",
   "metadata": {},
   "source": [
    "<br>\n",
    "\n",
    "## Step 3 - GBM with Manual Settings & Cross-Validation (CV)"
   ]
  },
  {
   "cell_type": "code",
   "execution_count": 11,
   "metadata": {
    "collapsed": false
   },
   "outputs": [
    {
     "name": "stdout",
     "output_type": "stream",
     "text": [
      "\r",
      "  |                                                                            \r",
      "  |                                                                      |   0%\r",
      "  |                                                                            \r",
      "  |========================                                              |  34%\r",
      "  |                                                                            \r",
      "  |================================================                      |  69%\r",
      "  |                                                                            \r",
      "  |======================================================================| 100%\n"
     ]
    }
   ],
   "source": [
    "# Build a GBM with manual settings & cross-validation\n",
    "gbm_manual_cv = h2o.gbm(x = features,\n",
    "                        y = 'quality',\n",
    "                        training_frame = wine_train,\n",
    "                        seed = 1234,\n",
    "                        model_id = 'gbm_manual_cv',\n",
    "                        ntrees = 100,\n",
    "                        sample_rate = 0.9,\n",
    "                        col_sample_rate = 0.9,\n",
    "                        nfolds = 5)"
   ]
  },
  {
   "cell_type": "code",
   "execution_count": 12,
   "metadata": {
    "collapsed": false
   },
   "outputs": [
    {
     "data": {
      "text/plain": [
       "Model Details:\n",
       "==============\n",
       "\n",
       "H2ORegressionModel: gbm\n",
       "Model ID:  gbm_manual_cv \n",
       "Model Summary: \n",
       "  number_of_trees number_of_internal_trees model_size_in_bytes min_depth\n",
       "1             100                      100               32355         5\n",
       "  max_depth mean_depth min_leaves max_leaves mean_leaves\n",
       "1         5    5.00000          7         31    20.59000\n",
       "\n",
       "\n",
       "H2ORegressionMetrics: gbm\n",
       "** Reported on training data. **\n",
       "\n",
       "MSE:  0.2743835\n",
       "RMSE:  0.5238162\n",
       "MAE:  0.4075921\n",
       "RMSLE:  0.07748354\n",
       "Mean Residual Deviance :  0.2743835\n",
       "\n",
       "\n",
       "\n",
       "H2ORegressionMetrics: gbm\n",
       "** Reported on cross-validation data. **\n",
       "** 5-fold cross-validation on training data (Metrics computed for combined holdout predictions) **\n",
       "\n",
       "MSE:  0.4502182\n",
       "RMSE:  0.670983\n",
       "MAE:  0.5185164\n",
       "RMSLE:  0.1000784\n",
       "Mean Residual Deviance :  0.4502182\n",
       "\n",
       "\n",
       "Cross-Validation Metrics Summary: \n",
       "                        mean          sd cv_1_valid cv_2_valid cv_3_valid\n",
       "mae                0.5183839 0.005799581  0.5173063 0.53289497   0.507699\n",
       "mse               0.45017532 0.009006354  0.4428255 0.47013062 0.45373598\n",
       "r2                0.43098298 0.017648963 0.43654183 0.38503054  0.4380041\n",
       "residual_deviance 0.45017532 0.009006354  0.4428255 0.47013062 0.45373598\n",
       "rmse                0.670884 0.006707203 0.66545135  0.6856607  0.6735993\n",
       "rmsle             0.10007383 7.270967E-4 0.09834545 0.10152771 0.09989998\n",
       "                   cv_4_valid cv_5_valid\n",
       "mae                0.51518273 0.51883656\n",
       "mse                0.43171054 0.45247397\n",
       "r2                 0.46120018  0.4341383\n",
       "residual_deviance  0.43171054 0.45247397\n",
       "rmse               0.65704685 0.67266184\n",
       "rmsle             0.100463666 0.10013236"
      ]
     },
     "metadata": {},
     "output_type": "display_data"
    }
   ],
   "source": [
    "# Check the cross-validation model performance\n",
    "gbm_manual_cv"
   ]
  },
  {
   "cell_type": "code",
   "execution_count": 13,
   "metadata": {
    "collapsed": false
   },
   "outputs": [
    {
     "data": {
      "text/plain": [
       "H2ORegressionMetrics: gbm\n",
       "\n",
       "MSE:  0.4432567\n",
       "RMSE:  0.6657752\n",
       "MAE:  0.5114358\n",
       "RMSLE:  0.0989581\n",
       "Mean Residual Deviance :  0.4432567\n"
      ]
     },
     "metadata": {},
     "output_type": "display_data"
    }
   ],
   "source": [
    "# Check the model performance on test dataset\n",
    "h2o.performance(gbm_manual_cv, wine_test)\n",
    "# It should be the same as gbm_manual above as the model is trained with same parameters"
   ]
  },
  {
   "cell_type": "markdown",
   "metadata": {},
   "source": [
    "<br>\n",
    "\n",
    "## Step 4 - GBM with Manual Settings, CV and Early Stopping"
   ]
  },
  {
   "cell_type": "code",
   "execution_count": 14,
   "metadata": {
    "collapsed": false
   },
   "outputs": [
    {
     "name": "stdout",
     "output_type": "stream",
     "text": [
      "\r",
      "  |                                                                            \r",
      "  |                                                                      |   0%\r",
      "  |                                                                            \r",
      "  |                                                                      |   1%\r",
      "  |                                                                            \r",
      "  |============                                                          |  17%\r",
      "  |                                                                            \r",
      "  |===================================                                   |  51%\r",
      "  |                                                                            \r",
      "  |===============================================                       |  67%\r",
      "  |                                                                            \r",
      "  |======================================================================| 100%\n"
     ]
    }
   ],
   "source": [
    "# Build a GBM with manual settings, CV and early stopping\n",
    "gbm_manual_cv_es = h2o.gbm(x = features,\n",
    "                           y = 'quality',\n",
    "                           training_frame = wine_train,\n",
    "                           seed = 1234,\n",
    "                           model_id = 'gbm_manual_cv_es',\n",
    "                           ntrees = 10000,              # increase the number of trees\n",
    "                           sample_rate = 0.9,\n",
    "                           col_sample_rate = 0.9,\n",
    "                           nfolds = 5,\n",
    "                           stopping_metric = 'MSE',     # let early stopping feature determine\n",
    "                           stopping_rounds = 15,        # the optimal number of trees\n",
    "                           score_tree_interval = 1)     # by looking at the MSE metric"
   ]
  },
  {
   "cell_type": "code",
   "execution_count": 15,
   "metadata": {
    "collapsed": false
   },
   "outputs": [
    {
     "name": "stdout",
     "output_type": "stream",
     "text": [
      "Model Details:\n",
      "==============\n",
      "\n",
      "H2ORegressionModel: gbm\n",
      "Model Key:  gbm_manual_cv_es \n",
      "Model Summary: \n",
      "  number_of_trees number_of_internal_trees model_size_in_bytes min_depth\n",
      "1             155                      155               49780         5\n",
      "  max_depth mean_depth min_leaves max_leaves mean_leaves\n",
      "1         5    5.00000          7         32    20.37419\n",
      "\n",
      "H2ORegressionMetrics: gbm\n",
      "** Reported on training data. **\n",
      "\n",
      "MSE:  0.2210799\n",
      "RMSE:  0.4701914\n",
      "MAE:  0.3620056\n",
      "RMSLE:  0.06954328\n",
      "Mean Residual Deviance :  0.2210799\n",
      "\n",
      "\n",
      "\n",
      "H2ORegressionMetrics: gbm\n",
      "** Reported on cross-validation data. **\n",
      "** 5-fold cross-validation on training data (Metrics computed for combined holdout predictions) **\n",
      "\n",
      "MSE:  0.4428879\n",
      "RMSE:  0.6654982\n",
      "MAE:  0.5094015\n",
      "RMSLE:  0.09937082\n",
      "Mean Residual Deviance :  0.4428879\n",
      "\n",
      "\n",
      "Cross-Validation Metrics Summary: \n",
      "                        mean           sd cv_1_valid cv_2_valid cv_3_valid\n",
      "mae               0.50952744  0.006480625  0.4993615  0.5179948 0.49803287\n",
      "mse               0.44306728  0.006771577 0.43059766 0.45220712  0.4484727\n",
      "r2                0.44011936  0.012657494  0.4521007 0.40847594 0.44452316\n",
      "residual_deviance 0.44306728  0.006771577 0.43059766 0.45220712  0.4484727\n",
      "rmse                0.665594 0.0050969874  0.6561994  0.6724635  0.6696811\n",
      "rmsle             0.09938694 8.0789777E-4 0.09720557 0.09966757  0.0995299\n",
      "                  cv_4_valid cv_5_valid\n",
      "mae                0.5125335  0.5197147\n",
      "mse               0.43233046  0.4517285\n",
      "r2                0.46042648 0.43507057\n",
      "residual_deviance 0.43233046  0.4517285\n",
      "rmse               0.6575184  0.6721075\n",
      "rmsle             0.10051537 0.10001628\n",
      "\n",
      "Scoring History: \n",
      "            timestamp   duration number_of_trees training_rmse training_mae\n",
      "1 2017-03-01 05:00:06  7.074 sec               0       0.89009      0.67683\n",
      "2 2017-03-01 05:00:06  7.079 sec               1       0.85999      0.65134\n",
      "3 2017-03-01 05:00:06  7.082 sec               2       0.83216      0.62951\n",
      "4 2017-03-01 05:00:06  7.085 sec               3       0.80819      0.61514\n",
      "5 2017-03-01 05:00:06  7.088 sec               4       0.78820      0.60640\n",
      "  training_deviance\n",
      "1           0.79225\n",
      "2           0.73959\n",
      "3           0.69248\n",
      "4           0.65317\n",
      "5           0.62126\n",
      "\n",
      "---\n",
      "              timestamp   duration number_of_trees training_rmse training_mae\n",
      "151 2017-03-01 05:00:07  7.582 sec             150       0.47228      0.36394\n",
      "152 2017-03-01 05:00:07  7.586 sec             151       0.47191      0.36351\n",
      "153 2017-03-01 05:00:07  7.590 sec             152       0.47147      0.36321\n",
      "154 2017-03-01 05:00:07  7.593 sec             153       0.47125      0.36301\n",
      "155 2017-03-01 05:00:07  7.597 sec             154       0.47047      0.36229\n",
      "156 2017-03-01 05:00:07  7.601 sec             155       0.47019      0.36201\n",
      "    training_deviance\n",
      "151           0.22305\n",
      "152           0.22270\n",
      "153           0.22228\n",
      "154           0.22208\n",
      "155           0.22135\n",
      "156           0.22108\n",
      "\n",
      "Variable Importances: (Extract with `h2o.varimp`) \n",
      "=================================================\n",
      "\n",
      "Variable Importances: \n",
      "               variable relative_importance scaled_importance percentage\n",
      "1               alcohol         3619.511230          1.000000   0.312433\n",
      "2      volatile acidity         1571.861328          0.434274   0.135682\n",
      "3   free sulfur dioxide         1227.192017          0.339049   0.105930\n",
      "4                    pH          727.217407          0.200916   0.062773\n",
      "5        residual sugar          694.166016          0.191784   0.059920\n",
      "6  total sulfur dioxide          680.544678          0.188021   0.058744\n",
      "7         fixed acidity          664.078186          0.183472   0.057323\n",
      "8               density          651.062378          0.179876   0.056199\n",
      "9           citric acid          594.493042          0.164247   0.051316\n",
      "10            sulphates          592.997131          0.163833   0.051187\n",
      "11            chlorides          561.783325          0.155210   0.048493\n"
     ]
    }
   ],
   "source": [
    "# Check the model summary\n",
    "# which also includes cross-validation model performance\n",
    "summary(gbm_manual_cv_es)"
   ]
  },
  {
   "cell_type": "code",
   "execution_count": 16,
   "metadata": {
    "collapsed": false
   },
   "outputs": [
    {
     "data": {
      "text/plain": [
       "H2ORegressionMetrics: gbm\n",
       "\n",
       "MSE:  0.4287345\n",
       "RMSE:  0.6547782\n",
       "MAE:  0.4990124\n",
       "RMSLE:  0.09753734\n",
       "Mean Residual Deviance :  0.4287345\n"
      ]
     },
     "metadata": {},
     "output_type": "display_data"
    }
   ],
   "source": [
    "# Check the model performance on test dataset\n",
    "h2o.performance(gbm_manual_cv_es, wine_test)"
   ]
  },
  {
   "cell_type": "markdown",
   "metadata": {},
   "source": [
    "<br>\n",
    "\n",
    "## Step 5 - GBM with CV, Early Stopping and Full Grid Search"
   ]
  },
  {
   "cell_type": "code",
   "execution_count": 17,
   "metadata": {
    "collapsed": true
   },
   "outputs": [],
   "source": [
    "# define the criteria for full grid search\n",
    "search_criteria = list(strategy = \"Cartesian\")"
   ]
  },
  {
   "cell_type": "code",
   "execution_count": 18,
   "metadata": {
    "collapsed": true
   },
   "outputs": [],
   "source": [
    "# define the range of hyper-parameters for grid search\n",
    "param_list <- list(\n",
    "  sample_rate = c(0.7, 0.8, 0.9),\n",
    "  col_sample_rate = c(0.7, 0.8, 0.9)\n",
    ")"
   ]
  },
  {
   "cell_type": "code",
   "execution_count": 19,
   "metadata": {
    "collapsed": false
   },
   "outputs": [
    {
     "name": "stdout",
     "output_type": "stream",
     "text": [
      "\r",
      "  |                                                                            \r",
      "  |                                                                      |   0%\r",
      "  |                                                                            \r",
      "  |=                                                                     |   2%\r",
      "  |                                                                            \r",
      "  |===                                                                   |   4%\r",
      "  |                                                                            \r",
      "  |====                                                                  |   6%\r",
      "  |                                                                            \r",
      "  |======                                                                |   9%\r",
      "  |                                                                            \r",
      "  |========                                                              |  11%\r",
      "  |                                                                            \r",
      "  |=========                                                             |  13%\r",
      "  |                                                                            \r",
      "  |==========                                                            |  15%\r",
      "  |                                                                            \r",
      "  |============                                                          |  17%\r",
      "  |                                                                            \r",
      "  |==============                                                        |  20%\r",
      "  |                                                                            \r",
      "  |================                                                      |  22%\r",
      "  |                                                                            \r",
      "  |=================                                                     |  24%\r",
      "  |                                                                            \r",
      "  |==================                                                    |  26%\r",
      "  |                                                                            \r",
      "  |====================                                                  |  28%\r",
      "  |                                                                            \r",
      "  |=====================                                                 |  30%\r",
      "  |                                                                            \r",
      "  |======================                                                |  32%\r",
      "  |                                                                            \r",
      "  |=======================                                               |  33%\r",
      "  |                                                                            \r",
      "  |=========================                                             |  35%\r",
      "  |                                                                            \r",
      "  |==========================                                            |  37%\r",
      "  |                                                                            \r",
      "  |===========================                                           |  39%\r",
      "  |                                                                            \r",
      "  |=============================                                         |  41%\r",
      "  |                                                                            \r",
      "  |==============================                                        |  43%\r",
      "  |                                                                            \r",
      "  |===============================                                       |  45%\r",
      "  |                                                                            \r",
      "  |=================================                                     |  46%\r",
      "  |                                                                            \r",
      "  |==================================                                    |  48%\r",
      "  |                                                                            \r",
      "  |===================================                                   |  50%\r",
      "  |                                                                            \r",
      "  |====================================                                  |  52%\r",
      "  |                                                                            \r",
      "  |======================================                                |  54%\r",
      "  |                                                                            \r",
      "  |=======================================                               |  56%\r",
      "  |                                                                            \r",
      "  |========================================                              |  58%\r",
      "  |                                                                            \r",
      "  |==========================================                            |  59%\r",
      "  |                                                                            \r",
      "  |===========================================                           |  61%\r",
      "  |                                                                            \r",
      "  |============================================                          |  63%\r",
      "  |                                                                            \r",
      "  |==============================================                        |  65%\r",
      "  |                                                                            \r",
      "  |===============================================                       |  67%\r",
      "  |                                                                            \r",
      "  |================================================                      |  69%\r",
      "  |                                                                            \r",
      "  |=================================================                     |  71%\r",
      "  |                                                                            \r",
      "  |===================================================                   |  72%\r",
      "  |                                                                            \r",
      "  |====================================================                  |  74%\r",
      "  |                                                                            \r",
      "  |=====================================================                 |  76%\r",
      "  |                                                                            \r",
      "  |=======================================================               |  78%\r",
      "  |                                                                            \r",
      "  |=========================================================             |  82%\r",
      "  |                                                                            \r",
      "  |======================================================================| 100%\n"
     ]
    }
   ],
   "source": [
    "# Set up GBM grid search\n",
    "# Add a seed for reproducibility\n",
    "# Full Grid Search\n",
    "gbm_full_grid <- h2o.grid(\n",
    "  \n",
    "    # Core parameters for model training\n",
    "    x = features,\n",
    "    y = 'quality',\n",
    "    training_frame = wine_train,\n",
    "    ntrees = 10000,\n",
    "    nfolds = 5,\n",
    "    seed = 1234,\n",
    "\n",
    "    # Parameters for grid search\n",
    "    grid_id = \"gbm_full_grid\",\n",
    "    hyper_params = param_list,\n",
    "    algorithm = \"gbm\",\n",
    "    search_criteria = search_criteria,\n",
    "\n",
    "    # Parameters for early stopping\n",
    "    stopping_metric = \"MSE\",\n",
    "    stopping_rounds = 15,\n",
    "    score_tree_interval = 1\n",
    "  \n",
    ")"
   ]
  },
  {
   "cell_type": "code",
   "execution_count": 20,
   "metadata": {
    "collapsed": false
   },
   "outputs": [
    {
     "name": "stdout",
     "output_type": "stream",
     "text": [
      "H2O Grid Details\n",
      "================\n",
      "\n",
      "Grid ID: gbm_full_grid \n",
      "Used hyper parameters: \n",
      "  -  col_sample_rate \n",
      "  -  sample_rate \n",
      "Number of models: 9 \n",
      "Number of failed models: 0 \n",
      "\n",
      "Hyper-Parameter Search Summary: ordered by increasing mse\n",
      "  col_sample_rate sample_rate             model_ids                 mse\n",
      "1             0.8         0.9 gbm_full_grid_model_7 0.43780785687779805\n",
      "2             0.7         0.9 gbm_full_grid_model_6 0.44060532786277523\n",
      "3             0.8         0.8 gbm_full_grid_model_4 0.44096100224896634\n",
      "4             0.9         0.9 gbm_full_grid_model_8 0.44288792056243054\n",
      "5             0.9         0.8 gbm_full_grid_model_5 0.44475412455519636\n",
      "6             0.9         0.7 gbm_full_grid_model_2  0.4457317997358452\n",
      "7             0.7         0.8 gbm_full_grid_model_3   0.448140619501795\n",
      "8             0.7         0.7 gbm_full_grid_model_0  0.4528872144586896\n",
      "9             0.8         0.7 gbm_full_grid_model_1  0.4529771807006373\n"
     ]
    }
   ],
   "source": [
    "# Sort and show the grid search results\n",
    "gbm_full_grid <- h2o.getGrid(grid_id = \"gbm_full_grid\", sort_by = \"mse\")\n",
    "print(gbm_full_grid)"
   ]
  },
  {
   "cell_type": "code",
   "execution_count": 21,
   "metadata": {
    "collapsed": false
   },
   "outputs": [
    {
     "name": "stdout",
     "output_type": "stream",
     "text": [
      "Model Details:\n",
      "==============\n",
      "\n",
      "H2ORegressionModel: gbm\n",
      "Model Key:  gbm_full_grid_model_7 \n",
      "Model Summary: \n",
      "  number_of_trees number_of_internal_trees model_size_in_bytes min_depth\n",
      "1             187                      187               57184         5\n",
      "  max_depth mean_depth min_leaves max_leaves mean_leaves\n",
      "1         5    5.00000          7         31    19.16043\n",
      "\n",
      "H2ORegressionMetrics: gbm\n",
      "** Reported on training data. **\n",
      "\n",
      "MSE:  0.2103961\n",
      "RMSE:  0.4586895\n",
      "MAE:  0.3519789\n",
      "RMSLE:  0.06802612\n",
      "Mean Residual Deviance :  0.2103961\n",
      "\n",
      "\n",
      "\n",
      "H2ORegressionMetrics: gbm\n",
      "** Reported on cross-validation data. **\n",
      "** 5-fold cross-validation on training data (Metrics computed for combined holdout predictions) **\n",
      "\n",
      "MSE:  0.4378079\n",
      "RMSE:  0.6616705\n",
      "MAE:  0.5053946\n",
      "RMSLE:  0.09860186\n",
      "Mean Residual Deviance :  0.4378079\n",
      "\n",
      "\n",
      "Cross-Validation Metrics Summary: \n",
      "                        mean           sd cv_1_valid cv_2_valid cv_3_valid\n",
      "mae                0.5049402  0.010057319  0.5143834 0.52700925 0.48693994\n",
      "mse               0.43750215  0.009719265 0.44019926 0.46233726  0.4309816\n",
      "r2                0.44687334  0.019917823  0.4398835  0.3952249  0.4661876\n",
      "residual_deviance 0.43750215  0.009719265 0.44019926 0.46233726  0.4309816\n",
      "rmse               0.6613589 0.0073008444 0.66347516  0.6799539  0.6564919\n",
      "rmsle             0.09856781 8.5846684E-4 0.09796896  0.1006569 0.09713692\n",
      "                  cv_4_valid cv_5_valid\n",
      "mae                0.5013457 0.49502298\n",
      "mse               0.42164272 0.43234992\n",
      "r2                0.47376537 0.45930532\n",
      "residual_deviance 0.42164272 0.43234992\n",
      "rmse               0.6493402  0.6575332\n",
      "rmsle             0.09908475 0.09799155\n",
      "\n",
      "Scoring History: \n",
      "            timestamp   duration number_of_trees training_rmse training_mae\n",
      "1 2017-03-01 05:00:59 51.743 sec               0       0.89009      0.67683\n",
      "2 2017-03-01 05:00:59 51.747 sec               1       0.85982      0.65191\n",
      "3 2017-03-01 05:00:59 51.750 sec               2       0.83245      0.63065\n",
      "4 2017-03-01 05:00:59 51.753 sec               3       0.80845      0.61621\n",
      "5 2017-03-01 05:00:59 51.756 sec               4       0.78862      0.60647\n",
      "  training_deviance\n",
      "1           0.79225\n",
      "2           0.73930\n",
      "3           0.69298\n",
      "4           0.65360\n",
      "5           0.62192\n",
      "\n",
      "---\n",
      "              timestamp   duration number_of_trees training_rmse training_mae\n",
      "183 2017-03-01 05:01:00 52.357 sec             182       0.46286      0.35558\n",
      "184 2017-03-01 05:01:00 52.361 sec             183       0.46192      0.35486\n",
      "185 2017-03-01 05:01:00 52.366 sec             184       0.46141      0.35436\n",
      "186 2017-03-01 05:01:00 52.370 sec             185       0.46085      0.35376\n",
      "187 2017-03-01 05:01:00 52.375 sec             186       0.45960      0.35273\n",
      "188 2017-03-01 05:01:00 52.379 sec             187       0.45869      0.35198\n",
      "    training_deviance\n",
      "183           0.21424\n",
      "184           0.21337\n",
      "185           0.21290\n",
      "186           0.21239\n",
      "187           0.21124\n",
      "188           0.21040\n",
      "\n",
      "Variable Importances: (Extract with `h2o.varimp`) \n",
      "=================================================\n",
      "\n",
      "Variable Importances: \n",
      "               variable relative_importance scaled_importance percentage\n",
      "1               alcohol         3585.425537          1.000000   0.302645\n",
      "2      volatile acidity         1600.595215          0.446417   0.135106\n",
      "3   free sulfur dioxide         1222.376831          0.340929   0.103181\n",
      "4                    pH          799.083313          0.222870   0.067451\n",
      "5        residual sugar          786.511230          0.219363   0.066389\n",
      "6  total sulfur dioxide          760.961853          0.212238   0.064233\n",
      "7             chlorides          686.944031          0.191593   0.057985\n",
      "8             sulphates          632.622375          0.176443   0.053400\n",
      "9           citric acid          617.363770          0.172187   0.052112\n",
      "10        fixed acidity          607.181152          0.169347   0.051252\n",
      "11              density          547.883850          0.152809   0.046247\n"
     ]
    }
   ],
   "source": [
    "# Extract the best model from full grid search\n",
    "best_model_id <- gbm_full_grid@model_ids[[1]] # top of the list\n",
    "best_gbm_from_full_grid <- h2o.getModel(best_model_id)\n",
    "summary(best_gbm_from_full_grid)"
   ]
  },
  {
   "cell_type": "code",
   "execution_count": 22,
   "metadata": {
    "collapsed": false
   },
   "outputs": [
    {
     "data": {
      "text/plain": [
       "H2ORegressionMetrics: gbm\n",
       "\n",
       "MSE:  0.4196124\n",
       "RMSE:  0.647775\n",
       "MAE:  0.4896544\n",
       "RMSLE:  0.09630233\n",
       "Mean Residual Deviance :  0.4196124\n"
      ]
     },
     "metadata": {},
     "output_type": "display_data"
    }
   ],
   "source": [
    "# Check the model performance on test dataset\n",
    "h2o.performance(best_gbm_from_full_grid, wine_test)"
   ]
  },
  {
   "cell_type": "markdown",
   "metadata": {},
   "source": [
    "<br>\n",
    "\n",
    "## GBM with CV, Early Stopping and Random Grid Search"
   ]
  },
  {
   "cell_type": "code",
   "execution_count": 23,
   "metadata": {
    "collapsed": true
   },
   "outputs": [],
   "source": [
    "# define the criteria for random grid search\n",
    "search_criteria = list(strategy = \"RandomDiscrete\",\n",
    "                       max_models = 9,\n",
    "                       seed = 1234)"
   ]
  },
  {
   "cell_type": "code",
   "execution_count": 24,
   "metadata": {
    "collapsed": true
   },
   "outputs": [],
   "source": [
    "# define the range of hyper-parameters for grid search\n",
    "# 27 combinations in total\n",
    "param_list <- list(\n",
    "    sample_rate = c(0.7, 0.8, 0.9),\n",
    "    col_sample_rate = c(0.7, 0.8, 0.9),\n",
    "    max_depth = c(3, 5, 7)\n",
    ")"
   ]
  },
  {
   "cell_type": "code",
   "execution_count": 25,
   "metadata": {
    "collapsed": false
   },
   "outputs": [
    {
     "name": "stdout",
     "output_type": "stream",
     "text": [
      "\r",
      "  |                                                                            \r",
      "  |                                                                      |   0%\r",
      "  |                                                                            \r",
      "  |===                                                                   |   4%\r",
      "  |                                                                            \r",
      "  |====                                                                  |   6%\r",
      "  |                                                                            \r",
      "  |=======                                                               |   9%\r",
      "  |                                                                            \r",
      "  |========                                                              |  11%\r",
      "  |                                                                            \r",
      "  |==========                                                            |  15%\r",
      "  |                                                                            \r",
      "  |=============                                                         |  19%\r",
      "  |                                                                            \r",
      "  |================                                                      |  22%\r",
      "  |                                                                            \r",
      "  |==================                                                    |  26%\r",
      "  |                                                                            \r",
      "  |====================                                                  |  28%\r",
      "  |                                                                            \r",
      "  |=====================                                                 |  30%\r",
      "  |                                                                            \r",
      "  |=======================                                               |  33%\r",
      "  |                                                                            \r",
      "  |==========================                                            |  37%\r",
      "  |                                                                            \r",
      "  |===========================                                           |  39%\r",
      "  |                                                                            \r",
      "  |=============================                                         |  41%\r",
      "  |                                                                            \r",
      "  |================================                                      |  46%\r",
      "  |                                                                            \r",
      "  |=================================                                     |  46%\r",
      "  |                                                                            \r",
      "  |=================================                                     |  47%\r",
      "  |                                                                            \r",
      "  |==================================                                    |  48%\r",
      "  |                                                                            \r",
      "  |====================================                                  |  52%\r",
      "  |                                                                            \r",
      "  |=======================================                               |  56%\r",
      "  |                                                                            \r",
      "  |==========================================                            |  59%\r",
      "  |                                                                            \r",
      "  |==========================================                            |  60%\r",
      "  |                                                                            \r",
      "  |============================================                          |  63%\r",
      "  |                                                                            \r",
      "  |=============================================                         |  65%\r",
      "  |                                                                            \r",
      "  |==============================================                        |  65%\r",
      "  |                                                                            \r",
      "  |===============================================                       |  67%\r",
      "  |                                                                            \r",
      "  |================================================                      |  69%\r",
      "  |                                                                            \r",
      "  |=================================================                     |  71%\r",
      "  |                                                                            \r",
      "  |====================================================                  |  74%\r",
      "  |                                                                            \r",
      "  |=========================================================             |  82%\r",
      "  |                                                                            \r",
      "  |======================================================================| 100%\n"
     ]
    }
   ],
   "source": [
    "# Set up GBM grid search\n",
    "# Add a seed for reproducibility\n",
    "gbm_rand_grid <- h2o.grid(\n",
    "  \n",
    "    # Core parameters for model training\n",
    "    x = features,\n",
    "    y = 'quality',\n",
    "    training_frame = wine_train,\n",
    "    ntrees = 10000,\n",
    "    nfolds = 5,\n",
    "    seed = 1234,\n",
    "\n",
    "    # Parameters for grid search\n",
    "    grid_id = \"gbm_rand_grid\",\n",
    "    hyper_params = param_list,\n",
    "    algorithm = \"gbm\",\n",
    "    search_criteria = search_criteria,\n",
    "\n",
    "    # Parameters for early stopping\n",
    "    stopping_metric = \"MSE\",\n",
    "    stopping_rounds = 15,\n",
    "    score_tree_interval = 1\n",
    "  \n",
    ")"
   ]
  },
  {
   "cell_type": "code",
   "execution_count": 26,
   "metadata": {
    "collapsed": false
   },
   "outputs": [
    {
     "name": "stdout",
     "output_type": "stream",
     "text": [
      "H2O Grid Details\n",
      "================\n",
      "\n",
      "Grid ID: gbm_rand_grid \n",
      "Used hyper parameters: \n",
      "  -  col_sample_rate \n",
      "  -  max_depth \n",
      "  -  sample_rate \n",
      "Number of models: 9 \n",
      "Number of failed models: 0 \n",
      "\n",
      "Hyper-Parameter Search Summary: ordered by increasing mse\n",
      "  col_sample_rate max_depth sample_rate             model_ids\n",
      "1             0.9         7         0.9 gbm_rand_grid_model_5\n",
      "2             0.7         7         0.7 gbm_rand_grid_model_1\n",
      "3             0.9         7         0.7 gbm_rand_grid_model_6\n",
      "4             0.8         7         0.7 gbm_rand_grid_model_4\n",
      "5             0.7         5         0.8 gbm_rand_grid_model_0\n",
      "6             0.8         3         0.9 gbm_rand_grid_model_7\n",
      "7             0.9         3         0.9 gbm_rand_grid_model_2\n",
      "8             0.8         3         0.8 gbm_rand_grid_model_3\n",
      "9             0.7         3         0.7 gbm_rand_grid_model_8\n",
      "                  mse\n",
      "1  0.4227388012308513\n",
      "2  0.4327748309201154\n",
      "3  0.4369533108701783\n",
      "4  0.4397321318633594\n",
      "5   0.448140619501795\n",
      "6  0.4647039373596571\n",
      "7  0.4690321721360509\n",
      "8 0.47384072192391513\n",
      "9 0.47745552186979223\n"
     ]
    }
   ],
   "source": [
    "# Sort and show the grid search results\n",
    "gbm_rand_grid <- h2o.getGrid(grid_id = \"gbm_rand_grid\", sort_by = \"mse\", decreasing = FALSE)\n",
    "print(gbm_rand_grid)"
   ]
  },
  {
   "cell_type": "code",
   "execution_count": 27,
   "metadata": {
    "collapsed": false
   },
   "outputs": [
    {
     "name": "stdout",
     "output_type": "stream",
     "text": [
      "Model Details:\n",
      "==============\n",
      "\n",
      "H2ORegressionModel: gbm\n",
      "Model Key:  gbm_rand_grid_model_5 \n",
      "Model Summary: \n",
      "  number_of_trees number_of_internal_trees model_size_in_bytes min_depth\n",
      "1             142                      142               87919         7\n",
      "  max_depth mean_depth min_leaves max_leaves mean_leaves\n",
      "1         7    7.00000         16         82    44.04930\n",
      "\n",
      "H2ORegressionMetrics: gbm\n",
      "** Reported on training data. **\n",
      "\n",
      "MSE:  0.1197865\n",
      "RMSE:  0.3461018\n",
      "MAE:  0.2597976\n",
      "RMSLE:  0.05153244\n",
      "Mean Residual Deviance :  0.1197865\n",
      "\n",
      "\n",
      "\n",
      "H2ORegressionMetrics: gbm\n",
      "** Reported on cross-validation data. **\n",
      "** 5-fold cross-validation on training data (Metrics computed for combined holdout predictions) **\n",
      "\n",
      "MSE:  0.4227388\n",
      "RMSE:  0.6501837\n",
      "MAE:  0.4856414\n",
      "RMSLE:  0.09723137\n",
      "Mean Residual Deviance :  0.4227388\n",
      "\n",
      "\n",
      "Cross-Validation Metrics Summary: \n",
      "                         mean           sd cv_1_valid cv_2_valid cv_3_valid\n",
      "mae                 0.4854467  0.006546657 0.49238658  0.4940408 0.46821254\n",
      "mse                0.42264447  0.003234772 0.42546168  0.4278089 0.42508337\n",
      "r2                 0.46589816  0.010486309  0.4586358  0.4403908 0.47349313\n",
      "residual_deviance  0.42264447  0.003234772 0.42546168  0.4278089 0.42508337\n",
      "rmse                0.6501016 0.0024916055 0.65227425 0.65407103 0.65198416\n",
      "rmsle             0.097222246  5.291425E-4 0.09675461 0.09714792 0.09677877\n",
      "                  cv_4_valid  cv_5_valid\n",
      "mae               0.48830998  0.48428363\n",
      "mse               0.41522205  0.41964635\n",
      "r2                0.48177877   0.4751923\n",
      "residual_deviance 0.41522205  0.41964635\n",
      "rmse              0.64437723  0.64780116\n",
      "rmsle             0.09868797 0.096741945\n",
      "\n",
      "Scoring History: \n",
      "            timestamp   duration number_of_trees training_rmse training_mae\n",
      "1 2017-03-01 05:01:37 30.289 sec               0       0.89009      0.67683\n",
      "2 2017-03-01 05:01:37 30.294 sec               1       0.85417      0.64726\n",
      "3 2017-03-01 05:01:37 30.298 sec               2       0.81998      0.62140\n",
      "4 2017-03-01 05:01:37 30.302 sec               3       0.79127      0.60341\n",
      "5 2017-03-01 05:01:37 30.307 sec               4       0.76588      0.58860\n",
      "  training_deviance\n",
      "1           0.79225\n",
      "2           0.72961\n",
      "3           0.67237\n",
      "4           0.62611\n",
      "5           0.58657\n",
      "\n",
      "---\n",
      "              timestamp   duration number_of_trees training_rmse training_mae\n",
      "138 2017-03-01 05:01:38 30.900 sec             137       0.35396      0.26628\n",
      "139 2017-03-01 05:01:38 30.904 sec             138       0.35279      0.26520\n",
      "140 2017-03-01 05:01:38 30.909 sec             139       0.35093      0.26371\n",
      "141 2017-03-01 05:01:38 30.914 sec             140       0.34963      0.26282\n",
      "142 2017-03-01 05:01:38 30.919 sec             141       0.34683      0.26059\n",
      "143 2017-03-01 05:01:38 30.924 sec             142       0.34610      0.25980\n",
      "    training_deviance\n",
      "138           0.12528\n",
      "139           0.12446\n",
      "140           0.12315\n",
      "141           0.12224\n",
      "142           0.12029\n",
      "143           0.11979\n",
      "\n",
      "Variable Importances: (Extract with `h2o.varimp`) \n",
      "=================================================\n",
      "\n",
      "Variable Importances: \n",
      "               variable relative_importance scaled_importance percentage\n",
      "1               alcohol         3769.951416          1.000000   0.275925\n",
      "2      volatile acidity         1721.885010          0.456739   0.126026\n",
      "3   free sulfur dioxide         1449.235962          0.384418   0.106070\n",
      "4                    pH          991.609131          0.263030   0.072576\n",
      "5               density          915.934631          0.242957   0.067038\n",
      "6        residual sugar          876.687866          0.232546   0.064165\n",
      "7  total sulfur dioxide          873.630737          0.231735   0.063942\n",
      "8             sulphates          831.926697          0.220673   0.060889\n",
      "9         fixed acidity          830.125793          0.220195   0.060757\n",
      "10          citric acid          749.599487          0.198835   0.054864\n",
      "11            chlorides          652.373901          0.173046   0.047748\n"
     ]
    }
   ],
   "source": [
    "# Extract the best model from random grid search\n",
    "best_model_id <- gbm_rand_grid@model_ids[[1]] # top of the list\n",
    "best_gbm_from_rand_grid <- h2o.getModel(best_model_id)\n",
    "summary(best_gbm_from_rand_grid)"
   ]
  },
  {
   "cell_type": "code",
   "execution_count": 28,
   "metadata": {
    "collapsed": false
   },
   "outputs": [
    {
     "data": {
      "text/plain": [
       "H2ORegressionMetrics: gbm\n",
       "\n",
       "MSE:  0.404719\n",
       "RMSE:  0.6361753\n",
       "MAE:  0.473215\n",
       "RMSLE:  0.09498904\n",
       "Mean Residual Deviance :  0.404719\n"
      ]
     },
     "metadata": {},
     "output_type": "display_data"
    }
   ],
   "source": [
    "# Check the model performance on test dataset\n",
    "h2o.performance(best_gbm_from_rand_grid, wine_test)"
   ]
  },
  {
   "cell_type": "code",
   "execution_count": 29,
   "metadata": {
    "collapsed": false
   },
   "outputs": [
    {
     "data": {
      "text/html": [
       "0.404718976240411"
      ],
      "text/latex": [
       "0.404718976240411"
      ],
      "text/markdown": [
       "0.404718976240411"
      ],
      "text/plain": [
       "[1] 0.404719"
      ]
     },
     "metadata": {},
     "output_type": "display_data"
    }
   ],
   "source": [
    "h2o.performance(best_gbm_from_rand_grid, wine_test)@metrics$MSE"
   ]
  },
  {
   "cell_type": "markdown",
   "metadata": {
    "collapsed": true
   },
   "source": [
    "<br>"
   ]
  },
  {
   "cell_type": "markdown",
   "metadata": {},
   "source": [
    "## Comparison of Model Performance on Test Data"
   ]
  },
  {
   "cell_type": "code",
   "execution_count": 30,
   "metadata": {
    "collapsed": false
   },
   "outputs": [
    {
     "name": "stdout",
     "output_type": "stream",
     "text": [
      "GBM with Default Settings                        : 0.4551121 \n",
      "GBM with Manual Settings                         : 0.4432567 \n",
      "GBM with Manual Settings & CV                    : 0.4432567 \n",
      "GBM with Manual Settings, CV & Early Stopping    : 0.4287345 \n",
      "GBM with CV, Early Stopping & Full Grid Search   : 0.4196124 \n",
      "GBM with CV, Early Stopping & Random Grid Search : 0.404719 \n"
     ]
    }
   ],
   "source": [
    "cat('GBM with Default Settings                        :', \n",
    "          h2o.performance(gbm_default, wine_test)@metrics$MSE, \"\\n\")\n",
    "cat('GBM with Manual Settings                         :', \n",
    "          h2o.performance(gbm_manual, wine_test)@metrics$MSE, \"\\n\")\n",
    "cat('GBM with Manual Settings & CV                    :', \n",
    "          h2o.performance(gbm_manual_cv, wine_test)@metrics$MSE, \"\\n\")\n",
    "cat('GBM with Manual Settings, CV & Early Stopping    :', \n",
    "          h2o.performance(gbm_manual_cv_es, wine_test)@metrics$MSE, \"\\n\")\n",
    "cat('GBM with CV, Early Stopping & Full Grid Search   :', \n",
    "          h2o.performance(best_gbm_from_full_grid, wine_test)@metrics$MSE, \"\\n\")\n",
    "cat('GBM with CV, Early Stopping & Random Grid Search :', \n",
    "          h2o.performance(best_gbm_from_rand_grid, wine_test)@metrics$MSE, \"\\n\")"
   ]
  },
  {
   "cell_type": "markdown",
   "metadata": {},
   "source": [
    "<br>"
   ]
  }
 ],
 "metadata": {
  "anaconda-cloud": {},
  "kernelspec": {
   "display_name": "R",
   "language": "R",
   "name": "ir"
  },
  "language_info": {
   "codemirror_mode": "r",
   "file_extension": ".r",
   "mimetype": "text/x-r-source",
   "name": "R",
   "pygments_lexer": "r",
   "version": "3.3.2"
  }
 },
 "nbformat": 4,
 "nbformat_minor": 1
}
